{
 "cells": [
  {
   "cell_type": "markdown",
   "id": "18117881-1575-4349-95ba-9bc6b2cea328",
   "metadata": {
    "id": "18117881-1575-4349-95ba-9bc6b2cea328"
   },
   "source": [
    "# W4 Lab Exercise\n",
    "This is the lab exercise for MIS590: Information Retrieval. </br>\n",
    "In this lab, you will gain the following experience:</br>\n",
    "- Understand Vector Space Models (VSMs) for Information Retrieval.\n",
    "- Develop Practical Skills in Vector-Based Document Representation, Including TF-IDF, Word2Vec, and BERT.\n",
    "- Compare the Effectiveness of Different Term Weighting Schemes.\n",
    "- Enhance Analytical Thinking in Evaluating IR Models\n",
    "</br>\n",
    "\n",
    "**Note:** When you see a pencil icon ✏️ in this notebook, it's time for you to code!"
   ]
  },
  {
   "cell_type": "markdown",
   "id": "2ffaa68b",
   "metadata": {
    "id": "2ffaa68b"
   },
   "source": [
    "# 1. Preliminaries"
   ]
  },
  {
   "cell_type": "markdown",
   "id": "111ef730",
   "metadata": {
    "id": "111ef730"
   },
   "source": [
    "## 1.1 Install and Import Libraries"
   ]
  },
  {
   "cell_type": "code",
   "id": "0bae653b-f98f-4f96-826b-e8fdc579a542",
   "metadata": {
    "colab": {
     "base_uri": "https://localhost:8080/"
    },
    "id": "0bae653b-f98f-4f96-826b-e8fdc579a542",
    "outputId": "753e69d9-4e52-4933-d4fc-26d53090979f",
    "ExecuteTime": {
     "end_time": "2024-10-14T09:36:28.798368Z",
     "start_time": "2024-10-14T09:36:28.792363Z"
    }
   },
   "source": "# Install the necessary packages",
   "outputs": [],
   "execution_count": 1
  },
  {
   "cell_type": "code",
   "execution_count": 2,
   "id": "53e49647",
   "metadata": {
    "id": "53e49647",
    "scrolled": true
   },
   "outputs": [],
   "source": [
    "import math\n",
    "import string\n",
    "from collections import defaultdict"
   ]
  },
  {
   "cell_type": "markdown",
   "id": "ecece4d5",
   "metadata": {
    "id": "ecece4d5"
   },
   "source": [
    "## 1.2 Input: Query & Document Collections (Corpus)"
   ]
  },
  {
   "cell_type": "code",
   "execution_count": 3,
   "id": "a0ce3b5f",
   "metadata": {
    "id": "a0ce3b5f"
   },
   "outputs": [],
   "source": [
    "query = \"sleep deprivation\"\n",
    "\n",
    "corpus = [\n",
    "    \"Sleepless nights in the lab have become my new normal. I tried to fix the experiment setup, but the apparatus seems to have a mind of its own. My advisor says results are just around the corner, but the corner keeps moving. Coffee is my only true companion these days.\",\n",
    "    \"I thought grad school would be intellectually stimulating, but it's mostly paperwork and waiting for emails. The departmental printer jammed again, and now I'm late for a meeting. The cafeteria ran out of the good snacks, so I'm surviving on vending machine chips. Sleep has become a luxury I can no longer afford.\",\n",
    "    \"Writing the dissertation feels like climbing an endless mountain. Every time I finish a chapter, my supervisor suggests new revisions. The impostor syndrome is real, and I wonder if they made a mistake accepting me. Maybe I should have gone to clown college instead. I am utterly deprived of any semblance of a normal life.\",\n",
    "    \"My research data got corrupted, and now I have to start over. The lab mouse escaped, and we spent hours trying to find it. The grant proposal deadline is tomorrow, and the online submission portal is down. At least my pet cactus hasn't died yet.\",\n",
    "    \"The group meeting turned into a three-hour debate over font choices for the presentation. I'm pretty sure my colleague is stealing my lunch from the fridge. The photocopier is out to get me; it never works when I'm in a hurry. Is there a PhD in napping? Because I'd ace that.\",\n",
    "    \"I haven't seen the sun in days due to endless coding sessions. The simulation keeps crashing, and Stack Overflow doesn't have the answers. My roommate thinks I'm a ghost haunting the apartment. Instant noodles have become my primary food group.\",\n",
    "    \"Attending conferences sounded fun until I realized they involve a lot of awkward networking. I accidentally spilled coffee on a famous professor's shoes. My poster fell down twice during the session. Next time, I'll just send a cardboard cutout of myself.\",\n",
    "    \"The university gym membership was supposed to keep me healthy, but I've only used it once. I tried to attend a yoga class after staying up late for a deadline, but I fell asleep during the meditation. Maybe instead of the gym, my bed is more essential for keeping me healthy.\",\n",
    "    \"My teaching assistantship involves grading endless stacks of exams. Students keep emailing me for extensions with creative excuses. One claimed their dog sleeps on the laptop so they cannot use it for the exam. I was deprived of excuses for not completing my dissertation draft, and I might have got some good ones.\",\n",
    "    \"Group projects are the worst when you're the only one doing the work. My team members are as elusive as Bigfoot. The project is due next week, and I haven't heard from them. Perhaps I should just write a paper on the sociological implications of group work avoidance.\"\n",
    "]\n",
    "\n",
    "# Binary labels for the documents' relevancy to the query\n",
    "# Relevant ones: 1, 2, 5, 6, 8\n",
    "corpus_relevancy_label = [1, 1, 0, 0, 1, 1, 0, 1, 0, 0]"
   ]
  },
  {
   "cell_type": "code",
   "execution_count": 4,
   "id": "0c614242",
   "metadata": {
    "colab": {
     "base_uri": "https://localhost:8080/"
    },
    "id": "0c614242",
    "outputId": "2f88acc0-b2a4-4ce7-9cda-2137285ac13b"
   },
   "outputs": [
    {
     "output_type": "stream",
     "name": "stdout",
     "text": [
      "Query: sleep deprivation\n",
      "\n",
      "Document 1:\n",
      "Sleepless nights in the lab have become my new normal. I tried to fix the experiment setup, but the apparatus seems to have a mind of its own. My advisor says results are just around the corner, but the corner keeps moving. Coffee is my only true companion these days.\n",
      "\n",
      "Document 2:\n",
      "I thought grad school would be intellectually stimulating, but it's mostly paperwork and waiting for emails. The departmental printer jammed again, and now I'm late for a meeting. The cafeteria ran out of the good snacks, so I'm surviving on vending machine chips. Sleep has become a luxury I can no longer afford.\n",
      "\n",
      "Document 3:\n",
      "Writing the dissertation feels like climbing an endless mountain. Every time I finish a chapter, my supervisor suggests new revisions. The impostor syndrome is real, and I wonder if they made a mistake accepting me. Maybe I should have gone to clown college instead. I am utterly deprived of any semblance of a normal life.\n",
      "\n",
      "Document 4:\n",
      "My research data got corrupted, and now I have to start over. The lab mouse escaped, and we spent hours trying to find it. The grant proposal deadline is tomorrow, and the online submission portal is down. At least my pet cactus hasn't died yet.\n",
      "\n",
      "Document 5:\n",
      "The group meeting turned into a three-hour debate over font choices for the presentation. I'm pretty sure my colleague is stealing my lunch from the fridge. The photocopier is out to get me; it never works when I'm in a hurry. Is there a PhD in napping? Because I'd ace that.\n",
      "\n",
      "Document 6:\n",
      "I haven't seen the sun in days due to endless coding sessions. The simulation keeps crashing, and Stack Overflow doesn't have the answers. My roommate thinks I'm a ghost haunting the apartment. Instant noodles have become my primary food group.\n",
      "\n",
      "Document 7:\n",
      "Attending conferences sounded fun until I realized they involve a lot of awkward networking. I accidentally spilled coffee on a famous professor's shoes. My poster fell down twice during the session. Next time, I'll just send a cardboard cutout of myself.\n",
      "\n",
      "Document 8:\n",
      "The university gym membership was supposed to keep me healthy, but I've only used it once. I tried to attend a yoga class after staying up late for a deadline, but I fell asleep during the meditation. Maybe instead of the gym, my bed is more essential for keeping me healthy.\n",
      "\n",
      "Document 9:\n",
      "My teaching assistantship involves grading endless stacks of exams. Students keep emailing me for extensions with creative excuses. One claimed their dog sleeps on the laptop so they cannot use it for the exam. I was deprived of excuses for not completing my dissertation draft, and I might have got some good ones.\n",
      "\n",
      "Document 10:\n",
      "Group projects are the worst when you're the only one doing the work. My team members are as elusive as Bigfoot. The project is due next week, and I haven't heard from them. Perhaps I should just write a paper on the sociological implications of group work avoidance.\n",
      "\n"
     ]
    }
   ],
   "source": [
    "print(f\"Query: {query}\\n\")\n",
    "for idx, doc in enumerate(corpus):\n",
    "    print(f\"Document {idx+1}:\\n{doc}\\n\")"
   ]
  },
  {
   "cell_type": "markdown",
   "id": "2e16ff55-2eb7-41d7-839d-73bb5272d04f",
   "metadata": {
    "id": "2e16ff55-2eb7-41d7-839d-73bb5272d04f"
   },
   "source": [
    "# 2. Vector Space Model: TF-IDF"
   ]
  },
  {
   "cell_type": "markdown",
   "id": "6c3088e0",
   "metadata": {
    "id": "6c3088e0"
   },
   "source": [
    "## 2.1 Data Preprocessing"
   ]
  },
  {
   "cell_type": "markdown",
   "id": "d5c747d5",
   "metadata": {
    "id": "d5c747d5"
   },
   "source": [
    "### Steps for textual data preprocessing\n",
    "1. Tokenization (= word segmentation)\n",
    "2. Punctualtion and non-alphabetic token removal\n",
    "3. Stopwords removal\n",
    "4. Lemmatization / stemming"
   ]
  },
  {
   "cell_type": "markdown",
   "id": "fb0c16eb-1361-4977-a248-dd636a79fb5d",
   "metadata": {
    "id": "fb0c16eb-1361-4977-a248-dd636a79fb5d"
   },
   "source": [
    "### Import libraries"
   ]
  },
  {
   "cell_type": "code",
   "execution_count": 5,
   "id": "30b23131-7e52-4097-8978-dd5b999ab25d",
   "metadata": {
    "colab": {
     "base_uri": "https://localhost:8080/"
    },
    "id": "30b23131-7e52-4097-8978-dd5b999ab25d",
    "outputId": "1d8aedab-a839-4385-97a5-208652f05979"
   },
   "outputs": [
    {
     "output_type": "stream",
     "name": "stderr",
     "text": [
      "[nltk_data] Downloading package punkt to /root/nltk_data...\n",
      "[nltk_data]   Unzipping tokenizers/punkt.zip.\n",
      "[nltk_data] Downloading package stopwords to /root/nltk_data...\n",
      "[nltk_data]   Unzipping corpora/stopwords.zip.\n",
      "[nltk_data] Downloading package averaged_perceptron_tagger to\n",
      "[nltk_data]     /root/nltk_data...\n",
      "[nltk_data]   Unzipping taggers/averaged_perceptron_tagger.zip.\n",
      "[nltk_data] Downloading package wordnet to /root/nltk_data...\n"
     ]
    },
    {
     "output_type": "execute_result",
     "data": {
      "text/plain": [
       "True"
      ]
     },
     "metadata": {},
     "execution_count": 5
    }
   ],
   "source": [
    "import nltk\n",
    "from nltk.corpus import stopwords\n",
    "from nltk.tokenize import word_tokenize\n",
    "from nltk import pos_tag\n",
    "from nltk.stem import WordNetLemmatizer\n",
    "from nltk.stem import PorterStemmer\n",
    "from nltk.corpus import wordnet as wn\n",
    "\n",
    "# Download necessary NLTK resources\n",
    "nltk.download('punkt')\n",
    "nltk.download('stopwords')\n",
    "nltk.download('averaged_perceptron_tagger')\n",
    "nltk.download('wordnet')"
   ]
  },
  {
   "cell_type": "code",
   "execution_count": 6,
   "id": "538cd901",
   "metadata": {
    "colab": {
     "base_uri": "https://localhost:8080/"
    },
    "id": "538cd901",
    "outputId": "af915797-1772-42ab-a932-9e1b7a461b09"
   },
   "outputs": [
    {
     "output_type": "stream",
     "name": "stdout",
     "text": [
      "Example Sentence:\n",
      "The graduate student was typing, procrastinating, questioning herself, and finally submitting the dissertation while dreaming about sleep.\n"
     ]
    }
   ],
   "source": [
    "# Initialize stopwords, lemmatizer, and punctuation list\n",
    "stop_words = set(stopwords.words('english'))\n",
    "stemmer = PorterStemmer()\n",
    "lemmatizer = WordNetLemmatizer()\n",
    "punctuation_table = str.maketrans('', '', string.punctuation)\n",
    "\n",
    "# We will use this sentence as example to showcase the different steps of data preprocessing\n",
    "example_sentence = \"The graduate student was typing, procrastinating, questioning herself, and finally submitting the dissertation while dreaming about sleep.\"\n",
    "print(f\"Example Sentence:\\n{example_sentence}\")"
   ]
  },
  {
   "cell_type": "markdown",
   "id": "c42202e7",
   "metadata": {
    "id": "c42202e7"
   },
   "source": [
    "### What is tokenization?"
   ]
  },
  {
   "cell_type": "code",
   "execution_count": 7,
   "id": "0eb5ba16",
   "metadata": {
    "colab": {
     "base_uri": "https://localhost:8080/"
    },
    "id": "0eb5ba16",
    "outputId": "d00cde33-36f4-4462-be23-bb70b30ebc26"
   },
   "outputs": [
    {
     "output_type": "stream",
     "name": "stdout",
     "text": [
      "['the', 'graduate', 'student', 'was', 'typing', ',', 'procrastinating', ',', 'questioning', 'herself', ',', 'and', 'finally', 'submitting', 'the', 'dissertation', 'while', 'dreaming', 'about', 'sleep', '.']\n"
     ]
    }
   ],
   "source": [
    "tokens = word_tokenize(example_sentence.lower())\n",
    "print(tokens)"
   ]
  },
  {
   "cell_type": "markdown",
   "id": "68961a99",
   "metadata": {
    "id": "68961a99"
   },
   "source": [
    "### A quick removal of punctualtions and non-alphabetic words"
   ]
  },
  {
   "cell_type": "code",
   "execution_count": 8,
   "id": "77b14e1a",
   "metadata": {
    "colab": {
     "base_uri": "https://localhost:8080/"
    },
    "id": "77b14e1a",
    "outputId": "3ea1eeeb-de4b-4163-ca5a-f55d6455cc51"
   },
   "outputs": [
    {
     "output_type": "stream",
     "name": "stdout",
     "text": [
      "['the', 'graduate', 'student', 'was', 'typing', 'procrastinating', 'questioning', 'herself', 'and', 'finally', 'submitting', 'the', 'dissertation', 'while', 'dreaming', 'about', 'sleep']\n"
     ]
    }
   ],
   "source": [
    "tokens_noPunc = [word.translate(punctuation_table) for word in tokens if word.isalpha()]\n",
    "print(tokens_noPunc)"
   ]
  },
  {
   "cell_type": "markdown",
   "id": "f3a8030b",
   "metadata": {
    "id": "f3a8030b"
   },
   "source": [
    "### What are stopwords?"
   ]
  },
  {
   "cell_type": "code",
   "execution_count": 9,
   "id": "906e138c",
   "metadata": {
    "colab": {
     "base_uri": "https://localhost:8080/"
    },
    "id": "906e138c",
    "outputId": "0a8ac9a3-1a5f-4a3c-f9b4-3b5230c90081"
   },
   "outputs": [
    {
     "output_type": "stream",
     "name": "stdout",
     "text": [
      "['graduate', 'student', 'typing', 'procrastinating', 'questioning', 'finally', 'submitting', 'dissertation', 'dreaming', 'sleep']\n"
     ]
    }
   ],
   "source": [
    "tokens_noSW = [word for word in tokens_noPunc if word not in stop_words]\n",
    "print(tokens_noSW)"
   ]
  },
  {
   "cell_type": "markdown",
   "id": "c5b25394",
   "metadata": {
    "id": "c5b25394"
   },
   "source": [
    "### What is lemmatization?"
   ]
  },
  {
   "cell_type": "code",
   "execution_count": 10,
   "id": "6427e0ff",
   "metadata": {
    "colab": {
     "base_uri": "https://localhost:8080/"
    },
    "id": "6427e0ff",
    "outputId": "179fb9a3-a9ff-4539-e46e-5eb4b56f740e"
   },
   "outputs": [
    {
     "output_type": "stream",
     "name": "stdout",
     "text": [
      "Original\tLemmatized\n",
      "\n",
      "graduate\tgraduate\n",
      "student\tstudent\n",
      "typing\ttyping\n",
      "procrastinating\tprocrastinating\n",
      "questioning\tquestioning\n",
      "finally\tfinally\n",
      "submitting\tsubmitting\n",
      "dissertation\tdissertation\n",
      "dreaming\tdreaming\n",
      "sleep\tsleep\n"
     ]
    }
   ],
   "source": [
    "print(\"Original\\tLemmatized\\n\")\n",
    "\n",
    "# Here we use pre-stopword removal tokens\n",
    "lemmatized_tokens = [lemmatizer.lemmatize(token) for token in tokens_noSW]\n",
    "for ori, lem in zip(tokens_noSW, lemmatized_tokens):\n",
    "    print(f\"{ori}\\t{lem}\")"
   ]
  },
  {
   "cell_type": "markdown",
   "id": "a0671810",
   "metadata": {
    "id": "a0671810"
   },
   "source": [
    "### Observe the results above and discuss the following:\n",
    "- What is lemmatization?\n",
    "- I guess you cannot tell what lemmatization is from the results above. Let's try lemmatization in another way."
   ]
  },
  {
   "cell_type": "markdown",
   "id": "675c21d4",
   "metadata": {
    "id": "675c21d4"
   },
   "source": [
    "### How about we tell the lemmatizer more information of the tokens?"
   ]
  },
  {
   "cell_type": "code",
   "execution_count": 11,
   "id": "21a94a3f",
   "metadata": {
    "colab": {
     "base_uri": "https://localhost:8080/"
    },
    "id": "21a94a3f",
    "outputId": "afe28937-b578-4156-9e0c-7c808949c892"
   },
   "outputs": [
    {
     "output_type": "stream",
     "name": "stdout",
     "text": [
      "[('the', 'DT'), ('graduate', 'NN'), ('student', 'NN'), ('was', 'VBD'), ('typing', 'VBG'), (',', ','), ('procrastinating', 'VBG'), (',', ','), ('questioning', 'VBG'), ('herself', 'PRP'), (',', ','), ('and', 'CC'), ('finally', 'RB'), ('submitting', 'VBG'), ('the', 'DT'), ('dissertation', 'NN'), ('while', 'IN'), ('dreaming', 'VBG'), ('about', 'RB'), ('sleep', 'NN'), ('.', '.')]\n"
     ]
    }
   ],
   "source": [
    "# Part-of-Speech Tagging\n",
    "tagged_tokens = pos_tag(tokens)\n",
    "print(tagged_tokens)"
   ]
  },
  {
   "cell_type": "markdown",
   "id": "a4205ac6",
   "metadata": {
    "id": "a4205ac6"
   },
   "source": [
    "### Then we do the punctuation, non-alphabetic tokens, and stopword removal."
   ]
  },
  {
   "cell_type": "code",
   "execution_count": 12,
   "id": "d6af0e29",
   "metadata": {
    "colab": {
     "base_uri": "https://localhost:8080/"
    },
    "id": "d6af0e29",
    "outputId": "69289b58-b7a4-43d8-f48f-2879d771412f"
   },
   "outputs": [
    {
     "output_type": "stream",
     "name": "stdout",
     "text": [
      "[('the', 'DT'), ('graduate', 'NN'), ('student', 'NN'), ('was', 'VBD'), ('typing', 'VBG'), ('procrastinating', 'VBG'), ('questioning', 'VBG'), ('herself', 'PRP'), ('and', 'CC'), ('finally', 'RB'), ('submitting', 'VBG'), ('the', 'DT'), ('dissertation', 'NN'), ('while', 'IN'), ('dreaming', 'VBG'), ('about', 'RB'), ('sleep', 'NN')]\n",
      "[('graduate', 'NN'), ('student', 'NN'), ('typing', 'VBG'), ('procrastinating', 'VBG'), ('questioning', 'VBG'), ('finally', 'RB'), ('submitting', 'VBG'), ('dissertation', 'NN'), ('dreaming', 'VBG'), ('sleep', 'NN')]\n"
     ]
    }
   ],
   "source": [
    "# Remove punctuation and non-alphabetic tokens\n",
    "tagged_tokens_noPunc = [(word[0].translate(punctuation_table), word[1]) for word in tagged_tokens if word[0].isalpha()]\n",
    "print(tagged_tokens_noPunc)\n",
    "\n",
    "# Remove stopwords\n",
    "tagged_tokens_noSW = [(word[0], word[1]) for word in tagged_tokens_noPunc if word[0] not in stop_words]\n",
    "print(tagged_tokens_noSW)"
   ]
  },
  {
   "cell_type": "markdown",
   "id": "07f9ffbf",
   "metadata": {
    "id": "07f9ffbf"
   },
   "source": [
    "### Take 2: what is lemmatization?"
   ]
  },
  {
   "cell_type": "code",
   "execution_count": 13,
   "id": "f1f708fc",
   "metadata": {
    "colab": {
     "base_uri": "https://localhost:8080/"
    },
    "id": "f1f708fc",
    "outputId": "5b5a6057-16d8-4dda-eab4-307dd93caf16"
   },
   "outputs": [
    {
     "output_type": "stream",
     "name": "stdout",
     "text": [
      "Original\tLemmatized\n",
      "\n",
      "graduate\tgraduate\n",
      "student\tstudent\n",
      "typing\ttype\n",
      "procrastinating\tprocrastinate\n",
      "questioning\tquestion\n",
      "finally\tfinally\n",
      "submitting\tsubmit\n",
      "dissertation\tdissertation\n",
      "dreaming\tdream\n",
      "sleep\tsleep\n"
     ]
    }
   ],
   "source": [
    "# Convert treebank POS tags to wordnet POS tags so the lemmatizer can read them\n",
    "def get_wordnet_pos(treebank_tag):\n",
    "    if treebank_tag.startswith('J'):\n",
    "        return wn.ADJ\n",
    "    elif treebank_tag.startswith('V'):\n",
    "        return wn.VERB\n",
    "    elif treebank_tag.startswith('R'):\n",
    "        return wn.ADV\n",
    "    else:\n",
    "        return wn.NOUN\n",
    "\n",
    "print(\"Original\\tLemmatized\\n\")\n",
    "tagged_tokens_lemmatized = [lemmatizer.lemmatize(token, get_wordnet_pos(tag)) for token, tag in tagged_tokens_noSW]\n",
    "for ori, lem in zip(tagged_tokens_noSW, tagged_tokens_lemmatized):\n",
    "    print(f\"{ori[0]}\\t{lem}\")"
   ]
  },
  {
   "cell_type": "markdown",
   "id": "bb33e82c",
   "metadata": {
    "id": "bb33e82c"
   },
   "source": [
    "### Observe the results above and discuss the following:\n",
    "- What is lemmatization?"
   ]
  },
  {
   "cell_type": "markdown",
   "id": "bfc4fb82",
   "metadata": {
    "id": "bfc4fb82"
   },
   "source": [
    "### What is stemming?"
   ]
  },
  {
   "cell_type": "code",
   "execution_count": 14,
   "id": "a2edec23",
   "metadata": {
    "colab": {
     "base_uri": "https://localhost:8080/"
    },
    "id": "a2edec23",
    "outputId": "9c21d912-7a09-403e-e33b-94ab99280cb0"
   },
   "outputs": [
    {
     "output_type": "stream",
     "name": "stdout",
     "text": [
      "Original\tStemmed\n",
      "\n",
      "graduate\tgraduat\n",
      "student\tstudent\n",
      "type\ttype\n",
      "procrastinate\tprocrastin\n",
      "question\tquestion\n",
      "finally\tfinal\n",
      "submit\tsubmit\n",
      "dissertation\tdissert\n",
      "dream\tdream\n",
      "sleep\tsleep\n"
     ]
    }
   ],
   "source": [
    "print(\"Original\\tStemmed\\n\")\n",
    "tokens_stemmed = [stemmer.stem(word) for word in tagged_tokens_lemmatized]\n",
    "for ori, stem in zip(tagged_tokens_lemmatized, tokens_stemmed):\n",
    "    print(f\"{ori}\\t{stem}\")"
   ]
  },
  {
   "cell_type": "markdown",
   "id": "b9a2efd5",
   "metadata": {
    "id": "b9a2efd5"
   },
   "source": [
    "### Observe the results above and discuss the following:\n",
    "- What is stemming?\n",
    "- Why is stemming helpful in imporving TF-IDF performance?"
   ]
  },
  {
   "cell_type": "markdown",
   "id": "e9536305",
   "metadata": {
    "id": "e9536305"
   },
   "source": [
    "### ✏️ Now let's preprocess the query and the documents!"
   ]
  },
  {
   "cell_type": "code",
   "execution_count": 15,
   "id": "9b3c6fe1",
   "metadata": {
    "id": "9b3c6fe1"
   },
   "outputs": [],
   "source": [
    "# TODO\n",
    "# Preprocessing function\n",
    "def preprocess_text(text):\n",
    "\n",
    "    # Step 1: # Convert to lowercase and tokenize text into words\n",
    "    tokens = word_tokenize(text.lower())\n",
    "\n",
    "    # Step 2: Tag part-of-speech of the tokens\n",
    "    tokens = pos_tag(tokens)\n",
    "\n",
    "    # Step 3: Remove punctuation and non-alphabetic tokens\n",
    "    tokens = [(word[0].translate(punctuation_table), word[1]) for word in tokens if word[0].isalpha()]\n",
    "\n",
    "    # Step 4: Remove stopwords\n",
    "    tokens = [(word[0], word[1]) for word in tokens if word[0] not in stop_words]\n",
    "\n",
    "    # Step 5: Lemmatize tokens\n",
    "    tokens = [lemmatizer.lemmatize(token, get_wordnet_pos(tag)) for token, tag in tokens]\n",
    "\n",
    "    # Step 6: Stem tokens\n",
    "    tokens = [stemmer.stem(word) for word in tokens]\n",
    "\n",
    "    return tokens"
   ]
  },
  {
   "cell_type": "code",
   "execution_count": 16,
   "id": "d78d7fcb",
   "metadata": {
    "colab": {
     "base_uri": "https://localhost:8080/"
    },
    "id": "d78d7fcb",
    "outputId": "9d3c1884-81e8-4c82-8d68-c466e86723f6"
   },
   "outputs": [
    {
     "output_type": "stream",
     "name": "stdout",
     "text": [
      "Query: ['sleep', 'depriv']\n",
      "\n",
      "Document 1: ['sleepless', 'night', 'lab', 'becom', 'new', 'normal', 'tri', 'fix', 'experi', 'setup', 'apparatu', 'seem', 'mind', 'advisor', 'say', 'result', 'around', 'corner', 'corner', 'keep', 'move', 'coffe', 'true', 'companion', 'day']\n",
      "Document 2: ['think', 'grad', 'school', 'would', 'intellectu', 'stimul', 'mostli', 'paperwork', 'wait', 'email', 'department', 'printer', 'jam', 'late', 'meet', 'cafeteria', 'run', 'good', 'snack', 'surviv', 'vend', 'machin', 'chip', 'sleep', 'becom', 'luxuri', 'longer', 'afford']\n",
      "Document 3: ['write', 'dissert', 'feel', 'like', 'climb', 'endless', 'mountain', 'everi', 'time', 'finish', 'chapter', 'supervisor', 'suggest', 'new', 'revis', 'impostor', 'syndrom', 'real', 'wonder', 'make', 'mistak', 'accept', 'mayb', 'go', 'clown', 'colleg', 'instead', 'utterli', 'depriv', 'semblanc', 'normal', 'life']\n",
      "Document 4: ['research', 'data', 'get', 'corrupt', 'start', 'lab', 'mous', 'escap', 'spend', 'hour', 'tri', 'find', 'grant', 'propos', 'deadlin', 'tomorrow', 'onlin', 'submiss', 'portal', 'least', 'pet', 'cactu', 'die', 'yet']\n",
      "Document 5: ['group', 'meet', 'turn', 'debat', 'font', 'choic', 'present', 'pretti', 'sure', 'colleagu', 'steal', 'lunch', 'fridg', 'photocopi', 'get', 'never', 'work', 'hurri', 'phd', 'nap', 'ace']\n",
      "Document 6: ['see', 'sun', 'day', 'due', 'endless', 'cod', 'session', 'simul', 'keep', 'crash', 'stack', 'overflow', 'answer', 'roommat', 'think', 'ghost', 'haunt', 'apart', 'instant', 'noodl', 'becom', 'primari', 'food', 'group']\n",
      "Document 7: ['attend', 'confer', 'sound', 'fun', 'realiz', 'involv', 'lot', 'awkward', 'network', 'accident', 'spill', 'coffe', 'famou', 'professor', 'shoe', 'poster', 'fell', 'twice', 'session', 'next', 'time', 'send', 'cardboard', 'cutout']\n",
      "Document 8: ['univers', 'gym', 'membership', 'suppos', 'keep', 'healthi', 'use', 'tri', 'attend', 'yoga', 'class', 'stay', 'late', 'deadlin', 'fell', 'asleep', 'medit', 'mayb', 'instead', 'gym', 'bed', 'essenti', 'keep', 'healthi']\n",
      "Document 9: ['teach', 'assistantship', 'involv', 'grade', 'endless', 'stack', 'exam', 'student', 'keep', 'email', 'extens', 'creativ', 'excus', 'one', 'claim', 'dog', 'sleep', 'laptop', 'use', 'exam', 'depriv', 'excus', 'complet', 'dissert', 'draft', 'might', 'get', 'good', 'one']\n",
      "Document 10: ['group', 'project', 'bad', 'one', 'work', 'team', 'member', 'elus', 'bigfoot', 'project', 'due', 'next', 'week', 'hear', 'perhap', 'write', 'paper', 'sociolog', 'implic', 'group', 'work', 'avoid']\n"
     ]
    }
   ],
   "source": [
    "# Apply preprocessing to each document in the corpus\n",
    "preprocessed_query = preprocess_text(query)\n",
    "print(f\"Query: {preprocessed_query}\\n\")\n",
    "\n",
    "preprocessed_corpus = [preprocess_text(doc) for doc in corpus]\n",
    "# Print preprocessed corpus\n",
    "for idx, doc in enumerate(preprocessed_corpus):\n",
    "    print(f\"Document {idx+1}: {doc}\")"
   ]
  },
  {
   "cell_type": "markdown",
   "id": "544cea0b",
   "metadata": {
    "id": "544cea0b"
   },
   "source": [
    "## ✏️ 2.2 Compute Term Frequency (TF)"
   ]
  },
  {
   "cell_type": "code",
   "execution_count": 17,
   "id": "874163f9",
   "metadata": {
    "id": "874163f9",
    "outputId": "9ea45f7a-f252-43d4-e143-98412b671afe",
    "colab": {
     "base_uri": "https://localhost:8080/"
    }
   },
   "outputs": [
    {
     "output_type": "stream",
     "name": "stdout",
     "text": [
      "TF for Document 1: {'sleepless': 0.04, 'night': 0.04, 'lab': 0.04, 'becom': 0.04, 'new': 0.04, 'normal': 0.04, 'tri': 0.04, 'fix': 0.04, 'experi': 0.04, 'setup': 0.04, 'apparatu': 0.04, 'seem': 0.04, 'mind': 0.04, 'advisor': 0.04, 'say': 0.04, 'result': 0.04, 'around': 0.04, 'corner': 0.08, 'keep': 0.04, 'move': 0.04, 'coffe': 0.04, 'true': 0.04, 'companion': 0.04, 'day': 0.04}\n",
      "\n",
      "TF for Document 2: {'think': 0.03571428571428571, 'grad': 0.03571428571428571, 'school': 0.03571428571428571, 'would': 0.03571428571428571, 'intellectu': 0.03571428571428571, 'stimul': 0.03571428571428571, 'mostli': 0.03571428571428571, 'paperwork': 0.03571428571428571, 'wait': 0.03571428571428571, 'email': 0.03571428571428571, 'department': 0.03571428571428571, 'printer': 0.03571428571428571, 'jam': 0.03571428571428571, 'late': 0.03571428571428571, 'meet': 0.03571428571428571, 'cafeteria': 0.03571428571428571, 'run': 0.03571428571428571, 'good': 0.03571428571428571, 'snack': 0.03571428571428571, 'surviv': 0.03571428571428571, 'vend': 0.03571428571428571, 'machin': 0.03571428571428571, 'chip': 0.03571428571428571, 'sleep': 0.03571428571428571, 'becom': 0.03571428571428571, 'luxuri': 0.03571428571428571, 'longer': 0.03571428571428571, 'afford': 0.03571428571428571}\n",
      "\n",
      "TF for Document 3: {'write': 0.03125, 'dissert': 0.03125, 'feel': 0.03125, 'like': 0.03125, 'climb': 0.03125, 'endless': 0.03125, 'mountain': 0.03125, 'everi': 0.03125, 'time': 0.03125, 'finish': 0.03125, 'chapter': 0.03125, 'supervisor': 0.03125, 'suggest': 0.03125, 'new': 0.03125, 'revis': 0.03125, 'impostor': 0.03125, 'syndrom': 0.03125, 'real': 0.03125, 'wonder': 0.03125, 'make': 0.03125, 'mistak': 0.03125, 'accept': 0.03125, 'mayb': 0.03125, 'go': 0.03125, 'clown': 0.03125, 'colleg': 0.03125, 'instead': 0.03125, 'utterli': 0.03125, 'depriv': 0.03125, 'semblanc': 0.03125, 'normal': 0.03125, 'life': 0.03125}\n",
      "\n",
      "TF for Document 4: {'research': 0.041666666666666664, 'data': 0.041666666666666664, 'get': 0.041666666666666664, 'corrupt': 0.041666666666666664, 'start': 0.041666666666666664, 'lab': 0.041666666666666664, 'mous': 0.041666666666666664, 'escap': 0.041666666666666664, 'spend': 0.041666666666666664, 'hour': 0.041666666666666664, 'tri': 0.041666666666666664, 'find': 0.041666666666666664, 'grant': 0.041666666666666664, 'propos': 0.041666666666666664, 'deadlin': 0.041666666666666664, 'tomorrow': 0.041666666666666664, 'onlin': 0.041666666666666664, 'submiss': 0.041666666666666664, 'portal': 0.041666666666666664, 'least': 0.041666666666666664, 'pet': 0.041666666666666664, 'cactu': 0.041666666666666664, 'die': 0.041666666666666664, 'yet': 0.041666666666666664}\n",
      "\n",
      "TF for Document 5: {'group': 0.047619047619047616, 'meet': 0.047619047619047616, 'turn': 0.047619047619047616, 'debat': 0.047619047619047616, 'font': 0.047619047619047616, 'choic': 0.047619047619047616, 'present': 0.047619047619047616, 'pretti': 0.047619047619047616, 'sure': 0.047619047619047616, 'colleagu': 0.047619047619047616, 'steal': 0.047619047619047616, 'lunch': 0.047619047619047616, 'fridg': 0.047619047619047616, 'photocopi': 0.047619047619047616, 'get': 0.047619047619047616, 'never': 0.047619047619047616, 'work': 0.047619047619047616, 'hurri': 0.047619047619047616, 'phd': 0.047619047619047616, 'nap': 0.047619047619047616, 'ace': 0.047619047619047616}\n",
      "\n",
      "TF for Document 6: {'see': 0.041666666666666664, 'sun': 0.041666666666666664, 'day': 0.041666666666666664, 'due': 0.041666666666666664, 'endless': 0.041666666666666664, 'cod': 0.041666666666666664, 'session': 0.041666666666666664, 'simul': 0.041666666666666664, 'keep': 0.041666666666666664, 'crash': 0.041666666666666664, 'stack': 0.041666666666666664, 'overflow': 0.041666666666666664, 'answer': 0.041666666666666664, 'roommat': 0.041666666666666664, 'think': 0.041666666666666664, 'ghost': 0.041666666666666664, 'haunt': 0.041666666666666664, 'apart': 0.041666666666666664, 'instant': 0.041666666666666664, 'noodl': 0.041666666666666664, 'becom': 0.041666666666666664, 'primari': 0.041666666666666664, 'food': 0.041666666666666664, 'group': 0.041666666666666664}\n",
      "\n",
      "TF for Document 7: {'attend': 0.041666666666666664, 'confer': 0.041666666666666664, 'sound': 0.041666666666666664, 'fun': 0.041666666666666664, 'realiz': 0.041666666666666664, 'involv': 0.041666666666666664, 'lot': 0.041666666666666664, 'awkward': 0.041666666666666664, 'network': 0.041666666666666664, 'accident': 0.041666666666666664, 'spill': 0.041666666666666664, 'coffe': 0.041666666666666664, 'famou': 0.041666666666666664, 'professor': 0.041666666666666664, 'shoe': 0.041666666666666664, 'poster': 0.041666666666666664, 'fell': 0.041666666666666664, 'twice': 0.041666666666666664, 'session': 0.041666666666666664, 'next': 0.041666666666666664, 'time': 0.041666666666666664, 'send': 0.041666666666666664, 'cardboard': 0.041666666666666664, 'cutout': 0.041666666666666664}\n",
      "\n",
      "TF for Document 8: {'univers': 0.041666666666666664, 'gym': 0.08333333333333333, 'membership': 0.041666666666666664, 'suppos': 0.041666666666666664, 'keep': 0.08333333333333333, 'healthi': 0.08333333333333333, 'use': 0.041666666666666664, 'tri': 0.041666666666666664, 'attend': 0.041666666666666664, 'yoga': 0.041666666666666664, 'class': 0.041666666666666664, 'stay': 0.041666666666666664, 'late': 0.041666666666666664, 'deadlin': 0.041666666666666664, 'fell': 0.041666666666666664, 'asleep': 0.041666666666666664, 'medit': 0.041666666666666664, 'mayb': 0.041666666666666664, 'instead': 0.041666666666666664, 'bed': 0.041666666666666664, 'essenti': 0.041666666666666664}\n",
      "\n",
      "TF for Document 9: {'teach': 0.034482758620689655, 'assistantship': 0.034482758620689655, 'involv': 0.034482758620689655, 'grade': 0.034482758620689655, 'endless': 0.034482758620689655, 'stack': 0.034482758620689655, 'exam': 0.06896551724137931, 'student': 0.034482758620689655, 'keep': 0.034482758620689655, 'email': 0.034482758620689655, 'extens': 0.034482758620689655, 'creativ': 0.034482758620689655, 'excus': 0.06896551724137931, 'one': 0.06896551724137931, 'claim': 0.034482758620689655, 'dog': 0.034482758620689655, 'sleep': 0.034482758620689655, 'laptop': 0.034482758620689655, 'use': 0.034482758620689655, 'depriv': 0.034482758620689655, 'complet': 0.034482758620689655, 'dissert': 0.034482758620689655, 'draft': 0.034482758620689655, 'might': 0.034482758620689655, 'get': 0.034482758620689655, 'good': 0.034482758620689655}\n",
      "\n",
      "TF for Document 10: {'group': 0.09090909090909091, 'project': 0.09090909090909091, 'bad': 0.045454545454545456, 'one': 0.045454545454545456, 'work': 0.09090909090909091, 'team': 0.045454545454545456, 'member': 0.045454545454545456, 'elus': 0.045454545454545456, 'bigfoot': 0.045454545454545456, 'due': 0.045454545454545456, 'next': 0.045454545454545456, 'week': 0.045454545454545456, 'hear': 0.045454545454545456, 'perhap': 0.045454545454545456, 'write': 0.045454545454545456, 'paper': 0.045454545454545456, 'sociolog': 0.045454545454545456, 'implic': 0.045454545454545456, 'avoid': 0.045454545454545456}\n",
      "\n"
     ]
    }
   ],
   "source": [
    "# Function to compute term frequency (TF) for each document\n",
    "def compute_tf(doc):\n",
    "\n",
    "    # Initialize the TF dictionary\n",
    "    tf_dict = {}\n",
    "\n",
    "    # TODO\n",
    "    # Count the term frequency\n",
    "    for word in doc:\n",
    "        tf_dict[word] = tf_dict.get(word, 0) + 1\n",
    "\n",
    "    # TODO\n",
    "    # Divide term counts by total number of terms in the document\n",
    "    total_terms = len(doc)\n",
    "    for word in tf_dict:\n",
    "        tf_dict[word] = tf_dict[word] / total_terms\n",
    "\n",
    "    return tf_dict\n",
    "\n",
    "# Compute TF for each document in the corpus\n",
    "tf_corpus = [compute_tf(doc) for doc in preprocessed_corpus]\n",
    "\n",
    "# Print TF values for each document\n",
    "for idx, tf in enumerate(tf_corpus):\n",
    "    print(f\"TF for Document {idx+1}: {tf}\\n\")"
   ]
  },
  {
   "cell_type": "markdown",
   "id": "4cd3a5b8",
   "metadata": {
    "id": "4cd3a5b8"
   },
   "source": [
    "## ✏️ 2.3 Compute Inverse Document Frequency (IDF)"
   ]
  },
  {
   "cell_type": "code",
   "execution_count": 18,
   "id": "b72b4c5c",
   "metadata": {
    "id": "b72b4c5c",
    "outputId": "fe9b1dee-ba66-46ce-98b9-014016f65453",
    "colab": {
     "base_uri": "https://localhost:8080/"
    }
   },
   "outputs": [
    {
     "output_type": "stream",
     "name": "stdout",
     "text": [
      "IDF for Corpus:\n",
      "tri: 2.203972804325936\n",
      "normal: 2.6094379124341005\n",
      "result: 3.302585092994046\n",
      "advisor: 3.302585092994046\n",
      "sleepless: 3.302585092994046\n",
      "true: 3.302585092994046\n",
      "mind: 3.302585092994046\n",
      "new: 2.6094379124341005\n",
      "companion: 3.302585092994046\n",
      "apparatu: 3.302585092994046\n",
      "becom: 2.203972804325936\n",
      "corner: 3.302585092994046\n",
      "coffe: 2.6094379124341005\n",
      "seem: 3.302585092994046\n",
      "experi: 3.302585092994046\n",
      "lab: 2.6094379124341005\n",
      "day: 2.6094379124341005\n",
      "night: 3.302585092994046\n",
      "keep: 1.916290731874155\n",
      "fix: 3.302585092994046\n",
      "setup: 3.302585092994046\n",
      "say: 3.302585092994046\n",
      "around: 3.302585092994046\n",
      "move: 3.302585092994046\n",
      "school: 3.302585092994046\n",
      "mostli: 3.302585092994046\n",
      "paperwork: 3.302585092994046\n",
      "longer: 3.302585092994046\n",
      "grad: 3.302585092994046\n",
      "good: 2.6094379124341005\n",
      "sleep: 2.6094379124341005\n",
      "luxuri: 3.302585092994046\n",
      "intellectu: 3.302585092994046\n",
      "department: 3.302585092994046\n",
      "stimul: 3.302585092994046\n",
      "machin: 3.302585092994046\n",
      "late: 2.6094379124341005\n",
      "run: 3.302585092994046\n",
      "jam: 3.302585092994046\n",
      "chip: 3.302585092994046\n",
      "snack: 3.302585092994046\n",
      "wait: 3.302585092994046\n",
      "cafeteria: 3.302585092994046\n",
      "surviv: 3.302585092994046\n",
      "printer: 3.302585092994046\n",
      "email: 2.6094379124341005\n",
      "meet: 2.6094379124341005\n",
      "afford: 3.302585092994046\n",
      "would: 3.302585092994046\n",
      "vend: 3.302585092994046\n",
      "think: 2.6094379124341005\n",
      "clown: 3.302585092994046\n",
      "syndrom: 3.302585092994046\n",
      "climb: 3.302585092994046\n",
      "like: 3.302585092994046\n",
      "revis: 3.302585092994046\n",
      "endless: 2.203972804325936\n",
      "accept: 3.302585092994046\n",
      "everi: 3.302585092994046\n",
      "chapter: 3.302585092994046\n",
      "supervisor: 3.302585092994046\n",
      "mayb: 2.6094379124341005\n",
      "feel: 3.302585092994046\n",
      "dissert: 2.6094379124341005\n",
      "write: 2.6094379124341005\n",
      "colleg: 3.302585092994046\n",
      "go: 3.302585092994046\n",
      "instead: 2.6094379124341005\n",
      "finish: 3.302585092994046\n",
      "real: 3.302585092994046\n",
      "life: 3.302585092994046\n",
      "depriv: 2.6094379124341005\n",
      "impostor: 3.302585092994046\n",
      "time: 2.6094379124341005\n",
      "mistak: 3.302585092994046\n",
      "suggest: 3.302585092994046\n",
      "make: 3.302585092994046\n",
      "utterli: 3.302585092994046\n",
      "mountain: 3.302585092994046\n",
      "semblanc: 3.302585092994046\n",
      "wonder: 3.302585092994046\n",
      "yet: 3.302585092994046\n",
      "onlin: 3.302585092994046\n",
      "die: 3.302585092994046\n",
      "propos: 3.302585092994046\n",
      "spend: 3.302585092994046\n",
      "get: 2.203972804325936\n",
      "deadlin: 2.6094379124341005\n",
      "submiss: 3.302585092994046\n",
      "cactu: 3.302585092994046\n",
      "pet: 3.302585092994046\n",
      "research: 3.302585092994046\n",
      "least: 3.302585092994046\n",
      "corrupt: 3.302585092994046\n",
      "grant: 3.302585092994046\n",
      "portal: 3.302585092994046\n",
      "find: 3.302585092994046\n",
      "hour: 3.302585092994046\n",
      "escap: 3.302585092994046\n",
      "data: 3.302585092994046\n",
      "mous: 3.302585092994046\n",
      "start: 3.302585092994046\n",
      "tomorrow: 3.302585092994046\n",
      "nap: 3.302585092994046\n",
      "hurri: 3.302585092994046\n",
      "lunch: 3.302585092994046\n",
      "present: 3.302585092994046\n",
      "steal: 3.302585092994046\n",
      "choic: 3.302585092994046\n",
      "turn: 3.302585092994046\n",
      "colleagu: 3.302585092994046\n",
      "ace: 3.302585092994046\n",
      "debat: 3.302585092994046\n",
      "work: 2.6094379124341005\n",
      "phd: 3.302585092994046\n",
      "fridg: 3.302585092994046\n",
      "font: 3.302585092994046\n",
      "pretti: 3.302585092994046\n",
      "never: 3.302585092994046\n",
      "photocopi: 3.302585092994046\n",
      "sure: 3.302585092994046\n",
      "group: 2.203972804325936\n",
      "answer: 3.302585092994046\n",
      "cod: 3.302585092994046\n",
      "roommat: 3.302585092994046\n",
      "instant: 3.302585092994046\n",
      "session: 2.6094379124341005\n",
      "overflow: 3.302585092994046\n",
      "simul: 3.302585092994046\n",
      "sun: 3.302585092994046\n",
      "see: 3.302585092994046\n",
      "apart: 3.302585092994046\n",
      "stack: 2.6094379124341005\n",
      "haunt: 3.302585092994046\n",
      "due: 2.6094379124341005\n",
      "crash: 3.302585092994046\n",
      "noodl: 3.302585092994046\n",
      "primari: 3.302585092994046\n",
      "ghost: 3.302585092994046\n",
      "food: 3.302585092994046\n",
      "next: 2.6094379124341005\n",
      "spill: 3.302585092994046\n",
      "accident: 3.302585092994046\n",
      "awkward: 3.302585092994046\n",
      "confer: 3.302585092994046\n",
      "realiz: 3.302585092994046\n",
      "fun: 3.302585092994046\n",
      "famou: 3.302585092994046\n",
      "shoe: 3.302585092994046\n",
      "lot: 3.302585092994046\n",
      "network: 3.302585092994046\n",
      "poster: 3.302585092994046\n",
      "cardboard: 3.302585092994046\n",
      "cutout: 3.302585092994046\n",
      "professor: 3.302585092994046\n",
      "involv: 2.6094379124341005\n",
      "attend: 2.6094379124341005\n",
      "sound: 3.302585092994046\n",
      "fell: 2.6094379124341005\n",
      "twice: 3.302585092994046\n",
      "send: 3.302585092994046\n",
      "membership: 3.302585092994046\n",
      "asleep: 3.302585092994046\n",
      "yoga: 3.302585092994046\n",
      "stay: 3.302585092994046\n",
      "bed: 3.302585092994046\n",
      "univers: 3.302585092994046\n",
      "use: 2.6094379124341005\n",
      "class: 3.302585092994046\n",
      "medit: 3.302585092994046\n",
      "healthi: 3.302585092994046\n",
      "suppos: 3.302585092994046\n",
      "essenti: 3.302585092994046\n",
      "gym: 3.302585092994046\n",
      "assistantship: 3.302585092994046\n",
      "dog: 3.302585092994046\n",
      "might: 3.302585092994046\n",
      "draft: 3.302585092994046\n",
      "exam: 3.302585092994046\n",
      "excus: 3.302585092994046\n",
      "creativ: 3.302585092994046\n",
      "complet: 3.302585092994046\n",
      "student: 3.302585092994046\n",
      "extens: 3.302585092994046\n",
      "grade: 3.302585092994046\n",
      "laptop: 3.302585092994046\n",
      "teach: 3.302585092994046\n",
      "claim: 3.302585092994046\n",
      "one: 2.6094379124341005\n",
      "implic: 3.302585092994046\n",
      "perhap: 3.302585092994046\n",
      "team: 3.302585092994046\n",
      "avoid: 3.302585092994046\n",
      "paper: 3.302585092994046\n",
      "elus: 3.302585092994046\n",
      "bad: 3.302585092994046\n",
      "sociolog: 3.302585092994046\n",
      "project: 3.302585092994046\n",
      "bigfoot: 3.302585092994046\n",
      "hear: 3.302585092994046\n",
      "member: 3.302585092994046\n",
      "week: 3.302585092994046\n"
     ]
    }
   ],
   "source": [
    "# Function to compute inverse document frequency (IDF) for each term in the corpus\n",
    "def compute_idf(corpus):\n",
    "\n",
    "    N = len(corpus)  # Total number of documents\n",
    "\n",
    "    # Initialize the IDF dictionary\n",
    "    idf_dict = defaultdict(int)\n",
    "\n",
    "    # TODO\n",
    "    # Count the number of documents containing each word\n",
    "    for doc in corpus:\n",
    "        for word in set(doc):  # Use set to count each word only once per document\n",
    "            idf_dict[word] += 1\n",
    "\n",
    "    #TODO\n",
    "    # Compute IDF (logarithmic scale)\n",
    "    for word in idf_dict:\n",
    "        idf_dict[word] = math.log(N / (idf_dict[word])) + 1  # Smoothing by adding 1\n",
    "\n",
    "    return idf_dict\n",
    "\n",
    "# Compute IDF for the corpus\n",
    "idf_dict = compute_idf(preprocessed_corpus)\n",
    "\n",
    "# Print IDF values\n",
    "print(\"IDF for Corpus:\")\n",
    "for word, idf in idf_dict.items():\n",
    "    print(f\"{word}: {idf}\")"
   ]
  },
  {
   "cell_type": "markdown",
   "id": "1bface74",
   "metadata": {
    "id": "1bface74"
   },
   "source": [
    "## ✏️ 2.4 Compute TF-IDF"
   ]
  },
  {
   "cell_type": "code",
   "execution_count": 19,
   "id": "ce20a060",
   "metadata": {
    "id": "ce20a060",
    "outputId": "727c1597-2cd9-4413-cb7d-298bc4a55586",
    "colab": {
     "base_uri": "https://localhost:8080/"
    }
   },
   "outputs": [
    {
     "output_type": "stream",
     "name": "stdout",
     "text": [
      "TF-IDF for Document 1: {'sleepless': 0.13210340371976184, 'night': 0.13210340371976184, 'lab': 0.10437751649736403, 'becom': 0.08815891217303744, 'new': 0.10437751649736403, 'normal': 0.10437751649736403, 'tri': 0.08815891217303744, 'fix': 0.13210340371976184, 'experi': 0.13210340371976184, 'setup': 0.13210340371976184, 'apparatu': 0.13210340371976184, 'seem': 0.13210340371976184, 'mind': 0.13210340371976184, 'advisor': 0.13210340371976184, 'say': 0.13210340371976184, 'result': 0.13210340371976184, 'around': 0.13210340371976184, 'corner': 0.2642068074395237, 'keep': 0.0766516292749662, 'move': 0.13210340371976184, 'coffe': 0.10437751649736403, 'true': 0.13210340371976184, 'companion': 0.13210340371976184, 'day': 0.10437751649736403}\n",
      "\n",
      "TF-IDF for Document 2: {'think': 0.09319421115836073, 'grad': 0.1179494676069302, 'school': 0.1179494676069302, 'would': 0.1179494676069302, 'intellectu': 0.1179494676069302, 'stimul': 0.1179494676069302, 'mostli': 0.1179494676069302, 'paperwork': 0.1179494676069302, 'wait': 0.1179494676069302, 'email': 0.09319421115836073, 'department': 0.1179494676069302, 'printer': 0.1179494676069302, 'jam': 0.1179494676069302, 'late': 0.09319421115836073, 'meet': 0.09319421115836073, 'cafeteria': 0.1179494676069302, 'run': 0.1179494676069302, 'good': 0.09319421115836073, 'snack': 0.1179494676069302, 'surviv': 0.1179494676069302, 'vend': 0.1179494676069302, 'machin': 0.1179494676069302, 'chip': 0.1179494676069302, 'sleep': 0.09319421115836073, 'becom': 0.078713314440212, 'luxuri': 0.1179494676069302, 'longer': 0.1179494676069302, 'afford': 0.1179494676069302}\n",
      "\n",
      "TF-IDF for Document 3: {'write': 0.08154493476356564, 'dissert': 0.08154493476356564, 'feel': 0.10320578415606393, 'like': 0.10320578415606393, 'climb': 0.10320578415606393, 'endless': 0.0688741501351855, 'mountain': 0.10320578415606393, 'everi': 0.10320578415606393, 'time': 0.08154493476356564, 'finish': 0.10320578415606393, 'chapter': 0.10320578415606393, 'supervisor': 0.10320578415606393, 'suggest': 0.10320578415606393, 'new': 0.08154493476356564, 'revis': 0.10320578415606393, 'impostor': 0.10320578415606393, 'syndrom': 0.10320578415606393, 'real': 0.10320578415606393, 'wonder': 0.10320578415606393, 'make': 0.10320578415606393, 'mistak': 0.10320578415606393, 'accept': 0.10320578415606393, 'mayb': 0.08154493476356564, 'go': 0.10320578415606393, 'clown': 0.10320578415606393, 'colleg': 0.10320578415606393, 'instead': 0.08154493476356564, 'utterli': 0.10320578415606393, 'depriv': 0.08154493476356564, 'semblanc': 0.10320578415606393, 'normal': 0.08154493476356564, 'life': 0.10320578415606393}\n",
      "\n",
      "TF-IDF for Document 4: {'research': 0.13760771220808524, 'data': 0.13760771220808524, 'get': 0.09183220018024732, 'corrupt': 0.13760771220808524, 'start': 0.13760771220808524, 'lab': 0.10872657968475419, 'mous': 0.13760771220808524, 'escap': 0.13760771220808524, 'spend': 0.13760771220808524, 'hour': 0.13760771220808524, 'tri': 0.09183220018024732, 'find': 0.13760771220808524, 'grant': 0.13760771220808524, 'propos': 0.13760771220808524, 'deadlin': 0.10872657968475419, 'tomorrow': 0.13760771220808524, 'onlin': 0.13760771220808524, 'submiss': 0.13760771220808524, 'portal': 0.13760771220808524, 'least': 0.13760771220808524, 'pet': 0.13760771220808524, 'cactu': 0.13760771220808524, 'die': 0.13760771220808524, 'yet': 0.13760771220808524}\n",
      "\n",
      "TF-IDF for Document 5: {'group': 0.10495108592028266, 'meet': 0.12425894821114764, 'turn': 0.15726595680924027, 'debat': 0.15726595680924027, 'font': 0.15726595680924027, 'choic': 0.15726595680924027, 'present': 0.15726595680924027, 'pretti': 0.15726595680924027, 'sure': 0.15726595680924027, 'colleagu': 0.15726595680924027, 'steal': 0.15726595680924027, 'lunch': 0.15726595680924027, 'fridg': 0.15726595680924027, 'photocopi': 0.15726595680924027, 'get': 0.10495108592028266, 'never': 0.15726595680924027, 'work': 0.12425894821114764, 'hurri': 0.15726595680924027, 'phd': 0.15726595680924027, 'nap': 0.15726595680924027, 'ace': 0.15726595680924027}\n",
      "\n",
      "TF-IDF for Document 6: {'see': 0.13760771220808524, 'sun': 0.13760771220808524, 'day': 0.10872657968475419, 'due': 0.10872657968475419, 'endless': 0.09183220018024732, 'cod': 0.13760771220808524, 'session': 0.10872657968475419, 'simul': 0.13760771220808524, 'keep': 0.07984544716142312, 'crash': 0.13760771220808524, 'stack': 0.10872657968475419, 'overflow': 0.13760771220808524, 'answer': 0.13760771220808524, 'roommat': 0.13760771220808524, 'think': 0.10872657968475419, 'ghost': 0.13760771220808524, 'haunt': 0.13760771220808524, 'apart': 0.13760771220808524, 'instant': 0.13760771220808524, 'noodl': 0.13760771220808524, 'becom': 0.09183220018024732, 'primari': 0.13760771220808524, 'food': 0.13760771220808524, 'group': 0.09183220018024732}\n",
      "\n",
      "TF-IDF for Document 7: {'attend': 0.10872657968475419, 'confer': 0.13760771220808524, 'sound': 0.13760771220808524, 'fun': 0.13760771220808524, 'realiz': 0.13760771220808524, 'involv': 0.10872657968475419, 'lot': 0.13760771220808524, 'awkward': 0.13760771220808524, 'network': 0.13760771220808524, 'accident': 0.13760771220808524, 'spill': 0.13760771220808524, 'coffe': 0.10872657968475419, 'famou': 0.13760771220808524, 'professor': 0.13760771220808524, 'shoe': 0.13760771220808524, 'poster': 0.13760771220808524, 'fell': 0.10872657968475419, 'twice': 0.13760771220808524, 'session': 0.10872657968475419, 'next': 0.10872657968475419, 'time': 0.10872657968475419, 'send': 0.13760771220808524, 'cardboard': 0.13760771220808524, 'cutout': 0.13760771220808524}\n",
      "\n",
      "TF-IDF for Document 8: {'univers': 0.13760771220808524, 'gym': 0.2752154244161705, 'membership': 0.13760771220808524, 'suppos': 0.13760771220808524, 'keep': 0.15969089432284625, 'healthi': 0.2752154244161705, 'use': 0.10872657968475419, 'tri': 0.09183220018024732, 'attend': 0.10872657968475419, 'yoga': 0.13760771220808524, 'class': 0.13760771220808524, 'stay': 0.13760771220808524, 'late': 0.10872657968475419, 'deadlin': 0.10872657968475419, 'fell': 0.10872657968475419, 'asleep': 0.13760771220808524, 'medit': 0.13760771220808524, 'mayb': 0.10872657968475419, 'instead': 0.10872657968475419, 'bed': 0.13760771220808524, 'essenti': 0.13760771220808524}\n",
      "\n",
      "TF-IDF for Document 9: {'teach': 0.11388224458600159, 'assistantship': 0.11388224458600159, 'involv': 0.0899806176701414, 'grade': 0.11388224458600159, 'endless': 0.07599906221813572, 'stack': 0.0899806176701414, 'exam': 0.22776448917200318, 'student': 0.11388224458600159, 'keep': 0.06607899075428121, 'email': 0.0899806176701414, 'extens': 0.11388224458600159, 'creativ': 0.11388224458600159, 'excus': 0.22776448917200318, 'one': 0.1799612353402828, 'claim': 0.11388224458600159, 'dog': 0.11388224458600159, 'sleep': 0.0899806176701414, 'laptop': 0.11388224458600159, 'use': 0.0899806176701414, 'depriv': 0.0899806176701414, 'complet': 0.11388224458600159, 'dissert': 0.0899806176701414, 'draft': 0.11388224458600159, 'might': 0.11388224458600159, 'get': 0.07599906221813572, 'good': 0.0899806176701414}\n",
      "\n",
      "TF-IDF for Document 10: {'group': 0.20036116402963053, 'project': 0.3002350084540042, 'bad': 0.1501175042270021, 'one': 0.11861081420155002, 'work': 0.23722162840310004, 'team': 0.1501175042270021, 'member': 0.1501175042270021, 'elus': 0.1501175042270021, 'bigfoot': 0.1501175042270021, 'due': 0.11861081420155002, 'next': 0.11861081420155002, 'week': 0.1501175042270021, 'hear': 0.1501175042270021, 'perhap': 0.1501175042270021, 'write': 0.11861081420155002, 'paper': 0.1501175042270021, 'sociolog': 0.1501175042270021, 'implic': 0.1501175042270021, 'avoid': 0.1501175042270021}\n",
      "\n"
     ]
    }
   ],
   "source": [
    "# Function to compute TF-IDF for a document\n",
    "def compute_tfidf(tf_doc, idf_dict):\n",
    "\n",
    "    # Initialize TF-IDF dictionary\n",
    "    tfidf_dict = {}\n",
    "\n",
    "    # TODO\n",
    "    # Multiply TF by corresponding IDF\n",
    "    for word, tf_value in tf_doc.items():\n",
    "        tfidf_dict[word] = tf_value * idf_dict.get(word, 0)  # Multiply TF by corresponding IDF\n",
    "\n",
    "    return tfidf_dict\n",
    "\n",
    "# Compute TF-IDF for each document in the corpus\n",
    "tfidf_corpus = [compute_tfidf(tf, idf_dict) for tf in tf_corpus]\n",
    "\n",
    "# Print TF-IDF values for each document\n",
    "for idx, tfidf in enumerate(tfidf_corpus):\n",
    "    print(f\"TF-IDF for Document {idx+1}: {tfidf}\\n\")\n"
   ]
  },
  {
   "cell_type": "markdown",
   "id": "00d96e40",
   "metadata": {
    "id": "00d96e40"
   },
   "source": [
    "## 2.5 The Implementaion of Information Retrieval System"
   ]
  },
  {
   "cell_type": "markdown",
   "id": "2306f35a",
   "metadata": {
    "id": "2306f35a"
   },
   "source": [
    "### Measuring similarity: cosine similarity"
   ]
  },
  {
   "cell_type": "code",
   "execution_count": 20,
   "id": "af4c5181",
   "metadata": {
    "id": "af4c5181"
   },
   "outputs": [],
   "source": [
    "# Function to compute cosine similarity between two vectors\n",
    "def cosine_similarity(vec1, vec2):\n",
    "    dot_product = sum(vec1.get(word, 0) * vec2.get(word, 0) for word in vec1)\n",
    "    magnitude1 = math.sqrt(sum([value ** 2 for value in vec1.values()]))\n",
    "    magnitude2 = math.sqrt(sum([value ** 2 for value in vec2.values()]))\n",
    "\n",
    "    if not magnitude1 or not magnitude2:\n",
    "        return 0.0\n",
    "    return dot_product / (magnitude1 * magnitude2)"
   ]
  },
  {
   "cell_type": "markdown",
   "id": "70b21add",
   "metadata": {
    "id": "70b21add"
   },
   "source": [
    "### Rank the documents using cosine similarity"
   ]
  },
  {
   "cell_type": "code",
   "execution_count": 21,
   "id": "0779c1f7",
   "metadata": {
    "id": "0779c1f7",
    "outputId": "cabb8ffa-4ab0-47f1-a570-3cddb512d846",
    "colab": {
     "base_uri": "https://localhost:8080/"
    }
   },
   "outputs": [
    {
     "output_type": "stream",
     "name": "stdout",
     "text": [
      "Document Rankings based on Query:\n",
      "Rank 1: Document 9 with score 0.20850879673278558\n",
      "Rank 2: Document 2 with score 0.11131520312033671\n",
      "Rank 3: Document 3 with score 0.10476487421443352\n",
      "Rank 4: Document 1 with score 0.0\n",
      "Rank 5: Document 4 with score 0.0\n",
      "Rank 6: Document 5 with score 0.0\n",
      "Rank 7: Document 6 with score 0.0\n",
      "Rank 8: Document 7 with score 0.0\n",
      "Rank 9: Document 8 with score 0.0\n",
      "Rank 10: Document 10 with score 0.0\n"
     ]
    }
   ],
   "source": [
    "# Compute TF for the query\n",
    "tf_query = compute_tf(preprocessed_query)\n",
    "\n",
    "# Compute TF-IDF for the query\n",
    "tfidf_query = compute_tfidf(tf_query, idf_dict)\n",
    "\n",
    "# Compute the cosine similarity of each documents to the query\n",
    "rankings = []\n",
    "for idx, tfidf_doc in enumerate(tfidf_corpus):\n",
    "    score = cosine_similarity(tfidf_doc, tfidf_query)\n",
    "    rankings.append((idx + 1, score))\n",
    "\n",
    "# Sort documents by similarity score in descending order\n",
    "rankings = sorted(rankings, key=lambda x: x[1], reverse=True)\n",
    "\n",
    "# Print document rankings\n",
    "print(\"Document Rankings based on Query:\")\n",
    "for rank, (doc_idx, score) in enumerate(rankings, start=1):\n",
    "    print(f\"Rank {rank}: Document {doc_idx} with score {score}\")\n"
   ]
  },
  {
   "cell_type": "markdown",
   "source": [
    "###Bigram TF-IDF"
   ],
   "metadata": {
    "id": "xIE-bsQ_buAa"
   },
   "id": "xIE-bsQ_buAa"
  },
  {
   "cell_type": "code",
   "source": [
    "import nltk\n",
    "from nltk import word_tokenize\n",
    "from nltk.util import ngrams\n",
    "from nltk.corpus import stopwords\n",
    "import string\n",
    "\n",
    "# 初始化需要的工具\n",
    "nltk.download('punkt')\n",
    "nltk.download('stopwords')\n",
    "stop_words = set(stopwords.words('english'))\n",
    "punctuation_table = str.maketrans('', '', string.punctuation)\n",
    "\n",
    "# 預處理函數：將文本轉為小寫、分詞，並生成 bigram\n",
    "def preprocess_text(text):\n",
    "    # Step 1: 將文本轉為小寫並進行分詞\n",
    "    tokens = word_tokenize(text.lower())\n",
    "\n",
    "    # Step 2: 移除標點符號和非字母的詞\n",
    "    tokens = [word.translate(punctuation_table) for word in tokens if word.isalpha()]\n",
    "\n",
    "    # Step 3: 移除停用詞\n",
    "    tokens = [word for word in tokens if word not in stop_words]\n",
    "\n",
    "    # Step 4: 生成 bigrams（二元詞組）\n",
    "    bigrams = list(ngrams(tokens, 2))\n",
    "\n",
    "    return bigrams\n",
    "\n",
    "# 給定的文檔\n",
    "corpus = [\n",
    "    \"Sleepless nights in the lab have become my new normal. I tried to fix the experiment setup, but the apparatus seems to have a mind of its own. My advisor says results are just around the corner, but the corner keeps moving. Coffee is my only true companion these days.\",\n",
    "    \"I thought grad school would be intellectually stimulating, but it's mostly paperwork and waiting for emails. The departmental printer jammed again, and now I'm late for a meeting. The cafeteria ran out of the good snacks, so I'm surviving on vending machine chips. Sleep has become a luxury I can no longer afford.\",\n",
    "    \"Writing the dissertation feels like climbing an endless mountain. Every time I finish a chapter, my supervisor suggests new revisions. The impostor syndrome is real, and I wonder if they made a mistake accepting me. Maybe I should have gone to clown college instead. I am utterly deprived of any semblance of a normal life.\",\n",
    "    \"My research data got corrupted, and now I have to start over. The lab mouse escaped, and we spent hours trying to find it. The grant proposal deadline is tomorrow, and the online submission portal is down. At least my pet cactus hasn't died yet.\",\n",
    "    \"The group meeting turned into a three-hour debate over font choices for the presentation. I'm pretty sure my colleague is stealing my lunch from the fridge. The photocopier is out to get me; it never works when I'm in a hurry. Is there a PhD in napping? Because I'd ace that.\",\n",
    "    \"I haven't seen the sun in days due to endless coding sessions. The simulation keeps crashing, and Stack Overflow doesn't have the answers. My roommate thinks I'm a ghost haunting the apartment. Instant noodles have become my primary food group.\",\n",
    "    \"Attending conferences sounded fun until I realized they involve a lot of awkward networking. I accidentally spilled coffee on a famous professor's shoes. My poster fell down twice during the session. Next time, I'll just send a cardboard cutout of myself.\",\n",
    "    \"The university gym membership was supposed to keep me healthy, but I've only used it once. I tried to attend a yoga class after staying up late for a deadline, but I fell asleep during the meditation. Maybe instead of the gym, my bed is more essential for keeping me healthy.\",\n",
    "    \"My teaching assistantship involves grading endless stacks of exams. Students keep emailing me for extensions with creative excuses. One claimed their dog sleeps on the laptop so they cannot use it for the exam. I was deprived of excuses for not completing my dissertation draft, and I might have got some good ones.\",\n",
    "    \"Group projects are the worst when you're the only one doing the work. My team members are as elusive as Bigfoot. The project is due next week, and I haven't heard from them. Perhaps I should just write a paper on the sociological implications of group work avoidance.\"\n",
    "]\n",
    "\n",
    "# 應用預處理到查詢和文檔\n",
    "preprocessed_corpus = [preprocess_text(doc) for doc in corpus]\n",
    "\n",
    "# 打印預處理後的結果\n",
    "for idx, doc in enumerate(preprocessed_corpus):\n",
    "    print(f\"Document {idx+1} Bigrams:\\n{doc}\\n\")\n"
   ],
   "metadata": {
    "colab": {
     "base_uri": "https://localhost:8080/"
    },
    "id": "uwqG0zXKbsxR",
    "outputId": "f77f5ed3-0575-44ad-9ac5-1d1d59d2bf2d"
   },
   "id": "uwqG0zXKbsxR",
   "execution_count": 22,
   "outputs": [
    {
     "output_type": "stream",
     "name": "stdout",
     "text": [
      "Document 1 Bigrams:\n",
      "[('sleepless', 'nights'), ('nights', 'lab'), ('lab', 'become'), ('become', 'new'), ('new', 'normal'), ('normal', 'tried'), ('tried', 'fix'), ('fix', 'experiment'), ('experiment', 'setup'), ('setup', 'apparatus'), ('apparatus', 'seems'), ('seems', 'mind'), ('mind', 'advisor'), ('advisor', 'says'), ('says', 'results'), ('results', 'around'), ('around', 'corner'), ('corner', 'corner'), ('corner', 'keeps'), ('keeps', 'moving'), ('moving', 'coffee'), ('coffee', 'true'), ('true', 'companion'), ('companion', 'days')]\n",
      "\n",
      "Document 2 Bigrams:\n",
      "[('thought', 'grad'), ('grad', 'school'), ('school', 'would'), ('would', 'intellectually'), ('intellectually', 'stimulating'), ('stimulating', 'mostly'), ('mostly', 'paperwork'), ('paperwork', 'waiting'), ('waiting', 'emails'), ('emails', 'departmental'), ('departmental', 'printer'), ('printer', 'jammed'), ('jammed', 'late'), ('late', 'meeting'), ('meeting', 'cafeteria'), ('cafeteria', 'ran'), ('ran', 'good'), ('good', 'snacks'), ('snacks', 'surviving'), ('surviving', 'vending'), ('vending', 'machine'), ('machine', 'chips'), ('chips', 'sleep'), ('sleep', 'become'), ('become', 'luxury'), ('luxury', 'longer'), ('longer', 'afford')]\n",
      "\n",
      "Document 3 Bigrams:\n",
      "[('writing', 'dissertation'), ('dissertation', 'feels'), ('feels', 'like'), ('like', 'climbing'), ('climbing', 'endless'), ('endless', 'mountain'), ('mountain', 'every'), ('every', 'time'), ('time', 'finish'), ('finish', 'chapter'), ('chapter', 'supervisor'), ('supervisor', 'suggests'), ('suggests', 'new'), ('new', 'revisions'), ('revisions', 'impostor'), ('impostor', 'syndrome'), ('syndrome', 'real'), ('real', 'wonder'), ('wonder', 'made'), ('made', 'mistake'), ('mistake', 'accepting'), ('accepting', 'maybe'), ('maybe', 'gone'), ('gone', 'clown'), ('clown', 'college'), ('college', 'instead'), ('instead', 'utterly'), ('utterly', 'deprived'), ('deprived', 'semblance'), ('semblance', 'normal'), ('normal', 'life')]\n",
      "\n",
      "Document 4 Bigrams:\n",
      "[('research', 'data'), ('data', 'got'), ('got', 'corrupted'), ('corrupted', 'start'), ('start', 'lab'), ('lab', 'mouse'), ('mouse', 'escaped'), ('escaped', 'spent'), ('spent', 'hours'), ('hours', 'trying'), ('trying', 'find'), ('find', 'grant'), ('grant', 'proposal'), ('proposal', 'deadline'), ('deadline', 'tomorrow'), ('tomorrow', 'online'), ('online', 'submission'), ('submission', 'portal'), ('portal', 'least'), ('least', 'pet'), ('pet', 'cactus'), ('cactus', 'died'), ('died', 'yet')]\n",
      "\n",
      "Document 5 Bigrams:\n",
      "[('group', 'meeting'), ('meeting', 'turned'), ('turned', 'debate'), ('debate', 'font'), ('font', 'choices'), ('choices', 'presentation'), ('presentation', 'pretty'), ('pretty', 'sure'), ('sure', 'colleague'), ('colleague', 'stealing'), ('stealing', 'lunch'), ('lunch', 'fridge'), ('fridge', 'photocopier'), ('photocopier', 'get'), ('get', 'never'), ('never', 'works'), ('works', 'hurry'), ('hurry', 'phd'), ('phd', 'napping'), ('napping', 'ace')]\n",
      "\n",
      "Document 6 Bigrams:\n",
      "[('seen', 'sun'), ('sun', 'days'), ('days', 'due'), ('due', 'endless'), ('endless', 'coding'), ('coding', 'sessions'), ('sessions', 'simulation'), ('simulation', 'keeps'), ('keeps', 'crashing'), ('crashing', 'stack'), ('stack', 'overflow'), ('overflow', 'answers'), ('answers', 'roommate'), ('roommate', 'thinks'), ('thinks', 'ghost'), ('ghost', 'haunting'), ('haunting', 'apartment'), ('apartment', 'instant'), ('instant', 'noodles'), ('noodles', 'become'), ('become', 'primary'), ('primary', 'food'), ('food', 'group')]\n",
      "\n",
      "Document 7 Bigrams:\n",
      "[('attending', 'conferences'), ('conferences', 'sounded'), ('sounded', 'fun'), ('fun', 'realized'), ('realized', 'involve'), ('involve', 'lot'), ('lot', 'awkward'), ('awkward', 'networking'), ('networking', 'accidentally'), ('accidentally', 'spilled'), ('spilled', 'coffee'), ('coffee', 'famous'), ('famous', 'professor'), ('professor', 'shoes'), ('shoes', 'poster'), ('poster', 'fell'), ('fell', 'twice'), ('twice', 'session'), ('session', 'next'), ('next', 'time'), ('time', 'send'), ('send', 'cardboard'), ('cardboard', 'cutout')]\n",
      "\n",
      "Document 8 Bigrams:\n",
      "[('university', 'gym'), ('gym', 'membership'), ('membership', 'supposed'), ('supposed', 'keep'), ('keep', 'healthy'), ('healthy', 'used'), ('used', 'tried'), ('tried', 'attend'), ('attend', 'yoga'), ('yoga', 'class'), ('class', 'staying'), ('staying', 'late'), ('late', 'deadline'), ('deadline', 'fell'), ('fell', 'asleep'), ('asleep', 'meditation'), ('meditation', 'maybe'), ('maybe', 'instead'), ('instead', 'gym'), ('gym', 'bed'), ('bed', 'essential'), ('essential', 'keeping'), ('keeping', 'healthy')]\n",
      "\n",
      "Document 9 Bigrams:\n",
      "[('teaching', 'assistantship'), ('assistantship', 'involves'), ('involves', 'grading'), ('grading', 'endless'), ('endless', 'stacks'), ('stacks', 'exams'), ('exams', 'students'), ('students', 'keep'), ('keep', 'emailing'), ('emailing', 'extensions'), ('extensions', 'creative'), ('creative', 'excuses'), ('excuses', 'one'), ('one', 'claimed'), ('claimed', 'dog'), ('dog', 'sleeps'), ('sleeps', 'laptop'), ('laptop', 'use'), ('use', 'exam'), ('exam', 'deprived'), ('deprived', 'excuses'), ('excuses', 'completing'), ('completing', 'dissertation'), ('dissertation', 'draft'), ('draft', 'might'), ('might', 'got'), ('got', 'good'), ('good', 'ones')]\n",
      "\n",
      "Document 10 Bigrams:\n",
      "[('group', 'projects'), ('projects', 'worst'), ('worst', 'one'), ('one', 'work'), ('work', 'team'), ('team', 'members'), ('members', 'elusive'), ('elusive', 'bigfoot'), ('bigfoot', 'project'), ('project', 'due'), ('due', 'next'), ('next', 'week'), ('week', 'heard'), ('heard', 'perhaps'), ('perhaps', 'write'), ('write', 'paper'), ('paper', 'sociological'), ('sociological', 'implications'), ('implications', 'group'), ('group', 'work'), ('work', 'avoidance')]\n",
      "\n"
     ]
    },
    {
     "output_type": "stream",
     "name": "stderr",
     "text": [
      "[nltk_data] Downloading package punkt to /root/nltk_data...\n",
      "[nltk_data]   Package punkt is already up-to-date!\n",
      "[nltk_data] Downloading package stopwords to /root/nltk_data...\n",
      "[nltk_data]   Package stopwords is already up-to-date!\n"
     ]
    }
   ]
  },
  {
   "cell_type": "code",
   "source": [
    "import math\n",
    "from collections import defaultdict\n",
    "from nltk import word_tokenize\n",
    "from nltk.util import ngrams\n",
    "\n",
    "# 假設我們已經預處理了文檔和查詢（bigrams）\n",
    "preprocessed_query = preprocess_text(query)  # 查詢文本\n",
    "preprocessed_corpus = [preprocess_text(doc) for doc in corpus]  # 文檔語料\n",
    "\n",
    "# Step 1: 計算TF（Term Frequency）\n",
    "def compute_tf(doc):\n",
    "    tf_dict = {}\n",
    "    for word in doc:\n",
    "        tf_dict[word] = tf_dict.get(word, 0) + 1\n",
    "    total_terms = len(doc)\n",
    "    for word in tf_dict:\n",
    "        tf_dict[word] = tf_dict[word] / total_terms\n",
    "    return tf_dict\n",
    "\n",
    "tf_corpus = [compute_tf(doc) for doc in preprocessed_corpus]  # 計算每篇文檔的TF\n",
    "\n",
    "# 打印每篇文檔的TF\n",
    "print(\"TF for each document:\")\n",
    "for idx, tf in enumerate(tf_corpus):\n",
    "    print(f\"Document {idx+1}: {tf}\\n\")\n",
    "\n",
    "# Step 2: 計算IDF（Inverse Document Frequency）\n",
    "def compute_idf(corpus):\n",
    "    N = len(corpus)  # 文檔總數\n",
    "    idf_dict = defaultdict(int)\n",
    "    for doc in corpus:\n",
    "        for word in set(doc):  # 使用set避免重複計算\n",
    "            idf_dict[word] += 1\n",
    "    for word in idf_dict:\n",
    "        idf_dict[word] = math.log(N / (idf_dict[word])) + 1  # 使用平滑處理\n",
    "    return idf_dict\n",
    "\n",
    "idf_dict = compute_idf(preprocessed_corpus)  # 計算語料庫的IDF\n",
    "\n",
    "# 打印IDF\n",
    "print(\"\\nIDF for the corpus:\")\n",
    "for word, idf in idf_dict.items():\n",
    "    print(f\"{word}: {idf}\")\n",
    "\n",
    "# Step 3: 計算TF-IDF\n",
    "def compute_tfidf(tf_doc, idf_dict):\n",
    "    tfidf_dict = {}\n",
    "    for word, tf_value in tf_doc.items():\n",
    "        tfidf_dict[word] = tf_value * idf_dict.get(word, 0)\n",
    "    return tfidf_dict\n",
    "\n",
    "tfidf_corpus = [compute_tfidf(tf, idf_dict) for tf in tf_corpus]  # 計算每篇文檔的TF-IDF\n",
    "\n",
    "# 打印每篇文檔的TF-IDF\n",
    "print(\"\\nTF-IDF for each document:\")\n",
    "for idx, tfidf in enumerate(tfidf_corpus):\n",
    "    print(f\"Document {idx+1}: {tfidf}\\n\")\n",
    "\n",
    "# Step 4: 計算查詢的TF-IDF\n",
    "tf_query = compute_tf(preprocessed_query)  # 計算查詢的TF\n",
    "tfidf_query = compute_tfidf(tf_query, idf_dict)  # 計算查詢的TF-IDF\n",
    "\n",
    "# 打印查詢的TF-IDF\n",
    "print(\"\\nTF-IDF for the query:\")\n",
    "print(tfidf_query)\n",
    "\n",
    "# Step 5: 計算餘弦相似度\n",
    "def cosine_similarity(vec1, vec2):\n",
    "    dot_product = sum(vec1.get(word, 0) * vec2.get(word, 0) for word in vec1)\n",
    "    magnitude1 = math.sqrt(sum([value ** 2 for value in vec1.values()]))\n",
    "    magnitude2 = math.sqrt(sum([value ** 2 for value in vec2.values()]))\n",
    "\n",
    "    if not magnitude1 or not magnitude2:\n",
    "        return 0.0\n",
    "    return dot_product / (magnitude1 * magnitude2)\n",
    "\n",
    "# 計算每篇文檔與查詢之間的餘弦相似度\n",
    "rankings = []\n",
    "for idx, tfidf_doc in enumerate(tfidf_corpus):\n",
    "    score = cosine_similarity(tfidf_doc, tfidf_query)\n",
    "    rankings.append((idx + 1, score))\n",
    "\n",
    "# 根據相似度排序\n",
    "rankings = sorted(rankings, key=lambda x: x[1], reverse=True)\n",
    "\n",
    "# 打印文檔的相似度排名\n",
    "print(\"\\nDocument Rankings based on Query:\")\n",
    "for rank, (doc_idx, score) in enumerate(rankings, start=1):\n",
    "    print(f\"Rank {rank}: Document {doc_idx} with score {score}\")\n"
   ],
   "metadata": {
    "colab": {
     "base_uri": "https://localhost:8080/"
    },
    "id": "Lrd3-IybcsBu",
    "outputId": "1885deab-fdcb-47cb-881b-cbfad49722e8"
   },
   "id": "Lrd3-IybcsBu",
   "execution_count": 23,
   "outputs": [
    {
     "output_type": "stream",
     "name": "stdout",
     "text": [
      "TF for each document:\n",
      "Document 1: {('sleepless', 'nights'): 0.041666666666666664, ('nights', 'lab'): 0.041666666666666664, ('lab', 'become'): 0.041666666666666664, ('become', 'new'): 0.041666666666666664, ('new', 'normal'): 0.041666666666666664, ('normal', 'tried'): 0.041666666666666664, ('tried', 'fix'): 0.041666666666666664, ('fix', 'experiment'): 0.041666666666666664, ('experiment', 'setup'): 0.041666666666666664, ('setup', 'apparatus'): 0.041666666666666664, ('apparatus', 'seems'): 0.041666666666666664, ('seems', 'mind'): 0.041666666666666664, ('mind', 'advisor'): 0.041666666666666664, ('advisor', 'says'): 0.041666666666666664, ('says', 'results'): 0.041666666666666664, ('results', 'around'): 0.041666666666666664, ('around', 'corner'): 0.041666666666666664, ('corner', 'corner'): 0.041666666666666664, ('corner', 'keeps'): 0.041666666666666664, ('keeps', 'moving'): 0.041666666666666664, ('moving', 'coffee'): 0.041666666666666664, ('coffee', 'true'): 0.041666666666666664, ('true', 'companion'): 0.041666666666666664, ('companion', 'days'): 0.041666666666666664}\n",
      "\n",
      "Document 2: {('thought', 'grad'): 0.037037037037037035, ('grad', 'school'): 0.037037037037037035, ('school', 'would'): 0.037037037037037035, ('would', 'intellectually'): 0.037037037037037035, ('intellectually', 'stimulating'): 0.037037037037037035, ('stimulating', 'mostly'): 0.037037037037037035, ('mostly', 'paperwork'): 0.037037037037037035, ('paperwork', 'waiting'): 0.037037037037037035, ('waiting', 'emails'): 0.037037037037037035, ('emails', 'departmental'): 0.037037037037037035, ('departmental', 'printer'): 0.037037037037037035, ('printer', 'jammed'): 0.037037037037037035, ('jammed', 'late'): 0.037037037037037035, ('late', 'meeting'): 0.037037037037037035, ('meeting', 'cafeteria'): 0.037037037037037035, ('cafeteria', 'ran'): 0.037037037037037035, ('ran', 'good'): 0.037037037037037035, ('good', 'snacks'): 0.037037037037037035, ('snacks', 'surviving'): 0.037037037037037035, ('surviving', 'vending'): 0.037037037037037035, ('vending', 'machine'): 0.037037037037037035, ('machine', 'chips'): 0.037037037037037035, ('chips', 'sleep'): 0.037037037037037035, ('sleep', 'become'): 0.037037037037037035, ('become', 'luxury'): 0.037037037037037035, ('luxury', 'longer'): 0.037037037037037035, ('longer', 'afford'): 0.037037037037037035}\n",
      "\n",
      "Document 3: {('writing', 'dissertation'): 0.03225806451612903, ('dissertation', 'feels'): 0.03225806451612903, ('feels', 'like'): 0.03225806451612903, ('like', 'climbing'): 0.03225806451612903, ('climbing', 'endless'): 0.03225806451612903, ('endless', 'mountain'): 0.03225806451612903, ('mountain', 'every'): 0.03225806451612903, ('every', 'time'): 0.03225806451612903, ('time', 'finish'): 0.03225806451612903, ('finish', 'chapter'): 0.03225806451612903, ('chapter', 'supervisor'): 0.03225806451612903, ('supervisor', 'suggests'): 0.03225806451612903, ('suggests', 'new'): 0.03225806451612903, ('new', 'revisions'): 0.03225806451612903, ('revisions', 'impostor'): 0.03225806451612903, ('impostor', 'syndrome'): 0.03225806451612903, ('syndrome', 'real'): 0.03225806451612903, ('real', 'wonder'): 0.03225806451612903, ('wonder', 'made'): 0.03225806451612903, ('made', 'mistake'): 0.03225806451612903, ('mistake', 'accepting'): 0.03225806451612903, ('accepting', 'maybe'): 0.03225806451612903, ('maybe', 'gone'): 0.03225806451612903, ('gone', 'clown'): 0.03225806451612903, ('clown', 'college'): 0.03225806451612903, ('college', 'instead'): 0.03225806451612903, ('instead', 'utterly'): 0.03225806451612903, ('utterly', 'deprived'): 0.03225806451612903, ('deprived', 'semblance'): 0.03225806451612903, ('semblance', 'normal'): 0.03225806451612903, ('normal', 'life'): 0.03225806451612903}\n",
      "\n",
      "Document 4: {('research', 'data'): 0.043478260869565216, ('data', 'got'): 0.043478260869565216, ('got', 'corrupted'): 0.043478260869565216, ('corrupted', 'start'): 0.043478260869565216, ('start', 'lab'): 0.043478260869565216, ('lab', 'mouse'): 0.043478260869565216, ('mouse', 'escaped'): 0.043478260869565216, ('escaped', 'spent'): 0.043478260869565216, ('spent', 'hours'): 0.043478260869565216, ('hours', 'trying'): 0.043478260869565216, ('trying', 'find'): 0.043478260869565216, ('find', 'grant'): 0.043478260869565216, ('grant', 'proposal'): 0.043478260869565216, ('proposal', 'deadline'): 0.043478260869565216, ('deadline', 'tomorrow'): 0.043478260869565216, ('tomorrow', 'online'): 0.043478260869565216, ('online', 'submission'): 0.043478260869565216, ('submission', 'portal'): 0.043478260869565216, ('portal', 'least'): 0.043478260869565216, ('least', 'pet'): 0.043478260869565216, ('pet', 'cactus'): 0.043478260869565216, ('cactus', 'died'): 0.043478260869565216, ('died', 'yet'): 0.043478260869565216}\n",
      "\n",
      "Document 5: {('group', 'meeting'): 0.05, ('meeting', 'turned'): 0.05, ('turned', 'debate'): 0.05, ('debate', 'font'): 0.05, ('font', 'choices'): 0.05, ('choices', 'presentation'): 0.05, ('presentation', 'pretty'): 0.05, ('pretty', 'sure'): 0.05, ('sure', 'colleague'): 0.05, ('colleague', 'stealing'): 0.05, ('stealing', 'lunch'): 0.05, ('lunch', 'fridge'): 0.05, ('fridge', 'photocopier'): 0.05, ('photocopier', 'get'): 0.05, ('get', 'never'): 0.05, ('never', 'works'): 0.05, ('works', 'hurry'): 0.05, ('hurry', 'phd'): 0.05, ('phd', 'napping'): 0.05, ('napping', 'ace'): 0.05}\n",
      "\n",
      "Document 6: {('seen', 'sun'): 0.043478260869565216, ('sun', 'days'): 0.043478260869565216, ('days', 'due'): 0.043478260869565216, ('due', 'endless'): 0.043478260869565216, ('endless', 'coding'): 0.043478260869565216, ('coding', 'sessions'): 0.043478260869565216, ('sessions', 'simulation'): 0.043478260869565216, ('simulation', 'keeps'): 0.043478260869565216, ('keeps', 'crashing'): 0.043478260869565216, ('crashing', 'stack'): 0.043478260869565216, ('stack', 'overflow'): 0.043478260869565216, ('overflow', 'answers'): 0.043478260869565216, ('answers', 'roommate'): 0.043478260869565216, ('roommate', 'thinks'): 0.043478260869565216, ('thinks', 'ghost'): 0.043478260869565216, ('ghost', 'haunting'): 0.043478260869565216, ('haunting', 'apartment'): 0.043478260869565216, ('apartment', 'instant'): 0.043478260869565216, ('instant', 'noodles'): 0.043478260869565216, ('noodles', 'become'): 0.043478260869565216, ('become', 'primary'): 0.043478260869565216, ('primary', 'food'): 0.043478260869565216, ('food', 'group'): 0.043478260869565216}\n",
      "\n",
      "Document 7: {('attending', 'conferences'): 0.043478260869565216, ('conferences', 'sounded'): 0.043478260869565216, ('sounded', 'fun'): 0.043478260869565216, ('fun', 'realized'): 0.043478260869565216, ('realized', 'involve'): 0.043478260869565216, ('involve', 'lot'): 0.043478260869565216, ('lot', 'awkward'): 0.043478260869565216, ('awkward', 'networking'): 0.043478260869565216, ('networking', 'accidentally'): 0.043478260869565216, ('accidentally', 'spilled'): 0.043478260869565216, ('spilled', 'coffee'): 0.043478260869565216, ('coffee', 'famous'): 0.043478260869565216, ('famous', 'professor'): 0.043478260869565216, ('professor', 'shoes'): 0.043478260869565216, ('shoes', 'poster'): 0.043478260869565216, ('poster', 'fell'): 0.043478260869565216, ('fell', 'twice'): 0.043478260869565216, ('twice', 'session'): 0.043478260869565216, ('session', 'next'): 0.043478260869565216, ('next', 'time'): 0.043478260869565216, ('time', 'send'): 0.043478260869565216, ('send', 'cardboard'): 0.043478260869565216, ('cardboard', 'cutout'): 0.043478260869565216}\n",
      "\n",
      "Document 8: {('university', 'gym'): 0.043478260869565216, ('gym', 'membership'): 0.043478260869565216, ('membership', 'supposed'): 0.043478260869565216, ('supposed', 'keep'): 0.043478260869565216, ('keep', 'healthy'): 0.043478260869565216, ('healthy', 'used'): 0.043478260869565216, ('used', 'tried'): 0.043478260869565216, ('tried', 'attend'): 0.043478260869565216, ('attend', 'yoga'): 0.043478260869565216, ('yoga', 'class'): 0.043478260869565216, ('class', 'staying'): 0.043478260869565216, ('staying', 'late'): 0.043478260869565216, ('late', 'deadline'): 0.043478260869565216, ('deadline', 'fell'): 0.043478260869565216, ('fell', 'asleep'): 0.043478260869565216, ('asleep', 'meditation'): 0.043478260869565216, ('meditation', 'maybe'): 0.043478260869565216, ('maybe', 'instead'): 0.043478260869565216, ('instead', 'gym'): 0.043478260869565216, ('gym', 'bed'): 0.043478260869565216, ('bed', 'essential'): 0.043478260869565216, ('essential', 'keeping'): 0.043478260869565216, ('keeping', 'healthy'): 0.043478260869565216}\n",
      "\n",
      "Document 9: {('teaching', 'assistantship'): 0.03571428571428571, ('assistantship', 'involves'): 0.03571428571428571, ('involves', 'grading'): 0.03571428571428571, ('grading', 'endless'): 0.03571428571428571, ('endless', 'stacks'): 0.03571428571428571, ('stacks', 'exams'): 0.03571428571428571, ('exams', 'students'): 0.03571428571428571, ('students', 'keep'): 0.03571428571428571, ('keep', 'emailing'): 0.03571428571428571, ('emailing', 'extensions'): 0.03571428571428571, ('extensions', 'creative'): 0.03571428571428571, ('creative', 'excuses'): 0.03571428571428571, ('excuses', 'one'): 0.03571428571428571, ('one', 'claimed'): 0.03571428571428571, ('claimed', 'dog'): 0.03571428571428571, ('dog', 'sleeps'): 0.03571428571428571, ('sleeps', 'laptop'): 0.03571428571428571, ('laptop', 'use'): 0.03571428571428571, ('use', 'exam'): 0.03571428571428571, ('exam', 'deprived'): 0.03571428571428571, ('deprived', 'excuses'): 0.03571428571428571, ('excuses', 'completing'): 0.03571428571428571, ('completing', 'dissertation'): 0.03571428571428571, ('dissertation', 'draft'): 0.03571428571428571, ('draft', 'might'): 0.03571428571428571, ('might', 'got'): 0.03571428571428571, ('got', 'good'): 0.03571428571428571, ('good', 'ones'): 0.03571428571428571}\n",
      "\n",
      "Document 10: {('group', 'projects'): 0.047619047619047616, ('projects', 'worst'): 0.047619047619047616, ('worst', 'one'): 0.047619047619047616, ('one', 'work'): 0.047619047619047616, ('work', 'team'): 0.047619047619047616, ('team', 'members'): 0.047619047619047616, ('members', 'elusive'): 0.047619047619047616, ('elusive', 'bigfoot'): 0.047619047619047616, ('bigfoot', 'project'): 0.047619047619047616, ('project', 'due'): 0.047619047619047616, ('due', 'next'): 0.047619047619047616, ('next', 'week'): 0.047619047619047616, ('week', 'heard'): 0.047619047619047616, ('heard', 'perhaps'): 0.047619047619047616, ('perhaps', 'write'): 0.047619047619047616, ('write', 'paper'): 0.047619047619047616, ('paper', 'sociological'): 0.047619047619047616, ('sociological', 'implications'): 0.047619047619047616, ('implications', 'group'): 0.047619047619047616, ('group', 'work'): 0.047619047619047616, ('work', 'avoidance'): 0.047619047619047616}\n",
      "\n",
      "\n",
      "IDF for the corpus:\n",
      "('experiment', 'setup'): 3.302585092994046\n",
      "('around', 'corner'): 3.302585092994046\n",
      "('results', 'around'): 3.302585092994046\n",
      "('nights', 'lab'): 3.302585092994046\n",
      "('tried', 'fix'): 3.302585092994046\n",
      "('fix', 'experiment'): 3.302585092994046\n",
      "('true', 'companion'): 3.302585092994046\n",
      "('normal', 'tried'): 3.302585092994046\n",
      "('lab', 'become'): 3.302585092994046\n",
      "('says', 'results'): 3.302585092994046\n",
      "('setup', 'apparatus'): 3.302585092994046\n",
      "('seems', 'mind'): 3.302585092994046\n",
      "('mind', 'advisor'): 3.302585092994046\n",
      "('new', 'normal'): 3.302585092994046\n",
      "('advisor', 'says'): 3.302585092994046\n",
      "('become', 'new'): 3.302585092994046\n",
      "('apparatus', 'seems'): 3.302585092994046\n",
      "('keeps', 'moving'): 3.302585092994046\n",
      "('sleepless', 'nights'): 3.302585092994046\n",
      "('corner', 'keeps'): 3.302585092994046\n",
      "('companion', 'days'): 3.302585092994046\n",
      "('moving', 'coffee'): 3.302585092994046\n",
      "('corner', 'corner'): 3.302585092994046\n",
      "('coffee', 'true'): 3.302585092994046\n",
      "('sleep', 'become'): 3.302585092994046\n",
      "('school', 'would'): 3.302585092994046\n",
      "('mostly', 'paperwork'): 3.302585092994046\n",
      "('snacks', 'surviving'): 3.302585092994046\n",
      "('meeting', 'cafeteria'): 3.302585092994046\n",
      "('printer', 'jammed'): 3.302585092994046\n",
      "('luxury', 'longer'): 3.302585092994046\n",
      "('thought', 'grad'): 3.302585092994046\n",
      "('machine', 'chips'): 3.302585092994046\n",
      "('paperwork', 'waiting'): 3.302585092994046\n",
      "('departmental', 'printer'): 3.302585092994046\n",
      "('stimulating', 'mostly'): 3.302585092994046\n",
      "('jammed', 'late'): 3.302585092994046\n",
      "('surviving', 'vending'): 3.302585092994046\n",
      "('emails', 'departmental'): 3.302585092994046\n",
      "('grad', 'school'): 3.302585092994046\n",
      "('chips', 'sleep'): 3.302585092994046\n",
      "('intellectually', 'stimulating'): 3.302585092994046\n",
      "('would', 'intellectually'): 3.302585092994046\n",
      "('longer', 'afford'): 3.302585092994046\n",
      "('late', 'meeting'): 3.302585092994046\n",
      "('good', 'snacks'): 3.302585092994046\n",
      "('waiting', 'emails'): 3.302585092994046\n",
      "('cafeteria', 'ran'): 3.302585092994046\n",
      "('vending', 'machine'): 3.302585092994046\n",
      "('ran', 'good'): 3.302585092994046\n",
      "('become', 'luxury'): 3.302585092994046\n",
      "('like', 'climbing'): 3.302585092994046\n",
      "('time', 'finish'): 3.302585092994046\n",
      "('new', 'revisions'): 3.302585092994046\n",
      "('endless', 'mountain'): 3.302585092994046\n",
      "('semblance', 'normal'): 3.302585092994046\n",
      "('accepting', 'maybe'): 3.302585092994046\n",
      "('mountain', 'every'): 3.302585092994046\n",
      "('chapter', 'supervisor'): 3.302585092994046\n",
      "('climbing', 'endless'): 3.302585092994046\n",
      "('utterly', 'deprived'): 3.302585092994046\n",
      "('feels', 'like'): 3.302585092994046\n",
      "('writing', 'dissertation'): 3.302585092994046\n",
      "('maybe', 'gone'): 3.302585092994046\n",
      "('revisions', 'impostor'): 3.302585092994046\n",
      "('college', 'instead'): 3.302585092994046\n",
      "('syndrome', 'real'): 3.302585092994046\n",
      "('mistake', 'accepting'): 3.302585092994046\n",
      "('normal', 'life'): 3.302585092994046\n",
      "('instead', 'utterly'): 3.302585092994046\n",
      "('gone', 'clown'): 3.302585092994046\n",
      "('deprived', 'semblance'): 3.302585092994046\n",
      "('wonder', 'made'): 3.302585092994046\n",
      "('real', 'wonder'): 3.302585092994046\n",
      "('clown', 'college'): 3.302585092994046\n",
      "('made', 'mistake'): 3.302585092994046\n",
      "('finish', 'chapter'): 3.302585092994046\n",
      "('suggests', 'new'): 3.302585092994046\n",
      "('every', 'time'): 3.302585092994046\n",
      "('impostor', 'syndrome'): 3.302585092994046\n",
      "('dissertation', 'feels'): 3.302585092994046\n",
      "('supervisor', 'suggests'): 3.302585092994046\n",
      "('corrupted', 'start'): 3.302585092994046\n",
      "('escaped', 'spent'): 3.302585092994046\n",
      "('data', 'got'): 3.302585092994046\n",
      "('least', 'pet'): 3.302585092994046\n",
      "('got', 'corrupted'): 3.302585092994046\n",
      "('online', 'submission'): 3.302585092994046\n",
      "('pet', 'cactus'): 3.302585092994046\n",
      "('trying', 'find'): 3.302585092994046\n",
      "('proposal', 'deadline'): 3.302585092994046\n",
      "('died', 'yet'): 3.302585092994046\n",
      "('hours', 'trying'): 3.302585092994046\n",
      "('start', 'lab'): 3.302585092994046\n",
      "('research', 'data'): 3.302585092994046\n",
      "('find', 'grant'): 3.302585092994046\n",
      "('mouse', 'escaped'): 3.302585092994046\n",
      "('deadline', 'tomorrow'): 3.302585092994046\n",
      "('spent', 'hours'): 3.302585092994046\n",
      "('portal', 'least'): 3.302585092994046\n",
      "('grant', 'proposal'): 3.302585092994046\n",
      "('tomorrow', 'online'): 3.302585092994046\n",
      "('cactus', 'died'): 3.302585092994046\n",
      "('lab', 'mouse'): 3.302585092994046\n",
      "('submission', 'portal'): 3.302585092994046\n",
      "('fridge', 'photocopier'): 3.302585092994046\n",
      "('lunch', 'fridge'): 3.302585092994046\n",
      "('sure', 'colleague'): 3.302585092994046\n",
      "('group', 'meeting'): 3.302585092994046\n",
      "('font', 'choices'): 3.302585092994046\n",
      "('choices', 'presentation'): 3.302585092994046\n",
      "('get', 'never'): 3.302585092994046\n",
      "('never', 'works'): 3.302585092994046\n",
      "('presentation', 'pretty'): 3.302585092994046\n",
      "('napping', 'ace'): 3.302585092994046\n",
      "('phd', 'napping'): 3.302585092994046\n",
      "('works', 'hurry'): 3.302585092994046\n",
      "('debate', 'font'): 3.302585092994046\n",
      "('hurry', 'phd'): 3.302585092994046\n",
      "('colleague', 'stealing'): 3.302585092994046\n",
      "('pretty', 'sure'): 3.302585092994046\n",
      "('meeting', 'turned'): 3.302585092994046\n",
      "('photocopier', 'get'): 3.302585092994046\n",
      "('turned', 'debate'): 3.302585092994046\n",
      "('stealing', 'lunch'): 3.302585092994046\n",
      "('overflow', 'answers'): 3.302585092994046\n",
      "('food', 'group'): 3.302585092994046\n",
      "('due', 'endless'): 3.302585092994046\n",
      "('thinks', 'ghost'): 3.302585092994046\n",
      "('noodles', 'become'): 3.302585092994046\n",
      "('apartment', 'instant'): 3.302585092994046\n",
      "('primary', 'food'): 3.302585092994046\n",
      "('instant', 'noodles'): 3.302585092994046\n",
      "('answers', 'roommate'): 3.302585092994046\n",
      "('sun', 'days'): 3.302585092994046\n",
      "('crashing', 'stack'): 3.302585092994046\n",
      "('endless', 'coding'): 3.302585092994046\n",
      "('become', 'primary'): 3.302585092994046\n",
      "('keeps', 'crashing'): 3.302585092994046\n",
      "('simulation', 'keeps'): 3.302585092994046\n",
      "('seen', 'sun'): 3.302585092994046\n",
      "('coding', 'sessions'): 3.302585092994046\n",
      "('days', 'due'): 3.302585092994046\n",
      "('sessions', 'simulation'): 3.302585092994046\n",
      "('roommate', 'thinks'): 3.302585092994046\n",
      "('stack', 'overflow'): 3.302585092994046\n",
      "('haunting', 'apartment'): 3.302585092994046\n",
      "('ghost', 'haunting'): 3.302585092994046\n",
      "('cardboard', 'cutout'): 3.302585092994046\n",
      "('involve', 'lot'): 3.302585092994046\n",
      "('lot', 'awkward'): 3.302585092994046\n",
      "('spilled', 'coffee'): 3.302585092994046\n",
      "('sounded', 'fun'): 3.302585092994046\n",
      "('accidentally', 'spilled'): 3.302585092994046\n",
      "('shoes', 'poster'): 3.302585092994046\n",
      "('session', 'next'): 3.302585092994046\n",
      "('networking', 'accidentally'): 3.302585092994046\n",
      "('professor', 'shoes'): 3.302585092994046\n",
      "('famous', 'professor'): 3.302585092994046\n",
      "('awkward', 'networking'): 3.302585092994046\n",
      "('time', 'send'): 3.302585092994046\n",
      "('realized', 'involve'): 3.302585092994046\n",
      "('next', 'time'): 3.302585092994046\n",
      "('fun', 'realized'): 3.302585092994046\n",
      "('attending', 'conferences'): 3.302585092994046\n",
      "('send', 'cardboard'): 3.302585092994046\n",
      "('coffee', 'famous'): 3.302585092994046\n",
      "('poster', 'fell'): 3.302585092994046\n",
      "('fell', 'twice'): 3.302585092994046\n",
      "('conferences', 'sounded'): 3.302585092994046\n",
      "('twice', 'session'): 3.302585092994046\n",
      "('instead', 'gym'): 3.302585092994046\n",
      "('healthy', 'used'): 3.302585092994046\n",
      "('keeping', 'healthy'): 3.302585092994046\n",
      "('gym', 'bed'): 3.302585092994046\n",
      "('tried', 'attend'): 3.302585092994046\n",
      "('bed', 'essential'): 3.302585092994046\n",
      "('used', 'tried'): 3.302585092994046\n",
      "('supposed', 'keep'): 3.302585092994046\n",
      "('meditation', 'maybe'): 3.302585092994046\n",
      "('late', 'deadline'): 3.302585092994046\n",
      "('university', 'gym'): 3.302585092994046\n",
      "('attend', 'yoga'): 3.302585092994046\n",
      "('yoga', 'class'): 3.302585092994046\n",
      "('gym', 'membership'): 3.302585092994046\n",
      "('asleep', 'meditation'): 3.302585092994046\n",
      "('keep', 'healthy'): 3.302585092994046\n",
      "('fell', 'asleep'): 3.302585092994046\n",
      "('maybe', 'instead'): 3.302585092994046\n",
      "('class', 'staying'): 3.302585092994046\n",
      "('staying', 'late'): 3.302585092994046\n",
      "('membership', 'supposed'): 3.302585092994046\n",
      "('deadline', 'fell'): 3.302585092994046\n",
      "('essential', 'keeping'): 3.302585092994046\n",
      "('completing', 'dissertation'): 3.302585092994046\n",
      "('grading', 'endless'): 3.302585092994046\n",
      "('involves', 'grading'): 3.302585092994046\n",
      "('exam', 'deprived'): 3.302585092994046\n",
      "('dissertation', 'draft'): 3.302585092994046\n",
      "('got', 'good'): 3.302585092994046\n",
      "('assistantship', 'involves'): 3.302585092994046\n",
      "('endless', 'stacks'): 3.302585092994046\n",
      "('draft', 'might'): 3.302585092994046\n",
      "('deprived', 'excuses'): 3.302585092994046\n",
      "('exams', 'students'): 3.302585092994046\n",
      "('laptop', 'use'): 3.302585092994046\n",
      "('keep', 'emailing'): 3.302585092994046\n",
      "('extensions', 'creative'): 3.302585092994046\n",
      "('teaching', 'assistantship'): 3.302585092994046\n",
      "('use', 'exam'): 3.302585092994046\n",
      "('students', 'keep'): 3.302585092994046\n",
      "('excuses', 'one'): 3.302585092994046\n",
      "('excuses', 'completing'): 3.302585092994046\n",
      "('emailing', 'extensions'): 3.302585092994046\n",
      "('dog', 'sleeps'): 3.302585092994046\n",
      "('claimed', 'dog'): 3.302585092994046\n",
      "('creative', 'excuses'): 3.302585092994046\n",
      "('one', 'claimed'): 3.302585092994046\n",
      "('might', 'got'): 3.302585092994046\n",
      "('good', 'ones'): 3.302585092994046\n",
      "('sleeps', 'laptop'): 3.302585092994046\n",
      "('stacks', 'exams'): 3.302585092994046\n",
      "('implications', 'group'): 3.302585092994046\n",
      "('group', 'projects'): 3.302585092994046\n",
      "('project', 'due'): 3.302585092994046\n",
      "('worst', 'one'): 3.302585092994046\n",
      "('sociological', 'implications'): 3.302585092994046\n",
      "('bigfoot', 'project'): 3.302585092994046\n",
      "('elusive', 'bigfoot'): 3.302585092994046\n",
      "('members', 'elusive'): 3.302585092994046\n",
      "('work', 'team'): 3.302585092994046\n",
      "('due', 'next'): 3.302585092994046\n",
      "('heard', 'perhaps'): 3.302585092994046\n",
      "('write', 'paper'): 3.302585092994046\n",
      "('week', 'heard'): 3.302585092994046\n",
      "('group', 'work'): 3.302585092994046\n",
      "('perhaps', 'write'): 3.302585092994046\n",
      "('projects', 'worst'): 3.302585092994046\n",
      "('paper', 'sociological'): 3.302585092994046\n",
      "('team', 'members'): 3.302585092994046\n",
      "('work', 'avoidance'): 3.302585092994046\n",
      "('one', 'work'): 3.302585092994046\n",
      "('next', 'week'): 3.302585092994046\n",
      "\n",
      "TF-IDF for each document:\n",
      "Document 1: {('sleepless', 'nights'): 0.13760771220808524, ('nights', 'lab'): 0.13760771220808524, ('lab', 'become'): 0.13760771220808524, ('become', 'new'): 0.13760771220808524, ('new', 'normal'): 0.13760771220808524, ('normal', 'tried'): 0.13760771220808524, ('tried', 'fix'): 0.13760771220808524, ('fix', 'experiment'): 0.13760771220808524, ('experiment', 'setup'): 0.13760771220808524, ('setup', 'apparatus'): 0.13760771220808524, ('apparatus', 'seems'): 0.13760771220808524, ('seems', 'mind'): 0.13760771220808524, ('mind', 'advisor'): 0.13760771220808524, ('advisor', 'says'): 0.13760771220808524, ('says', 'results'): 0.13760771220808524, ('results', 'around'): 0.13760771220808524, ('around', 'corner'): 0.13760771220808524, ('corner', 'corner'): 0.13760771220808524, ('corner', 'keeps'): 0.13760771220808524, ('keeps', 'moving'): 0.13760771220808524, ('moving', 'coffee'): 0.13760771220808524, ('coffee', 'true'): 0.13760771220808524, ('true', 'companion'): 0.13760771220808524, ('companion', 'days'): 0.13760771220808524}\n",
      "\n",
      "Document 2: {('thought', 'grad'): 0.12231796640718688, ('grad', 'school'): 0.12231796640718688, ('school', 'would'): 0.12231796640718688, ('would', 'intellectually'): 0.12231796640718688, ('intellectually', 'stimulating'): 0.12231796640718688, ('stimulating', 'mostly'): 0.12231796640718688, ('mostly', 'paperwork'): 0.12231796640718688, ('paperwork', 'waiting'): 0.12231796640718688, ('waiting', 'emails'): 0.12231796640718688, ('emails', 'departmental'): 0.12231796640718688, ('departmental', 'printer'): 0.12231796640718688, ('printer', 'jammed'): 0.12231796640718688, ('jammed', 'late'): 0.12231796640718688, ('late', 'meeting'): 0.12231796640718688, ('meeting', 'cafeteria'): 0.12231796640718688, ('cafeteria', 'ran'): 0.12231796640718688, ('ran', 'good'): 0.12231796640718688, ('good', 'snacks'): 0.12231796640718688, ('snacks', 'surviving'): 0.12231796640718688, ('surviving', 'vending'): 0.12231796640718688, ('vending', 'machine'): 0.12231796640718688, ('machine', 'chips'): 0.12231796640718688, ('chips', 'sleep'): 0.12231796640718688, ('sleep', 'become'): 0.12231796640718688, ('become', 'luxury'): 0.12231796640718688, ('luxury', 'longer'): 0.12231796640718688, ('longer', 'afford'): 0.12231796640718688}\n",
      "\n",
      "Document 3: {('writing', 'dissertation'): 0.10653500299980793, ('dissertation', 'feels'): 0.10653500299980793, ('feels', 'like'): 0.10653500299980793, ('like', 'climbing'): 0.10653500299980793, ('climbing', 'endless'): 0.10653500299980793, ('endless', 'mountain'): 0.10653500299980793, ('mountain', 'every'): 0.10653500299980793, ('every', 'time'): 0.10653500299980793, ('time', 'finish'): 0.10653500299980793, ('finish', 'chapter'): 0.10653500299980793, ('chapter', 'supervisor'): 0.10653500299980793, ('supervisor', 'suggests'): 0.10653500299980793, ('suggests', 'new'): 0.10653500299980793, ('new', 'revisions'): 0.10653500299980793, ('revisions', 'impostor'): 0.10653500299980793, ('impostor', 'syndrome'): 0.10653500299980793, ('syndrome', 'real'): 0.10653500299980793, ('real', 'wonder'): 0.10653500299980793, ('wonder', 'made'): 0.10653500299980793, ('made', 'mistake'): 0.10653500299980793, ('mistake', 'accepting'): 0.10653500299980793, ('accepting', 'maybe'): 0.10653500299980793, ('maybe', 'gone'): 0.10653500299980793, ('gone', 'clown'): 0.10653500299980793, ('clown', 'college'): 0.10653500299980793, ('college', 'instead'): 0.10653500299980793, ('instead', 'utterly'): 0.10653500299980793, ('utterly', 'deprived'): 0.10653500299980793, ('deprived', 'semblance'): 0.10653500299980793, ('semblance', 'normal'): 0.10653500299980793, ('normal', 'life'): 0.10653500299980793}\n",
      "\n",
      "Document 4: {('research', 'data'): 0.14359065621713243, ('data', 'got'): 0.14359065621713243, ('got', 'corrupted'): 0.14359065621713243, ('corrupted', 'start'): 0.14359065621713243, ('start', 'lab'): 0.14359065621713243, ('lab', 'mouse'): 0.14359065621713243, ('mouse', 'escaped'): 0.14359065621713243, ('escaped', 'spent'): 0.14359065621713243, ('spent', 'hours'): 0.14359065621713243, ('hours', 'trying'): 0.14359065621713243, ('trying', 'find'): 0.14359065621713243, ('find', 'grant'): 0.14359065621713243, ('grant', 'proposal'): 0.14359065621713243, ('proposal', 'deadline'): 0.14359065621713243, ('deadline', 'tomorrow'): 0.14359065621713243, ('tomorrow', 'online'): 0.14359065621713243, ('online', 'submission'): 0.14359065621713243, ('submission', 'portal'): 0.14359065621713243, ('portal', 'least'): 0.14359065621713243, ('least', 'pet'): 0.14359065621713243, ('pet', 'cactus'): 0.14359065621713243, ('cactus', 'died'): 0.14359065621713243, ('died', 'yet'): 0.14359065621713243}\n",
      "\n",
      "Document 5: {('group', 'meeting'): 0.1651292546497023, ('meeting', 'turned'): 0.1651292546497023, ('turned', 'debate'): 0.1651292546497023, ('debate', 'font'): 0.1651292546497023, ('font', 'choices'): 0.1651292546497023, ('choices', 'presentation'): 0.1651292546497023, ('presentation', 'pretty'): 0.1651292546497023, ('pretty', 'sure'): 0.1651292546497023, ('sure', 'colleague'): 0.1651292546497023, ('colleague', 'stealing'): 0.1651292546497023, ('stealing', 'lunch'): 0.1651292546497023, ('lunch', 'fridge'): 0.1651292546497023, ('fridge', 'photocopier'): 0.1651292546497023, ('photocopier', 'get'): 0.1651292546497023, ('get', 'never'): 0.1651292546497023, ('never', 'works'): 0.1651292546497023, ('works', 'hurry'): 0.1651292546497023, ('hurry', 'phd'): 0.1651292546497023, ('phd', 'napping'): 0.1651292546497023, ('napping', 'ace'): 0.1651292546497023}\n",
      "\n",
      "Document 6: {('seen', 'sun'): 0.14359065621713243, ('sun', 'days'): 0.14359065621713243, ('days', 'due'): 0.14359065621713243, ('due', 'endless'): 0.14359065621713243, ('endless', 'coding'): 0.14359065621713243, ('coding', 'sessions'): 0.14359065621713243, ('sessions', 'simulation'): 0.14359065621713243, ('simulation', 'keeps'): 0.14359065621713243, ('keeps', 'crashing'): 0.14359065621713243, ('crashing', 'stack'): 0.14359065621713243, ('stack', 'overflow'): 0.14359065621713243, ('overflow', 'answers'): 0.14359065621713243, ('answers', 'roommate'): 0.14359065621713243, ('roommate', 'thinks'): 0.14359065621713243, ('thinks', 'ghost'): 0.14359065621713243, ('ghost', 'haunting'): 0.14359065621713243, ('haunting', 'apartment'): 0.14359065621713243, ('apartment', 'instant'): 0.14359065621713243, ('instant', 'noodles'): 0.14359065621713243, ('noodles', 'become'): 0.14359065621713243, ('become', 'primary'): 0.14359065621713243, ('primary', 'food'): 0.14359065621713243, ('food', 'group'): 0.14359065621713243}\n",
      "\n",
      "Document 7: {('attending', 'conferences'): 0.14359065621713243, ('conferences', 'sounded'): 0.14359065621713243, ('sounded', 'fun'): 0.14359065621713243, ('fun', 'realized'): 0.14359065621713243, ('realized', 'involve'): 0.14359065621713243, ('involve', 'lot'): 0.14359065621713243, ('lot', 'awkward'): 0.14359065621713243, ('awkward', 'networking'): 0.14359065621713243, ('networking', 'accidentally'): 0.14359065621713243, ('accidentally', 'spilled'): 0.14359065621713243, ('spilled', 'coffee'): 0.14359065621713243, ('coffee', 'famous'): 0.14359065621713243, ('famous', 'professor'): 0.14359065621713243, ('professor', 'shoes'): 0.14359065621713243, ('shoes', 'poster'): 0.14359065621713243, ('poster', 'fell'): 0.14359065621713243, ('fell', 'twice'): 0.14359065621713243, ('twice', 'session'): 0.14359065621713243, ('session', 'next'): 0.14359065621713243, ('next', 'time'): 0.14359065621713243, ('time', 'send'): 0.14359065621713243, ('send', 'cardboard'): 0.14359065621713243, ('cardboard', 'cutout'): 0.14359065621713243}\n",
      "\n",
      "Document 8: {('university', 'gym'): 0.14359065621713243, ('gym', 'membership'): 0.14359065621713243, ('membership', 'supposed'): 0.14359065621713243, ('supposed', 'keep'): 0.14359065621713243, ('keep', 'healthy'): 0.14359065621713243, ('healthy', 'used'): 0.14359065621713243, ('used', 'tried'): 0.14359065621713243, ('tried', 'attend'): 0.14359065621713243, ('attend', 'yoga'): 0.14359065621713243, ('yoga', 'class'): 0.14359065621713243, ('class', 'staying'): 0.14359065621713243, ('staying', 'late'): 0.14359065621713243, ('late', 'deadline'): 0.14359065621713243, ('deadline', 'fell'): 0.14359065621713243, ('fell', 'asleep'): 0.14359065621713243, ('asleep', 'meditation'): 0.14359065621713243, ('meditation', 'maybe'): 0.14359065621713243, ('maybe', 'instead'): 0.14359065621713243, ('instead', 'gym'): 0.14359065621713243, ('gym', 'bed'): 0.14359065621713243, ('bed', 'essential'): 0.14359065621713243, ('essential', 'keeping'): 0.14359065621713243, ('keeping', 'healthy'): 0.14359065621713243}\n",
      "\n",
      "Document 9: {('teaching', 'assistantship'): 0.1179494676069302, ('assistantship', 'involves'): 0.1179494676069302, ('involves', 'grading'): 0.1179494676069302, ('grading', 'endless'): 0.1179494676069302, ('endless', 'stacks'): 0.1179494676069302, ('stacks', 'exams'): 0.1179494676069302, ('exams', 'students'): 0.1179494676069302, ('students', 'keep'): 0.1179494676069302, ('keep', 'emailing'): 0.1179494676069302, ('emailing', 'extensions'): 0.1179494676069302, ('extensions', 'creative'): 0.1179494676069302, ('creative', 'excuses'): 0.1179494676069302, ('excuses', 'one'): 0.1179494676069302, ('one', 'claimed'): 0.1179494676069302, ('claimed', 'dog'): 0.1179494676069302, ('dog', 'sleeps'): 0.1179494676069302, ('sleeps', 'laptop'): 0.1179494676069302, ('laptop', 'use'): 0.1179494676069302, ('use', 'exam'): 0.1179494676069302, ('exam', 'deprived'): 0.1179494676069302, ('deprived', 'excuses'): 0.1179494676069302, ('excuses', 'completing'): 0.1179494676069302, ('completing', 'dissertation'): 0.1179494676069302, ('dissertation', 'draft'): 0.1179494676069302, ('draft', 'might'): 0.1179494676069302, ('might', 'got'): 0.1179494676069302, ('got', 'good'): 0.1179494676069302, ('good', 'ones'): 0.1179494676069302}\n",
      "\n",
      "Document 10: {('group', 'projects'): 0.15726595680924027, ('projects', 'worst'): 0.15726595680924027, ('worst', 'one'): 0.15726595680924027, ('one', 'work'): 0.15726595680924027, ('work', 'team'): 0.15726595680924027, ('team', 'members'): 0.15726595680924027, ('members', 'elusive'): 0.15726595680924027, ('elusive', 'bigfoot'): 0.15726595680924027, ('bigfoot', 'project'): 0.15726595680924027, ('project', 'due'): 0.15726595680924027, ('due', 'next'): 0.15726595680924027, ('next', 'week'): 0.15726595680924027, ('week', 'heard'): 0.15726595680924027, ('heard', 'perhaps'): 0.15726595680924027, ('perhaps', 'write'): 0.15726595680924027, ('write', 'paper'): 0.15726595680924027, ('paper', 'sociological'): 0.15726595680924027, ('sociological', 'implications'): 0.15726595680924027, ('implications', 'group'): 0.15726595680924027, ('group', 'work'): 0.15726595680924027, ('work', 'avoidance'): 0.15726595680924027}\n",
      "\n",
      "\n",
      "TF-IDF for the query:\n",
      "{('sleep', 'deprivation'): 0.0}\n",
      "\n",
      "Document Rankings based on Query:\n",
      "Rank 1: Document 1 with score 0.0\n",
      "Rank 2: Document 2 with score 0.0\n",
      "Rank 3: Document 3 with score 0.0\n",
      "Rank 4: Document 4 with score 0.0\n",
      "Rank 5: Document 5 with score 0.0\n",
      "Rank 6: Document 6 with score 0.0\n",
      "Rank 7: Document 7 with score 0.0\n",
      "Rank 8: Document 8 with score 0.0\n",
      "Rank 9: Document 9 with score 0.0\n",
      "Rank 10: Document 10 with score 0.0\n"
     ]
    }
   ]
  },
  {
   "cell_type": "markdown",
   "source": [
    "##計算BigramTF-IDF NDCG、AC、PRC"
   ],
   "metadata": {
    "id": "03XbRaZceFKA"
   },
   "id": "03XbRaZceFKA"
  },
  {
   "cell_type": "code",
   "source": [
    "import numpy as np\n",
    "from sklearn.metrics import precision_recall_curve, accuracy_score\n",
    "\n",
    "# 預定的相關性標籤：Relevant = 1, Non-Relevant = 0\n",
    "corpus_relevancy_label = [1, 1, 0, 0, 1, 1, 0, 1, 0, 0]\n",
    "\n",
    "# 查詢返回的排序結果（假設查詢結果是基於文檔排名）\n",
    "# 文檔排名按相似度排序\n",
    "rankings = [1, 2, 3, 4, 5, 6, 7, 8, 9, 10]\n",
    "ranked_relevancy = [corpus_relevancy_label[i-1] for i in rankings]  # 根據排名提取相關性\n",
    "\n",
    "# Step 1: 計算 DCG 和 iDCG (NDCG)\n",
    "def dcg_score(relevancies):\n",
    "    dcg = 0.0\n",
    "    for i, rel in enumerate(relevancies):\n",
    "        dcg += (rel) / np.log2(i + 2)  # DCG 計算\n",
    "    return dcg\n",
    "\n",
    "# Ideal DCG: 理想情況下的相關性排序\n",
    "ideal_relevancies = sorted(corpus_relevancy_label, reverse=True)\n",
    "\n",
    "dcg = dcg_score(ranked_relevancy)\n",
    "idcg = dcg_score(ideal_relevancies)\n",
    "ndcg = dcg / idcg if idcg != 0 else 0  # 防止除零錯誤\n",
    "\n",
    "# Step 2: Precision-Recall Curve (PRC)\n",
    "# 計算 Precision 和 Recall\n",
    "precision, recall, _ = precision_recall_curve(corpus_relevancy_label, [1]*len(rankings))  # [1]*len(rankings) 模擬所有結果\n",
    "\n",
    "# Step 3: 計算 Accuracy (AC)\n",
    "predicted_labels = [1 if score > 0 else 0 for score in ranked_relevancy]\n",
    "accuracy = accuracy_score(corpus_relevancy_label, predicted_labels)\n",
    "\n",
    "# 輸出結果\n",
    "print(f\"NDCG: {ndcg}\")\n",
    "print(f\"Accuracy: {accuracy}\")\n",
    "print(f\"Precision: {precision}\")\n",
    "print(f\"Recall: {recall}\")\n"
   ],
   "metadata": {
    "colab": {
     "base_uri": "https://localhost:8080/"
    },
    "id": "lLWXC_gseCP7",
    "outputId": "e8daed61-c3e0-4736-b1c0-ab03b571f7e0"
   },
   "id": "lLWXC_gseCP7",
   "execution_count": 27,
   "outputs": [
    {
     "output_type": "stream",
     "name": "stdout",
     "text": [
      "NDCG: 0.9121559825872436\n",
      "Accuracy: 1.0\n",
      "Precision: [0.5 1. ]\n",
      "Recall: [1. 0.]\n"
     ]
    }
   ]
  },
  {
   "cell_type": "markdown",
   "id": "716209d8-1197-4daf-891a-def8d48f0f19",
   "metadata": {
    "id": "716209d8-1197-4daf-891a-def8d48f0f19"
   },
   "source": [
    "### Observe the results above and discuss the following:\n",
    "- Are the highly ranked documents relevant to the query?\n",
    "- Why?"
   ]
  },
  {
   "cell_type": "markdown",
   "id": "2e7d2fa2",
   "metadata": {
    "id": "2e7d2fa2"
   },
   "source": [
    "# 3. Vector Space Model: Word2Vec"
   ]
  },
  {
   "cell_type": "markdown",
   "id": "1c969039",
   "metadata": {
    "id": "1c969039"
   },
   "source": [
    "## 3.1 Import Libraries"
   ]
  },
  {
   "cell_type": "code",
   "execution_count": 28,
   "id": "80bbdc9d",
   "metadata": {
    "id": "80bbdc9d"
   },
   "outputs": [],
   "source": [
    "import numpy as np\n",
    "import gensim.downloader as api\n",
    "from gensim.models import Word2Vec"
   ]
  },
  {
   "cell_type": "markdown",
   "id": "4cb50280",
   "metadata": {
    "id": "4cb50280"
   },
   "source": [
    "## 3.2 Load Pre-trained Word2Vec Model"
   ]
  },
  {
   "cell_type": "code",
   "execution_count": 29,
   "id": "f6ac3b19",
   "metadata": {
    "id": "f6ac3b19",
    "colab": {
     "base_uri": "https://localhost:8080/"
    },
    "outputId": "ba8b75fe-21b1-43c8-f8b2-fc274dd695dd"
   },
   "outputs": [
    {
     "output_type": "stream",
     "name": "stdout",
     "text": [
      "[==================================================] 100.0% 1662.8/1662.8MB downloaded\n"
     ]
    }
   ],
   "source": [
    "# Load the pre-trained Google News Word2Vec model\n",
    "# This might take a while\n",
    "model = api.load('word2vec-google-news-300')"
   ]
  },
  {
   "cell_type": "markdown",
   "id": "7290df8b-cd95-4078-9274-6b2e2256e0a8",
   "metadata": {
    "id": "7290df8b-cd95-4078-9274-6b2e2256e0a8"
   },
   "source": [
    "### Let's observe a Word2Vec vector"
   ]
  },
  {
   "cell_type": "code",
   "execution_count": 30,
   "id": "74f9c375-10cf-4dc5-b8ce-8e3835dd9fe6",
   "metadata": {
    "id": "74f9c375-10cf-4dc5-b8ce-8e3835dd9fe6",
    "outputId": "999d851a-2f58-4497-b623-a1463cce2845",
    "colab": {
     "base_uri": "https://localhost:8080/"
    }
   },
   "outputs": [
    {
     "output_type": "execute_result",
     "data": {
      "text/plain": [
       "array([-0.06445312, -0.16015625, -0.01208496,  0.13476562, -0.22949219,\n",
       "        0.16210938,  0.3046875 , -0.1796875 , -0.12109375,  0.25390625,\n",
       "       -0.01428223, -0.06396484, -0.08056641, -0.05688477, -0.19628906,\n",
       "        0.2890625 , -0.05151367,  0.14257812, -0.10498047, -0.04736328,\n",
       "       -0.34765625,  0.35742188,  0.265625  ,  0.00188446, -0.01586914,\n",
       "        0.00195312, -0.35546875,  0.22167969,  0.05761719,  0.15917969,\n",
       "        0.08691406, -0.0267334 , -0.04785156,  0.23925781, -0.05981445,\n",
       "        0.0378418 ,  0.17382812, -0.41796875,  0.2890625 ,  0.32617188,\n",
       "        0.02429199, -0.01647949, -0.06494141, -0.08886719,  0.07666016,\n",
       "       -0.15136719,  0.05249023, -0.04199219, -0.05419922,  0.00108337,\n",
       "       -0.20117188,  0.12304688,  0.09228516,  0.10449219, -0.00408936,\n",
       "       -0.04199219,  0.01409912, -0.02111816, -0.13476562, -0.24316406,\n",
       "        0.16015625, -0.06689453, -0.08984375, -0.07177734, -0.00595093,\n",
       "       -0.00482178, -0.00089264, -0.30664062, -0.0625    ,  0.07958984,\n",
       "       -0.00909424, -0.04492188,  0.09960938, -0.33398438, -0.3984375 ,\n",
       "        0.05541992, -0.06689453, -0.04467773,  0.11767578, -0.13964844,\n",
       "       -0.26367188,  0.17480469, -0.17382812, -0.40625   , -0.06738281,\n",
       "       -0.07617188,  0.09423828,  0.20996094, -0.16308594, -0.08691406,\n",
       "       -0.0534668 , -0.10351562, -0.07617188, -0.11083984, -0.03515625,\n",
       "       -0.14941406,  0.0378418 ,  0.38671875,  0.14160156, -0.2890625 ,\n",
       "       -0.16894531, -0.140625  , -0.04174805,  0.22753906,  0.24023438,\n",
       "       -0.01599121, -0.06787109,  0.21875   , -0.42382812, -0.5625    ,\n",
       "       -0.49414062, -0.3359375 ,  0.13378906,  0.01141357,  0.13671875,\n",
       "        0.0324707 ,  0.06835938, -0.27539062, -0.15917969,  0.00121307,\n",
       "        0.01208496, -0.0039978 ,  0.00442505, -0.04541016,  0.08642578,\n",
       "        0.09960938, -0.04296875, -0.11328125,  0.13867188,  0.41796875,\n",
       "       -0.28320312, -0.07373047, -0.11425781,  0.08691406, -0.02148438,\n",
       "        0.328125  , -0.07373047, -0.01348877,  0.17773438, -0.02624512,\n",
       "        0.13378906, -0.11132812, -0.12792969, -0.12792969,  0.18945312,\n",
       "       -0.13867188,  0.29882812, -0.07714844, -0.37695312, -0.10351562,\n",
       "        0.16992188, -0.10742188, -0.29882812,  0.00866699, -0.27734375,\n",
       "       -0.20996094, -0.1796875 , -0.19628906, -0.22167969,  0.08886719,\n",
       "       -0.27734375, -0.13964844,  0.15917969,  0.03637695,  0.03320312,\n",
       "       -0.08105469,  0.25390625, -0.08691406, -0.21289062, -0.18945312,\n",
       "       -0.22363281,  0.06542969, -0.16601562,  0.08837891, -0.359375  ,\n",
       "       -0.09863281,  0.35546875, -0.00741577,  0.19042969,  0.16992188,\n",
       "       -0.06005859, -0.20605469,  0.08105469,  0.12988281, -0.01135254,\n",
       "        0.33203125, -0.08691406,  0.27539062, -0.03271484,  0.12011719,\n",
       "       -0.0625    ,  0.1953125 , -0.10986328, -0.11767578,  0.20996094,\n",
       "        0.19921875,  0.02954102, -0.16015625,  0.00276184, -0.01367188,\n",
       "        0.03442383, -0.19335938,  0.00352478, -0.06542969, -0.05566406,\n",
       "        0.09423828,  0.29296875,  0.04052734, -0.09326172, -0.10107422,\n",
       "       -0.27539062,  0.04394531, -0.07275391,  0.13867188,  0.02380371,\n",
       "        0.13085938,  0.00236511, -0.2265625 ,  0.34765625,  0.13574219,\n",
       "        0.05224609,  0.18164062,  0.0402832 ,  0.23730469, -0.16992188,\n",
       "        0.10058594,  0.03833008,  0.10839844, -0.05615234, -0.00946045,\n",
       "        0.14550781, -0.30078125, -0.32226562,  0.18847656, -0.40234375,\n",
       "       -0.3125    , -0.08007812, -0.26757812,  0.16699219,  0.07324219,\n",
       "        0.06347656,  0.06591797,  0.17285156, -0.17773438,  0.00276184,\n",
       "       -0.05761719, -0.2265625 , -0.19628906,  0.09667969,  0.13769531,\n",
       "       -0.49414062, -0.27929688,  0.12304688, -0.30078125,  0.01293945,\n",
       "       -0.1875    , -0.20898438, -0.1796875 , -0.16015625, -0.03295898,\n",
       "        0.00976562,  0.25390625, -0.25195312,  0.00210571,  0.04296875,\n",
       "        0.01184082, -0.20605469,  0.24804688, -0.203125  , -0.17773438,\n",
       "        0.07275391,  0.04541016,  0.21679688, -0.2109375 ,  0.14550781,\n",
       "       -0.16210938,  0.20410156, -0.19628906, -0.35742188,  0.35742188,\n",
       "       -0.11962891,  0.35742188,  0.10351562,  0.07080078, -0.24707031,\n",
       "       -0.10449219, -0.19238281,  0.1484375 ,  0.00057983,  0.296875  ,\n",
       "       -0.12695312, -0.03979492,  0.13183594, -0.16601562,  0.125     ,\n",
       "        0.05126953, -0.14941406,  0.13671875, -0.02075195,  0.34375   ],\n",
       "      dtype=float32)"
      ]
     },
     "metadata": {},
     "execution_count": 30
    }
   ],
   "source": [
    "model['apple']"
   ]
  },
  {
   "cell_type": "markdown",
   "id": "cbe8f96c-27ce-49c9-9264-1c97f26f0706",
   "metadata": {
    "id": "cbe8f96c-27ce-49c9-9264-1c97f26f0706"
   },
   "source": [
    "### Observe the results above and discuss the following:\n",
    "- What is the data type of this vector?\n",
    "- What is the dimensionality?"
   ]
  },
  {
   "cell_type": "markdown",
   "id": "dd8907ef-3d24-414d-aa18-3a0ec0f65552",
   "metadata": {
    "id": "dd8907ef-3d24-414d-aa18-3a0ec0f65552"
   },
   "source": [
    "### Finding analogies using Word2Vec"
   ]
  },
  {
   "cell_type": "code",
   "execution_count": 31,
   "id": "9d2fec01-8c35-48e5-b30d-22ad8bb1146a",
   "metadata": {
    "id": "9d2fec01-8c35-48e5-b30d-22ad8bb1146a",
    "outputId": "c14793d6-0c76-469a-c407-1d16a325c60c",
    "colab": {
     "base_uri": "https://localhost:8080/"
    }
   },
   "outputs": [
    {
     "output_type": "execute_result",
     "data": {
      "text/plain": [
       "[('apples', 0.720359742641449),\n",
       " ('pear', 0.6450697183609009),\n",
       " ('fruit', 0.6410146355628967),\n",
       " ('berry', 0.6302295327186584),\n",
       " ('pears', 0.613396167755127),\n",
       " ('strawberry', 0.6058260798454285),\n",
       " ('peach', 0.6025872826576233),\n",
       " ('potato', 0.5960935354232788),\n",
       " ('grape', 0.5935863852500916),\n",
       " ('blueberry', 0.5866668224334717)]"
      ]
     },
     "metadata": {},
     "execution_count": 31
    }
   ],
   "source": [
    "model.most_similar(\"apple\")"
   ]
  },
  {
   "cell_type": "code",
   "execution_count": 32,
   "id": "23ec66fe-f37a-405b-bac3-a887d3987e60",
   "metadata": {
    "id": "23ec66fe-f37a-405b-bac3-a887d3987e60",
    "outputId": "08d8421c-7784-43f3-9f43-0b1ad3762499",
    "colab": {
     "base_uri": "https://localhost:8080/"
    }
   },
   "outputs": [
    {
     "output_type": "execute_result",
     "data": {
      "text/plain": [
       "[('Apple_AAPL', 0.7456986308097839),\n",
       " ('Apple_Nasdaq_AAPL', 0.7300410270690918),\n",
       " ('Apple_NASDAQ_AAPL', 0.717508852481842),\n",
       " ('Apple_Computer', 0.7145972847938538),\n",
       " ('iPhone', 0.6924266219139099),\n",
       " ('Apple_NSDQ_AAPL', 0.6868603229522705),\n",
       " ('Steve_Jobs', 0.6758421659469604),\n",
       " ('iPad', 0.6580768823623657),\n",
       " ('Apple_nasdaq_AAPL', 0.6444970369338989),\n",
       " ('AAPL_PriceWatch_Alert', 0.6439753174781799)]"
      ]
     },
     "metadata": {},
     "execution_count": 32
    }
   ],
   "source": [
    "model.most_similar(\"Apple\")"
   ]
  },
  {
   "cell_type": "code",
   "execution_count": 33,
   "id": "923cc06a-89bf-4edb-b36b-24438da99a51",
   "metadata": {
    "id": "923cc06a-89bf-4edb-b36b-24438da99a51",
    "outputId": "ae9e3979-4957-4037-ddd6-70a2afdef76a",
    "colab": {
     "base_uri": "https://localhost:8080/"
    }
   },
   "outputs": [
    {
     "output_type": "execute_result",
     "data": {
      "text/plain": [
       "[('Microsoft', 0.457754522562027),\n",
       " ('Steve_Ballmer', 0.42643362283706665),\n",
       " ('Robert_Gates', 0.40924885869026184),\n",
       " ('Ballmer', 0.40724438428878784),\n",
       " ('Mullen', 0.4004097878932953),\n",
       " ('Chief_Executive_Steve_Ballmer', 0.3993479311466217),\n",
       " ('BlackBerry_maker', 0.39889541268348694),\n",
       " ('Apple_Nasdaq_AAPL', 0.39581313729286194),\n",
       " ('REDMOND_Wash._Microsoft', 0.3908952474594116),\n",
       " ('McAfee', 0.38951441645622253)]"
      ]
     },
     "metadata": {},
     "execution_count": 33
    }
   ],
   "source": [
    "model.most_similar(positive=['Gates', 'Apple'], negative=['Jobs'])"
   ]
  },
  {
   "cell_type": "markdown",
   "id": "68db33da-9360-4962-9572-cfac6d4339b9",
   "metadata": {
    "id": "68db33da-9360-4962-9572-cfac6d4339b9"
   },
   "source": [
    "## 3.3 Compute Word2Vec Embeddings"
   ]
  },
  {
   "cell_type": "code",
   "execution_count": 35,
   "id": "c90e2df9",
   "metadata": {
    "id": "c90e2df9"
   },
   "outputs": [],
   "source": [
    "# Notice here we only tokenize and lowercase the tokens:\n",
    "tokens = [word_tokenize(doc.lower()) for doc in corpus]\n",
    "query_tokens = word_tokenize(query.lower())\n",
    "\n",
    "# Function to compute the average word vector for a document or query\n",
    "def compute_avg_vector(words, model):\n",
    "    vectors = [model[word] for word in words if word in model]\n",
    "    if len(vectors) > 0:\n",
    "        return np.mean(vectors, axis=0)\n",
    "    else:\n",
    "        return np.zeros(model.vector_size)  # Return zero vector if no word in model\n",
    "\n",
    "# Compute average word vectors for each document\n",
    "doc_vectors = [compute_avg_vector(doc, model) for doc in tokens]\n",
    "\n",
    "# Compute average word vector for the query\n",
    "query_vector = compute_avg_vector(query_tokens, model)"
   ]
  },
  {
   "cell_type": "markdown",
   "id": "099abfd5-768c-454b-996a-31de2d13e150",
   "metadata": {
    "id": "099abfd5-768c-454b-996a-31de2d13e150"
   },
   "source": [
    "## 3.4 The Implementaion of Information Retrieval System"
   ]
  },
  {
   "cell_type": "markdown",
   "id": "e02991a5-6595-45c2-ac42-80290749ee68",
   "metadata": {
    "id": "e02991a5-6595-45c2-ac42-80290749ee68"
   },
   "source": [
    "### Measuring similarity: cosine similarity"
   ]
  },
  {
   "cell_type": "code",
   "execution_count": 36,
   "id": "1d17ff6b-5234-4c22-83af-98cd3ba5cad9",
   "metadata": {
    "id": "1d17ff6b-5234-4c22-83af-98cd3ba5cad9"
   },
   "outputs": [],
   "source": [
    "def cosine_similarity(vec1, vec2):\n",
    "    dot_product = np.dot(vec1, vec2)\n",
    "    magnitude1 = np.linalg.norm(vec1)\n",
    "    magnitude2 = np.linalg.norm(vec2)\n",
    "\n",
    "    if magnitude1 == 0 or magnitude2 == 0:\n",
    "        return 0  # Avoid division by zero\n",
    "    return dot_product / (magnitude1 * magnitude2)"
   ]
  },
  {
   "cell_type": "markdown",
   "id": "1b060db3-c084-4524-a1e1-9f735f745862",
   "metadata": {
    "id": "1b060db3-c084-4524-a1e1-9f735f745862"
   },
   "source": [
    "### ✏️ Rank the documents using cosine similarity"
   ]
  },
  {
   "cell_type": "code",
   "execution_count": 37,
   "id": "6c0b54d0",
   "metadata": {
    "id": "6c0b54d0",
    "outputId": "49088fb0-4064-42b6-f783-965bc632c56b",
    "colab": {
     "base_uri": "https://localhost:8080/"
    }
   },
   "outputs": [
    {
     "output_type": "stream",
     "name": "stdout",
     "text": [
      "Document Rankings based on Query:\n",
      "Rank 1: Document 9 with score 0.3664294481277466\n",
      "Rank 2: Document 8 with score 0.35598620772361755\n",
      "Rank 3: Document 6 with score 0.35288575291633606\n",
      "Rank 4: Document 3 with score 0.34057316184043884\n",
      "Rank 5: Document 2 with score 0.3265257775783539\n",
      "Rank 6: Document 1 with score 0.30051562190055847\n",
      "Rank 7: Document 5 with score 0.2849697172641754\n",
      "Rank 8: Document 10 with score 0.27993151545524597\n",
      "Rank 9: Document 4 with score 0.2621768116950989\n",
      "Rank 10: Document 7 with score 0.24750055372714996\n"
     ]
    }
   ],
   "source": [
    "# TODO\n",
    "# Rank documents based on similarity to the query\n",
    "rankings = []\n",
    "for idx, doc_vector in enumerate(doc_vectors):\n",
    "    score = cosine_similarity(doc_vector, query_vector)\n",
    "    rankings.append((idx + 1, score))\n",
    "\n",
    "# TODO\n",
    "# Sort documents by similarity score in descending order\n",
    "rankings = sorted(rankings, key=lambda x: x[1], reverse=True)\n",
    "\n",
    "# Print document rankings\n",
    "print(\"Document Rankings based on Query:\")\n",
    "for rank, (doc_idx, score) in enumerate(rankings, start=1):\n",
    "    print(f\"Rank {rank}: Document {doc_idx} with score {score}\")"
   ]
  },
  {
   "cell_type": "markdown",
   "id": "9f8fe449-63c4-4c6e-906d-410df096d098",
   "metadata": {
    "id": "9f8fe449-63c4-4c6e-906d-410df096d098"
   },
   "source": [
    "### Observe the results above and discuss the following:\n",
    "- How are the results using Word2Vec different from those using TF-IDF?"
   ]
  },
  {
   "cell_type": "markdown",
   "id": "417282dc-3699-4371-9eef-8add77f031ff",
   "metadata": {
    "id": "417282dc-3699-4371-9eef-8add77f031ff"
   },
   "source": [
    "### How about we learn our own word2vec model with the corpus?"
   ]
  },
  {
   "cell_type": "markdown",
   "id": "9bc8fe76-697d-4de8-81bf-8c57473843f4",
   "metadata": {
    "id": "9bc8fe76-697d-4de8-81bf-8c57473843f4"
   },
   "source": [
    "## 3.5 Train Word2Vec Model from Scratch"
   ]
  },
  {
   "cell_type": "code",
   "execution_count": 39,
   "id": "aa51ff04-f8bb-4aac-a7e1-58e986a34bb3",
   "metadata": {
    "id": "aa51ff04-f8bb-4aac-a7e1-58e986a34bb3"
   },
   "outputs": [],
   "source": [
    "# Train Word2Vec on the corpus\n",
    "model_corpus = Word2Vec(sentences=tokens, vector_size=100, window=5, min_count=1, workers=4)"
   ]
  },
  {
   "cell_type": "code",
   "execution_count": 40,
   "id": "46432dde-4e00-44b3-a6c1-02bec6b9b567",
   "metadata": {
    "id": "46432dde-4e00-44b3-a6c1-02bec6b9b567"
   },
   "outputs": [],
   "source": [
    "# Function to compute the average word vector for a document or query\n",
    "def compute_avg_vector(words, model):\n",
    "    vectors = [model.wv[word] for word in words if word in model.wv]\n",
    "    if len(vectors) > 0:\n",
    "        return np.mean(vectors, axis=0)\n",
    "    else:\n",
    "        return np.zeros(model.vector_size)  # Return zero vector if no word in model\n",
    "\n",
    "# Compute average word vectors for each document\n",
    "doc_vectors = [compute_avg_vector(doc, model_corpus) for doc in tokens]\n",
    "\n",
    "# Compute average word vector for the query\n",
    "query_vector = compute_avg_vector(query_tokens, model_corpus)\n"
   ]
  },
  {
   "cell_type": "code",
   "execution_count": 41,
   "id": "1d4883ff-a8f6-4f98-b2c1-680ee0415359",
   "metadata": {
    "id": "1d4883ff-a8f6-4f98-b2c1-680ee0415359",
    "outputId": "8fb5ebc8-e1e6-4e4b-d4ba-2cfa12b15993",
    "colab": {
     "base_uri": "https://localhost:8080/"
    }
   },
   "outputs": [
    {
     "output_type": "stream",
     "name": "stdout",
     "text": [
      "Document Rankings based on Query:\n",
      "Rank 1: Document 9 with score 0.2207733690738678\n",
      "Rank 2: Document 5 with score 0.21063056588172913\n",
      "Rank 3: Document 2 with score 0.18398791551589966\n",
      "Rank 4: Document 6 with score 0.12987695634365082\n",
      "Rank 5: Document 7 with score 0.11967609822750092\n",
      "Rank 6: Document 4 with score 0.10431124269962311\n",
      "Rank 7: Document 1 with score 0.08538194000720978\n",
      "Rank 8: Document 3 with score 0.06317424029111862\n",
      "Rank 9: Document 10 with score 0.059812527149915695\n",
      "Rank 10: Document 8 with score 0.02246974967420101\n"
     ]
    }
   ],
   "source": [
    "def cosine_similarity(vec1, vec2):\n",
    "    dot_product = np.dot(vec1, vec2)\n",
    "    magnitude1 = np.linalg.norm(vec1)\n",
    "    magnitude2 = np.linalg.norm(vec2)\n",
    "\n",
    "    if magnitude1 == 0 or magnitude2 == 0:\n",
    "        return 0  # Avoid division by zero\n",
    "    return dot_product / (magnitude1 * magnitude2)\n",
    "\n",
    "# Rank documents based on similarity to the query\n",
    "rankings = []\n",
    "for idx, doc_vector in enumerate(doc_vectors):\n",
    "    score = cosine_similarity(doc_vector, query_vector)\n",
    "    rankings.append((idx + 1, score))\n",
    "\n",
    "# Sort documents by similarity score in descending order\n",
    "rankings = sorted(rankings, key=lambda x: x[1], reverse=True)\n",
    "\n",
    "# Print document rankings\n",
    "print(\"Document Rankings based on Query:\")\n",
    "for rank, (doc_idx, score) in enumerate(rankings, start=1):\n",
    "    print(f\"Rank {rank}: Document {doc_idx} with score {score}\")"
   ]
  },
  {
   "cell_type": "markdown",
   "source": [
    "##word2vec NDCG、Accuracy、Precision\n"
   ],
   "metadata": {
    "id": "sfvG8iuMmi35"
   },
   "id": "sfvG8iuMmi35"
  },
  {
   "cell_type": "code",
   "source": [
    "from sklearn.metrics import precision_recall_curve, accuracy_score\n",
    "\n",
    "# 假設文檔 1、2、5、6、8 是相關的，其他文檔是無關的\n",
    "corpus_relevancy_label = [1, 1, 0, 0, 1, 1, 0, 1, 0, 0]\n",
    "\n",
    "# 提取排名中的文檔索引\n",
    "ranked_docs = [doc_idx for doc_idx, score in rankings]\n",
    "\n",
    "# 根據文檔排名提取相關性標籤\n",
    "ranked_relevancy = [corpus_relevancy_label[doc_idx - 1] for doc_idx in ranked_docs]\n",
    "\n",
    "# 計算 NDCG\n",
    "def ndcg_at_k(ranked_relevancy, k):\n",
    "    dcg = 0.0\n",
    "    for i in range(k):\n",
    "        if ranked_relevancy[i] == 1:\n",
    "            dcg += 1.0 / np.log2(i + 2)\n",
    "\n",
    "    ideal_relevancy = sorted(ranked_relevancy, reverse=True)\n",
    "    idcg = 0.0\n",
    "    for i in range(k):\n",
    "        if ideal_relevancy[i] == 1:\n",
    "            idcg += 1.0 / np.log2(i + 2)\n",
    "\n",
    "    return dcg / idcg if idcg > 0 else 0.0\n",
    "\n",
    "# 計算 NDCG@10\n",
    "ndcg = ndcg_at_k(ranked_relevancy, 10)\n",
    "print(f\"NDCG: {ndcg}\")\n",
    "\n",
    "# 計算 Accuracy\n",
    "predicted_labels = [1 if score > 0 else 0 for _, score in rankings]\n",
    "accuracy = accuracy_score(corpus_relevancy_label, predicted_labels)\n",
    "print(f\"Accuracy: {accuracy}\")\n",
    "\n",
    "# 計算 Precision 和 Recall\n",
    "precision, recall, _ = precision_recall_curve(corpus_relevancy_label, [score for _, score in rankings])\n",
    "print(f\"Precision: {precision}\")\n",
    "print(f\"Recall: {recall}\")\n"
   ],
   "metadata": {
    "colab": {
     "base_uri": "https://localhost:8080/"
    },
    "id": "binhD7tOnAYh",
    "outputId": "04a71853-ab93-4bd4-b1bd-a566c52ab330"
   },
   "id": "binhD7tOnAYh",
   "execution_count": 42,
   "outputs": [
    {
     "output_type": "stream",
     "name": "stdout",
     "text": [
      "NDCG: 0.7407274048032711\n",
      "Accuracy: 0.5\n",
      "Precision: [0.5        0.55555556 0.625      0.57142857 0.66666667 0.6\n",
      " 0.5        0.66666667 1.         1.         1.        ]\n",
      "Recall: [1.  1.  1.  0.8 0.8 0.6 0.4 0.4 0.4 0.2 0. ]\n"
     ]
    }
   ]
  },
  {
   "cell_type": "markdown",
   "id": "8dc1fab1-80a6-4c82-abb5-90b664f9b78b",
   "metadata": {
    "id": "8dc1fab1-80a6-4c82-abb5-90b664f9b78b"
   },
   "source": [
    "### Observe the results above and discuss the following:\n",
    "- How are the results using self-trained Word2Vec different from those using pre-trained Word2Vec?"
   ]
  },
  {
   "cell_type": "markdown",
   "id": "172430c1-cfc7-4857-b73e-046a0ff62b58",
   "metadata": {
    "id": "172430c1-cfc7-4857-b73e-046a0ff62b58"
   },
   "source": [
    "# 4. Vector Space Model: BERT\n",
    "This is not how a BERT model is normally used, but we can see how contextualized embeddings are helpful in matching queries and documents beyond just words."
   ]
  },
  {
   "cell_type": "markdown",
   "id": "a5be2c3d-d3ec-42c5-8d05-158d70e20d6e",
   "metadata": {
    "id": "a5be2c3d-d3ec-42c5-8d05-158d70e20d6e"
   },
   "source": [
    "## 4.1 Import Libraries"
   ]
  },
  {
   "cell_type": "code",
   "execution_count": 43,
   "id": "79a51e70-21d0-4ac7-bb4d-c5f9ae8a5b1e",
   "metadata": {
    "id": "79a51e70-21d0-4ac7-bb4d-c5f9ae8a5b1e"
   },
   "outputs": [],
   "source": [
    "import torch\n",
    "from transformers import BertTokenizer, BertModel"
   ]
  },
  {
   "cell_type": "markdown",
   "id": "81bdb588-c151-4742-8c7c-c6c483b0c5f6",
   "metadata": {
    "id": "81bdb588-c151-4742-8c7c-c6c483b0c5f6"
   },
   "source": [
    "## 4.2 Load Pre-trained BERT Model"
   ]
  },
  {
   "cell_type": "code",
   "execution_count": 44,
   "id": "61244e77-b91a-49af-badf-e2396e44f375",
   "metadata": {
    "id": "61244e77-b91a-49af-badf-e2396e44f375",
    "outputId": "56dcce1d-00a1-44b4-c191-0484b5ac884e",
    "colab": {
     "base_uri": "https://localhost:8080/",
     "height": 333,
     "referenced_widgets": [
      "542d050f3bdc4f55a4fb05a5d5262fe4",
      "7c8599590faa4ebea3e8d34b250ae554",
      "cc2f9b69d30e4b9b8ad2f132812ac042",
      "eba036a11ee34e3f83f935b143084103",
      "081da616fc6c4928b741fc5d90e361d4",
      "ab7b3d6f7e284266b71e794ee889424f",
      "78c313af3ee240368e386553fafe5788",
      "828ea39354404030976cd70dd589970c",
      "02c04f2e21294b6ca825a24335d01237",
      "ba8154761bbe45b9b15018b4a0478ece",
      "d4f85dffb5f648619d959635d7b036fc",
      "5969269dcf4e45d69754055e2b86bb63",
      "9c1e8c76ece64b39878f6cb71f97f184",
      "1dd78aabddb44c42b7abe76471a6d866",
      "82dbcad0276645fcad8bd7230aa34cda",
      "3757a481f5504615bb4bf2997fab333c",
      "281c299b9c424b2cadc8d3e655b63881",
      "b4bc1cacc38b41ea847bfc7cf893708d",
      "cd86cc23bf2b49139ff5ac04af798705",
      "148417d8b54a46df89aac9daee4a6526",
      "8445c322725d476abf203562b4598132",
      "4cfd7959be184451a177c065c9bd6734",
      "7cc92c361b634a96bc22e00e0d9d6fb7",
      "80ea70e23c454cafa45c76d90637b986",
      "59489e5c6a2f464eb082c0f5e8ceed72",
      "f074b11ba6304392a484a68a1fe19aab",
      "79b83b6b16e940959e424182dcf4b902",
      "806f7def89904bdc92d6c60f1f1d4860",
      "53dc90ec74c1462baf032e6438256ee0",
      "e44defc63a744ca791f5cec09a538806",
      "cb18c78307564d87bb1c1034778d1be5",
      "59c3d1013079483bb97157e26335fd8b",
      "c7d20d6f91c942ad8aa4bbf405f614ff",
      "9cf6bc6699494f2fb2a48a01e4f2ee04",
      "11c7b37d6255438e8d3ba04e4c2f14e6",
      "e7e38fc1a62a4ce1a9da8af31c23f89a",
      "c5ff77fad18c462693e76c04b9e13431",
      "f20bb6dc0fbc4cbc9b215b3a962b7cf8",
      "0379f776a98a4c1a8ba2f340af49e79e",
      "24b03c4636d4414ea868ca32519febe9",
      "f2058ae9ec4b4abfb19e3bf7ac4eed41",
      "ccb54e9287874e3fa2745edcac52a586",
      "5d8808c1b6504383b84c40d68e09300d",
      "210b5e76771d4d80849043dc6f2ca58e",
      "b6c4189f6ae54e1f80a9ab5b4fb3f327",
      "c49adcf65dee490782cdbb74bcc8a1d2",
      "92a89e097e8d47af901d04d3b37f0139",
      "14cb8a738b1848edb33ca07a3b84904a",
      "7616cc32ecb94b709dcc8efb6dd1c6c8",
      "98a354f287034d749e21a04184fdce6d",
      "3be0105048014786a4d0911f7023d6d7",
      "ce976111bdfa4d0e8317df20792920c4",
      "1e7a2142191f4ca489180f519f40b042",
      "44177f38d5894c44a6c507165a4f97fb",
      "4b1d2445704546c184fde9b484c5a1e5"
     ]
    }
   },
   "outputs": [
    {
     "output_type": "stream",
     "name": "stderr",
     "text": [
      "/usr/local/lib/python3.10/dist-packages/huggingface_hub/utils/_token.py:89: UserWarning: \n",
      "The secret `HF_TOKEN` does not exist in your Colab secrets.\n",
      "To authenticate with the Hugging Face Hub, create a token in your settings tab (https://huggingface.co/settings/tokens), set it as secret in your Google Colab and restart your session.\n",
      "You will be able to reuse this secret in all of your notebooks.\n",
      "Please note that authentication is recommended but still optional to access public models or datasets.\n",
      "  warnings.warn(\n"
     ]
    },
    {
     "output_type": "display_data",
     "data": {
      "text/plain": [
       "tokenizer_config.json:   0%|          | 0.00/48.0 [00:00<?, ?B/s]"
      ],
      "application/vnd.jupyter.widget-view+json": {
       "version_major": 2,
       "version_minor": 0,
       "model_id": "542d050f3bdc4f55a4fb05a5d5262fe4"
      }
     },
     "metadata": {}
    },
    {
     "output_type": "display_data",
     "data": {
      "text/plain": [
       "vocab.txt:   0%|          | 0.00/232k [00:00<?, ?B/s]"
      ],
      "application/vnd.jupyter.widget-view+json": {
       "version_major": 2,
       "version_minor": 0,
       "model_id": "5969269dcf4e45d69754055e2b86bb63"
      }
     },
     "metadata": {}
    },
    {
     "output_type": "display_data",
     "data": {
      "text/plain": [
       "tokenizer.json:   0%|          | 0.00/466k [00:00<?, ?B/s]"
      ],
      "application/vnd.jupyter.widget-view+json": {
       "version_major": 2,
       "version_minor": 0,
       "model_id": "7cc92c361b634a96bc22e00e0d9d6fb7"
      }
     },
     "metadata": {}
    },
    {
     "output_type": "display_data",
     "data": {
      "text/plain": [
       "config.json:   0%|          | 0.00/570 [00:00<?, ?B/s]"
      ],
      "application/vnd.jupyter.widget-view+json": {
       "version_major": 2,
       "version_minor": 0,
       "model_id": "9cf6bc6699494f2fb2a48a01e4f2ee04"
      }
     },
     "metadata": {}
    },
    {
     "output_type": "stream",
     "name": "stderr",
     "text": [
      "/usr/local/lib/python3.10/dist-packages/transformers/tokenization_utils_base.py:1601: FutureWarning: `clean_up_tokenization_spaces` was not set. It will be set to `True` by default. This behavior will be depracted in transformers v4.45, and will be then set to `False` by default. For more details check this issue: https://github.com/huggingface/transformers/issues/31884\n",
      "  warnings.warn(\n"
     ]
    },
    {
     "output_type": "display_data",
     "data": {
      "text/plain": [
       "model.safetensors:   0%|          | 0.00/440M [00:00<?, ?B/s]"
      ],
      "application/vnd.jupyter.widget-view+json": {
       "version_major": 2,
       "version_minor": 0,
       "model_id": "b6c4189f6ae54e1f80a9ab5b4fb3f327"
      }
     },
     "metadata": {}
    }
   ],
   "source": [
    "# Load pre-trained BERT model and tokenizer\n",
    "tokenizer = BertTokenizer.from_pretrained('bert-base-uncased')\n",
    "model_bert = BertModel.from_pretrained('bert-base-uncased')\n",
    "\n",
    "# Function to generate BERT embeddings for a given text\n",
    "def get_bert_embedding(text):\n",
    "    inputs = tokenizer(text, return_tensors='pt', padding=True, truncation=True, max_length=512)\n",
    "    with torch.no_grad():\n",
    "        outputs = model_bert(**inputs)\n",
    "    # The [CLS] token embedding is typically used as the sentence representation\n",
    "    return outputs.last_hidden_state[:, 0, :]  # Return the embedding for the [CLS] token"
   ]
  },
  {
   "cell_type": "markdown",
   "id": "29123a13-d710-4e79-bbf2-e704f81f0db5",
   "metadata": {
    "id": "29123a13-d710-4e79-bbf2-e704f81f0db5"
   },
   "source": [
    "## 4.3 Compute BERT Embeddings"
   ]
  },
  {
   "cell_type": "code",
   "execution_count": 45,
   "id": "7418ceb4-412b-4f8e-94bd-66ee314e2766",
   "metadata": {
    "id": "7418ceb4-412b-4f8e-94bd-66ee314e2766"
   },
   "outputs": [],
   "source": [
    "# Compute BERT embeddings for the query\n",
    "query_embedding = get_bert_embedding(query)\n",
    "\n",
    "# Compute BERT embeddings for each document in the corpus\n",
    "corpus_embeddings = [get_bert_embedding(doc) for doc in corpus]"
   ]
  },
  {
   "cell_type": "markdown",
   "id": "7d3cd6f0-f535-4349-ae55-dc7038fbefa7",
   "metadata": {
    "id": "7d3cd6f0-f535-4349-ae55-dc7038fbefa7"
   },
   "source": [
    "## 4.4 The Implementaion of Information Retrieval System"
   ]
  },
  {
   "cell_type": "markdown",
   "id": "a879879f-40d7-4657-ba07-d6d022ce78b1",
   "metadata": {
    "id": "a879879f-40d7-4657-ba07-d6d022ce78b1"
   },
   "source": [
    "### Measuring similarity: cosine similarity"
   ]
  },
  {
   "cell_type": "code",
   "execution_count": 46,
   "id": "35665c91-5f13-4073-b800-edc0304e2c4b",
   "metadata": {
    "id": "35665c91-5f13-4073-b800-edc0304e2c4b"
   },
   "outputs": [],
   "source": [
    "# Function to compute cosine similarity between two vectors\n",
    "def cosine_similarity(vec1, vec2):\n",
    "    vec1 = vec1.numpy()\n",
    "    vec2 = vec2.numpy()\n",
    "    dot_product = np.dot(vec1, vec2.T)\n",
    "    norm1 = np.linalg.norm(vec1)\n",
    "    norm2 = np.linalg.norm(vec2)\n",
    "\n",
    "    if norm1 == 0 or norm2 == 0:\n",
    "        return 0.0\n",
    "    return dot_product / (norm1 * norm2)"
   ]
  },
  {
   "cell_type": "markdown",
   "id": "0f13b45b-d635-4db5-a8f5-80c9ea0b80ba",
   "metadata": {
    "id": "0f13b45b-d635-4db5-a8f5-80c9ea0b80ba"
   },
   "source": [
    "### Rank the documents using cosine similarity"
   ]
  },
  {
   "cell_type": "code",
   "execution_count": 47,
   "id": "aa483b8d-66c8-462f-ae6b-46aa4c39fc6a",
   "metadata": {
    "id": "aa483b8d-66c8-462f-ae6b-46aa4c39fc6a",
    "outputId": "4d1326ec-cdf0-4f15-9ddf-78af93e8e953",
    "colab": {
     "base_uri": "https://localhost:8080/"
    }
   },
   "outputs": [
    {
     "output_type": "stream",
     "name": "stdout",
     "text": [
      "Document Rankings based on BERT embeddings:\n",
      "Rank 1: Document 2 with score 0.8103365302085876\n",
      "Rank 2: Document 6 with score 0.7880857586860657\n",
      "Rank 3: Document 5 with score 0.7864925861358643\n",
      "Rank 4: Document 3 with score 0.7857746481895447\n",
      "Rank 5: Document 1 with score 0.7844794988632202\n",
      "Rank 6: Document 10 with score 0.775418758392334\n",
      "Rank 7: Document 7 with score 0.7519571781158447\n",
      "Rank 8: Document 8 with score 0.7409092783927917\n",
      "Rank 9: Document 4 with score 0.7397838234901428\n",
      "Rank 10: Document 9 with score 0.7047690153121948\n"
     ]
    }
   ],
   "source": [
    "# Rank documents based on similarity to the query\n",
    "rankings = []\n",
    "for idx, doc_embedding in enumerate(corpus_embeddings):\n",
    "    score = cosine_similarity(query_embedding[0], doc_embedding[0])\n",
    "    rankings.append((idx + 1, score))\n",
    "\n",
    "# Sort documents by similarity score in descending order\n",
    "rankings = sorted(rankings, key=lambda x: x[1], reverse=True)\n",
    "\n",
    "# Print document rankings\n",
    "print(\"Document Rankings based on BERT embeddings:\")\n",
    "for rank, (doc_idx, score) in enumerate(rankings, start=1):\n",
    "    print(f\"Rank {rank}: Document {doc_idx} with score {score}\")"
   ]
  },
  {
   "cell_type": "markdown",
   "source": [
    "##BERT NDCG、AC、PRC計算"
   ],
   "metadata": {
    "id": "V0pyThEVnM9j"
   },
   "id": "V0pyThEVnM9j"
  },
  {
   "cell_type": "code",
   "source": [
    "import torch\n",
    "from transformers import BertTokenizer, BertModel\n",
    "import numpy as np\n",
    "from sklearn.metrics import precision_recall_curve, accuracy_score\n",
    "from sklearn.metrics import ndcg_score\n",
    "\n",
    "# Load pre-trained BERT model and tokenizer\n",
    "tokenizer = BertTokenizer.from_pretrained('bert-base-uncased')\n",
    "model_bert = BertModel.from_pretrained('bert-base-uncased')\n",
    "\n",
    "# Function to generate BERT embeddings for a given text\n",
    "def get_bert_embedding(text):\n",
    "    inputs = tokenizer(text, return_tensors='pt', padding=True, truncation=True, max_length=512)\n",
    "    with torch.no_grad():\n",
    "        outputs = model_bert(**inputs)\n",
    "    # The [CLS] token embedding is typically used as the sentence representation\n",
    "    return outputs.last_hidden_state[:, 0, :]  # Return the embedding for the [CLS] token\n",
    "\n",
    "# Compute BERT embeddings for the query\n",
    "query_embedding = get_bert_embedding(query)\n",
    "\n",
    "# Compute BERT embeddings for each document in the corpus\n",
    "corpus_embeddings = [get_bert_embedding(doc) for doc in corpus]\n",
    "\n",
    "# Function to compute cosine similarity between two vectors\n",
    "def cosine_similarity(vec1, vec2):\n",
    "    vec1 = vec1.numpy()\n",
    "    vec2 = vec2.numpy()\n",
    "    dot_product = np.dot(vec1, vec2.T)\n",
    "    norm1 = np.linalg.norm(vec1)\n",
    "    norm2 = np.linalg.norm(vec2)\n",
    "\n",
    "    if norm1 == 0 or norm2 == 0:\n",
    "        return 0.0\n",
    "    return dot_product / (norm1 * norm2)\n",
    "\n",
    "# Rank documents based on similarity to the query\n",
    "rankings = []\n",
    "for idx, doc_embedding in enumerate(corpus_embeddings):\n",
    "    score = cosine_similarity(query_embedding[0], doc_embedding[0])\n",
    "    rankings.append((idx + 1, score))\n",
    "\n",
    "# Sort documents by similarity score in descending order\n",
    "rankings = sorted(rankings, key=lambda x: x[1], reverse=True)\n",
    "\n",
    "# Print document rankings\n",
    "print(\"Document Rankings based on BERT embeddings:\")\n",
    "for rank, (doc_idx, score) in enumerate(rankings, start=1):\n",
    "    print(f\"Rank {rank}: Document {doc_idx} with score {score}\")\n",
    "\n",
    "# Define relevant documents as per the original relevancy label\n",
    "corpus_relevancy_label = [1, 1, 0, 0, 1, 1, 0, 1, 0, 0]  # Binary labels for the relevancy\n",
    "\n",
    "# Extract the ranked relevancy labels\n",
    "ranked_relevancy = [corpus_relevancy_label[doc_idx - 1] for doc_idx, _ in rankings]\n",
    "\n",
    "# NDCG\n",
    "ndcg = ndcg_score([corpus_relevancy_label], [ranked_relevancy])\n",
    "\n",
    "# Accuracy\n",
    "y_true = np.array(corpus_relevancy_label)\n",
    "y_pred = np.array([1 if score > 0 else 0 for _, score in rankings])\n",
    "accuracy = accuracy_score(y_true, y_pred)\n",
    "\n",
    "# Precision and Recall (using precision_recall_curve)\n",
    "precision, recall, _ = precision_recall_curve(y_true, y_pred)\n",
    "\n",
    "# Print the results\n",
    "print(f\"\\nNDCG: {ndcg}\")\n",
    "print(f\"Accuracy: {accuracy}\")\n",
    "print(f\"Precision: {precision}\")\n",
    "print(f\"Recall: {recall}\")\n"
   ],
   "metadata": {
    "colab": {
     "base_uri": "https://localhost:8080/"
    },
    "id": "2AC07hufnTTb",
    "outputId": "125a77a1-beee-452f-d918-286003decb52"
   },
   "id": "2AC07hufnTTb",
   "execution_count": 48,
   "outputs": [
    {
     "output_type": "stream",
     "name": "stdout",
     "text": [
      "Document Rankings based on BERT embeddings:\n",
      "Rank 1: Document 2 with score 0.8103365302085876\n",
      "Rank 2: Document 6 with score 0.7880857586860657\n",
      "Rank 3: Document 5 with score 0.7864925861358643\n",
      "Rank 4: Document 3 with score 0.7857746481895447\n",
      "Rank 5: Document 1 with score 0.7844794988632202\n",
      "Rank 6: Document 10 with score 0.775418758392334\n",
      "Rank 7: Document 7 with score 0.7519571781158447\n",
      "Rank 8: Document 8 with score 0.7409092783927917\n",
      "Rank 9: Document 4 with score 0.7397838234901428\n",
      "Rank 10: Document 9 with score 0.7047690153121948\n",
      "\n",
      "NDCG: 0.9081989035557798\n",
      "Accuracy: 0.5\n",
      "Precision: [0.5 1. ]\n",
      "Recall: [1. 0.]\n"
     ]
    }
   ]
  },
  {
   "cell_type": "markdown",
   "source": [
    "##總結\n"
   ],
   "metadata": {
    "id": "8aRDnFucG_AD"
   },
   "id": "8aRDnFucG_AD"
  },
  {
   "cell_type": "markdown",
   "source": [
    "1. NDCG（Normalized Discounted Cumulative Gain）\n",
    "\n",
    "Bigram TF-IDF: 0.9121\n",
    "\n",
    "BERT: 0.9082\n",
    "\n",
    "Unigram TF-IDF: 0.9038\n",
    "\n",
    "Word2Vec: 0.7407\n",
    "\n",
    " Bigram TF-IDF、BERT 和 Unigram TF-IDF 表現較為接近，都在0.9左右，Word2Vec 的 NDCG 稍微低一點。\n",
    "\n",
    "2. Accuracy（準確度）\n",
    "\n",
    "Bigram TF-IDF: 1.0\n",
    "\n",
    "Unigram TF-IDF: 0.6\n",
    "\n",
    "BERT: 0.5\n",
    "\n",
    "Word2Vec: 0.5\n",
    "\n",
    "Bigram TF-IDF 的準確度達到了100%。\n",
    "\n",
    "Unigram TF-IDF 準確度為60%，而 BERT 和 Word2Vec 的準確度只有50%。\n",
    "\n",
    "3. Precision（精確度）\n",
    "\n",
    "Bigram TF-IDF: [0.5, 1.0]\n",
    "\n",
    "BERT: [0.5, 1.0]\n",
    "\n",
    "Unigram TF-IDF: [0.5, 0.6667, 1.0, 1.0, 1.0]\n",
    "\n",
    "Word2Vec: [0.5, 0.5556, 0.625, 0.5714, 0.6667, 0.6, 0.5, 0.6667, 1.0, 1.0, 1.0]\n",
    "\n",
    "Bigram TF-IDF 和 BERT 的精確度都是從0.5開始 ，後面達到 1.0。\n",
    "\n",
    "Unigram TF-IDF 和 Word2Vec 的精確度在不同排名間會波動，代表在較低排名時會錯誤標記一些不相關的文件為相關文件。\n",
    "\n",
    "4. Recall（召回率）\n",
    "\n",
    "Bigram TF-IDF: [1.0, 0.0]\n",
    "\n",
    "BERT: [1.0, 0.0]\n",
    "\n",
    "Unigram TF-IDF: [1.0, 0.4, 0.4, 0.2, 0.0]\n",
    "\n",
    "Word2Vec: [1.0, 1.0, 1.0, 0.8, 0.8, 0.6, 0.4, 0.4, 0.4, 0.2, 0.0]\n",
    "\n",
    "Bigram TF-IDF 和 BERT 在前幾個文件中的召回率是1.0，後面就迅速下降。\n",
    "\n",
    "Unigram TF-IDF 的召回率在前幾個文檔中的表現也不錯，但是逐漸下降到0。\n",
    "\n",
    "Word2Vec 的召回率變化較為平滑，最初召回率較高，但逐漸下降到0。\n",
    "\n"
   ],
   "metadata": {
    "id": "hdrVPUUeFqDX"
   },
   "id": "hdrVPUUeFqDX"
  },
  {
   "cell_type": "markdown",
   "id": "ae9989f0-7148-4ba2-b804-2e5dbac0fbaf",
   "metadata": {
    "id": "ae9989f0-7148-4ba2-b804-2e5dbac0fbaf"
   },
   "source": [
    "### Observe the results above and discuss the following:\n",
    "- How are the results using contextualized word embeddings (BERT) different from those using Word2Vec?"
   ]
  },
  {
   "cell_type": "markdown",
   "id": "a036dbdc",
   "metadata": {
    "id": "a036dbdc"
   },
   "source": [
    "# Assignment 1"
   ]
  },
  {
   "cell_type": "markdown",
   "id": "0d5acd23-0d29-4c39-8cd8-29dcebea5d89",
   "metadata": {
    "id": "0d5acd23-0d29-4c39-8cd8-29dcebea5d89"
   },
   "source": [
    "## Part 1: Implement Bigram TF-IDF\n",
    "Using the same query and corpus, implement your own information retrival system base on bigram TF-IDF."
   ]
  },
  {
   "cell_type": "markdown",
   "id": "232e315b-b61e-41b0-b73f-72ba9f341cd4",
   "metadata": {
    "id": "232e315b-b61e-41b0-b73f-72ba9f341cd4"
   },
   "source": [
    "## Part 2: Analyze The Results from TF-IDF, Bigram TF-IDF, Word2Vec, and BERT.\n",
    "Do they successfully retrieve the relevant documents? Compare these four methods using **quantitative** (metrics we introduces in W3) and **qualitative** (case study) analysis.\n",
    "You can write your own code to compute the quantitative evaluation metrics, or use packages such as scikit-learn."
   ]
  },
  {
   "cell_type": "markdown",
   "id": "7c642674-534b-4ce3-b5d7-3d0f2a22ebe8",
   "metadata": {
    "id": "7c642674-534b-4ce3-b5d7-3d0f2a22ebe8"
   },
   "source": [
    "## 💻 Assignment Submission 💻\n",
    "Write your code and display the results in this Jupyter Notebook. Then, export it as an HTML file and submit both the Jupyter Notebook and the HTML file to Cyber University. </br>\n",
    "**Please ensure that the code is executed and the outputs are visible when exporting the HTML file.**"
   ]
  }
 ],
 "metadata": {
  "colab": {
   "provenance": []
  },
  "kernelspec": {
   "display_name": "Python 3 (ipykernel)",
   "language": "python",
   "name": "python3"
  },
  "language_info": {
   "codemirror_mode": {
    "name": "ipython",
    "version": 3
   },
   "file_extension": ".py",
   "mimetype": "text/x-python",
   "name": "python",
   "nbconvert_exporter": "python",
   "pygments_lexer": "ipython3",
   "version": "3.11.4"
  },
  "widgets": {
   "application/vnd.jupyter.widget-state+json": {
    "542d050f3bdc4f55a4fb05a5d5262fe4": {
     "model_module": "@jupyter-widgets/controls",
     "model_name": "HBoxModel",
     "model_module_version": "1.5.0",
     "state": {
      "_dom_classes": [],
      "_model_module": "@jupyter-widgets/controls",
      "_model_module_version": "1.5.0",
      "_model_name": "HBoxModel",
      "_view_count": null,
      "_view_module": "@jupyter-widgets/controls",
      "_view_module_version": "1.5.0",
      "_view_name": "HBoxView",
      "box_style": "",
      "children": [
       "IPY_MODEL_7c8599590faa4ebea3e8d34b250ae554",
       "IPY_MODEL_cc2f9b69d30e4b9b8ad2f132812ac042",
       "IPY_MODEL_eba036a11ee34e3f83f935b143084103"
      ],
      "layout": "IPY_MODEL_081da616fc6c4928b741fc5d90e361d4"
     }
    },
    "7c8599590faa4ebea3e8d34b250ae554": {
     "model_module": "@jupyter-widgets/controls",
     "model_name": "HTMLModel",
     "model_module_version": "1.5.0",
     "state": {
      "_dom_classes": [],
      "_model_module": "@jupyter-widgets/controls",
      "_model_module_version": "1.5.0",
      "_model_name": "HTMLModel",
      "_view_count": null,
      "_view_module": "@jupyter-widgets/controls",
      "_view_module_version": "1.5.0",
      "_view_name": "HTMLView",
      "description": "",
      "description_tooltip": null,
      "layout": "IPY_MODEL_ab7b3d6f7e284266b71e794ee889424f",
      "placeholder": "​",
      "style": "IPY_MODEL_78c313af3ee240368e386553fafe5788",
      "value": "tokenizer_config.json: 100%"
     }
    },
    "cc2f9b69d30e4b9b8ad2f132812ac042": {
     "model_module": "@jupyter-widgets/controls",
     "model_name": "FloatProgressModel",
     "model_module_version": "1.5.0",
     "state": {
      "_dom_classes": [],
      "_model_module": "@jupyter-widgets/controls",
      "_model_module_version": "1.5.0",
      "_model_name": "FloatProgressModel",
      "_view_count": null,
      "_view_module": "@jupyter-widgets/controls",
      "_view_module_version": "1.5.0",
      "_view_name": "ProgressView",
      "bar_style": "success",
      "description": "",
      "description_tooltip": null,
      "layout": "IPY_MODEL_828ea39354404030976cd70dd589970c",
      "max": 48,
      "min": 0,
      "orientation": "horizontal",
      "style": "IPY_MODEL_02c04f2e21294b6ca825a24335d01237",
      "value": 48
     }
    },
    "eba036a11ee34e3f83f935b143084103": {
     "model_module": "@jupyter-widgets/controls",
     "model_name": "HTMLModel",
     "model_module_version": "1.5.0",
     "state": {
      "_dom_classes": [],
      "_model_module": "@jupyter-widgets/controls",
      "_model_module_version": "1.5.0",
      "_model_name": "HTMLModel",
      "_view_count": null,
      "_view_module": "@jupyter-widgets/controls",
      "_view_module_version": "1.5.0",
      "_view_name": "HTMLView",
      "description": "",
      "description_tooltip": null,
      "layout": "IPY_MODEL_ba8154761bbe45b9b15018b4a0478ece",
      "placeholder": "​",
      "style": "IPY_MODEL_d4f85dffb5f648619d959635d7b036fc",
      "value": " 48.0/48.0 [00:00&lt;00:00, 1.28kB/s]"
     }
    },
    "081da616fc6c4928b741fc5d90e361d4": {
     "model_module": "@jupyter-widgets/base",
     "model_name": "LayoutModel",
     "model_module_version": "1.2.0",
     "state": {
      "_model_module": "@jupyter-widgets/base",
      "_model_module_version": "1.2.0",
      "_model_name": "LayoutModel",
      "_view_count": null,
      "_view_module": "@jupyter-widgets/base",
      "_view_module_version": "1.2.0",
      "_view_name": "LayoutView",
      "align_content": null,
      "align_items": null,
      "align_self": null,
      "border": null,
      "bottom": null,
      "display": null,
      "flex": null,
      "flex_flow": null,
      "grid_area": null,
      "grid_auto_columns": null,
      "grid_auto_flow": null,
      "grid_auto_rows": null,
      "grid_column": null,
      "grid_gap": null,
      "grid_row": null,
      "grid_template_areas": null,
      "grid_template_columns": null,
      "grid_template_rows": null,
      "height": null,
      "justify_content": null,
      "justify_items": null,
      "left": null,
      "margin": null,
      "max_height": null,
      "max_width": null,
      "min_height": null,
      "min_width": null,
      "object_fit": null,
      "object_position": null,
      "order": null,
      "overflow": null,
      "overflow_x": null,
      "overflow_y": null,
      "padding": null,
      "right": null,
      "top": null,
      "visibility": null,
      "width": null
     }
    },
    "ab7b3d6f7e284266b71e794ee889424f": {
     "model_module": "@jupyter-widgets/base",
     "model_name": "LayoutModel",
     "model_module_version": "1.2.0",
     "state": {
      "_model_module": "@jupyter-widgets/base",
      "_model_module_version": "1.2.0",
      "_model_name": "LayoutModel",
      "_view_count": null,
      "_view_module": "@jupyter-widgets/base",
      "_view_module_version": "1.2.0",
      "_view_name": "LayoutView",
      "align_content": null,
      "align_items": null,
      "align_self": null,
      "border": null,
      "bottom": null,
      "display": null,
      "flex": null,
      "flex_flow": null,
      "grid_area": null,
      "grid_auto_columns": null,
      "grid_auto_flow": null,
      "grid_auto_rows": null,
      "grid_column": null,
      "grid_gap": null,
      "grid_row": null,
      "grid_template_areas": null,
      "grid_template_columns": null,
      "grid_template_rows": null,
      "height": null,
      "justify_content": null,
      "justify_items": null,
      "left": null,
      "margin": null,
      "max_height": null,
      "max_width": null,
      "min_height": null,
      "min_width": null,
      "object_fit": null,
      "object_position": null,
      "order": null,
      "overflow": null,
      "overflow_x": null,
      "overflow_y": null,
      "padding": null,
      "right": null,
      "top": null,
      "visibility": null,
      "width": null
     }
    },
    "78c313af3ee240368e386553fafe5788": {
     "model_module": "@jupyter-widgets/controls",
     "model_name": "DescriptionStyleModel",
     "model_module_version": "1.5.0",
     "state": {
      "_model_module": "@jupyter-widgets/controls",
      "_model_module_version": "1.5.0",
      "_model_name": "DescriptionStyleModel",
      "_view_count": null,
      "_view_module": "@jupyter-widgets/base",
      "_view_module_version": "1.2.0",
      "_view_name": "StyleView",
      "description_width": ""
     }
    },
    "828ea39354404030976cd70dd589970c": {
     "model_module": "@jupyter-widgets/base",
     "model_name": "LayoutModel",
     "model_module_version": "1.2.0",
     "state": {
      "_model_module": "@jupyter-widgets/base",
      "_model_module_version": "1.2.0",
      "_model_name": "LayoutModel",
      "_view_count": null,
      "_view_module": "@jupyter-widgets/base",
      "_view_module_version": "1.2.0",
      "_view_name": "LayoutView",
      "align_content": null,
      "align_items": null,
      "align_self": null,
      "border": null,
      "bottom": null,
      "display": null,
      "flex": null,
      "flex_flow": null,
      "grid_area": null,
      "grid_auto_columns": null,
      "grid_auto_flow": null,
      "grid_auto_rows": null,
      "grid_column": null,
      "grid_gap": null,
      "grid_row": null,
      "grid_template_areas": null,
      "grid_template_columns": null,
      "grid_template_rows": null,
      "height": null,
      "justify_content": null,
      "justify_items": null,
      "left": null,
      "margin": null,
      "max_height": null,
      "max_width": null,
      "min_height": null,
      "min_width": null,
      "object_fit": null,
      "object_position": null,
      "order": null,
      "overflow": null,
      "overflow_x": null,
      "overflow_y": null,
      "padding": null,
      "right": null,
      "top": null,
      "visibility": null,
      "width": null
     }
    },
    "02c04f2e21294b6ca825a24335d01237": {
     "model_module": "@jupyter-widgets/controls",
     "model_name": "ProgressStyleModel",
     "model_module_version": "1.5.0",
     "state": {
      "_model_module": "@jupyter-widgets/controls",
      "_model_module_version": "1.5.0",
      "_model_name": "ProgressStyleModel",
      "_view_count": null,
      "_view_module": "@jupyter-widgets/base",
      "_view_module_version": "1.2.0",
      "_view_name": "StyleView",
      "bar_color": null,
      "description_width": ""
     }
    },
    "ba8154761bbe45b9b15018b4a0478ece": {
     "model_module": "@jupyter-widgets/base",
     "model_name": "LayoutModel",
     "model_module_version": "1.2.0",
     "state": {
      "_model_module": "@jupyter-widgets/base",
      "_model_module_version": "1.2.0",
      "_model_name": "LayoutModel",
      "_view_count": null,
      "_view_module": "@jupyter-widgets/base",
      "_view_module_version": "1.2.0",
      "_view_name": "LayoutView",
      "align_content": null,
      "align_items": null,
      "align_self": null,
      "border": null,
      "bottom": null,
      "display": null,
      "flex": null,
      "flex_flow": null,
      "grid_area": null,
      "grid_auto_columns": null,
      "grid_auto_flow": null,
      "grid_auto_rows": null,
      "grid_column": null,
      "grid_gap": null,
      "grid_row": null,
      "grid_template_areas": null,
      "grid_template_columns": null,
      "grid_template_rows": null,
      "height": null,
      "justify_content": null,
      "justify_items": null,
      "left": null,
      "margin": null,
      "max_height": null,
      "max_width": null,
      "min_height": null,
      "min_width": null,
      "object_fit": null,
      "object_position": null,
      "order": null,
      "overflow": null,
      "overflow_x": null,
      "overflow_y": null,
      "padding": null,
      "right": null,
      "top": null,
      "visibility": null,
      "width": null
     }
    },
    "d4f85dffb5f648619d959635d7b036fc": {
     "model_module": "@jupyter-widgets/controls",
     "model_name": "DescriptionStyleModel",
     "model_module_version": "1.5.0",
     "state": {
      "_model_module": "@jupyter-widgets/controls",
      "_model_module_version": "1.5.0",
      "_model_name": "DescriptionStyleModel",
      "_view_count": null,
      "_view_module": "@jupyter-widgets/base",
      "_view_module_version": "1.2.0",
      "_view_name": "StyleView",
      "description_width": ""
     }
    },
    "5969269dcf4e45d69754055e2b86bb63": {
     "model_module": "@jupyter-widgets/controls",
     "model_name": "HBoxModel",
     "model_module_version": "1.5.0",
     "state": {
      "_dom_classes": [],
      "_model_module": "@jupyter-widgets/controls",
      "_model_module_version": "1.5.0",
      "_model_name": "HBoxModel",
      "_view_count": null,
      "_view_module": "@jupyter-widgets/controls",
      "_view_module_version": "1.5.0",
      "_view_name": "HBoxView",
      "box_style": "",
      "children": [
       "IPY_MODEL_9c1e8c76ece64b39878f6cb71f97f184",
       "IPY_MODEL_1dd78aabddb44c42b7abe76471a6d866",
       "IPY_MODEL_82dbcad0276645fcad8bd7230aa34cda"
      ],
      "layout": "IPY_MODEL_3757a481f5504615bb4bf2997fab333c"
     }
    },
    "9c1e8c76ece64b39878f6cb71f97f184": {
     "model_module": "@jupyter-widgets/controls",
     "model_name": "HTMLModel",
     "model_module_version": "1.5.0",
     "state": {
      "_dom_classes": [],
      "_model_module": "@jupyter-widgets/controls",
      "_model_module_version": "1.5.0",
      "_model_name": "HTMLModel",
      "_view_count": null,
      "_view_module": "@jupyter-widgets/controls",
      "_view_module_version": "1.5.0",
      "_view_name": "HTMLView",
      "description": "",
      "description_tooltip": null,
      "layout": "IPY_MODEL_281c299b9c424b2cadc8d3e655b63881",
      "placeholder": "​",
      "style": "IPY_MODEL_b4bc1cacc38b41ea847bfc7cf893708d",
      "value": "vocab.txt: 100%"
     }
    },
    "1dd78aabddb44c42b7abe76471a6d866": {
     "model_module": "@jupyter-widgets/controls",
     "model_name": "FloatProgressModel",
     "model_module_version": "1.5.0",
     "state": {
      "_dom_classes": [],
      "_model_module": "@jupyter-widgets/controls",
      "_model_module_version": "1.5.0",
      "_model_name": "FloatProgressModel",
      "_view_count": null,
      "_view_module": "@jupyter-widgets/controls",
      "_view_module_version": "1.5.0",
      "_view_name": "ProgressView",
      "bar_style": "success",
      "description": "",
      "description_tooltip": null,
      "layout": "IPY_MODEL_cd86cc23bf2b49139ff5ac04af798705",
      "max": 231508,
      "min": 0,
      "orientation": "horizontal",
      "style": "IPY_MODEL_148417d8b54a46df89aac9daee4a6526",
      "value": 231508
     }
    },
    "82dbcad0276645fcad8bd7230aa34cda": {
     "model_module": "@jupyter-widgets/controls",
     "model_name": "HTMLModel",
     "model_module_version": "1.5.0",
     "state": {
      "_dom_classes": [],
      "_model_module": "@jupyter-widgets/controls",
      "_model_module_version": "1.5.0",
      "_model_name": "HTMLModel",
      "_view_count": null,
      "_view_module": "@jupyter-widgets/controls",
      "_view_module_version": "1.5.0",
      "_view_name": "HTMLView",
      "description": "",
      "description_tooltip": null,
      "layout": "IPY_MODEL_8445c322725d476abf203562b4598132",
      "placeholder": "​",
      "style": "IPY_MODEL_4cfd7959be184451a177c065c9bd6734",
      "value": " 232k/232k [00:00&lt;00:00, 1.65MB/s]"
     }
    },
    "3757a481f5504615bb4bf2997fab333c": {
     "model_module": "@jupyter-widgets/base",
     "model_name": "LayoutModel",
     "model_module_version": "1.2.0",
     "state": {
      "_model_module": "@jupyter-widgets/base",
      "_model_module_version": "1.2.0",
      "_model_name": "LayoutModel",
      "_view_count": null,
      "_view_module": "@jupyter-widgets/base",
      "_view_module_version": "1.2.0",
      "_view_name": "LayoutView",
      "align_content": null,
      "align_items": null,
      "align_self": null,
      "border": null,
      "bottom": null,
      "display": null,
      "flex": null,
      "flex_flow": null,
      "grid_area": null,
      "grid_auto_columns": null,
      "grid_auto_flow": null,
      "grid_auto_rows": null,
      "grid_column": null,
      "grid_gap": null,
      "grid_row": null,
      "grid_template_areas": null,
      "grid_template_columns": null,
      "grid_template_rows": null,
      "height": null,
      "justify_content": null,
      "justify_items": null,
      "left": null,
      "margin": null,
      "max_height": null,
      "max_width": null,
      "min_height": null,
      "min_width": null,
      "object_fit": null,
      "object_position": null,
      "order": null,
      "overflow": null,
      "overflow_x": null,
      "overflow_y": null,
      "padding": null,
      "right": null,
      "top": null,
      "visibility": null,
      "width": null
     }
    },
    "281c299b9c424b2cadc8d3e655b63881": {
     "model_module": "@jupyter-widgets/base",
     "model_name": "LayoutModel",
     "model_module_version": "1.2.0",
     "state": {
      "_model_module": "@jupyter-widgets/base",
      "_model_module_version": "1.2.0",
      "_model_name": "LayoutModel",
      "_view_count": null,
      "_view_module": "@jupyter-widgets/base",
      "_view_module_version": "1.2.0",
      "_view_name": "LayoutView",
      "align_content": null,
      "align_items": null,
      "align_self": null,
      "border": null,
      "bottom": null,
      "display": null,
      "flex": null,
      "flex_flow": null,
      "grid_area": null,
      "grid_auto_columns": null,
      "grid_auto_flow": null,
      "grid_auto_rows": null,
      "grid_column": null,
      "grid_gap": null,
      "grid_row": null,
      "grid_template_areas": null,
      "grid_template_columns": null,
      "grid_template_rows": null,
      "height": null,
      "justify_content": null,
      "justify_items": null,
      "left": null,
      "margin": null,
      "max_height": null,
      "max_width": null,
      "min_height": null,
      "min_width": null,
      "object_fit": null,
      "object_position": null,
      "order": null,
      "overflow": null,
      "overflow_x": null,
      "overflow_y": null,
      "padding": null,
      "right": null,
      "top": null,
      "visibility": null,
      "width": null
     }
    },
    "b4bc1cacc38b41ea847bfc7cf893708d": {
     "model_module": "@jupyter-widgets/controls",
     "model_name": "DescriptionStyleModel",
     "model_module_version": "1.5.0",
     "state": {
      "_model_module": "@jupyter-widgets/controls",
      "_model_module_version": "1.5.0",
      "_model_name": "DescriptionStyleModel",
      "_view_count": null,
      "_view_module": "@jupyter-widgets/base",
      "_view_module_version": "1.2.0",
      "_view_name": "StyleView",
      "description_width": ""
     }
    },
    "cd86cc23bf2b49139ff5ac04af798705": {
     "model_module": "@jupyter-widgets/base",
     "model_name": "LayoutModel",
     "model_module_version": "1.2.0",
     "state": {
      "_model_module": "@jupyter-widgets/base",
      "_model_module_version": "1.2.0",
      "_model_name": "LayoutModel",
      "_view_count": null,
      "_view_module": "@jupyter-widgets/base",
      "_view_module_version": "1.2.0",
      "_view_name": "LayoutView",
      "align_content": null,
      "align_items": null,
      "align_self": null,
      "border": null,
      "bottom": null,
      "display": null,
      "flex": null,
      "flex_flow": null,
      "grid_area": null,
      "grid_auto_columns": null,
      "grid_auto_flow": null,
      "grid_auto_rows": null,
      "grid_column": null,
      "grid_gap": null,
      "grid_row": null,
      "grid_template_areas": null,
      "grid_template_columns": null,
      "grid_template_rows": null,
      "height": null,
      "justify_content": null,
      "justify_items": null,
      "left": null,
      "margin": null,
      "max_height": null,
      "max_width": null,
      "min_height": null,
      "min_width": null,
      "object_fit": null,
      "object_position": null,
      "order": null,
      "overflow": null,
      "overflow_x": null,
      "overflow_y": null,
      "padding": null,
      "right": null,
      "top": null,
      "visibility": null,
      "width": null
     }
    },
    "148417d8b54a46df89aac9daee4a6526": {
     "model_module": "@jupyter-widgets/controls",
     "model_name": "ProgressStyleModel",
     "model_module_version": "1.5.0",
     "state": {
      "_model_module": "@jupyter-widgets/controls",
      "_model_module_version": "1.5.0",
      "_model_name": "ProgressStyleModel",
      "_view_count": null,
      "_view_module": "@jupyter-widgets/base",
      "_view_module_version": "1.2.0",
      "_view_name": "StyleView",
      "bar_color": null,
      "description_width": ""
     }
    },
    "8445c322725d476abf203562b4598132": {
     "model_module": "@jupyter-widgets/base",
     "model_name": "LayoutModel",
     "model_module_version": "1.2.0",
     "state": {
      "_model_module": "@jupyter-widgets/base",
      "_model_module_version": "1.2.0",
      "_model_name": "LayoutModel",
      "_view_count": null,
      "_view_module": "@jupyter-widgets/base",
      "_view_module_version": "1.2.0",
      "_view_name": "LayoutView",
      "align_content": null,
      "align_items": null,
      "align_self": null,
      "border": null,
      "bottom": null,
      "display": null,
      "flex": null,
      "flex_flow": null,
      "grid_area": null,
      "grid_auto_columns": null,
      "grid_auto_flow": null,
      "grid_auto_rows": null,
      "grid_column": null,
      "grid_gap": null,
      "grid_row": null,
      "grid_template_areas": null,
      "grid_template_columns": null,
      "grid_template_rows": null,
      "height": null,
      "justify_content": null,
      "justify_items": null,
      "left": null,
      "margin": null,
      "max_height": null,
      "max_width": null,
      "min_height": null,
      "min_width": null,
      "object_fit": null,
      "object_position": null,
      "order": null,
      "overflow": null,
      "overflow_x": null,
      "overflow_y": null,
      "padding": null,
      "right": null,
      "top": null,
      "visibility": null,
      "width": null
     }
    },
    "4cfd7959be184451a177c065c9bd6734": {
     "model_module": "@jupyter-widgets/controls",
     "model_name": "DescriptionStyleModel",
     "model_module_version": "1.5.0",
     "state": {
      "_model_module": "@jupyter-widgets/controls",
      "_model_module_version": "1.5.0",
      "_model_name": "DescriptionStyleModel",
      "_view_count": null,
      "_view_module": "@jupyter-widgets/base",
      "_view_module_version": "1.2.0",
      "_view_name": "StyleView",
      "description_width": ""
     }
    },
    "7cc92c361b634a96bc22e00e0d9d6fb7": {
     "model_module": "@jupyter-widgets/controls",
     "model_name": "HBoxModel",
     "model_module_version": "1.5.0",
     "state": {
      "_dom_classes": [],
      "_model_module": "@jupyter-widgets/controls",
      "_model_module_version": "1.5.0",
      "_model_name": "HBoxModel",
      "_view_count": null,
      "_view_module": "@jupyter-widgets/controls",
      "_view_module_version": "1.5.0",
      "_view_name": "HBoxView",
      "box_style": "",
      "children": [
       "IPY_MODEL_80ea70e23c454cafa45c76d90637b986",
       "IPY_MODEL_59489e5c6a2f464eb082c0f5e8ceed72",
       "IPY_MODEL_f074b11ba6304392a484a68a1fe19aab"
      ],
      "layout": "IPY_MODEL_79b83b6b16e940959e424182dcf4b902"
     }
    },
    "80ea70e23c454cafa45c76d90637b986": {
     "model_module": "@jupyter-widgets/controls",
     "model_name": "HTMLModel",
     "model_module_version": "1.5.0",
     "state": {
      "_dom_classes": [],
      "_model_module": "@jupyter-widgets/controls",
      "_model_module_version": "1.5.0",
      "_model_name": "HTMLModel",
      "_view_count": null,
      "_view_module": "@jupyter-widgets/controls",
      "_view_module_version": "1.5.0",
      "_view_name": "HTMLView",
      "description": "",
      "description_tooltip": null,
      "layout": "IPY_MODEL_806f7def89904bdc92d6c60f1f1d4860",
      "placeholder": "​",
      "style": "IPY_MODEL_53dc90ec74c1462baf032e6438256ee0",
      "value": "tokenizer.json: 100%"
     }
    },
    "59489e5c6a2f464eb082c0f5e8ceed72": {
     "model_module": "@jupyter-widgets/controls",
     "model_name": "FloatProgressModel",
     "model_module_version": "1.5.0",
     "state": {
      "_dom_classes": [],
      "_model_module": "@jupyter-widgets/controls",
      "_model_module_version": "1.5.0",
      "_model_name": "FloatProgressModel",
      "_view_count": null,
      "_view_module": "@jupyter-widgets/controls",
      "_view_module_version": "1.5.0",
      "_view_name": "ProgressView",
      "bar_style": "success",
      "description": "",
      "description_tooltip": null,
      "layout": "IPY_MODEL_e44defc63a744ca791f5cec09a538806",
      "max": 466062,
      "min": 0,
      "orientation": "horizontal",
      "style": "IPY_MODEL_cb18c78307564d87bb1c1034778d1be5",
      "value": 466062
     }
    },
    "f074b11ba6304392a484a68a1fe19aab": {
     "model_module": "@jupyter-widgets/controls",
     "model_name": "HTMLModel",
     "model_module_version": "1.5.0",
     "state": {
      "_dom_classes": [],
      "_model_module": "@jupyter-widgets/controls",
      "_model_module_version": "1.5.0",
      "_model_name": "HTMLModel",
      "_view_count": null,
      "_view_module": "@jupyter-widgets/controls",
      "_view_module_version": "1.5.0",
      "_view_name": "HTMLView",
      "description": "",
      "description_tooltip": null,
      "layout": "IPY_MODEL_59c3d1013079483bb97157e26335fd8b",
      "placeholder": "​",
      "style": "IPY_MODEL_c7d20d6f91c942ad8aa4bbf405f614ff",
      "value": " 466k/466k [00:00&lt;00:00, 3.15MB/s]"
     }
    },
    "79b83b6b16e940959e424182dcf4b902": {
     "model_module": "@jupyter-widgets/base",
     "model_name": "LayoutModel",
     "model_module_version": "1.2.0",
     "state": {
      "_model_module": "@jupyter-widgets/base",
      "_model_module_version": "1.2.0",
      "_model_name": "LayoutModel",
      "_view_count": null,
      "_view_module": "@jupyter-widgets/base",
      "_view_module_version": "1.2.0",
      "_view_name": "LayoutView",
      "align_content": null,
      "align_items": null,
      "align_self": null,
      "border": null,
      "bottom": null,
      "display": null,
      "flex": null,
      "flex_flow": null,
      "grid_area": null,
      "grid_auto_columns": null,
      "grid_auto_flow": null,
      "grid_auto_rows": null,
      "grid_column": null,
      "grid_gap": null,
      "grid_row": null,
      "grid_template_areas": null,
      "grid_template_columns": null,
      "grid_template_rows": null,
      "height": null,
      "justify_content": null,
      "justify_items": null,
      "left": null,
      "margin": null,
      "max_height": null,
      "max_width": null,
      "min_height": null,
      "min_width": null,
      "object_fit": null,
      "object_position": null,
      "order": null,
      "overflow": null,
      "overflow_x": null,
      "overflow_y": null,
      "padding": null,
      "right": null,
      "top": null,
      "visibility": null,
      "width": null
     }
    },
    "806f7def89904bdc92d6c60f1f1d4860": {
     "model_module": "@jupyter-widgets/base",
     "model_name": "LayoutModel",
     "model_module_version": "1.2.0",
     "state": {
      "_model_module": "@jupyter-widgets/base",
      "_model_module_version": "1.2.0",
      "_model_name": "LayoutModel",
      "_view_count": null,
      "_view_module": "@jupyter-widgets/base",
      "_view_module_version": "1.2.0",
      "_view_name": "LayoutView",
      "align_content": null,
      "align_items": null,
      "align_self": null,
      "border": null,
      "bottom": null,
      "display": null,
      "flex": null,
      "flex_flow": null,
      "grid_area": null,
      "grid_auto_columns": null,
      "grid_auto_flow": null,
      "grid_auto_rows": null,
      "grid_column": null,
      "grid_gap": null,
      "grid_row": null,
      "grid_template_areas": null,
      "grid_template_columns": null,
      "grid_template_rows": null,
      "height": null,
      "justify_content": null,
      "justify_items": null,
      "left": null,
      "margin": null,
      "max_height": null,
      "max_width": null,
      "min_height": null,
      "min_width": null,
      "object_fit": null,
      "object_position": null,
      "order": null,
      "overflow": null,
      "overflow_x": null,
      "overflow_y": null,
      "padding": null,
      "right": null,
      "top": null,
      "visibility": null,
      "width": null
     }
    },
    "53dc90ec74c1462baf032e6438256ee0": {
     "model_module": "@jupyter-widgets/controls",
     "model_name": "DescriptionStyleModel",
     "model_module_version": "1.5.0",
     "state": {
      "_model_module": "@jupyter-widgets/controls",
      "_model_module_version": "1.5.0",
      "_model_name": "DescriptionStyleModel",
      "_view_count": null,
      "_view_module": "@jupyter-widgets/base",
      "_view_module_version": "1.2.0",
      "_view_name": "StyleView",
      "description_width": ""
     }
    },
    "e44defc63a744ca791f5cec09a538806": {
     "model_module": "@jupyter-widgets/base",
     "model_name": "LayoutModel",
     "model_module_version": "1.2.0",
     "state": {
      "_model_module": "@jupyter-widgets/base",
      "_model_module_version": "1.2.0",
      "_model_name": "LayoutModel",
      "_view_count": null,
      "_view_module": "@jupyter-widgets/base",
      "_view_module_version": "1.2.0",
      "_view_name": "LayoutView",
      "align_content": null,
      "align_items": null,
      "align_self": null,
      "border": null,
      "bottom": null,
      "display": null,
      "flex": null,
      "flex_flow": null,
      "grid_area": null,
      "grid_auto_columns": null,
      "grid_auto_flow": null,
      "grid_auto_rows": null,
      "grid_column": null,
      "grid_gap": null,
      "grid_row": null,
      "grid_template_areas": null,
      "grid_template_columns": null,
      "grid_template_rows": null,
      "height": null,
      "justify_content": null,
      "justify_items": null,
      "left": null,
      "margin": null,
      "max_height": null,
      "max_width": null,
      "min_height": null,
      "min_width": null,
      "object_fit": null,
      "object_position": null,
      "order": null,
      "overflow": null,
      "overflow_x": null,
      "overflow_y": null,
      "padding": null,
      "right": null,
      "top": null,
      "visibility": null,
      "width": null
     }
    },
    "cb18c78307564d87bb1c1034778d1be5": {
     "model_module": "@jupyter-widgets/controls",
     "model_name": "ProgressStyleModel",
     "model_module_version": "1.5.0",
     "state": {
      "_model_module": "@jupyter-widgets/controls",
      "_model_module_version": "1.5.0",
      "_model_name": "ProgressStyleModel",
      "_view_count": null,
      "_view_module": "@jupyter-widgets/base",
      "_view_module_version": "1.2.0",
      "_view_name": "StyleView",
      "bar_color": null,
      "description_width": ""
     }
    },
    "59c3d1013079483bb97157e26335fd8b": {
     "model_module": "@jupyter-widgets/base",
     "model_name": "LayoutModel",
     "model_module_version": "1.2.0",
     "state": {
      "_model_module": "@jupyter-widgets/base",
      "_model_module_version": "1.2.0",
      "_model_name": "LayoutModel",
      "_view_count": null,
      "_view_module": "@jupyter-widgets/base",
      "_view_module_version": "1.2.0",
      "_view_name": "LayoutView",
      "align_content": null,
      "align_items": null,
      "align_self": null,
      "border": null,
      "bottom": null,
      "display": null,
      "flex": null,
      "flex_flow": null,
      "grid_area": null,
      "grid_auto_columns": null,
      "grid_auto_flow": null,
      "grid_auto_rows": null,
      "grid_column": null,
      "grid_gap": null,
      "grid_row": null,
      "grid_template_areas": null,
      "grid_template_columns": null,
      "grid_template_rows": null,
      "height": null,
      "justify_content": null,
      "justify_items": null,
      "left": null,
      "margin": null,
      "max_height": null,
      "max_width": null,
      "min_height": null,
      "min_width": null,
      "object_fit": null,
      "object_position": null,
      "order": null,
      "overflow": null,
      "overflow_x": null,
      "overflow_y": null,
      "padding": null,
      "right": null,
      "top": null,
      "visibility": null,
      "width": null
     }
    },
    "c7d20d6f91c942ad8aa4bbf405f614ff": {
     "model_module": "@jupyter-widgets/controls",
     "model_name": "DescriptionStyleModel",
     "model_module_version": "1.5.0",
     "state": {
      "_model_module": "@jupyter-widgets/controls",
      "_model_module_version": "1.5.0",
      "_model_name": "DescriptionStyleModel",
      "_view_count": null,
      "_view_module": "@jupyter-widgets/base",
      "_view_module_version": "1.2.0",
      "_view_name": "StyleView",
      "description_width": ""
     }
    },
    "9cf6bc6699494f2fb2a48a01e4f2ee04": {
     "model_module": "@jupyter-widgets/controls",
     "model_name": "HBoxModel",
     "model_module_version": "1.5.0",
     "state": {
      "_dom_classes": [],
      "_model_module": "@jupyter-widgets/controls",
      "_model_module_version": "1.5.0",
      "_model_name": "HBoxModel",
      "_view_count": null,
      "_view_module": "@jupyter-widgets/controls",
      "_view_module_version": "1.5.0",
      "_view_name": "HBoxView",
      "box_style": "",
      "children": [
       "IPY_MODEL_11c7b37d6255438e8d3ba04e4c2f14e6",
       "IPY_MODEL_e7e38fc1a62a4ce1a9da8af31c23f89a",
       "IPY_MODEL_c5ff77fad18c462693e76c04b9e13431"
      ],
      "layout": "IPY_MODEL_f20bb6dc0fbc4cbc9b215b3a962b7cf8"
     }
    },
    "11c7b37d6255438e8d3ba04e4c2f14e6": {
     "model_module": "@jupyter-widgets/controls",
     "model_name": "HTMLModel",
     "model_module_version": "1.5.0",
     "state": {
      "_dom_classes": [],
      "_model_module": "@jupyter-widgets/controls",
      "_model_module_version": "1.5.0",
      "_model_name": "HTMLModel",
      "_view_count": null,
      "_view_module": "@jupyter-widgets/controls",
      "_view_module_version": "1.5.0",
      "_view_name": "HTMLView",
      "description": "",
      "description_tooltip": null,
      "layout": "IPY_MODEL_0379f776a98a4c1a8ba2f340af49e79e",
      "placeholder": "​",
      "style": "IPY_MODEL_24b03c4636d4414ea868ca32519febe9",
      "value": "config.json: 100%"
     }
    },
    "e7e38fc1a62a4ce1a9da8af31c23f89a": {
     "model_module": "@jupyter-widgets/controls",
     "model_name": "FloatProgressModel",
     "model_module_version": "1.5.0",
     "state": {
      "_dom_classes": [],
      "_model_module": "@jupyter-widgets/controls",
      "_model_module_version": "1.5.0",
      "_model_name": "FloatProgressModel",
      "_view_count": null,
      "_view_module": "@jupyter-widgets/controls",
      "_view_module_version": "1.5.0",
      "_view_name": "ProgressView",
      "bar_style": "success",
      "description": "",
      "description_tooltip": null,
      "layout": "IPY_MODEL_f2058ae9ec4b4abfb19e3bf7ac4eed41",
      "max": 570,
      "min": 0,
      "orientation": "horizontal",
      "style": "IPY_MODEL_ccb54e9287874e3fa2745edcac52a586",
      "value": 570
     }
    },
    "c5ff77fad18c462693e76c04b9e13431": {
     "model_module": "@jupyter-widgets/controls",
     "model_name": "HTMLModel",
     "model_module_version": "1.5.0",
     "state": {
      "_dom_classes": [],
      "_model_module": "@jupyter-widgets/controls",
      "_model_module_version": "1.5.0",
      "_model_name": "HTMLModel",
      "_view_count": null,
      "_view_module": "@jupyter-widgets/controls",
      "_view_module_version": "1.5.0",
      "_view_name": "HTMLView",
      "description": "",
      "description_tooltip": null,
      "layout": "IPY_MODEL_5d8808c1b6504383b84c40d68e09300d",
      "placeholder": "​",
      "style": "IPY_MODEL_210b5e76771d4d80849043dc6f2ca58e",
      "value": " 570/570 [00:00&lt;00:00, 5.40kB/s]"
     }
    },
    "f20bb6dc0fbc4cbc9b215b3a962b7cf8": {
     "model_module": "@jupyter-widgets/base",
     "model_name": "LayoutModel",
     "model_module_version": "1.2.0",
     "state": {
      "_model_module": "@jupyter-widgets/base",
      "_model_module_version": "1.2.0",
      "_model_name": "LayoutModel",
      "_view_count": null,
      "_view_module": "@jupyter-widgets/base",
      "_view_module_version": "1.2.0",
      "_view_name": "LayoutView",
      "align_content": null,
      "align_items": null,
      "align_self": null,
      "border": null,
      "bottom": null,
      "display": null,
      "flex": null,
      "flex_flow": null,
      "grid_area": null,
      "grid_auto_columns": null,
      "grid_auto_flow": null,
      "grid_auto_rows": null,
      "grid_column": null,
      "grid_gap": null,
      "grid_row": null,
      "grid_template_areas": null,
      "grid_template_columns": null,
      "grid_template_rows": null,
      "height": null,
      "justify_content": null,
      "justify_items": null,
      "left": null,
      "margin": null,
      "max_height": null,
      "max_width": null,
      "min_height": null,
      "min_width": null,
      "object_fit": null,
      "object_position": null,
      "order": null,
      "overflow": null,
      "overflow_x": null,
      "overflow_y": null,
      "padding": null,
      "right": null,
      "top": null,
      "visibility": null,
      "width": null
     }
    },
    "0379f776a98a4c1a8ba2f340af49e79e": {
     "model_module": "@jupyter-widgets/base",
     "model_name": "LayoutModel",
     "model_module_version": "1.2.0",
     "state": {
      "_model_module": "@jupyter-widgets/base",
      "_model_module_version": "1.2.0",
      "_model_name": "LayoutModel",
      "_view_count": null,
      "_view_module": "@jupyter-widgets/base",
      "_view_module_version": "1.2.0",
      "_view_name": "LayoutView",
      "align_content": null,
      "align_items": null,
      "align_self": null,
      "border": null,
      "bottom": null,
      "display": null,
      "flex": null,
      "flex_flow": null,
      "grid_area": null,
      "grid_auto_columns": null,
      "grid_auto_flow": null,
      "grid_auto_rows": null,
      "grid_column": null,
      "grid_gap": null,
      "grid_row": null,
      "grid_template_areas": null,
      "grid_template_columns": null,
      "grid_template_rows": null,
      "height": null,
      "justify_content": null,
      "justify_items": null,
      "left": null,
      "margin": null,
      "max_height": null,
      "max_width": null,
      "min_height": null,
      "min_width": null,
      "object_fit": null,
      "object_position": null,
      "order": null,
      "overflow": null,
      "overflow_x": null,
      "overflow_y": null,
      "padding": null,
      "right": null,
      "top": null,
      "visibility": null,
      "width": null
     }
    },
    "24b03c4636d4414ea868ca32519febe9": {
     "model_module": "@jupyter-widgets/controls",
     "model_name": "DescriptionStyleModel",
     "model_module_version": "1.5.0",
     "state": {
      "_model_module": "@jupyter-widgets/controls",
      "_model_module_version": "1.5.0",
      "_model_name": "DescriptionStyleModel",
      "_view_count": null,
      "_view_module": "@jupyter-widgets/base",
      "_view_module_version": "1.2.0",
      "_view_name": "StyleView",
      "description_width": ""
     }
    },
    "f2058ae9ec4b4abfb19e3bf7ac4eed41": {
     "model_module": "@jupyter-widgets/base",
     "model_name": "LayoutModel",
     "model_module_version": "1.2.0",
     "state": {
      "_model_module": "@jupyter-widgets/base",
      "_model_module_version": "1.2.0",
      "_model_name": "LayoutModel",
      "_view_count": null,
      "_view_module": "@jupyter-widgets/base",
      "_view_module_version": "1.2.0",
      "_view_name": "LayoutView",
      "align_content": null,
      "align_items": null,
      "align_self": null,
      "border": null,
      "bottom": null,
      "display": null,
      "flex": null,
      "flex_flow": null,
      "grid_area": null,
      "grid_auto_columns": null,
      "grid_auto_flow": null,
      "grid_auto_rows": null,
      "grid_column": null,
      "grid_gap": null,
      "grid_row": null,
      "grid_template_areas": null,
      "grid_template_columns": null,
      "grid_template_rows": null,
      "height": null,
      "justify_content": null,
      "justify_items": null,
      "left": null,
      "margin": null,
      "max_height": null,
      "max_width": null,
      "min_height": null,
      "min_width": null,
      "object_fit": null,
      "object_position": null,
      "order": null,
      "overflow": null,
      "overflow_x": null,
      "overflow_y": null,
      "padding": null,
      "right": null,
      "top": null,
      "visibility": null,
      "width": null
     }
    },
    "ccb54e9287874e3fa2745edcac52a586": {
     "model_module": "@jupyter-widgets/controls",
     "model_name": "ProgressStyleModel",
     "model_module_version": "1.5.0",
     "state": {
      "_model_module": "@jupyter-widgets/controls",
      "_model_module_version": "1.5.0",
      "_model_name": "ProgressStyleModel",
      "_view_count": null,
      "_view_module": "@jupyter-widgets/base",
      "_view_module_version": "1.2.0",
      "_view_name": "StyleView",
      "bar_color": null,
      "description_width": ""
     }
    },
    "5d8808c1b6504383b84c40d68e09300d": {
     "model_module": "@jupyter-widgets/base",
     "model_name": "LayoutModel",
     "model_module_version": "1.2.0",
     "state": {
      "_model_module": "@jupyter-widgets/base",
      "_model_module_version": "1.2.0",
      "_model_name": "LayoutModel",
      "_view_count": null,
      "_view_module": "@jupyter-widgets/base",
      "_view_module_version": "1.2.0",
      "_view_name": "LayoutView",
      "align_content": null,
      "align_items": null,
      "align_self": null,
      "border": null,
      "bottom": null,
      "display": null,
      "flex": null,
      "flex_flow": null,
      "grid_area": null,
      "grid_auto_columns": null,
      "grid_auto_flow": null,
      "grid_auto_rows": null,
      "grid_column": null,
      "grid_gap": null,
      "grid_row": null,
      "grid_template_areas": null,
      "grid_template_columns": null,
      "grid_template_rows": null,
      "height": null,
      "justify_content": null,
      "justify_items": null,
      "left": null,
      "margin": null,
      "max_height": null,
      "max_width": null,
      "min_height": null,
      "min_width": null,
      "object_fit": null,
      "object_position": null,
      "order": null,
      "overflow": null,
      "overflow_x": null,
      "overflow_y": null,
      "padding": null,
      "right": null,
      "top": null,
      "visibility": null,
      "width": null
     }
    },
    "210b5e76771d4d80849043dc6f2ca58e": {
     "model_module": "@jupyter-widgets/controls",
     "model_name": "DescriptionStyleModel",
     "model_module_version": "1.5.0",
     "state": {
      "_model_module": "@jupyter-widgets/controls",
      "_model_module_version": "1.5.0",
      "_model_name": "DescriptionStyleModel",
      "_view_count": null,
      "_view_module": "@jupyter-widgets/base",
      "_view_module_version": "1.2.0",
      "_view_name": "StyleView",
      "description_width": ""
     }
    },
    "b6c4189f6ae54e1f80a9ab5b4fb3f327": {
     "model_module": "@jupyter-widgets/controls",
     "model_name": "HBoxModel",
     "model_module_version": "1.5.0",
     "state": {
      "_dom_classes": [],
      "_model_module": "@jupyter-widgets/controls",
      "_model_module_version": "1.5.0",
      "_model_name": "HBoxModel",
      "_view_count": null,
      "_view_module": "@jupyter-widgets/controls",
      "_view_module_version": "1.5.0",
      "_view_name": "HBoxView",
      "box_style": "",
      "children": [
       "IPY_MODEL_c49adcf65dee490782cdbb74bcc8a1d2",
       "IPY_MODEL_92a89e097e8d47af901d04d3b37f0139",
       "IPY_MODEL_14cb8a738b1848edb33ca07a3b84904a"
      ],
      "layout": "IPY_MODEL_7616cc32ecb94b709dcc8efb6dd1c6c8"
     }
    },
    "c49adcf65dee490782cdbb74bcc8a1d2": {
     "model_module": "@jupyter-widgets/controls",
     "model_name": "HTMLModel",
     "model_module_version": "1.5.0",
     "state": {
      "_dom_classes": [],
      "_model_module": "@jupyter-widgets/controls",
      "_model_module_version": "1.5.0",
      "_model_name": "HTMLModel",
      "_view_count": null,
      "_view_module": "@jupyter-widgets/controls",
      "_view_module_version": "1.5.0",
      "_view_name": "HTMLView",
      "description": "",
      "description_tooltip": null,
      "layout": "IPY_MODEL_98a354f287034d749e21a04184fdce6d",
      "placeholder": "​",
      "style": "IPY_MODEL_3be0105048014786a4d0911f7023d6d7",
      "value": "model.safetensors: 100%"
     }
    },
    "92a89e097e8d47af901d04d3b37f0139": {
     "model_module": "@jupyter-widgets/controls",
     "model_name": "FloatProgressModel",
     "model_module_version": "1.5.0",
     "state": {
      "_dom_classes": [],
      "_model_module": "@jupyter-widgets/controls",
      "_model_module_version": "1.5.0",
      "_model_name": "FloatProgressModel",
      "_view_count": null,
      "_view_module": "@jupyter-widgets/controls",
      "_view_module_version": "1.5.0",
      "_view_name": "ProgressView",
      "bar_style": "success",
      "description": "",
      "description_tooltip": null,
      "layout": "IPY_MODEL_ce976111bdfa4d0e8317df20792920c4",
      "max": 440449768,
      "min": 0,
      "orientation": "horizontal",
      "style": "IPY_MODEL_1e7a2142191f4ca489180f519f40b042",
      "value": 440449768
     }
    },
    "14cb8a738b1848edb33ca07a3b84904a": {
     "model_module": "@jupyter-widgets/controls",
     "model_name": "HTMLModel",
     "model_module_version": "1.5.0",
     "state": {
      "_dom_classes": [],
      "_model_module": "@jupyter-widgets/controls",
      "_model_module_version": "1.5.0",
      "_model_name": "HTMLModel",
      "_view_count": null,
      "_view_module": "@jupyter-widgets/controls",
      "_view_module_version": "1.5.0",
      "_view_name": "HTMLView",
      "description": "",
      "description_tooltip": null,
      "layout": "IPY_MODEL_44177f38d5894c44a6c507165a4f97fb",
      "placeholder": "​",
      "style": "IPY_MODEL_4b1d2445704546c184fde9b484c5a1e5",
      "value": " 440M/440M [00:07&lt;00:00, 67.6MB/s]"
     }
    },
    "7616cc32ecb94b709dcc8efb6dd1c6c8": {
     "model_module": "@jupyter-widgets/base",
     "model_name": "LayoutModel",
     "model_module_version": "1.2.0",
     "state": {
      "_model_module": "@jupyter-widgets/base",
      "_model_module_version": "1.2.0",
      "_model_name": "LayoutModel",
      "_view_count": null,
      "_view_module": "@jupyter-widgets/base",
      "_view_module_version": "1.2.0",
      "_view_name": "LayoutView",
      "align_content": null,
      "align_items": null,
      "align_self": null,
      "border": null,
      "bottom": null,
      "display": null,
      "flex": null,
      "flex_flow": null,
      "grid_area": null,
      "grid_auto_columns": null,
      "grid_auto_flow": null,
      "grid_auto_rows": null,
      "grid_column": null,
      "grid_gap": null,
      "grid_row": null,
      "grid_template_areas": null,
      "grid_template_columns": null,
      "grid_template_rows": null,
      "height": null,
      "justify_content": null,
      "justify_items": null,
      "left": null,
      "margin": null,
      "max_height": null,
      "max_width": null,
      "min_height": null,
      "min_width": null,
      "object_fit": null,
      "object_position": null,
      "order": null,
      "overflow": null,
      "overflow_x": null,
      "overflow_y": null,
      "padding": null,
      "right": null,
      "top": null,
      "visibility": null,
      "width": null
     }
    },
    "98a354f287034d749e21a04184fdce6d": {
     "model_module": "@jupyter-widgets/base",
     "model_name": "LayoutModel",
     "model_module_version": "1.2.0",
     "state": {
      "_model_module": "@jupyter-widgets/base",
      "_model_module_version": "1.2.0",
      "_model_name": "LayoutModel",
      "_view_count": null,
      "_view_module": "@jupyter-widgets/base",
      "_view_module_version": "1.2.0",
      "_view_name": "LayoutView",
      "align_content": null,
      "align_items": null,
      "align_self": null,
      "border": null,
      "bottom": null,
      "display": null,
      "flex": null,
      "flex_flow": null,
      "grid_area": null,
      "grid_auto_columns": null,
      "grid_auto_flow": null,
      "grid_auto_rows": null,
      "grid_column": null,
      "grid_gap": null,
      "grid_row": null,
      "grid_template_areas": null,
      "grid_template_columns": null,
      "grid_template_rows": null,
      "height": null,
      "justify_content": null,
      "justify_items": null,
      "left": null,
      "margin": null,
      "max_height": null,
      "max_width": null,
      "min_height": null,
      "min_width": null,
      "object_fit": null,
      "object_position": null,
      "order": null,
      "overflow": null,
      "overflow_x": null,
      "overflow_y": null,
      "padding": null,
      "right": null,
      "top": null,
      "visibility": null,
      "width": null
     }
    },
    "3be0105048014786a4d0911f7023d6d7": {
     "model_module": "@jupyter-widgets/controls",
     "model_name": "DescriptionStyleModel",
     "model_module_version": "1.5.0",
     "state": {
      "_model_module": "@jupyter-widgets/controls",
      "_model_module_version": "1.5.0",
      "_model_name": "DescriptionStyleModel",
      "_view_count": null,
      "_view_module": "@jupyter-widgets/base",
      "_view_module_version": "1.2.0",
      "_view_name": "StyleView",
      "description_width": ""
     }
    },
    "ce976111bdfa4d0e8317df20792920c4": {
     "model_module": "@jupyter-widgets/base",
     "model_name": "LayoutModel",
     "model_module_version": "1.2.0",
     "state": {
      "_model_module": "@jupyter-widgets/base",
      "_model_module_version": "1.2.0",
      "_model_name": "LayoutModel",
      "_view_count": null,
      "_view_module": "@jupyter-widgets/base",
      "_view_module_version": "1.2.0",
      "_view_name": "LayoutView",
      "align_content": null,
      "align_items": null,
      "align_self": null,
      "border": null,
      "bottom": null,
      "display": null,
      "flex": null,
      "flex_flow": null,
      "grid_area": null,
      "grid_auto_columns": null,
      "grid_auto_flow": null,
      "grid_auto_rows": null,
      "grid_column": null,
      "grid_gap": null,
      "grid_row": null,
      "grid_template_areas": null,
      "grid_template_columns": null,
      "grid_template_rows": null,
      "height": null,
      "justify_content": null,
      "justify_items": null,
      "left": null,
      "margin": null,
      "max_height": null,
      "max_width": null,
      "min_height": null,
      "min_width": null,
      "object_fit": null,
      "object_position": null,
      "order": null,
      "overflow": null,
      "overflow_x": null,
      "overflow_y": null,
      "padding": null,
      "right": null,
      "top": null,
      "visibility": null,
      "width": null
     }
    },
    "1e7a2142191f4ca489180f519f40b042": {
     "model_module": "@jupyter-widgets/controls",
     "model_name": "ProgressStyleModel",
     "model_module_version": "1.5.0",
     "state": {
      "_model_module": "@jupyter-widgets/controls",
      "_model_module_version": "1.5.0",
      "_model_name": "ProgressStyleModel",
      "_view_count": null,
      "_view_module": "@jupyter-widgets/base",
      "_view_module_version": "1.2.0",
      "_view_name": "StyleView",
      "bar_color": null,
      "description_width": ""
     }
    },
    "44177f38d5894c44a6c507165a4f97fb": {
     "model_module": "@jupyter-widgets/base",
     "model_name": "LayoutModel",
     "model_module_version": "1.2.0",
     "state": {
      "_model_module": "@jupyter-widgets/base",
      "_model_module_version": "1.2.0",
      "_model_name": "LayoutModel",
      "_view_count": null,
      "_view_module": "@jupyter-widgets/base",
      "_view_module_version": "1.2.0",
      "_view_name": "LayoutView",
      "align_content": null,
      "align_items": null,
      "align_self": null,
      "border": null,
      "bottom": null,
      "display": null,
      "flex": null,
      "flex_flow": null,
      "grid_area": null,
      "grid_auto_columns": null,
      "grid_auto_flow": null,
      "grid_auto_rows": null,
      "grid_column": null,
      "grid_gap": null,
      "grid_row": null,
      "grid_template_areas": null,
      "grid_template_columns": null,
      "grid_template_rows": null,
      "height": null,
      "justify_content": null,
      "justify_items": null,
      "left": null,
      "margin": null,
      "max_height": null,
      "max_width": null,
      "min_height": null,
      "min_width": null,
      "object_fit": null,
      "object_position": null,
      "order": null,
      "overflow": null,
      "overflow_x": null,
      "overflow_y": null,
      "padding": null,
      "right": null,
      "top": null,
      "visibility": null,
      "width": null
     }
    },
    "4b1d2445704546c184fde9b484c5a1e5": {
     "model_module": "@jupyter-widgets/controls",
     "model_name": "DescriptionStyleModel",
     "model_module_version": "1.5.0",
     "state": {
      "_model_module": "@jupyter-widgets/controls",
      "_model_module_version": "1.5.0",
      "_model_name": "DescriptionStyleModel",
      "_view_count": null,
      "_view_module": "@jupyter-widgets/base",
      "_view_module_version": "1.2.0",
      "_view_name": "StyleView",
      "description_width": ""
     }
    }
   }
  }
 },
 "nbformat": 4,
 "nbformat_minor": 5
}
