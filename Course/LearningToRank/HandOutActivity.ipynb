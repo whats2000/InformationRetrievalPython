{
 "cells": [
  {
   "cell_type": "code",
   "id": "initial_id",
   "metadata": {
    "collapsed": true,
    "ExecuteTime": {
     "end_time": "2024-10-21T08:56:22.930770Z",
     "start_time": "2024-10-21T08:56:20.798975Z"
    }
   },
   "source": "import pandas as pd",
   "outputs": [],
   "execution_count": 3
  },
  {
   "metadata": {
    "ExecuteTime": {
     "end_time": "2024-10-21T08:58:32.450089Z",
     "start_time": "2024-10-21T08:58:32.422173Z"
    }
   },
   "cell_type": "code",
   "source": [
    "scores = pd.DataFrame({\n",
    "    'Name': ['Query1', 'Query2', 'Query3', 'Query4', 'Query5', 'Query6', 'Query7'],\n",
    "    'Score1': [4, 2, 1, 5, 5, 1, 3],\n",
    "    'Score2': [5, 4, 3, 5, 5, 1, 2],\n",
    "    'Score3': [5, 3, 2, 5, 5, 1, 2],\n",
    "    'Score4': [4, 3, 1, 5, 5, 1, 2],\n",
    "    'Score5': [4, 3, 1, 5, 5, 1, 3],\n",
    "    'Score6': [5, 3, 1, 5, 5, 2, 4],\n",
    "    'Score7': [4, 3, 3, 5, 5, 3, 2],\n",
    "    'Score8': [4, 2, 1, 5, 5, 2, 3],\n",
    "})\n",
    "scores"
   ],
   "id": "52715e9cfa545691",
   "outputs": [
    {
     "data": {
      "text/plain": [
       "     Name  Score1  Score2  Score3  Score4  Score5  Score6  Score7  Score8\n",
       "0  Query1       4       5       5       4       4       5       4       4\n",
       "1  Query2       2       4       3       3       3       3       3       2\n",
       "2  Query3       1       3       2       1       1       1       3       1\n",
       "3  Query4       5       5       5       5       5       5       5       5\n",
       "4  Query5       5       5       5       5       5       5       5       5\n",
       "5  Query6       1       1       1       1       1       2       3       2\n",
       "6  Query7       3       2       2       2       3       4       2       3"
      ],
      "text/html": [
       "<div>\n",
       "<style scoped>\n",
       "    .dataframe tbody tr th:only-of-type {\n",
       "        vertical-align: middle;\n",
       "    }\n",
       "\n",
       "    .dataframe tbody tr th {\n",
       "        vertical-align: top;\n",
       "    }\n",
       "\n",
       "    .dataframe thead th {\n",
       "        text-align: right;\n",
       "    }\n",
       "</style>\n",
       "<table border=\"1\" class=\"dataframe\">\n",
       "  <thead>\n",
       "    <tr style=\"text-align: right;\">\n",
       "      <th></th>\n",
       "      <th>Name</th>\n",
       "      <th>Score1</th>\n",
       "      <th>Score2</th>\n",
       "      <th>Score3</th>\n",
       "      <th>Score4</th>\n",
       "      <th>Score5</th>\n",
       "      <th>Score6</th>\n",
       "      <th>Score7</th>\n",
       "      <th>Score8</th>\n",
       "    </tr>\n",
       "  </thead>\n",
       "  <tbody>\n",
       "    <tr>\n",
       "      <th>0</th>\n",
       "      <td>Query1</td>\n",
       "      <td>4</td>\n",
       "      <td>5</td>\n",
       "      <td>5</td>\n",
       "      <td>4</td>\n",
       "      <td>4</td>\n",
       "      <td>5</td>\n",
       "      <td>4</td>\n",
       "      <td>4</td>\n",
       "    </tr>\n",
       "    <tr>\n",
       "      <th>1</th>\n",
       "      <td>Query2</td>\n",
       "      <td>2</td>\n",
       "      <td>4</td>\n",
       "      <td>3</td>\n",
       "      <td>3</td>\n",
       "      <td>3</td>\n",
       "      <td>3</td>\n",
       "      <td>3</td>\n",
       "      <td>2</td>\n",
       "    </tr>\n",
       "    <tr>\n",
       "      <th>2</th>\n",
       "      <td>Query3</td>\n",
       "      <td>1</td>\n",
       "      <td>3</td>\n",
       "      <td>2</td>\n",
       "      <td>1</td>\n",
       "      <td>1</td>\n",
       "      <td>1</td>\n",
       "      <td>3</td>\n",
       "      <td>1</td>\n",
       "    </tr>\n",
       "    <tr>\n",
       "      <th>3</th>\n",
       "      <td>Query4</td>\n",
       "      <td>5</td>\n",
       "      <td>5</td>\n",
       "      <td>5</td>\n",
       "      <td>5</td>\n",
       "      <td>5</td>\n",
       "      <td>5</td>\n",
       "      <td>5</td>\n",
       "      <td>5</td>\n",
       "    </tr>\n",
       "    <tr>\n",
       "      <th>4</th>\n",
       "      <td>Query5</td>\n",
       "      <td>5</td>\n",
       "      <td>5</td>\n",
       "      <td>5</td>\n",
       "      <td>5</td>\n",
       "      <td>5</td>\n",
       "      <td>5</td>\n",
       "      <td>5</td>\n",
       "      <td>5</td>\n",
       "    </tr>\n",
       "    <tr>\n",
       "      <th>5</th>\n",
       "      <td>Query6</td>\n",
       "      <td>1</td>\n",
       "      <td>1</td>\n",
       "      <td>1</td>\n",
       "      <td>1</td>\n",
       "      <td>1</td>\n",
       "      <td>2</td>\n",
       "      <td>3</td>\n",
       "      <td>2</td>\n",
       "    </tr>\n",
       "    <tr>\n",
       "      <th>6</th>\n",
       "      <td>Query7</td>\n",
       "      <td>3</td>\n",
       "      <td>2</td>\n",
       "      <td>2</td>\n",
       "      <td>2</td>\n",
       "      <td>3</td>\n",
       "      <td>4</td>\n",
       "      <td>2</td>\n",
       "      <td>3</td>\n",
       "    </tr>\n",
       "  </tbody>\n",
       "</table>\n",
       "</div>"
      ]
     },
     "execution_count": 9,
     "metadata": {},
     "output_type": "execute_result"
    }
   ],
   "execution_count": 9
  },
  {
   "metadata": {
    "ExecuteTime": {
     "end_time": "2024-10-21T08:59:38.546425Z",
     "start_time": "2024-10-21T08:59:38.514873Z"
    }
   },
   "cell_type": "code",
   "source": [
    "# Calculate the mean score for each row, excluding the 'Name' column\n",
    "scores['Average'] = scores.loc[:, 'Score1':'Score8'].mean(axis=1)\n",
    "scores['Average']"
   ],
   "id": "b8a7b1b85740e55b",
   "outputs": [
    {
     "data": {
      "text/plain": [
       "0    4.375\n",
       "1    2.875\n",
       "2    1.625\n",
       "3    5.000\n",
       "4    5.000\n",
       "5    1.500\n",
       "6    2.625\n",
       "Name: Average, dtype: float64"
      ]
     },
     "execution_count": 12,
     "metadata": {},
     "output_type": "execute_result"
    }
   ],
   "execution_count": 12
  },
  {
   "metadata": {
    "ExecuteTime": {
     "end_time": "2024-10-21T09:00:58.053360Z",
     "start_time": "2024-10-21T09:00:54.377405Z"
    }
   },
   "cell_type": "code",
   "source": [
    "from sklearn.metrics import pairwise_distances\n",
    "\n",
    "# Extract the scores for pairwise computation, excluding the 'Name' column\n",
    "score_values = scores.loc[:, 'Score1':'Score8']\n",
    "\n",
    "# Compute pairwise Euclidean distances\n",
    "pairwise_results = pairwise_distances(score_values, metric='euclidean')\n",
    "\n",
    "# Create a DataFrame to represent the pairwise distances\n",
    "pairwise_df = pd.DataFrame(pairwise_results, index=scores['Name'], columns=scores['Name'])\n",
    "\n",
    "pairwise_df"
   ],
   "id": "636f4c0d898beefb",
   "outputs": [
    {
     "data": {
      "text/plain": [
       "Name      Query1    Query2    Query3     Query4     Query5     Query6  \\\n",
       "Name                                                                    \n",
       "Query1  0.000000  4.472136  8.124038   2.236068   2.236068   8.544004   \n",
       "Query2  4.472136  0.000000  4.000000   6.244998   6.244998   4.795832   \n",
       "Query3  8.124038  4.000000  0.000000   9.848858   9.848858   2.645751   \n",
       "Query4  2.236068  6.244998  9.848858   0.000000   0.000000  10.099505   \n",
       "Query5  2.236068  6.244998  9.848858   0.000000   0.000000  10.099505   \n",
       "Query6  8.544004  4.795832  2.645751  10.099505  10.099505   0.000000   \n",
       "Query7  5.477226  3.162278  4.898979   7.000000   7.000000   4.123106   \n",
       "\n",
       "Name      Query7  \n",
       "Name              \n",
       "Query1  5.477226  \n",
       "Query2  3.162278  \n",
       "Query3  4.898979  \n",
       "Query4  7.000000  \n",
       "Query5  7.000000  \n",
       "Query6  4.123106  \n",
       "Query7  0.000000  "
      ],
      "text/html": [
       "<div>\n",
       "<style scoped>\n",
       "    .dataframe tbody tr th:only-of-type {\n",
       "        vertical-align: middle;\n",
       "    }\n",
       "\n",
       "    .dataframe tbody tr th {\n",
       "        vertical-align: top;\n",
       "    }\n",
       "\n",
       "    .dataframe thead th {\n",
       "        text-align: right;\n",
       "    }\n",
       "</style>\n",
       "<table border=\"1\" class=\"dataframe\">\n",
       "  <thead>\n",
       "    <tr style=\"text-align: right;\">\n",
       "      <th>Name</th>\n",
       "      <th>Query1</th>\n",
       "      <th>Query2</th>\n",
       "      <th>Query3</th>\n",
       "      <th>Query4</th>\n",
       "      <th>Query5</th>\n",
       "      <th>Query6</th>\n",
       "      <th>Query7</th>\n",
       "    </tr>\n",
       "    <tr>\n",
       "      <th>Name</th>\n",
       "      <th></th>\n",
       "      <th></th>\n",
       "      <th></th>\n",
       "      <th></th>\n",
       "      <th></th>\n",
       "      <th></th>\n",
       "      <th></th>\n",
       "    </tr>\n",
       "  </thead>\n",
       "  <tbody>\n",
       "    <tr>\n",
       "      <th>Query1</th>\n",
       "      <td>0.000000</td>\n",
       "      <td>4.472136</td>\n",
       "      <td>8.124038</td>\n",
       "      <td>2.236068</td>\n",
       "      <td>2.236068</td>\n",
       "      <td>8.544004</td>\n",
       "      <td>5.477226</td>\n",
       "    </tr>\n",
       "    <tr>\n",
       "      <th>Query2</th>\n",
       "      <td>4.472136</td>\n",
       "      <td>0.000000</td>\n",
       "      <td>4.000000</td>\n",
       "      <td>6.244998</td>\n",
       "      <td>6.244998</td>\n",
       "      <td>4.795832</td>\n",
       "      <td>3.162278</td>\n",
       "    </tr>\n",
       "    <tr>\n",
       "      <th>Query3</th>\n",
       "      <td>8.124038</td>\n",
       "      <td>4.000000</td>\n",
       "      <td>0.000000</td>\n",
       "      <td>9.848858</td>\n",
       "      <td>9.848858</td>\n",
       "      <td>2.645751</td>\n",
       "      <td>4.898979</td>\n",
       "    </tr>\n",
       "    <tr>\n",
       "      <th>Query4</th>\n",
       "      <td>2.236068</td>\n",
       "      <td>6.244998</td>\n",
       "      <td>9.848858</td>\n",
       "      <td>0.000000</td>\n",
       "      <td>0.000000</td>\n",
       "      <td>10.099505</td>\n",
       "      <td>7.000000</td>\n",
       "    </tr>\n",
       "    <tr>\n",
       "      <th>Query5</th>\n",
       "      <td>2.236068</td>\n",
       "      <td>6.244998</td>\n",
       "      <td>9.848858</td>\n",
       "      <td>0.000000</td>\n",
       "      <td>0.000000</td>\n",
       "      <td>10.099505</td>\n",
       "      <td>7.000000</td>\n",
       "    </tr>\n",
       "    <tr>\n",
       "      <th>Query6</th>\n",
       "      <td>8.544004</td>\n",
       "      <td>4.795832</td>\n",
       "      <td>2.645751</td>\n",
       "      <td>10.099505</td>\n",
       "      <td>10.099505</td>\n",
       "      <td>0.000000</td>\n",
       "      <td>4.123106</td>\n",
       "    </tr>\n",
       "    <tr>\n",
       "      <th>Query7</th>\n",
       "      <td>5.477226</td>\n",
       "      <td>3.162278</td>\n",
       "      <td>4.898979</td>\n",
       "      <td>7.000000</td>\n",
       "      <td>7.000000</td>\n",
       "      <td>4.123106</td>\n",
       "      <td>0.000000</td>\n",
       "    </tr>\n",
       "  </tbody>\n",
       "</table>\n",
       "</div>"
      ]
     },
     "execution_count": 13,
     "metadata": {},
     "output_type": "execute_result"
    }
   ],
   "execution_count": 13
  },
  {
   "metadata": {
    "ExecuteTime": {
     "end_time": "2024-10-21T09:05:51.925309Z",
     "start_time": "2024-10-21T09:05:51.873306Z"
    }
   },
   "cell_type": "code",
   "source": [
    "from itertools import combinations\n",
    "\n",
    "# Generate all possible pairs of queries\n",
    "query_pairs = list(combinations(scores['Name'], 2))\n",
    "\n",
    "pairwise_rankings = []\n",
    "\n",
    "# Iterate through the query pairs and compute pairwise rank based on the sum of scores\n",
    "for (q1, q2) in query_pairs:\n",
    "    score_q1 = score_values.loc[scores['Name'] == q1].sum(axis=1).values[0]\n",
    "    score_q2 = score_values.loc[scores['Name'] == q2].sum(axis=1).values[0]\n",
    "    \n",
    "    # Label: 1 if q1 is ranked higher than q2, -1 otherwise\n",
    "    if score_q1 > score_q2:\n",
    "        pairwise_rankings.append((q1, q2, 1))\n",
    "    else:\n",
    "        pairwise_rankings.append((q1, q2, -1))\n",
    "\n",
    "# Display the pairwise rankings\n",
    "pairwise_rankings[:10]  # Displaying first 10 results for brevity"
   ],
   "id": "f147913e1df094ab",
   "outputs": [
    {
     "data": {
      "text/plain": [
       "[('Query1', 'Query2', 1),\n",
       " ('Query1', 'Query3', 1),\n",
       " ('Query1', 'Query4', -1),\n",
       " ('Query1', 'Query5', -1),\n",
       " ('Query1', 'Query6', 1),\n",
       " ('Query1', 'Query7', 1),\n",
       " ('Query2', 'Query3', 1),\n",
       " ('Query2', 'Query4', -1),\n",
       " ('Query2', 'Query5', -1),\n",
       " ('Query2', 'Query6', 1)]"
      ]
     },
     "execution_count": 15,
     "metadata": {},
     "output_type": "execute_result"
    }
   ],
   "execution_count": 15
  },
  {
   "metadata": {
    "ExecuteTime": {
     "end_time": "2024-10-21T09:06:20.984843Z",
     "start_time": "2024-10-21T09:06:20.968842Z"
    }
   },
   "cell_type": "code",
   "source": [
    "from collections import defaultdict\n",
    "\n",
    "# Initialize a dictionary to count wins for each query\n",
    "wins_count = defaultdict(int)\n",
    "\n",
    "# Count the number of wins for each query\n",
    "for (q1, q2, result) in pairwise_rankings:\n",
    "    if result == 1:\n",
    "        wins_count[q1] += 1\n",
    "    else:\n",
    "        wins_count[q2] += 1\n",
    "\n",
    "# Sort queries by number of wins in descending order\n",
    "final_ranking = sorted(wins_count.items(), key=lambda x: x[1], reverse=True)\n",
    "\n",
    "final_ranking"
   ],
   "id": "629d8cd4988baffa",
   "outputs": [
    {
     "data": {
      "text/plain": [
       "[('Query5', 6),\n",
       " ('Query4', 5),\n",
       " ('Query1', 4),\n",
       " ('Query2', 3),\n",
       " ('Query7', 2),\n",
       " ('Query3', 1)]"
      ]
     },
     "execution_count": 16,
     "metadata": {},
     "output_type": "execute_result"
    }
   ],
   "execution_count": 16
  },
  {
   "metadata": {},
   "cell_type": "code",
   "outputs": [],
   "execution_count": null,
   "source": "",
   "id": "b8cbe3e18b291fba"
  }
 ],
 "metadata": {
  "kernelspec": {
   "display_name": "Python 3",
   "language": "python",
   "name": "python3"
  },
  "language_info": {
   "codemirror_mode": {
    "name": "ipython",
    "version": 2
   },
   "file_extension": ".py",
   "mimetype": "text/x-python",
   "name": "python",
   "nbconvert_exporter": "python",
   "pygments_lexer": "ipython2",
   "version": "2.7.6"
  }
 },
 "nbformat": 4,
 "nbformat_minor": 5
}
