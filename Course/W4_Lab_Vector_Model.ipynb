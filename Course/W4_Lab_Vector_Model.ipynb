{
 "cells": [
  {
   "cell_type": "markdown",
   "id": "18117881-1575-4349-95ba-9bc6b2cea328",
   "metadata": {},
   "source": [
    "# W4 Lab Exercise\n",
    "This is the lab exercise for MIS590: Information Retrieval. </br>\n",
    "In this lab, you will gain the following experience:</br>\n",
    "- Understand Vector Space Models (VSMs) for Information Retrieval.\n",
    "- Develop Practical Skills in Vector-Based Document Representation, Including TF-IDF, Word2Vec, and BERT.\n",
    "- Compare the Effectiveness of Different Term Weighting Schemes.\n",
    "- Enhance Analytical Thinking in Evaluating IR Models\n",
    "</br>\n",
    "\n",
    "**Note:** When you see a pencil icon ✏️ in this notebook, it's time for you to code!"
   ]
  },
  {
   "cell_type": "markdown",
   "id": "2ffaa68b",
   "metadata": {},
   "source": [
    "# 1. Preliminaries"
   ]
  },
  {
   "cell_type": "markdown",
   "id": "111ef730",
   "metadata": {},
   "source": [
    "## 1.1 Install and Import Libraries"
   ]
  },
  {
   "cell_type": "code",
   "execution_count": 47,
   "id": "0bae653b-f98f-4f96-826b-e8fdc579a542",
   "metadata": {
    "ExecuteTime": {
     "end_time": "2024-10-07T10:54:33.669489Z",
     "start_time": "2024-10-07T10:54:33.652490Z"
    },
    "tags": []
   },
   "outputs": [],
   "source": [
    "# Install the necessary packages\n",
    "# !pip install nltk\n",
    "# !pip install torch\n",
    "# !pip install numpy\n",
    "# !pip install gensim\n",
    "# !pip install string\n",
    "# !pip install transformers\n",
    "# !pip install scikit-learn"
   ]
  },
  {
   "cell_type": "code",
   "id": "53e49647",
   "metadata": {
    "scrolled": true,
    "tags": [],
    "ExecuteTime": {
     "end_time": "2024-10-14T10:03:19.976445Z",
     "start_time": "2024-10-14T10:03:19.962444Z"
    }
   },
   "source": [
    "import math\n",
    "import string\n",
    "from collections import defaultdict"
   ],
   "outputs": [],
   "execution_count": 1
  },
  {
   "cell_type": "markdown",
   "id": "ecece4d5",
   "metadata": {},
   "source": [
    "## 1.2 Input: Query & Document Collections (Corpus)"
   ]
  },
  {
   "cell_type": "code",
   "id": "a0ce3b5f",
   "metadata": {
    "tags": [],
    "ExecuteTime": {
     "end_time": "2024-10-14T10:03:20.008444Z",
     "start_time": "2024-10-14T10:03:19.993444Z"
    }
   },
   "source": [
    "query = \"sleep deprivation\"\n",
    "\n",
    "corpus = [\n",
    "    \"Sleepless nights in the lab have become my new normal. I tried to fix the experiment setup, but the apparatus seems to have a mind of its own. My advisor says results are just around the corner, but the corner keeps moving. Coffee is my only true companion these days.\",\n",
    "    \"I thought grad school would be intellectually stimulating, but it's mostly paperwork and waiting for emails. The departmental printer jammed again, and now I'm late for a meeting. The cafeteria ran out of the good snacks, so I'm surviving on vending machine chips. Sleep has become a luxury I can no longer afford.\",\n",
    "    \"Writing the dissertation feels like climbing an endless mountain. Every time I finish a chapter, my supervisor suggests new revisions. The impostor syndrome is real, and I wonder if they made a mistake accepting me. Maybe I should have gone to clown college instead. I am utterly deprived of any semblance of a normal life.\",\n",
    "    \"My research data got corrupted, and now I have to start over. The lab mouse escaped, and we spent hours trying to find it. The grant proposal deadline is tomorrow, and the online submission portal is down. At least my pet cactus hasn't died yet.\",\n",
    "    \"The group meeting turned into a three-hour debate over font choices for the presentation. I'm pretty sure my colleague is stealing my lunch from the fridge. The photocopier is out to get me; it never works when I'm in a hurry. Is there a PhD in napping? Because I'd ace that.\",\n",
    "    \"I haven't seen the sun in days due to endless coding sessions. The simulation keeps crashing, and Stack Overflow doesn't have the answers. My roommate thinks I'm a ghost haunting the apartment. Instant noodles have become my primary food group.\",\n",
    "    \"Attending conferences sounded fun until I realized they involve a lot of awkward networking. I accidentally spilled coffee on a famous professor's shoes. My poster fell down twice during the session. Next time, I'll just send a cardboard cutout of myself.\",\n",
    "    \"The university gym membership was supposed to keep me healthy, but I've only used it once. I tried to attend a yoga class after staying up late for a deadline, but I fell asleep during the meditation. Maybe instead of the gym, my bed is more essential for keeping me healthy.\",\n",
    "    \"My teaching assistantship involves grading endless stacks of exams. Students keep emailing me for extensions with creative excuses. One claimed their dog sleeps on the laptop so they cannot use it for the exam. I was deprived of excuses for not completing my dissertation draft, and I might have got some good ones.\",\n",
    "    \"Group projects are the worst when you're the only one doing the work. My team members are as elusive as Bigfoot. The project is due next week, and I haven't heard from them. Perhaps I should just write a paper on the sociological implications of group work avoidance.\"\n",
    "]\n",
    "\n",
    "# Binary labels for the documents' relevancy to the query\n",
    "# Relevant ones: 1, 2, 5, 6, 8\n",
    "corpus_relevancy_label = [1, 1, 0, 0, 1, 1, 0, 1, 0, 0]"
   ],
   "outputs": [],
   "execution_count": 2
  },
  {
   "cell_type": "code",
   "id": "0c614242",
   "metadata": {
    "tags": [],
    "ExecuteTime": {
     "end_time": "2024-10-14T10:03:20.056444Z",
     "start_time": "2024-10-14T10:03:20.037444Z"
    }
   },
   "source": [
    "print(f\"Query: {query}\\n\")\n",
    "for idx, doc in enumerate(corpus):\n",
    "    print(f\"Document {idx+1}:\\n{doc}\\n\")"
   ],
   "outputs": [
    {
     "name": "stdout",
     "output_type": "stream",
     "text": [
      "Query: sleep deprivation\n",
      "\n",
      "Document 1:\n",
      "Sleepless nights in the lab have become my new normal. I tried to fix the experiment setup, but the apparatus seems to have a mind of its own. My advisor says results are just around the corner, but the corner keeps moving. Coffee is my only true companion these days.\n",
      "\n",
      "Document 2:\n",
      "I thought grad school would be intellectually stimulating, but it's mostly paperwork and waiting for emails. The departmental printer jammed again, and now I'm late for a meeting. The cafeteria ran out of the good snacks, so I'm surviving on vending machine chips. Sleep has become a luxury I can no longer afford.\n",
      "\n",
      "Document 3:\n",
      "Writing the dissertation feels like climbing an endless mountain. Every time I finish a chapter, my supervisor suggests new revisions. The impostor syndrome is real, and I wonder if they made a mistake accepting me. Maybe I should have gone to clown college instead. I am utterly deprived of any semblance of a normal life.\n",
      "\n",
      "Document 4:\n",
      "My research data got corrupted, and now I have to start over. The lab mouse escaped, and we spent hours trying to find it. The grant proposal deadline is tomorrow, and the online submission portal is down. At least my pet cactus hasn't died yet.\n",
      "\n",
      "Document 5:\n",
      "The group meeting turned into a three-hour debate over font choices for the presentation. I'm pretty sure my colleague is stealing my lunch from the fridge. The photocopier is out to get me; it never works when I'm in a hurry. Is there a PhD in napping? Because I'd ace that.\n",
      "\n",
      "Document 6:\n",
      "I haven't seen the sun in days due to endless coding sessions. The simulation keeps crashing, and Stack Overflow doesn't have the answers. My roommate thinks I'm a ghost haunting the apartment. Instant noodles have become my primary food group.\n",
      "\n",
      "Document 7:\n",
      "Attending conferences sounded fun until I realized they involve a lot of awkward networking. I accidentally spilled coffee on a famous professor's shoes. My poster fell down twice during the session. Next time, I'll just send a cardboard cutout of myself.\n",
      "\n",
      "Document 8:\n",
      "The university gym membership was supposed to keep me healthy, but I've only used it once. I tried to attend a yoga class after staying up late for a deadline, but I fell asleep during the meditation. Maybe instead of the gym, my bed is more essential for keeping me healthy.\n",
      "\n",
      "Document 9:\n",
      "My teaching assistantship involves grading endless stacks of exams. Students keep emailing me for extensions with creative excuses. One claimed their dog sleeps on the laptop so they cannot use it for the exam. I was deprived of excuses for not completing my dissertation draft, and I might have got some good ones.\n",
      "\n",
      "Document 10:\n",
      "Group projects are the worst when you're the only one doing the work. My team members are as elusive as Bigfoot. The project is due next week, and I haven't heard from them. Perhaps I should just write a paper on the sociological implications of group work avoidance.\n",
      "\n"
     ]
    }
   ],
   "execution_count": 3
  },
  {
   "cell_type": "markdown",
   "id": "2e16ff55-2eb7-41d7-839d-73bb5272d04f",
   "metadata": {},
   "source": [
    "# 2. Vector Space Model: TF-IDF"
   ]
  },
  {
   "cell_type": "markdown",
   "id": "6c3088e0",
   "metadata": {},
   "source": [
    "## 2.1 Data Preprocessing"
   ]
  },
  {
   "cell_type": "markdown",
   "id": "d5c747d5",
   "metadata": {},
   "source": [
    "### Steps for textual data preprocessing\n",
    "1. Tokenization (= word segmentation)\n",
    "2. Punctualtion and non-alphabetic token removal\n",
    "3. Stopwords removal\n",
    "4. Lemmatization / stemming"
   ]
  },
  {
   "cell_type": "markdown",
   "id": "fb0c16eb-1361-4977-a248-dd636a79fb5d",
   "metadata": {},
   "source": [
    "### Import libraries"
   ]
  },
  {
   "cell_type": "code",
   "id": "30b23131-7e52-4097-8978-dd5b999ab25d",
   "metadata": {
    "ExecuteTime": {
     "end_time": "2024-10-14T10:03:24.039509Z",
     "start_time": "2024-10-14T10:03:20.154445Z"
    }
   },
   "source": [
    "import nltk\n",
    "from nltk.corpus import stopwords\n",
    "from nltk.tokenize import word_tokenize\n",
    "from nltk import pos_tag\n",
    "from nltk.stem import WordNetLemmatizer\n",
    "from nltk.stem import PorterStemmer\n",
    "from nltk.corpus import wordnet as wn\n",
    "\n",
    "# Download necessary NLTK resources\n",
    "nltk.download('punkt')\n",
    "nltk.download('stopwords')\n",
    "nltk.download('averaged_perceptron_tagger')\n",
    "nltk.download('wordnet')"
   ],
   "outputs": [
    {
     "name": "stderr",
     "output_type": "stream",
     "text": [
      "[nltk_data] Downloading package punkt to\n",
      "[nltk_data]     C:\\Users\\eddie\\AppData\\Roaming\\nltk_data...\n",
      "[nltk_data]   Package punkt is already up-to-date!\n",
      "[nltk_data] Downloading package stopwords to\n",
      "[nltk_data]     C:\\Users\\eddie\\AppData\\Roaming\\nltk_data...\n",
      "[nltk_data]   Package stopwords is already up-to-date!\n",
      "[nltk_data] Downloading package averaged_perceptron_tagger to\n",
      "[nltk_data]     C:\\Users\\eddie\\AppData\\Roaming\\nltk_data...\n",
      "[nltk_data]   Package averaged_perceptron_tagger is already up-to-\n",
      "[nltk_data]       date!\n",
      "[nltk_data] Downloading package wordnet to\n",
      "[nltk_data]     C:\\Users\\eddie\\AppData\\Roaming\\nltk_data...\n",
      "[nltk_data]   Package wordnet is already up-to-date!\n"
     ]
    },
    {
     "data": {
      "text/plain": [
       "True"
      ]
     },
     "execution_count": 4,
     "metadata": {},
     "output_type": "execute_result"
    }
   ],
   "execution_count": 4
  },
  {
   "cell_type": "code",
   "id": "538cd901",
   "metadata": {
    "tags": [],
    "ExecuteTime": {
     "end_time": "2024-10-14T10:03:25.484703Z",
     "start_time": "2024-10-14T10:03:25.454712Z"
    }
   },
   "source": [
    "# Initialize stopwords, lemmatizer, and punctuation list\n",
    "stop_words = set(stopwords.words('english'))\n",
    "stemmer = PorterStemmer()\n",
    "lemmatizer = WordNetLemmatizer()\n",
    "punctuation_table = str.maketrans('', '', string.punctuation)\n",
    "\n",
    "# We will use this sentence as example to showcase the different steps of data preprocessing\n",
    "example_sentence = \"The graduate student was typing, procrastinating, questioning herself, and finally submitting the dissertation while dreaming about sleep.\"\n",
    "print(f\"Example Sentence:\\n{example_sentence}\")"
   ],
   "outputs": [
    {
     "name": "stdout",
     "output_type": "stream",
     "text": [
      "Example Sentence:\n",
      "The graduate student was typing, procrastinating, questioning herself, and finally submitting the dissertation while dreaming about sleep.\n"
     ]
    }
   ],
   "execution_count": 5
  },
  {
   "cell_type": "markdown",
   "id": "c42202e7",
   "metadata": {},
   "source": [
    "### What is tokenization?"
   ]
  },
  {
   "cell_type": "code",
   "id": "0eb5ba16",
   "metadata": {
    "tags": [],
    "ExecuteTime": {
     "end_time": "2024-10-14T10:03:25.611703Z",
     "start_time": "2024-10-14T10:03:25.583703Z"
    }
   },
   "source": [
    "tokens = word_tokenize(example_sentence.lower())\n",
    "print(tokens)"
   ],
   "outputs": [
    {
     "name": "stdout",
     "output_type": "stream",
     "text": [
      "['the', 'graduate', 'student', 'was', 'typing', ',', 'procrastinating', ',', 'questioning', 'herself', ',', 'and', 'finally', 'submitting', 'the', 'dissertation', 'while', 'dreaming', 'about', 'sleep', '.']\n"
     ]
    }
   ],
   "execution_count": 6
  },
  {
   "cell_type": "markdown",
   "id": "68961a99",
   "metadata": {},
   "source": [
    "### A quick removal of punctualtions and non-alphabetic words"
   ]
  },
  {
   "cell_type": "code",
   "id": "77b14e1a",
   "metadata": {
    "tags": [],
    "ExecuteTime": {
     "end_time": "2024-10-14T10:03:25.689704Z",
     "start_time": "2024-10-14T10:03:25.670702Z"
    }
   },
   "source": [
    "tokens_noPunc = [word.translate(punctuation_table) for word in tokens if word.isalpha()]\n",
    "print(tokens_noPunc)"
   ],
   "outputs": [
    {
     "name": "stdout",
     "output_type": "stream",
     "text": [
      "['the', 'graduate', 'student', 'was', 'typing', 'procrastinating', 'questioning', 'herself', 'and', 'finally', 'submitting', 'the', 'dissertation', 'while', 'dreaming', 'about', 'sleep']\n"
     ]
    }
   ],
   "execution_count": 7
  },
  {
   "cell_type": "markdown",
   "id": "f3a8030b",
   "metadata": {},
   "source": [
    "### What are stopwords?"
   ]
  },
  {
   "cell_type": "code",
   "id": "906e138c",
   "metadata": {
    "tags": [],
    "ExecuteTime": {
     "end_time": "2024-10-14T10:03:25.781706Z",
     "start_time": "2024-10-14T10:03:25.770714Z"
    }
   },
   "source": [
    "tokens_noSW = [word for word in tokens_noPunc if word not in stop_words]\n",
    "print(tokens_noSW)"
   ],
   "outputs": [
    {
     "name": "stdout",
     "output_type": "stream",
     "text": [
      "['graduate', 'student', 'typing', 'procrastinating', 'questioning', 'finally', 'submitting', 'dissertation', 'dreaming', 'sleep']\n"
     ]
    }
   ],
   "execution_count": 8
  },
  {
   "cell_type": "markdown",
   "id": "c5b25394",
   "metadata": {},
   "source": [
    "### What is lemmatization?"
   ]
  },
  {
   "cell_type": "code",
   "id": "6427e0ff",
   "metadata": {
    "tags": [],
    "ExecuteTime": {
     "end_time": "2024-10-14T10:03:25.906706Z",
     "start_time": "2024-10-14T10:03:25.900704Z"
    }
   },
   "source": [
    "print(\"Original\\tLemmatized\\n\")\n",
    "\n",
    "# Here we use pre-stopword removal tokens\n",
    "lemmatized_tokens = [lemmatizer.lemmatize(token) for token in tokens_noSW]\n",
    "for ori, lem in zip(tokens_noSW, lemmatized_tokens):\n",
    "    print(f\"{ori}\\t{lem}\")"
   ],
   "outputs": [
    {
     "name": "stdout",
     "output_type": "stream",
     "text": [
      "Original\tLemmatized\n",
      "\n",
      "graduate\tgraduate\n",
      "student\tstudent\n",
      "typing\ttyping\n",
      "procrastinating\tprocrastinating\n",
      "questioning\tquestioning\n",
      "finally\tfinally\n",
      "submitting\tsubmitting\n",
      "dissertation\tdissertation\n",
      "dreaming\tdreaming\n",
      "sleep\tsleep\n"
     ]
    }
   ],
   "execution_count": 9
  },
  {
   "cell_type": "markdown",
   "id": "a0671810",
   "metadata": {},
   "source": [
    "### Observe the results above and discuss the following:\n",
    "- What is lemmatization?\n",
    "- I guess you cannot tell what lemmatization is from the results above. Let's try lemmatization in another way."
   ]
  },
  {
   "cell_type": "markdown",
   "id": "675c21d4",
   "metadata": {},
   "source": [
    "### How about we tell the lemmatizer more information of the tokens?"
   ]
  },
  {
   "cell_type": "code",
   "id": "21a94a3f",
   "metadata": {
    "tags": [],
    "ExecuteTime": {
     "end_time": "2024-10-14T10:03:26.124703Z",
     "start_time": "2024-10-14T10:03:26.015703Z"
    }
   },
   "source": [
    "# Part-of-Speech Tagging\n",
    "tagged_tokens = pos_tag(tokens)\n",
    "print(tagged_tokens)"
   ],
   "outputs": [
    {
     "name": "stdout",
     "output_type": "stream",
     "text": [
      "[('the', 'DT'), ('graduate', 'NN'), ('student', 'NN'), ('was', 'VBD'), ('typing', 'VBG'), (',', ','), ('procrastinating', 'VBG'), (',', ','), ('questioning', 'VBG'), ('herself', 'PRP'), (',', ','), ('and', 'CC'), ('finally', 'RB'), ('submitting', 'VBG'), ('the', 'DT'), ('dissertation', 'NN'), ('while', 'IN'), ('dreaming', 'VBG'), ('about', 'RB'), ('sleep', 'NN'), ('.', '.')]\n"
     ]
    }
   ],
   "execution_count": 10
  },
  {
   "cell_type": "markdown",
   "id": "a4205ac6",
   "metadata": {},
   "source": [
    "### Then we do the punctuation, non-alphabetic tokens, and stopword removal."
   ]
  },
  {
   "cell_type": "code",
   "id": "d6af0e29",
   "metadata": {
    "tags": [],
    "ExecuteTime": {
     "end_time": "2024-10-14T10:03:26.203703Z",
     "start_time": "2024-10-14T10:03:26.192703Z"
    }
   },
   "source": [
    "# Remove punctuation and non-alphabetic tokens\n",
    "tagged_tokens_noPunc = [(word[0].translate(punctuation_table), word[1]) for word in tagged_tokens if word[0].isalpha()]\n",
    "print(tagged_tokens_noPunc)\n",
    "\n",
    "# Remove stopwords\n",
    "tagged_tokens_noSW = [(word[0], word[1]) for word in tagged_tokens_noPunc if word[0] not in stop_words]\n",
    "print(tagged_tokens_noSW)"
   ],
   "outputs": [
    {
     "name": "stdout",
     "output_type": "stream",
     "text": [
      "[('the', 'DT'), ('graduate', 'NN'), ('student', 'NN'), ('was', 'VBD'), ('typing', 'VBG'), ('procrastinating', 'VBG'), ('questioning', 'VBG'), ('herself', 'PRP'), ('and', 'CC'), ('finally', 'RB'), ('submitting', 'VBG'), ('the', 'DT'), ('dissertation', 'NN'), ('while', 'IN'), ('dreaming', 'VBG'), ('about', 'RB'), ('sleep', 'NN')]\n",
      "[('graduate', 'NN'), ('student', 'NN'), ('typing', 'VBG'), ('procrastinating', 'VBG'), ('questioning', 'VBG'), ('finally', 'RB'), ('submitting', 'VBG'), ('dissertation', 'NN'), ('dreaming', 'VBG'), ('sleep', 'NN')]\n"
     ]
    }
   ],
   "execution_count": 11
  },
  {
   "cell_type": "markdown",
   "id": "07f9ffbf",
   "metadata": {},
   "source": [
    "### Take 2: what is lemmatization?"
   ]
  },
  {
   "cell_type": "code",
   "id": "f1f708fc",
   "metadata": {
    "tags": [],
    "ExecuteTime": {
     "end_time": "2024-10-14T10:03:26.279705Z",
     "start_time": "2024-10-14T10:03:26.270703Z"
    }
   },
   "source": [
    "# Convert treebank POS tags to wordnet POS tags so the lemmatizer can read them\n",
    "def get_wordnet_pos(treebank_tag):\n",
    "    if treebank_tag.startswith('J'):\n",
    "        return wn.ADJ\n",
    "    elif treebank_tag.startswith('V'):\n",
    "        return wn.VERB\n",
    "    elif treebank_tag.startswith('R'):\n",
    "        return wn.ADV\n",
    "    else:\n",
    "        return wn.NOUN\n",
    "\n",
    "print(\"Original\\tLemmatized\\n\")\n",
    "tagged_tokens_lemmatized = [lemmatizer.lemmatize(token, get_wordnet_pos(tag)) for token, tag in tagged_tokens_noSW]\n",
    "for ori, lem in zip(tagged_tokens_noSW, tagged_tokens_lemmatized):\n",
    "    print(f\"{ori[0]}\\t{lem}\")"
   ],
   "outputs": [
    {
     "name": "stdout",
     "output_type": "stream",
     "text": [
      "Original\tLemmatized\n",
      "\n",
      "graduate\tgraduate\n",
      "student\tstudent\n",
      "typing\ttype\n",
      "procrastinating\tprocrastinate\n",
      "questioning\tquestion\n",
      "finally\tfinally\n",
      "submitting\tsubmit\n",
      "dissertation\tdissertation\n",
      "dreaming\tdream\n",
      "sleep\tsleep\n"
     ]
    }
   ],
   "execution_count": 12
  },
  {
   "cell_type": "markdown",
   "id": "bb33e82c",
   "metadata": {},
   "source": [
    "### Observe the results above and discuss the following:\n",
    "- What is lemmatization?"
   ]
  },
  {
   "cell_type": "markdown",
   "id": "bfc4fb82",
   "metadata": {},
   "source": [
    "### What is stemming?"
   ]
  },
  {
   "cell_type": "code",
   "id": "a2edec23",
   "metadata": {
    "tags": [],
    "ExecuteTime": {
     "end_time": "2024-10-14T10:03:26.407705Z",
     "start_time": "2024-10-14T10:03:26.389703Z"
    }
   },
   "source": [
    "print(\"Original\\tStemmed\\n\")\n",
    "tokens_stemmed = [stemmer.stem(word) for word in tagged_tokens_lemmatized]\n",
    "for ori, stem in zip(tagged_tokens_lemmatized, tokens_stemmed):\n",
    "    print(f\"{ori}\\t{stem}\")"
   ],
   "outputs": [
    {
     "name": "stdout",
     "output_type": "stream",
     "text": [
      "Original\tStemmed\n",
      "\n",
      "graduate\tgraduat\n",
      "student\tstudent\n",
      "type\ttype\n",
      "procrastinate\tprocrastin\n",
      "question\tquestion\n",
      "finally\tfinal\n",
      "submit\tsubmit\n",
      "dissertation\tdissert\n",
      "dream\tdream\n",
      "sleep\tsleep\n"
     ]
    }
   ],
   "execution_count": 13
  },
  {
   "cell_type": "markdown",
   "id": "b9a2efd5",
   "metadata": {},
   "source": [
    "### Observe the results above and discuss the following:\n",
    "- What is stemming?\n",
    "- Why is stemming helpful in imporving TF-IDF performance?"
   ]
  },
  {
   "cell_type": "markdown",
   "id": "e9536305",
   "metadata": {},
   "source": [
    "### ✏️ Now let's preprocess the query and the documents!"
   ]
  },
  {
   "cell_type": "code",
   "id": "9b3c6fe1",
   "metadata": {
    "tags": [],
    "ExecuteTime": {
     "end_time": "2024-10-14T10:03:26.487704Z",
     "start_time": "2024-10-14T10:03:26.480702Z"
    }
   },
   "source": [
    "# TODO\n",
    "# Preprocessing function\n",
    "def preprocess_text(text):\n",
    "    \n",
    "    # Step 1: # Convert to lowercase and tokenize text into words\n",
    "    tokens = word_tokenize(text.lower())\n",
    "    \n",
    "    # Step 2: Tag part-of-speech of the tokens\n",
    "    tokens = pos_tag(tokens)\n",
    "    \n",
    "    # Step 3: Remove punctuation and non-alphabetic tokens\n",
    "    tokens = [(word[0].translate(punctuation_table), word[1]) for word in tokens if word[0].isalpha()]\n",
    "    \n",
    "    # Step 4: Remove stopwords\n",
    "    tokens = [(word[0], word[1]) for word in tokens if word[0] not in stop_words]\n",
    "    \n",
    "    # Step 5: Lemmatize tokens\n",
    "    tokens = [lemmatizer.lemmatize(token, get_wordnet_pos(tag)) for token, tag in tokens]\n",
    "    \n",
    "    # Step 6: Stem tokens\n",
    "    tokens = [stemmer.stem(word) for word in tokens]\n",
    "    \n",
    "    return tokens"
   ],
   "outputs": [],
   "execution_count": 14
  },
  {
   "cell_type": "code",
   "id": "d78d7fcb",
   "metadata": {
    "tags": [],
    "ExecuteTime": {
     "end_time": "2024-10-14T10:03:26.643704Z",
     "start_time": "2024-10-14T10:03:26.575703Z"
    }
   },
   "source": [
    "# Apply preprocessing to each document in the corpus\n",
    "preprocessed_query = preprocess_text(query)\n",
    "print(f\"Query: {preprocessed_query}\\n\")\n",
    "\n",
    "preprocessed_corpus = [preprocess_text(doc) for doc in corpus]\n",
    "# Print preprocessed corpus\n",
    "for idx, doc in enumerate(preprocessed_corpus):\n",
    "    print(f\"Document {idx+1}: {doc}\")"
   ],
   "outputs": [
    {
     "name": "stdout",
     "output_type": "stream",
     "text": [
      "Query: ['sleep', 'depriv']\n",
      "\n",
      "Document 1: ['sleepless', 'night', 'lab', 'becom', 'new', 'normal', 'tri', 'fix', 'experi', 'setup', 'apparatu', 'seem', 'mind', 'advisor', 'say', 'result', 'around', 'corner', 'corner', 'keep', 'move', 'coffe', 'true', 'companion', 'day']\n",
      "Document 2: ['think', 'grad', 'school', 'would', 'intellectu', 'stimul', 'mostli', 'paperwork', 'wait', 'email', 'department', 'printer', 'jam', 'late', 'meet', 'cafeteria', 'run', 'good', 'snack', 'surviv', 'vend', 'machin', 'chip', 'sleep', 'becom', 'luxuri', 'longer', 'afford']\n",
      "Document 3: ['write', 'dissert', 'feel', 'like', 'climb', 'endless', 'mountain', 'everi', 'time', 'finish', 'chapter', 'supervisor', 'suggest', 'new', 'revis', 'impostor', 'syndrom', 'real', 'wonder', 'make', 'mistak', 'accept', 'mayb', 'go', 'clown', 'colleg', 'instead', 'utterli', 'depriv', 'semblanc', 'normal', 'life']\n",
      "Document 4: ['research', 'data', 'get', 'corrupt', 'start', 'lab', 'mous', 'escap', 'spend', 'hour', 'tri', 'find', 'grant', 'propos', 'deadlin', 'tomorrow', 'onlin', 'submiss', 'portal', 'least', 'pet', 'cactu', 'die', 'yet']\n",
      "Document 5: ['group', 'meet', 'turn', 'debat', 'font', 'choic', 'present', 'pretti', 'sure', 'colleagu', 'steal', 'lunch', 'fridg', 'photocopi', 'get', 'never', 'work', 'hurri', 'phd', 'nap', 'ace']\n",
      "Document 6: ['see', 'sun', 'day', 'due', 'endless', 'cod', 'session', 'simul', 'keep', 'crash', 'stack', 'overflow', 'answer', 'roommat', 'think', 'ghost', 'haunt', 'apart', 'instant', 'noodl', 'becom', 'primari', 'food', 'group']\n",
      "Document 7: ['attend', 'confer', 'sound', 'fun', 'realiz', 'involv', 'lot', 'awkward', 'network', 'accident', 'spill', 'coffe', 'famou', 'professor', 'shoe', 'poster', 'fell', 'twice', 'session', 'next', 'time', 'send', 'cardboard', 'cutout']\n",
      "Document 8: ['univers', 'gym', 'membership', 'suppos', 'keep', 'healthi', 'use', 'tri', 'attend', 'yoga', 'class', 'stay', 'late', 'deadlin', 'fell', 'asleep', 'medit', 'mayb', 'instead', 'gym', 'bed', 'essenti', 'keep', 'healthi']\n",
      "Document 9: ['teach', 'assistantship', 'involv', 'grade', 'endless', 'stack', 'exam', 'student', 'keep', 'email', 'extens', 'creativ', 'excus', 'one', 'claim', 'dog', 'sleep', 'laptop', 'use', 'exam', 'depriv', 'excus', 'complet', 'dissert', 'draft', 'might', 'get', 'good', 'one']\n",
      "Document 10: ['group', 'project', 'bad', 'one', 'work', 'team', 'member', 'elus', 'bigfoot', 'project', 'due', 'next', 'week', 'hear', 'perhap', 'write', 'paper', 'sociolog', 'implic', 'group', 'work', 'avoid']\n"
     ]
    }
   ],
   "execution_count": 15
  },
  {
   "cell_type": "markdown",
   "id": "544cea0b",
   "metadata": {},
   "source": [
    "## ✏️ 2.2 Compute Term Frequency (TF)"
   ]
  },
  {
   "cell_type": "code",
   "id": "874163f9",
   "metadata": {
    "tags": [],
    "ExecuteTime": {
     "end_time": "2024-10-14T10:03:26.707704Z",
     "start_time": "2024-10-14T10:03:26.699705Z"
    }
   },
   "source": [
    "# Function to compute term frequency (TF) for each document\n",
    "def compute_tf(doc):\n",
    "    \n",
    "    # Initialize the TF dictionary\n",
    "    tf_dict = {}\n",
    "    \n",
    "    # TODO\n",
    "    # Count the term frequency \n",
    "    for word in doc:\n",
    "        tf_dict[word] = tf_dict.get(word, 0) + 1\n",
    "    \n",
    "    # TODO\n",
    "    # Divide term counts by total number of terms in the document\n",
    "    total_terms = len(doc)\n",
    "    for word in tf_dict:\n",
    "        tf_dict[word] = tf_dict[word] / total_terms\n",
    "    \n",
    "    return tf_dict\n",
    "\n",
    "# Compute TF for each document in the corpus\n",
    "tf_corpus = [compute_tf(doc) for doc in preprocessed_corpus]\n",
    "\n",
    "# Print TF values for each document\n",
    "for idx, tf in enumerate(tf_corpus):\n",
    "    print(f\"TF for Document {idx+1}: {tf}\\n\")"
   ],
   "outputs": [
    {
     "name": "stdout",
     "output_type": "stream",
     "text": [
      "TF for Document 1: {'sleepless': 0.04, 'night': 0.04, 'lab': 0.04, 'becom': 0.04, 'new': 0.04, 'normal': 0.04, 'tri': 0.04, 'fix': 0.04, 'experi': 0.04, 'setup': 0.04, 'apparatu': 0.04, 'seem': 0.04, 'mind': 0.04, 'advisor': 0.04, 'say': 0.04, 'result': 0.04, 'around': 0.04, 'corner': 0.08, 'keep': 0.04, 'move': 0.04, 'coffe': 0.04, 'true': 0.04, 'companion': 0.04, 'day': 0.04}\n",
      "\n",
      "TF for Document 2: {'think': 0.03571428571428571, 'grad': 0.03571428571428571, 'school': 0.03571428571428571, 'would': 0.03571428571428571, 'intellectu': 0.03571428571428571, 'stimul': 0.03571428571428571, 'mostli': 0.03571428571428571, 'paperwork': 0.03571428571428571, 'wait': 0.03571428571428571, 'email': 0.03571428571428571, 'department': 0.03571428571428571, 'printer': 0.03571428571428571, 'jam': 0.03571428571428571, 'late': 0.03571428571428571, 'meet': 0.03571428571428571, 'cafeteria': 0.03571428571428571, 'run': 0.03571428571428571, 'good': 0.03571428571428571, 'snack': 0.03571428571428571, 'surviv': 0.03571428571428571, 'vend': 0.03571428571428571, 'machin': 0.03571428571428571, 'chip': 0.03571428571428571, 'sleep': 0.03571428571428571, 'becom': 0.03571428571428571, 'luxuri': 0.03571428571428571, 'longer': 0.03571428571428571, 'afford': 0.03571428571428571}\n",
      "\n",
      "TF for Document 3: {'write': 0.03125, 'dissert': 0.03125, 'feel': 0.03125, 'like': 0.03125, 'climb': 0.03125, 'endless': 0.03125, 'mountain': 0.03125, 'everi': 0.03125, 'time': 0.03125, 'finish': 0.03125, 'chapter': 0.03125, 'supervisor': 0.03125, 'suggest': 0.03125, 'new': 0.03125, 'revis': 0.03125, 'impostor': 0.03125, 'syndrom': 0.03125, 'real': 0.03125, 'wonder': 0.03125, 'make': 0.03125, 'mistak': 0.03125, 'accept': 0.03125, 'mayb': 0.03125, 'go': 0.03125, 'clown': 0.03125, 'colleg': 0.03125, 'instead': 0.03125, 'utterli': 0.03125, 'depriv': 0.03125, 'semblanc': 0.03125, 'normal': 0.03125, 'life': 0.03125}\n",
      "\n",
      "TF for Document 4: {'research': 0.041666666666666664, 'data': 0.041666666666666664, 'get': 0.041666666666666664, 'corrupt': 0.041666666666666664, 'start': 0.041666666666666664, 'lab': 0.041666666666666664, 'mous': 0.041666666666666664, 'escap': 0.041666666666666664, 'spend': 0.041666666666666664, 'hour': 0.041666666666666664, 'tri': 0.041666666666666664, 'find': 0.041666666666666664, 'grant': 0.041666666666666664, 'propos': 0.041666666666666664, 'deadlin': 0.041666666666666664, 'tomorrow': 0.041666666666666664, 'onlin': 0.041666666666666664, 'submiss': 0.041666666666666664, 'portal': 0.041666666666666664, 'least': 0.041666666666666664, 'pet': 0.041666666666666664, 'cactu': 0.041666666666666664, 'die': 0.041666666666666664, 'yet': 0.041666666666666664}\n",
      "\n",
      "TF for Document 5: {'group': 0.047619047619047616, 'meet': 0.047619047619047616, 'turn': 0.047619047619047616, 'debat': 0.047619047619047616, 'font': 0.047619047619047616, 'choic': 0.047619047619047616, 'present': 0.047619047619047616, 'pretti': 0.047619047619047616, 'sure': 0.047619047619047616, 'colleagu': 0.047619047619047616, 'steal': 0.047619047619047616, 'lunch': 0.047619047619047616, 'fridg': 0.047619047619047616, 'photocopi': 0.047619047619047616, 'get': 0.047619047619047616, 'never': 0.047619047619047616, 'work': 0.047619047619047616, 'hurri': 0.047619047619047616, 'phd': 0.047619047619047616, 'nap': 0.047619047619047616, 'ace': 0.047619047619047616}\n",
      "\n",
      "TF for Document 6: {'see': 0.041666666666666664, 'sun': 0.041666666666666664, 'day': 0.041666666666666664, 'due': 0.041666666666666664, 'endless': 0.041666666666666664, 'cod': 0.041666666666666664, 'session': 0.041666666666666664, 'simul': 0.041666666666666664, 'keep': 0.041666666666666664, 'crash': 0.041666666666666664, 'stack': 0.041666666666666664, 'overflow': 0.041666666666666664, 'answer': 0.041666666666666664, 'roommat': 0.041666666666666664, 'think': 0.041666666666666664, 'ghost': 0.041666666666666664, 'haunt': 0.041666666666666664, 'apart': 0.041666666666666664, 'instant': 0.041666666666666664, 'noodl': 0.041666666666666664, 'becom': 0.041666666666666664, 'primari': 0.041666666666666664, 'food': 0.041666666666666664, 'group': 0.041666666666666664}\n",
      "\n",
      "TF for Document 7: {'attend': 0.041666666666666664, 'confer': 0.041666666666666664, 'sound': 0.041666666666666664, 'fun': 0.041666666666666664, 'realiz': 0.041666666666666664, 'involv': 0.041666666666666664, 'lot': 0.041666666666666664, 'awkward': 0.041666666666666664, 'network': 0.041666666666666664, 'accident': 0.041666666666666664, 'spill': 0.041666666666666664, 'coffe': 0.041666666666666664, 'famou': 0.041666666666666664, 'professor': 0.041666666666666664, 'shoe': 0.041666666666666664, 'poster': 0.041666666666666664, 'fell': 0.041666666666666664, 'twice': 0.041666666666666664, 'session': 0.041666666666666664, 'next': 0.041666666666666664, 'time': 0.041666666666666664, 'send': 0.041666666666666664, 'cardboard': 0.041666666666666664, 'cutout': 0.041666666666666664}\n",
      "\n",
      "TF for Document 8: {'univers': 0.041666666666666664, 'gym': 0.08333333333333333, 'membership': 0.041666666666666664, 'suppos': 0.041666666666666664, 'keep': 0.08333333333333333, 'healthi': 0.08333333333333333, 'use': 0.041666666666666664, 'tri': 0.041666666666666664, 'attend': 0.041666666666666664, 'yoga': 0.041666666666666664, 'class': 0.041666666666666664, 'stay': 0.041666666666666664, 'late': 0.041666666666666664, 'deadlin': 0.041666666666666664, 'fell': 0.041666666666666664, 'asleep': 0.041666666666666664, 'medit': 0.041666666666666664, 'mayb': 0.041666666666666664, 'instead': 0.041666666666666664, 'bed': 0.041666666666666664, 'essenti': 0.041666666666666664}\n",
      "\n",
      "TF for Document 9: {'teach': 0.034482758620689655, 'assistantship': 0.034482758620689655, 'involv': 0.034482758620689655, 'grade': 0.034482758620689655, 'endless': 0.034482758620689655, 'stack': 0.034482758620689655, 'exam': 0.06896551724137931, 'student': 0.034482758620689655, 'keep': 0.034482758620689655, 'email': 0.034482758620689655, 'extens': 0.034482758620689655, 'creativ': 0.034482758620689655, 'excus': 0.06896551724137931, 'one': 0.06896551724137931, 'claim': 0.034482758620689655, 'dog': 0.034482758620689655, 'sleep': 0.034482758620689655, 'laptop': 0.034482758620689655, 'use': 0.034482758620689655, 'depriv': 0.034482758620689655, 'complet': 0.034482758620689655, 'dissert': 0.034482758620689655, 'draft': 0.034482758620689655, 'might': 0.034482758620689655, 'get': 0.034482758620689655, 'good': 0.034482758620689655}\n",
      "\n",
      "TF for Document 10: {'group': 0.09090909090909091, 'project': 0.09090909090909091, 'bad': 0.045454545454545456, 'one': 0.045454545454545456, 'work': 0.09090909090909091, 'team': 0.045454545454545456, 'member': 0.045454545454545456, 'elus': 0.045454545454545456, 'bigfoot': 0.045454545454545456, 'due': 0.045454545454545456, 'next': 0.045454545454545456, 'week': 0.045454545454545456, 'hear': 0.045454545454545456, 'perhap': 0.045454545454545456, 'write': 0.045454545454545456, 'paper': 0.045454545454545456, 'sociolog': 0.045454545454545456, 'implic': 0.045454545454545456, 'avoid': 0.045454545454545456}\n",
      "\n"
     ]
    }
   ],
   "execution_count": 16
  },
  {
   "cell_type": "markdown",
   "id": "4cd3a5b8",
   "metadata": {},
   "source": [
    "## ✏️ 2.3 Compute Inverse Document Frequency (IDF)"
   ]
  },
  {
   "cell_type": "code",
   "id": "b72b4c5c",
   "metadata": {
    "tags": [],
    "ExecuteTime": {
     "end_time": "2024-10-14T10:03:26.799615Z",
     "start_time": "2024-10-14T10:03:26.786382Z"
    }
   },
   "source": [
    "# Function to compute inverse document frequency (IDF) for each term in the corpus\n",
    "def compute_idf(corpus):\n",
    "    \n",
    "    N = len(corpus)  # Total number of documents\n",
    "    \n",
    "    # Initialize the IDF dictionary\n",
    "    idf_dict = defaultdict(int)\n",
    "    \n",
    "    # TODO\n",
    "    # Count the number of documents containing each word\n",
    "    for doc in corpus:\n",
    "        for word in set(doc):  # Use set to count each word only once per document\n",
    "            idf_dict[word] += 1\n",
    "    \n",
    "    #TODO\n",
    "    # Compute IDF (logarithmic scale)\n",
    "    for word in idf_dict:\n",
    "        idf_dict[word] = math.log(N / (idf_dict[word])) + 1  # Smoothing by adding 1\n",
    "    \n",
    "    return idf_dict\n",
    "\n",
    "# Compute IDF for the corpus\n",
    "idf_dict = compute_idf(preprocessed_corpus)\n",
    "\n",
    "# Print IDF values\n",
    "print(\"IDF for Corpus:\")\n",
    "for word, idf in idf_dict.items():\n",
    "    print(f\"{word}: {idf}\")"
   ],
   "outputs": [
    {
     "name": "stdout",
     "output_type": "stream",
     "text": [
      "IDF for Corpus:\n",
      "apparatu: 3.302585092994046\n",
      "advisor: 3.302585092994046\n",
      "becom: 2.203972804325936\n",
      "move: 3.302585092994046\n",
      "result: 3.302585092994046\n",
      "tri: 2.203972804325936\n",
      "setup: 3.302585092994046\n",
      "new: 2.6094379124341005\n",
      "true: 3.302585092994046\n",
      "lab: 2.6094379124341005\n",
      "experi: 3.302585092994046\n",
      "corner: 3.302585092994046\n",
      "coffe: 2.6094379124341005\n",
      "say: 3.302585092994046\n",
      "normal: 2.6094379124341005\n",
      "keep: 1.916290731874155\n",
      "sleepless: 3.302585092994046\n",
      "seem: 3.302585092994046\n",
      "around: 3.302585092994046\n",
      "companion: 3.302585092994046\n",
      "day: 2.6094379124341005\n",
      "fix: 3.302585092994046\n",
      "mind: 3.302585092994046\n",
      "night: 3.302585092994046\n",
      "printer: 3.302585092994046\n",
      "department: 3.302585092994046\n",
      "chip: 3.302585092994046\n",
      "stimul: 3.302585092994046\n",
      "paperwork: 3.302585092994046\n",
      "longer: 3.302585092994046\n",
      "afford: 3.302585092994046\n",
      "school: 3.302585092994046\n",
      "mostli: 3.302585092994046\n",
      "email: 2.6094379124341005\n",
      "meet: 2.6094379124341005\n",
      "grad: 3.302585092994046\n",
      "jam: 3.302585092994046\n",
      "machin: 3.302585092994046\n",
      "wait: 3.302585092994046\n",
      "luxuri: 3.302585092994046\n",
      "snack: 3.302585092994046\n",
      "intellectu: 3.302585092994046\n",
      "good: 2.6094379124341005\n",
      "think: 2.6094379124341005\n",
      "surviv: 3.302585092994046\n",
      "run: 3.302585092994046\n",
      "late: 2.6094379124341005\n",
      "would: 3.302585092994046\n",
      "cafeteria: 3.302585092994046\n",
      "sleep: 2.6094379124341005\n",
      "vend: 3.302585092994046\n",
      "go: 3.302585092994046\n",
      "time: 2.6094379124341005\n",
      "wonder: 3.302585092994046\n",
      "suggest: 3.302585092994046\n",
      "finish: 3.302585092994046\n",
      "dissert: 2.6094379124341005\n",
      "utterli: 3.302585092994046\n",
      "mistak: 3.302585092994046\n",
      "life: 3.302585092994046\n",
      "mayb: 2.6094379124341005\n",
      "clown: 3.302585092994046\n",
      "revis: 3.302585092994046\n",
      "like: 3.302585092994046\n",
      "impostor: 3.302585092994046\n",
      "make: 3.302585092994046\n",
      "feel: 3.302585092994046\n",
      "endless: 2.203972804325936\n",
      "colleg: 3.302585092994046\n",
      "syndrom: 3.302585092994046\n",
      "everi: 3.302585092994046\n",
      "accept: 3.302585092994046\n",
      "climb: 3.302585092994046\n",
      "depriv: 2.6094379124341005\n",
      "instead: 2.6094379124341005\n",
      "semblanc: 3.302585092994046\n",
      "real: 3.302585092994046\n",
      "mountain: 3.302585092994046\n",
      "chapter: 3.302585092994046\n",
      "write: 2.6094379124341005\n",
      "supervisor: 3.302585092994046\n",
      "grant: 3.302585092994046\n",
      "submiss: 3.302585092994046\n",
      "propos: 3.302585092994046\n",
      "tomorrow: 3.302585092994046\n",
      "data: 3.302585092994046\n",
      "yet: 3.302585092994046\n",
      "spend: 3.302585092994046\n",
      "research: 3.302585092994046\n",
      "find: 3.302585092994046\n",
      "hour: 3.302585092994046\n",
      "portal: 3.302585092994046\n",
      "mous: 3.302585092994046\n",
      "die: 3.302585092994046\n",
      "pet: 3.302585092994046\n",
      "cactu: 3.302585092994046\n",
      "escap: 3.302585092994046\n",
      "deadlin: 2.6094379124341005\n",
      "corrupt: 3.302585092994046\n",
      "least: 3.302585092994046\n",
      "start: 3.302585092994046\n",
      "get: 2.203972804325936\n",
      "onlin: 3.302585092994046\n",
      "never: 3.302585092994046\n",
      "fridg: 3.302585092994046\n",
      "sure: 3.302585092994046\n",
      "ace: 3.302585092994046\n",
      "steal: 3.302585092994046\n",
      "choic: 3.302585092994046\n",
      "turn: 3.302585092994046\n",
      "nap: 3.302585092994046\n",
      "pretti: 3.302585092994046\n",
      "debat: 3.302585092994046\n",
      "present: 3.302585092994046\n",
      "group: 2.203972804325936\n",
      "work: 2.6094379124341005\n",
      "phd: 3.302585092994046\n",
      "hurri: 3.302585092994046\n",
      "lunch: 3.302585092994046\n",
      "font: 3.302585092994046\n",
      "photocopi: 3.302585092994046\n",
      "colleagu: 3.302585092994046\n",
      "food: 3.302585092994046\n",
      "simul: 3.302585092994046\n",
      "ghost: 3.302585092994046\n",
      "answer: 3.302585092994046\n",
      "cod: 3.302585092994046\n",
      "sun: 3.302585092994046\n",
      "session: 2.6094379124341005\n",
      "overflow: 3.302585092994046\n",
      "apart: 3.302585092994046\n",
      "see: 3.302585092994046\n",
      "stack: 2.6094379124341005\n",
      "roommat: 3.302585092994046\n",
      "instant: 3.302585092994046\n",
      "due: 2.6094379124341005\n",
      "primari: 3.302585092994046\n",
      "noodl: 3.302585092994046\n",
      "haunt: 3.302585092994046\n",
      "crash: 3.302585092994046\n",
      "realiz: 3.302585092994046\n",
      "shoe: 3.302585092994046\n",
      "accident: 3.302585092994046\n",
      "fell: 2.6094379124341005\n",
      "awkward: 3.302585092994046\n",
      "network: 3.302585092994046\n",
      "twice: 3.302585092994046\n",
      "attend: 2.6094379124341005\n",
      "sound: 3.302585092994046\n",
      "professor: 3.302585092994046\n",
      "cardboard: 3.302585092994046\n",
      "spill: 3.302585092994046\n",
      "involv: 2.6094379124341005\n",
      "lot: 3.302585092994046\n",
      "next: 2.6094379124341005\n",
      "cutout: 3.302585092994046\n",
      "poster: 3.302585092994046\n",
      "send: 3.302585092994046\n",
      "fun: 3.302585092994046\n",
      "confer: 3.302585092994046\n",
      "famou: 3.302585092994046\n",
      "membership: 3.302585092994046\n",
      "class: 3.302585092994046\n",
      "univers: 3.302585092994046\n",
      "healthi: 3.302585092994046\n",
      "asleep: 3.302585092994046\n",
      "yoga: 3.302585092994046\n",
      "medit: 3.302585092994046\n",
      "bed: 3.302585092994046\n",
      "suppos: 3.302585092994046\n",
      "gym: 3.302585092994046\n",
      "essenti: 3.302585092994046\n",
      "use: 2.6094379124341005\n",
      "stay: 3.302585092994046\n",
      "complet: 3.302585092994046\n",
      "student: 3.302585092994046\n",
      "grade: 3.302585092994046\n",
      "draft: 3.302585092994046\n",
      "exam: 3.302585092994046\n",
      "assistantship: 3.302585092994046\n",
      "creativ: 3.302585092994046\n",
      "teach: 3.302585092994046\n",
      "extens: 3.302585092994046\n",
      "claim: 3.302585092994046\n",
      "might: 3.302585092994046\n",
      "dog: 3.302585092994046\n",
      "laptop: 3.302585092994046\n",
      "excus: 3.302585092994046\n",
      "one: 2.6094379124341005\n",
      "paper: 3.302585092994046\n",
      "sociolog: 3.302585092994046\n",
      "team: 3.302585092994046\n",
      "week: 3.302585092994046\n",
      "implic: 3.302585092994046\n",
      "member: 3.302585092994046\n",
      "perhap: 3.302585092994046\n",
      "project: 3.302585092994046\n",
      "elus: 3.302585092994046\n",
      "hear: 3.302585092994046\n",
      "avoid: 3.302585092994046\n",
      "bigfoot: 3.302585092994046\n",
      "bad: 3.302585092994046\n"
     ]
    }
   ],
   "execution_count": 17
  },
  {
   "cell_type": "markdown",
   "id": "1bface74",
   "metadata": {},
   "source": [
    "## ✏️ 2.4 Compute TF-IDF"
   ]
  },
  {
   "cell_type": "code",
   "id": "ce20a060",
   "metadata": {
    "tags": [],
    "ExecuteTime": {
     "end_time": "2024-10-14T10:03:26.909245Z",
     "start_time": "2024-10-14T10:03:26.902353Z"
    }
   },
   "source": [
    "# Function to compute TF-IDF for a document\n",
    "def compute_tfidf(tf_doc, idf_dict):\n",
    "    \n",
    "    # Initialize TF-IDF dictionary\n",
    "    tfidf_dict = {}\n",
    "    \n",
    "    # TODO\n",
    "    # Multiply TF by corresponding IDF\n",
    "    for word, tf_value in tf_doc.items():\n",
    "        tfidf_dict[word] = tf_value * idf_dict.get(word, 0)  # Multiply TF by corresponding IDF\n",
    "        \n",
    "    return tfidf_dict\n",
    "\n",
    "# Compute TF-IDF for each document in the corpus\n",
    "tfidf_corpus = [compute_tfidf(tf, idf_dict) for tf in tf_corpus]\n",
    "\n",
    "# Print TF-IDF values for each document\n",
    "for idx, tfidf in enumerate(tfidf_corpus):\n",
    "    print(f\"TF-IDF for Document {idx+1}: {tfidf}\\n\")\n"
   ],
   "outputs": [
    {
     "name": "stdout",
     "output_type": "stream",
     "text": [
      "TF-IDF for Document 1: {'sleepless': 0.13210340371976184, 'night': 0.13210340371976184, 'lab': 0.10437751649736403, 'becom': 0.08815891217303744, 'new': 0.10437751649736403, 'normal': 0.10437751649736403, 'tri': 0.08815891217303744, 'fix': 0.13210340371976184, 'experi': 0.13210340371976184, 'setup': 0.13210340371976184, 'apparatu': 0.13210340371976184, 'seem': 0.13210340371976184, 'mind': 0.13210340371976184, 'advisor': 0.13210340371976184, 'say': 0.13210340371976184, 'result': 0.13210340371976184, 'around': 0.13210340371976184, 'corner': 0.2642068074395237, 'keep': 0.0766516292749662, 'move': 0.13210340371976184, 'coffe': 0.10437751649736403, 'true': 0.13210340371976184, 'companion': 0.13210340371976184, 'day': 0.10437751649736403}\n",
      "\n",
      "TF-IDF for Document 2: {'think': 0.09319421115836073, 'grad': 0.1179494676069302, 'school': 0.1179494676069302, 'would': 0.1179494676069302, 'intellectu': 0.1179494676069302, 'stimul': 0.1179494676069302, 'mostli': 0.1179494676069302, 'paperwork': 0.1179494676069302, 'wait': 0.1179494676069302, 'email': 0.09319421115836073, 'department': 0.1179494676069302, 'printer': 0.1179494676069302, 'jam': 0.1179494676069302, 'late': 0.09319421115836073, 'meet': 0.09319421115836073, 'cafeteria': 0.1179494676069302, 'run': 0.1179494676069302, 'good': 0.09319421115836073, 'snack': 0.1179494676069302, 'surviv': 0.1179494676069302, 'vend': 0.1179494676069302, 'machin': 0.1179494676069302, 'chip': 0.1179494676069302, 'sleep': 0.09319421115836073, 'becom': 0.078713314440212, 'luxuri': 0.1179494676069302, 'longer': 0.1179494676069302, 'afford': 0.1179494676069302}\n",
      "\n",
      "TF-IDF for Document 3: {'write': 0.08154493476356564, 'dissert': 0.08154493476356564, 'feel': 0.10320578415606393, 'like': 0.10320578415606393, 'climb': 0.10320578415606393, 'endless': 0.0688741501351855, 'mountain': 0.10320578415606393, 'everi': 0.10320578415606393, 'time': 0.08154493476356564, 'finish': 0.10320578415606393, 'chapter': 0.10320578415606393, 'supervisor': 0.10320578415606393, 'suggest': 0.10320578415606393, 'new': 0.08154493476356564, 'revis': 0.10320578415606393, 'impostor': 0.10320578415606393, 'syndrom': 0.10320578415606393, 'real': 0.10320578415606393, 'wonder': 0.10320578415606393, 'make': 0.10320578415606393, 'mistak': 0.10320578415606393, 'accept': 0.10320578415606393, 'mayb': 0.08154493476356564, 'go': 0.10320578415606393, 'clown': 0.10320578415606393, 'colleg': 0.10320578415606393, 'instead': 0.08154493476356564, 'utterli': 0.10320578415606393, 'depriv': 0.08154493476356564, 'semblanc': 0.10320578415606393, 'normal': 0.08154493476356564, 'life': 0.10320578415606393}\n",
      "\n",
      "TF-IDF for Document 4: {'research': 0.13760771220808524, 'data': 0.13760771220808524, 'get': 0.09183220018024732, 'corrupt': 0.13760771220808524, 'start': 0.13760771220808524, 'lab': 0.10872657968475419, 'mous': 0.13760771220808524, 'escap': 0.13760771220808524, 'spend': 0.13760771220808524, 'hour': 0.13760771220808524, 'tri': 0.09183220018024732, 'find': 0.13760771220808524, 'grant': 0.13760771220808524, 'propos': 0.13760771220808524, 'deadlin': 0.10872657968475419, 'tomorrow': 0.13760771220808524, 'onlin': 0.13760771220808524, 'submiss': 0.13760771220808524, 'portal': 0.13760771220808524, 'least': 0.13760771220808524, 'pet': 0.13760771220808524, 'cactu': 0.13760771220808524, 'die': 0.13760771220808524, 'yet': 0.13760771220808524}\n",
      "\n",
      "TF-IDF for Document 5: {'group': 0.10495108592028266, 'meet': 0.12425894821114764, 'turn': 0.15726595680924027, 'debat': 0.15726595680924027, 'font': 0.15726595680924027, 'choic': 0.15726595680924027, 'present': 0.15726595680924027, 'pretti': 0.15726595680924027, 'sure': 0.15726595680924027, 'colleagu': 0.15726595680924027, 'steal': 0.15726595680924027, 'lunch': 0.15726595680924027, 'fridg': 0.15726595680924027, 'photocopi': 0.15726595680924027, 'get': 0.10495108592028266, 'never': 0.15726595680924027, 'work': 0.12425894821114764, 'hurri': 0.15726595680924027, 'phd': 0.15726595680924027, 'nap': 0.15726595680924027, 'ace': 0.15726595680924027}\n",
      "\n",
      "TF-IDF for Document 6: {'see': 0.13760771220808524, 'sun': 0.13760771220808524, 'day': 0.10872657968475419, 'due': 0.10872657968475419, 'endless': 0.09183220018024732, 'cod': 0.13760771220808524, 'session': 0.10872657968475419, 'simul': 0.13760771220808524, 'keep': 0.07984544716142312, 'crash': 0.13760771220808524, 'stack': 0.10872657968475419, 'overflow': 0.13760771220808524, 'answer': 0.13760771220808524, 'roommat': 0.13760771220808524, 'think': 0.10872657968475419, 'ghost': 0.13760771220808524, 'haunt': 0.13760771220808524, 'apart': 0.13760771220808524, 'instant': 0.13760771220808524, 'noodl': 0.13760771220808524, 'becom': 0.09183220018024732, 'primari': 0.13760771220808524, 'food': 0.13760771220808524, 'group': 0.09183220018024732}\n",
      "\n",
      "TF-IDF for Document 7: {'attend': 0.10872657968475419, 'confer': 0.13760771220808524, 'sound': 0.13760771220808524, 'fun': 0.13760771220808524, 'realiz': 0.13760771220808524, 'involv': 0.10872657968475419, 'lot': 0.13760771220808524, 'awkward': 0.13760771220808524, 'network': 0.13760771220808524, 'accident': 0.13760771220808524, 'spill': 0.13760771220808524, 'coffe': 0.10872657968475419, 'famou': 0.13760771220808524, 'professor': 0.13760771220808524, 'shoe': 0.13760771220808524, 'poster': 0.13760771220808524, 'fell': 0.10872657968475419, 'twice': 0.13760771220808524, 'session': 0.10872657968475419, 'next': 0.10872657968475419, 'time': 0.10872657968475419, 'send': 0.13760771220808524, 'cardboard': 0.13760771220808524, 'cutout': 0.13760771220808524}\n",
      "\n",
      "TF-IDF for Document 8: {'univers': 0.13760771220808524, 'gym': 0.2752154244161705, 'membership': 0.13760771220808524, 'suppos': 0.13760771220808524, 'keep': 0.15969089432284625, 'healthi': 0.2752154244161705, 'use': 0.10872657968475419, 'tri': 0.09183220018024732, 'attend': 0.10872657968475419, 'yoga': 0.13760771220808524, 'class': 0.13760771220808524, 'stay': 0.13760771220808524, 'late': 0.10872657968475419, 'deadlin': 0.10872657968475419, 'fell': 0.10872657968475419, 'asleep': 0.13760771220808524, 'medit': 0.13760771220808524, 'mayb': 0.10872657968475419, 'instead': 0.10872657968475419, 'bed': 0.13760771220808524, 'essenti': 0.13760771220808524}\n",
      "\n",
      "TF-IDF for Document 9: {'teach': 0.11388224458600159, 'assistantship': 0.11388224458600159, 'involv': 0.0899806176701414, 'grade': 0.11388224458600159, 'endless': 0.07599906221813572, 'stack': 0.0899806176701414, 'exam': 0.22776448917200318, 'student': 0.11388224458600159, 'keep': 0.06607899075428121, 'email': 0.0899806176701414, 'extens': 0.11388224458600159, 'creativ': 0.11388224458600159, 'excus': 0.22776448917200318, 'one': 0.1799612353402828, 'claim': 0.11388224458600159, 'dog': 0.11388224458600159, 'sleep': 0.0899806176701414, 'laptop': 0.11388224458600159, 'use': 0.0899806176701414, 'depriv': 0.0899806176701414, 'complet': 0.11388224458600159, 'dissert': 0.0899806176701414, 'draft': 0.11388224458600159, 'might': 0.11388224458600159, 'get': 0.07599906221813572, 'good': 0.0899806176701414}\n",
      "\n",
      "TF-IDF for Document 10: {'group': 0.20036116402963053, 'project': 0.3002350084540042, 'bad': 0.1501175042270021, 'one': 0.11861081420155002, 'work': 0.23722162840310004, 'team': 0.1501175042270021, 'member': 0.1501175042270021, 'elus': 0.1501175042270021, 'bigfoot': 0.1501175042270021, 'due': 0.11861081420155002, 'next': 0.11861081420155002, 'week': 0.1501175042270021, 'hear': 0.1501175042270021, 'perhap': 0.1501175042270021, 'write': 0.11861081420155002, 'paper': 0.1501175042270021, 'sociolog': 0.1501175042270021, 'implic': 0.1501175042270021, 'avoid': 0.1501175042270021}\n",
      "\n"
     ]
    }
   ],
   "execution_count": 18
  },
  {
   "cell_type": "markdown",
   "id": "00d96e40",
   "metadata": {},
   "source": [
    "## 2.5 The Implementaion of Information Retrieval System"
   ]
  },
  {
   "cell_type": "markdown",
   "id": "2306f35a",
   "metadata": {},
   "source": [
    "### Measuring similarity: cosine similarity"
   ]
  },
  {
   "cell_type": "code",
   "id": "af4c5181",
   "metadata": {
    "tags": [],
    "ExecuteTime": {
     "end_time": "2024-10-14T10:03:27.019521Z",
     "start_time": "2024-10-14T10:03:27.008521Z"
    }
   },
   "source": [
    "# Function to compute cosine similarity between two vectors\n",
    "def cosine_similarity(vec1, vec2):\n",
    "    dot_product = sum(vec1.get(word, 0) * vec2.get(word, 0) for word in vec1)\n",
    "    magnitude1 = math.sqrt(sum([value ** 2 for value in vec1.values()]))\n",
    "    magnitude2 = math.sqrt(sum([value ** 2 for value in vec2.values()]))\n",
    "    \n",
    "    if not magnitude1 or not magnitude2:\n",
    "        return 0.0\n",
    "    return dot_product / (magnitude1 * magnitude2)"
   ],
   "outputs": [],
   "execution_count": 19
  },
  {
   "cell_type": "markdown",
   "id": "70b21add",
   "metadata": {},
   "source": [
    "### Rank the documents using cosine similarity"
   ]
  },
  {
   "cell_type": "code",
   "id": "0779c1f7",
   "metadata": {
    "tags": [],
    "ExecuteTime": {
     "end_time": "2024-10-14T10:03:27.099520Z",
     "start_time": "2024-10-14T10:03:27.086521Z"
    }
   },
   "source": [
    "# Compute TF for the query\n",
    "tf_query = compute_tf(preprocessed_query)\n",
    "\n",
    "# Compute TF-IDF for the query\n",
    "tfidf_query = compute_tfidf(tf_query, idf_dict)\n",
    "\n",
    "# Compute the cosine similarity of each documents to the query\n",
    "rankings_tfidf = []\n",
    "for idx, tfidf_doc in enumerate(tfidf_corpus):\n",
    "    score = cosine_similarity(tfidf_doc, tfidf_query)\n",
    "    rankings_tfidf.append((idx + 1, score))\n",
    "\n",
    "# Sort documents by similarity score in descending order\n",
    "rankings_tfidf = sorted(rankings_tfidf, key=lambda x: x[1], reverse=True)\n",
    "\n",
    "# Print document rankings\n",
    "print(\"Document Rankings based on Query:\")\n",
    "for rank, (doc_idx, score) in enumerate(rankings_tfidf, start=1):\n",
    "    print(f\"Rank {rank}: Document {doc_idx} with score {score}\")\n"
   ],
   "outputs": [
    {
     "name": "stdout",
     "output_type": "stream",
     "text": [
      "Document Rankings based on Query:\n",
      "Rank 1: Document 9 with score 0.20850879673278558\n",
      "Rank 2: Document 2 with score 0.11131520312033671\n",
      "Rank 3: Document 3 with score 0.10476487421443352\n",
      "Rank 4: Document 1 with score 0.0\n",
      "Rank 5: Document 4 with score 0.0\n",
      "Rank 6: Document 5 with score 0.0\n",
      "Rank 7: Document 6 with score 0.0\n",
      "Rank 8: Document 7 with score 0.0\n",
      "Rank 9: Document 8 with score 0.0\n",
      "Rank 10: Document 10 with score 0.0\n"
     ]
    }
   ],
   "execution_count": 20
  },
  {
   "cell_type": "markdown",
   "id": "716209d8-1197-4daf-891a-def8d48f0f19",
   "metadata": {},
   "source": [
    "### Observe the results above and discuss the following:\n",
    "- Are the highly ranked documents relevant to the query?\n",
    "- Why?"
   ]
  },
  {
   "cell_type": "markdown",
   "id": "2e7d2fa2",
   "metadata": {},
   "source": [
    "# 3. Vector Space Model: Word2Vec"
   ]
  },
  {
   "cell_type": "markdown",
   "id": "1c969039",
   "metadata": {},
   "source": [
    "## 3.1 Import Libraries"
   ]
  },
  {
   "cell_type": "code",
   "id": "80bbdc9d",
   "metadata": {
    "tags": [],
    "ExecuteTime": {
     "end_time": "2024-10-14T10:03:28.049530Z",
     "start_time": "2024-10-14T10:03:27.152523Z"
    }
   },
   "source": [
    "import numpy as np\n",
    "import gensim.downloader as api\n",
    "from gensim.models import Word2Vec"
   ],
   "outputs": [],
   "execution_count": 21
  },
  {
   "cell_type": "markdown",
   "id": "4cb50280",
   "metadata": {},
   "source": [
    "## 3.2 Load Pre-trained Word2Vec Model"
   ]
  },
  {
   "cell_type": "code",
   "id": "f6ac3b19",
   "metadata": {
    "tags": [],
    "ExecuteTime": {
     "end_time": "2024-10-14T10:04:38.532562Z",
     "start_time": "2024-10-14T10:03:28.067521Z"
    }
   },
   "source": [
    "# Load the pre-trained Google News Word2Vec model\n",
    "# This might take a while\n",
    "model = api.load('word2vec-google-news-300')"
   ],
   "outputs": [],
   "execution_count": 22
  },
  {
   "cell_type": "markdown",
   "id": "7290df8b-cd95-4078-9274-6b2e2256e0a8",
   "metadata": {},
   "source": [
    "### Let's observe a Word2Vec vector"
   ]
  },
  {
   "cell_type": "code",
   "id": "74f9c375-10cf-4dc5-b8ce-8e3835dd9fe6",
   "metadata": {
    "tags": [],
    "ExecuteTime": {
     "end_time": "2024-10-14T10:04:39.564582Z",
     "start_time": "2024-10-14T10:04:38.709588Z"
    }
   },
   "source": [
    "model['apple']"
   ],
   "outputs": [
    {
     "data": {
      "text/plain": [
       "array([-0.06445312, -0.16015625, -0.01208496,  0.13476562, -0.22949219,\n",
       "        0.16210938,  0.3046875 , -0.1796875 , -0.12109375,  0.25390625,\n",
       "       -0.01428223, -0.06396484, -0.08056641, -0.05688477, -0.19628906,\n",
       "        0.2890625 , -0.05151367,  0.14257812, -0.10498047, -0.04736328,\n",
       "       -0.34765625,  0.35742188,  0.265625  ,  0.00188446, -0.01586914,\n",
       "        0.00195312, -0.35546875,  0.22167969,  0.05761719,  0.15917969,\n",
       "        0.08691406, -0.0267334 , -0.04785156,  0.23925781, -0.05981445,\n",
       "        0.0378418 ,  0.17382812, -0.41796875,  0.2890625 ,  0.32617188,\n",
       "        0.02429199, -0.01647949, -0.06494141, -0.08886719,  0.07666016,\n",
       "       -0.15136719,  0.05249023, -0.04199219, -0.05419922,  0.00108337,\n",
       "       -0.20117188,  0.12304688,  0.09228516,  0.10449219, -0.00408936,\n",
       "       -0.04199219,  0.01409912, -0.02111816, -0.13476562, -0.24316406,\n",
       "        0.16015625, -0.06689453, -0.08984375, -0.07177734, -0.00595093,\n",
       "       -0.00482178, -0.00089264, -0.30664062, -0.0625    ,  0.07958984,\n",
       "       -0.00909424, -0.04492188,  0.09960938, -0.33398438, -0.3984375 ,\n",
       "        0.05541992, -0.06689453, -0.04467773,  0.11767578, -0.13964844,\n",
       "       -0.26367188,  0.17480469, -0.17382812, -0.40625   , -0.06738281,\n",
       "       -0.07617188,  0.09423828,  0.20996094, -0.16308594, -0.08691406,\n",
       "       -0.0534668 , -0.10351562, -0.07617188, -0.11083984, -0.03515625,\n",
       "       -0.14941406,  0.0378418 ,  0.38671875,  0.14160156, -0.2890625 ,\n",
       "       -0.16894531, -0.140625  , -0.04174805,  0.22753906,  0.24023438,\n",
       "       -0.01599121, -0.06787109,  0.21875   , -0.42382812, -0.5625    ,\n",
       "       -0.49414062, -0.3359375 ,  0.13378906,  0.01141357,  0.13671875,\n",
       "        0.0324707 ,  0.06835938, -0.27539062, -0.15917969,  0.00121307,\n",
       "        0.01208496, -0.0039978 ,  0.00442505, -0.04541016,  0.08642578,\n",
       "        0.09960938, -0.04296875, -0.11328125,  0.13867188,  0.41796875,\n",
       "       -0.28320312, -0.07373047, -0.11425781,  0.08691406, -0.02148438,\n",
       "        0.328125  , -0.07373047, -0.01348877,  0.17773438, -0.02624512,\n",
       "        0.13378906, -0.11132812, -0.12792969, -0.12792969,  0.18945312,\n",
       "       -0.13867188,  0.29882812, -0.07714844, -0.37695312, -0.10351562,\n",
       "        0.16992188, -0.10742188, -0.29882812,  0.00866699, -0.27734375,\n",
       "       -0.20996094, -0.1796875 , -0.19628906, -0.22167969,  0.08886719,\n",
       "       -0.27734375, -0.13964844,  0.15917969,  0.03637695,  0.03320312,\n",
       "       -0.08105469,  0.25390625, -0.08691406, -0.21289062, -0.18945312,\n",
       "       -0.22363281,  0.06542969, -0.16601562,  0.08837891, -0.359375  ,\n",
       "       -0.09863281,  0.35546875, -0.00741577,  0.19042969,  0.16992188,\n",
       "       -0.06005859, -0.20605469,  0.08105469,  0.12988281, -0.01135254,\n",
       "        0.33203125, -0.08691406,  0.27539062, -0.03271484,  0.12011719,\n",
       "       -0.0625    ,  0.1953125 , -0.10986328, -0.11767578,  0.20996094,\n",
       "        0.19921875,  0.02954102, -0.16015625,  0.00276184, -0.01367188,\n",
       "        0.03442383, -0.19335938,  0.00352478, -0.06542969, -0.05566406,\n",
       "        0.09423828,  0.29296875,  0.04052734, -0.09326172, -0.10107422,\n",
       "       -0.27539062,  0.04394531, -0.07275391,  0.13867188,  0.02380371,\n",
       "        0.13085938,  0.00236511, -0.2265625 ,  0.34765625,  0.13574219,\n",
       "        0.05224609,  0.18164062,  0.0402832 ,  0.23730469, -0.16992188,\n",
       "        0.10058594,  0.03833008,  0.10839844, -0.05615234, -0.00946045,\n",
       "        0.14550781, -0.30078125, -0.32226562,  0.18847656, -0.40234375,\n",
       "       -0.3125    , -0.08007812, -0.26757812,  0.16699219,  0.07324219,\n",
       "        0.06347656,  0.06591797,  0.17285156, -0.17773438,  0.00276184,\n",
       "       -0.05761719, -0.2265625 , -0.19628906,  0.09667969,  0.13769531,\n",
       "       -0.49414062, -0.27929688,  0.12304688, -0.30078125,  0.01293945,\n",
       "       -0.1875    , -0.20898438, -0.1796875 , -0.16015625, -0.03295898,\n",
       "        0.00976562,  0.25390625, -0.25195312,  0.00210571,  0.04296875,\n",
       "        0.01184082, -0.20605469,  0.24804688, -0.203125  , -0.17773438,\n",
       "        0.07275391,  0.04541016,  0.21679688, -0.2109375 ,  0.14550781,\n",
       "       -0.16210938,  0.20410156, -0.19628906, -0.35742188,  0.35742188,\n",
       "       -0.11962891,  0.35742188,  0.10351562,  0.07080078, -0.24707031,\n",
       "       -0.10449219, -0.19238281,  0.1484375 ,  0.00057983,  0.296875  ,\n",
       "       -0.12695312, -0.03979492,  0.13183594, -0.16601562,  0.125     ,\n",
       "        0.05126953, -0.14941406,  0.13671875, -0.02075195,  0.34375   ],\n",
       "      dtype=float32)"
      ]
     },
     "execution_count": 23,
     "metadata": {},
     "output_type": "execute_result"
    }
   ],
   "execution_count": 23
  },
  {
   "cell_type": "markdown",
   "id": "cbe8f96c-27ce-49c9-9264-1c97f26f0706",
   "metadata": {},
   "source": [
    "### Observe the results above and discuss the following:\n",
    "- What is the data type of this vector?\n",
    "- What is the dimensionality?"
   ]
  },
  {
   "cell_type": "markdown",
   "id": "dd8907ef-3d24-414d-aa18-3a0ec0f65552",
   "metadata": {},
   "source": [
    "### Finding analogies using Word2Vec"
   ]
  },
  {
   "cell_type": "code",
   "id": "9d2fec01-8c35-48e5-b30d-22ad8bb1146a",
   "metadata": {
    "tags": [],
    "ExecuteTime": {
     "end_time": "2024-10-14T10:06:18.651472Z",
     "start_time": "2024-10-14T10:04:40.766594Z"
    }
   },
   "source": [
    "model.most_similar(\"apple\")"
   ],
   "outputs": [
    {
     "data": {
      "text/plain": [
       "[('apples', 0.720359742641449),\n",
       " ('pear', 0.6450697183609009),\n",
       " ('fruit', 0.6410146355628967),\n",
       " ('berry', 0.6302295327186584),\n",
       " ('pears', 0.613396167755127),\n",
       " ('strawberry', 0.6058260798454285),\n",
       " ('peach', 0.6025872826576233),\n",
       " ('potato', 0.5960935354232788),\n",
       " ('grape', 0.5935863852500916),\n",
       " ('blueberry', 0.5866668224334717)]"
      ]
     },
     "execution_count": 24,
     "metadata": {},
     "output_type": "execute_result"
    }
   ],
   "execution_count": 24
  },
  {
   "cell_type": "code",
   "id": "23ec66fe-f37a-405b-bac3-a887d3987e60",
   "metadata": {
    "tags": [],
    "ExecuteTime": {
     "end_time": "2024-10-14T10:06:18.967479Z",
     "start_time": "2024-10-14T10:06:18.710472Z"
    }
   },
   "source": [
    "model.most_similar(\"Apple\")"
   ],
   "outputs": [
    {
     "data": {
      "text/plain": [
       "[('Apple_AAPL', 0.7456986308097839),\n",
       " ('Apple_Nasdaq_AAPL', 0.7300410270690918),\n",
       " ('Apple_NASDAQ_AAPL', 0.717508852481842),\n",
       " ('Apple_Computer', 0.7145972847938538),\n",
       " ('iPhone', 0.6924266219139099),\n",
       " ('Apple_NSDQ_AAPL', 0.6868603229522705),\n",
       " ('Steve_Jobs', 0.6758421659469604),\n",
       " ('iPad', 0.6580768823623657),\n",
       " ('Apple_nasdaq_AAPL', 0.6444970369338989),\n",
       " ('AAPL_PriceWatch_Alert', 0.6439753174781799)]"
      ]
     },
     "execution_count": 25,
     "metadata": {},
     "output_type": "execute_result"
    }
   ],
   "execution_count": 25
  },
  {
   "cell_type": "code",
   "id": "923cc06a-89bf-4edb-b36b-24438da99a51",
   "metadata": {
    "tags": [],
    "ExecuteTime": {
     "end_time": "2024-10-14T10:06:19.263472Z",
     "start_time": "2024-10-14T10:06:19.015473Z"
    }
   },
   "source": [
    "model.most_similar(positive=['Gates', 'Apple'], negative=['Jobs'])"
   ],
   "outputs": [
    {
     "data": {
      "text/plain": [
       "[('Microsoft', 0.457754522562027),\n",
       " ('Steve_Ballmer', 0.42643362283706665),\n",
       " ('Robert_Gates', 0.40924885869026184),\n",
       " ('Ballmer', 0.40724438428878784),\n",
       " ('Mullen', 0.4004097878932953),\n",
       " ('Chief_Executive_Steve_Ballmer', 0.3993479311466217),\n",
       " ('BlackBerry_maker', 0.39889541268348694),\n",
       " ('Apple_Nasdaq_AAPL', 0.39581313729286194),\n",
       " ('REDMOND_Wash._Microsoft', 0.3908952474594116),\n",
       " ('McAfee', 0.38951441645622253)]"
      ]
     },
     "execution_count": 26,
     "metadata": {},
     "output_type": "execute_result"
    }
   ],
   "execution_count": 26
  },
  {
   "cell_type": "markdown",
   "id": "68db33da-9360-4962-9572-cfac6d4339b9",
   "metadata": {},
   "source": [
    "## 3.3 Compute Word2Vec Embeddings"
   ]
  },
  {
   "cell_type": "code",
   "id": "c90e2df9",
   "metadata": {
    "tags": [],
    "ExecuteTime": {
     "end_time": "2024-10-14T10:06:19.539419Z",
     "start_time": "2024-10-14T10:06:19.333071Z"
    }
   },
   "source": [
    "# Notice here we only tokenize and lowercase the tokens:\n",
    "tokens = [word_tokenize(doc.lower()) for doc in corpus]\n",
    "query_tokens = word_tokenize(query.lower())\n",
    "\n",
    "# Function to compute the average word vector for a document or query\n",
    "def compute_avg_vector(words, model):\n",
    "    vectors = [model[word] for word in words if word in model]\n",
    "    if len(vectors) > 0:\n",
    "        return np.mean(vectors, axis=0)\n",
    "    else:\n",
    "        return np.zeros(model.vector_size)  # Return zero vector if no word in model\n",
    "\n",
    "# Compute average word vectors for each document\n",
    "doc_vectors = [compute_avg_vector(doc, model) for doc in tokens]\n",
    "\n",
    "# Compute average word vector for the query\n",
    "query_vector = compute_avg_vector(query_tokens, model)"
   ],
   "outputs": [],
   "execution_count": 27
  },
  {
   "cell_type": "markdown",
   "id": "099abfd5-768c-454b-996a-31de2d13e150",
   "metadata": {},
   "source": [
    "## 3.4 The Implementaion of Information Retrieval System"
   ]
  },
  {
   "cell_type": "markdown",
   "id": "e02991a5-6595-45c2-ac42-80290749ee68",
   "metadata": {
    "tags": []
   },
   "source": [
    "### Measuring similarity: cosine similarity"
   ]
  },
  {
   "cell_type": "code",
   "id": "1d17ff6b-5234-4c22-83af-98cd3ba5cad9",
   "metadata": {
    "tags": [],
    "ExecuteTime": {
     "end_time": "2024-10-14T10:06:19.555419Z",
     "start_time": "2024-10-14T10:06:19.546419Z"
    }
   },
   "source": [
    "def cosine_similarity(vec1, vec2):\n",
    "    dot_product = np.dot(vec1, vec2)\n",
    "    magnitude1 = np.linalg.norm(vec1)\n",
    "    magnitude2 = np.linalg.norm(vec2)\n",
    "    \n",
    "    if magnitude1 == 0 or magnitude2 == 0:\n",
    "        return 0  # Avoid division by zero\n",
    "    return dot_product / (magnitude1 * magnitude2)"
   ],
   "outputs": [],
   "execution_count": 28
  },
  {
   "cell_type": "markdown",
   "id": "1b060db3-c084-4524-a1e1-9f735f745862",
   "metadata": {},
   "source": [
    "### ✏️ Rank the documents using cosine similarity"
   ]
  },
  {
   "cell_type": "code",
   "id": "d070eede96bd89fe",
   "metadata": {
    "ExecuteTime": {
     "end_time": "2024-10-14T10:06:19.665420Z",
     "start_time": "2024-10-14T10:06:19.603419Z"
    }
   },
   "source": [
    "# TODO\n",
    "# Rank documents based on similarity to the query\n",
    "rankings_word2vec = []\n",
    "for idx, doc_vector in enumerate(doc_vectors):\n",
    "    score = cosine_similarity(doc_vector, query_vector)\n",
    "    rankings_word2vec.append((idx + 1, score))\n",
    "\n",
    "# TODO\n",
    "# Sort documents by similarity score in descending order\n",
    "rankings_word2vec = sorted(rankings_word2vec, key=lambda x: x[1], reverse=True)\n",
    "\n",
    "# Print document rankings\n",
    "print(\"Document Rankings based on Query:\")\n",
    "for rank, (doc_idx, score) in enumerate(rankings_word2vec, start=1):\n",
    "    print(f\"Rank {rank}: Document {doc_idx} with score {score}\")"
   ],
   "outputs": [
    {
     "name": "stdout",
     "output_type": "stream",
     "text": [
      "Document Rankings based on Query:\n",
      "Rank 1: Document 9 with score 0.3664294183254242\n",
      "Rank 2: Document 8 with score 0.35598620772361755\n",
      "Rank 3: Document 6 with score 0.35288575291633606\n",
      "Rank 4: Document 3 with score 0.34057316184043884\n",
      "Rank 5: Document 2 with score 0.32652580738067627\n",
      "Rank 6: Document 1 with score 0.30051565170288086\n",
      "Rank 7: Document 5 with score 0.2849697172641754\n",
      "Rank 8: Document 10 with score 0.27993154525756836\n",
      "Rank 9: Document 4 with score 0.2621768116950989\n",
      "Rank 10: Document 7 with score 0.24750055372714996\n"
     ]
    }
   ],
   "execution_count": 29
  },
  {
   "cell_type": "markdown",
   "id": "9f8fe449-63c4-4c6e-906d-410df096d098",
   "metadata": {},
   "source": [
    "### Observe the results above and discuss the following:\n",
    "- How are the results using Word2Vec different from those using TF-IDF?"
   ]
  },
  {
   "cell_type": "markdown",
   "id": "417282dc-3699-4371-9eef-8add77f031ff",
   "metadata": {},
   "source": [
    "### How about we learn our own word2vec model with the corpus?"
   ]
  },
  {
   "cell_type": "markdown",
   "id": "9bc8fe76-697d-4de8-81bf-8c57473843f4",
   "metadata": {},
   "source": [
    "## 3.5 Train Word2Vec Model from Scratch"
   ]
  },
  {
   "cell_type": "code",
   "id": "aa51ff04-f8bb-4aac-a7e1-58e986a34bb3",
   "metadata": {
    "tags": [],
    "ExecuteTime": {
     "end_time": "2024-10-14T10:06:19.822427Z",
     "start_time": "2024-10-14T10:06:19.698420Z"
    }
   },
   "source": [
    "# Train Word2Vec on the corpus\n",
    "model_corpus = Word2Vec(sentences=tokens, vector_size=100, window=5, min_count=1, workers=4)"
   ],
   "outputs": [],
   "execution_count": 30
  },
  {
   "cell_type": "code",
   "id": "46432dde-4e00-44b3-a6c1-02bec6b9b567",
   "metadata": {
    "tags": [],
    "ExecuteTime": {
     "end_time": "2024-10-14T10:06:19.884427Z",
     "start_time": "2024-10-14T10:06:19.871419Z"
    }
   },
   "source": [
    "# Function to compute the average word vector for a document or query\n",
    "def compute_avg_vector(words, model):\n",
    "    vectors = [model.wv[word] for word in words if word in model.wv]\n",
    "    if len(vectors) > 0:\n",
    "        return np.mean(vectors, axis=0)\n",
    "    else:\n",
    "        return np.zeros(model.vector_size)  # Return zero vector if no word in model\n",
    "\n",
    "# Compute average word vectors for each document\n",
    "doc_vectors = [compute_avg_vector(doc, model_corpus) for doc in tokens]\n",
    "\n",
    "# Compute average word vector for the query\n",
    "query_vector = compute_avg_vector(query_tokens, model_corpus)\n"
   ],
   "outputs": [],
   "execution_count": 31
  },
  {
   "cell_type": "code",
   "id": "1d4883ff-a8f6-4f98-b2c1-680ee0415359",
   "metadata": {
    "tags": [],
    "ExecuteTime": {
     "end_time": "2024-10-14T10:06:19.932427Z",
     "start_time": "2024-10-14T10:06:19.919424Z"
    }
   },
   "source": [
    "def cosine_similarity(vec1, vec2):\n",
    "    dot_product = np.dot(vec1, vec2)\n",
    "    magnitude1 = np.linalg.norm(vec1)\n",
    "    magnitude2 = np.linalg.norm(vec2)\n",
    "    \n",
    "    if magnitude1 == 0 or magnitude2 == 0:\n",
    "        return 0  # Avoid division by zero\n",
    "    return dot_product / (magnitude1 * magnitude2)\n",
    "\n",
    "# Rank documents based on similarity to the query\n",
    "rankings_word2vec_trained = []\n",
    "for idx, doc_vector in enumerate(doc_vectors):\n",
    "    score = cosine_similarity(doc_vector, query_vector)\n",
    "    rankings_word2vec_trained.append((idx + 1, score))\n",
    "\n",
    "# Sort documents by similarity score in descending order\n",
    "rankings_word2vec_trained = sorted(rankings_word2vec_trained, key=lambda x: x[1], reverse=True)\n",
    "\n",
    "# Print document rankings\n",
    "print(\"Document Rankings based on Query:\")\n",
    "for rank, (doc_idx, score) in enumerate(rankings_word2vec_trained, start=1):\n",
    "    print(f\"Rank {rank}: Document {doc_idx} with score {score}\")"
   ],
   "outputs": [
    {
     "name": "stdout",
     "output_type": "stream",
     "text": [
      "Document Rankings based on Query:\n",
      "Rank 1: Document 9 with score 0.2207733392715454\n",
      "Rank 2: Document 5 with score 0.21063056588172913\n",
      "Rank 3: Document 2 with score 0.18398788571357727\n",
      "Rank 4: Document 6 with score 0.12987695634365082\n",
      "Rank 5: Document 7 with score 0.11967610567808151\n",
      "Rank 6: Document 4 with score 0.10431124269962311\n",
      "Rank 7: Document 1 with score 0.08538193255662918\n",
      "Rank 8: Document 3 with score 0.06317423284053802\n",
      "Rank 9: Document 10 with score 0.059812527149915695\n",
      "Rank 10: Document 8 with score 0.02246975153684616\n"
     ]
    }
   ],
   "execution_count": 32
  },
  {
   "cell_type": "markdown",
   "id": "8dc1fab1-80a6-4c82-abb5-90b664f9b78b",
   "metadata": {
    "jp-MarkdownHeadingCollapsed": true,
    "tags": []
   },
   "source": [
    "### Observe the results above and discuss the following:\n",
    "- How are the results using self-trained Word2Vec different from those using pre-trained Word2Vec?"
   ]
  },
  {
   "cell_type": "markdown",
   "id": "172430c1-cfc7-4857-b73e-046a0ff62b58",
   "metadata": {
    "tags": []
   },
   "source": [
    "# 4. Vector Space Model: BERT\n",
    "This is not how a BERT model is normally used, but we can see how contextualized embeddings are helpful in matching queries and documents beyond just words."
   ]
  },
  {
   "cell_type": "markdown",
   "id": "a5be2c3d-d3ec-42c5-8d05-158d70e20d6e",
   "metadata": {},
   "source": [
    "## 4.1 Import Libraries"
   ]
  },
  {
   "cell_type": "code",
   "id": "79a51e70-21d0-4ac7-bb4d-c5f9ae8a5b1e",
   "metadata": {
    "ExecuteTime": {
     "end_time": "2024-10-14T10:06:34.668109Z",
     "start_time": "2024-10-14T10:06:19.966420Z"
    }
   },
   "source": [
    "import torch\n",
    "from transformers import BertTokenizer, BertModel"
   ],
   "outputs": [],
   "execution_count": 33
  },
  {
   "cell_type": "markdown",
   "id": "81bdb588-c151-4742-8c7c-c6c483b0c5f6",
   "metadata": {},
   "source": [
    "## 4.2 Load Pre-trained BERT Model"
   ]
  },
  {
   "cell_type": "code",
   "id": "61244e77-b91a-49af-badf-e2396e44f375",
   "metadata": {
    "tags": [],
    "ExecuteTime": {
     "end_time": "2024-10-14T10:06:37.034012Z",
     "start_time": "2024-10-14T10:06:34.699102Z"
    }
   },
   "source": [
    "# Load pre-trained BERT model and tokenizer\n",
    "tokenizer = BertTokenizer.from_pretrained('bert-base-uncased')\n",
    "model_bert = BertModel.from_pretrained('bert-base-uncased')\n",
    "\n",
    "# Function to generate BERT embeddings for a given text\n",
    "def get_bert_embedding(text):\n",
    "    inputs = tokenizer(text, return_tensors='pt', padding=True, truncation=True, max_length=512)\n",
    "    with torch.no_grad():\n",
    "        outputs = model_bert(**inputs)\n",
    "    # The [CLS] token embedding is typically used as the sentence representation\n",
    "    return outputs.last_hidden_state[:, 0, :]  # Return the embedding for the [CLS] token"
   ],
   "outputs": [
    {
     "name": "stderr",
     "output_type": "stream",
     "text": [
      "C:\\Users\\eddie\\.conda\\envs\\DocumentClassification\\lib\\site-packages\\huggingface_hub\\file_download.py:1132: FutureWarning: `resume_download` is deprecated and will be removed in version 1.0.0. Downloads always resume when possible. If you want to force a new download, use `force_download=True`.\n",
      "  warnings.warn(\n"
     ]
    }
   ],
   "execution_count": 34
  },
  {
   "cell_type": "markdown",
   "id": "29123a13-d710-4e79-bbf2-e704f81f0db5",
   "metadata": {},
   "source": [
    "## 4.3 Compute BERT Embeddings"
   ]
  },
  {
   "cell_type": "code",
   "id": "7418ceb4-412b-4f8e-94bd-66ee314e2766",
   "metadata": {
    "tags": [],
    "ExecuteTime": {
     "end_time": "2024-10-14T10:06:38.002648Z",
     "start_time": "2024-10-14T10:06:37.067012Z"
    }
   },
   "source": [
    "# Compute BERT embeddings for the query\n",
    "query_embedding = get_bert_embedding(query)\n",
    "\n",
    "# Compute BERT embeddings for each document in the corpus\n",
    "corpus_embeddings = [get_bert_embedding(doc) for doc in corpus]"
   ],
   "outputs": [],
   "execution_count": 35
  },
  {
   "cell_type": "markdown",
   "id": "7d3cd6f0-f535-4349-ae55-dc7038fbefa7",
   "metadata": {},
   "source": [
    "## 4.4 The Implementaion of Information Retrieval System"
   ]
  },
  {
   "cell_type": "markdown",
   "id": "a879879f-40d7-4657-ba07-d6d022ce78b1",
   "metadata": {},
   "source": [
    "### Measuring similarity: cosine similarity"
   ]
  },
  {
   "cell_type": "code",
   "id": "35665c91-5f13-4073-b800-edc0304e2c4b",
   "metadata": {
    "tags": [],
    "ExecuteTime": {
     "end_time": "2024-10-14T10:06:38.125648Z",
     "start_time": "2024-10-14T10:06:38.112648Z"
    }
   },
   "source": [
    "# Function to compute cosine similarity between two vectors\n",
    "def cosine_similarity(vec1, vec2):\n",
    "    vec1 = vec1.numpy()\n",
    "    vec2 = vec2.numpy()\n",
    "    dot_product = np.dot(vec1, vec2.T)\n",
    "    norm1 = np.linalg.norm(vec1)\n",
    "    norm2 = np.linalg.norm(vec2)\n",
    "    \n",
    "    if norm1 == 0 or norm2 == 0:\n",
    "        return 0.0\n",
    "    return dot_product / (norm1 * norm2)"
   ],
   "outputs": [],
   "execution_count": 36
  },
  {
   "cell_type": "markdown",
   "id": "0f13b45b-d635-4db5-a8f5-80c9ea0b80ba",
   "metadata": {},
   "source": [
    "### Rank the documents using cosine similarity"
   ]
  },
  {
   "cell_type": "code",
   "id": "afe442cf44e97141",
   "metadata": {
    "ExecuteTime": {
     "end_time": "2024-10-14T10:06:38.652126Z",
     "start_time": "2024-10-14T10:06:38.313690Z"
    }
   },
   "source": [
    "# Rank documents based on similarity to the query\n",
    "rankings_bert = []\n",
    "for idx, doc_embedding in enumerate(corpus_embeddings):\n",
    "    score = cosine_similarity(query_embedding[0], doc_embedding[0])\n",
    "    rankings_bert.append((idx + 1, score))\n",
    "\n",
    "# Sort documents by similarity score in descending order\n",
    "rankings_bert = sorted(rankings_bert, key=lambda x: x[1], reverse=True)\n",
    "\n",
    "# Print document rankings\n",
    "print(\"Document Rankings based on BERT embeddings:\")\n",
    "for rank, (doc_idx, score) in enumerate(rankings_bert, start=1):\n",
    "    print(f\"Rank {rank}: Document {doc_idx} with score {score}\")"
   ],
   "outputs": [
    {
     "name": "stdout",
     "output_type": "stream",
     "text": [
      "Document Rankings based on BERT embeddings:\n",
      "Rank 1: Document 2 with score 0.8103367686271667\n",
      "Rank 2: Document 6 with score 0.7880859971046448\n",
      "Rank 3: Document 5 with score 0.7864929437637329\n",
      "Rank 4: Document 3 with score 0.7857745885848999\n",
      "Rank 5: Document 1 with score 0.7844799160957336\n",
      "Rank 6: Document 10 with score 0.7754190564155579\n",
      "Rank 7: Document 7 with score 0.7519575953483582\n",
      "Rank 8: Document 8 with score 0.7409098148345947\n",
      "Rank 9: Document 4 with score 0.7397841215133667\n",
      "Rank 10: Document 9 with score 0.7047692537307739\n"
     ]
    }
   ],
   "execution_count": 37
  },
  {
   "cell_type": "markdown",
   "id": "ae9989f0-7148-4ba2-b804-2e5dbac0fbaf",
   "metadata": {},
   "source": [
    "### Observe the results above and discuss the following:\n",
    "- How are the results using contextualized word embeddings (BERT) different from those using Word2Vec?"
   ]
  },
  {
   "cell_type": "markdown",
   "id": "a036dbdc",
   "metadata": {},
   "source": [
    "# Assignment 1"
   ]
  },
  {
   "cell_type": "markdown",
   "id": "0d5acd23-0d29-4c39-8cd8-29dcebea5d89",
   "metadata": {},
   "source": [
    "## Part 1: Implement Bigram TF-IDF\n",
    "Using the same query and corpus, implement your own information retrival system base on bigram TF-IDF."
   ]
  },
  {
   "cell_type": "code",
   "id": "939edab742e235f4",
   "metadata": {
    "ExecuteTime": {
     "end_time": "2024-10-14T10:06:39.202262Z",
     "start_time": "2024-10-14T10:06:38.935049Z"
    }
   },
   "source": [
    "query = \"sleep deprivation\"\n",
    "\n",
    "corpus = [\n",
    "    \"Sleepless nights in the lab have become my new normal. I tried to fix the experiment setup, but the apparatus seems to have a mind of its own. My advisor says results are just around the corner, but the corner keeps moving. Coffee is my only true companion these days.\",\n",
    "    \"I thought grad school would be intellectually stimulating, but it's mostly paperwork and waiting for emails. The departmental printer jammed again, and now I'm late for a meeting. The cafeteria ran out of the good snacks, so I'm surviving on vending machine chips. Sleep has become a luxury I can no longer afford.\",\n",
    "    \"Writing the dissertation feels like climbing an endless mountain. Every time I finish a chapter, my supervisor suggests new revisions. The impostor syndrome is real, and I wonder if they made a mistake accepting me. Maybe I should have gone to clown college instead. I am utterly deprived of any semblance of a normal life.\",\n",
    "    \"My research data got corrupted, and now I have to start over. The lab mouse escaped, and we spent hours trying to find it. The grant proposal deadline is tomorrow, and the online submission portal is down. At least my pet cactus hasn't died yet.\",\n",
    "    \"The group meeting turned into a three-hour debate over font choices for the presentation. I'm pretty sure my colleague is stealing my lunch from the fridge. The photocopier is out to get me; it never works when I'm in a hurry. Is there a PhD in napping? Because I'd ace that.\",\n",
    "    \"I haven't seen the sun in days due to endless coding sessions. The simulation keeps crashing, and Stack Overflow doesn't have the answers. My roommate thinks I'm a ghost haunting the apartment. Instant noodles have become my primary food group.\",\n",
    "    \"Attending conferences sounded fun until I realized they involve a lot of awkward networking. I accidentally spilled coffee on a famous professor's shoes. My poster fell down twice during the session. Next time, I'll just send a cardboard cutout of myself.\",\n",
    "    \"The university gym membership was supposed to keep me healthy, but I've only used it once. I tried to attend a yoga class after staying up late for a deadline, but I fell asleep during the meditation. Maybe instead of the gym, my bed is more essential for keeping me healthy.\",\n",
    "    \"My teaching assistantship involves grading endless stacks of exams. Students keep emailing me for extensions with creative excuses. One claimed their dog sleeps on the laptop so they cannot use it for the exam. I was deprived of excuses for not completing my dissertation draft, and I might have got some good ones.\",\n",
    "    \"Group projects are the worst when you're the only one doing the work. My team members are as elusive as Bigfoot. The project is due next week, and I haven't heard from them. Perhaps I should just write a paper on the sociological implications of group work avoidance.\"\n",
    "]\n",
    "\n",
    "# Binary labels for the documents' relevancy to the query\n",
    "# Relevant ones: 1, 2, 5, 6, 8\n",
    "corpus_relevancy_label = [1, 1, 0, 0, 1, 1, 0, 1, 0, 0]"
   ],
   "outputs": [],
   "execution_count": 38
  },
  {
   "cell_type": "code",
   "id": "d4eeee9d5ff2a6c9",
   "metadata": {
    "ExecuteTime": {
     "end_time": "2024-10-14T10:06:39.851661Z",
     "start_time": "2024-10-14T10:06:39.398620Z"
    }
   },
   "source": [
    "# Apply preprocessing to each document in the corpus\n",
    "preprocessed_query = preprocess_text(query)\n",
    "print(f\"Query: {preprocessed_query}\\n\")\n",
    "\n",
    "preprocessed_corpus = [preprocess_text(doc) for doc in corpus]\n",
    "# Print preprocessed corpus\n",
    "for idx, doc in enumerate(preprocessed_corpus):\n",
    "    print(f\"Document {idx+1}: {doc}\")"
   ],
   "outputs": [
    {
     "name": "stdout",
     "output_type": "stream",
     "text": [
      "Query: ['sleep', 'depriv']\n",
      "\n",
      "Document 1: ['sleepless', 'night', 'lab', 'becom', 'new', 'normal', 'tri', 'fix', 'experi', 'setup', 'apparatu', 'seem', 'mind', 'advisor', 'say', 'result', 'around', 'corner', 'corner', 'keep', 'move', 'coffe', 'true', 'companion', 'day']\n",
      "Document 2: ['think', 'grad', 'school', 'would', 'intellectu', 'stimul', 'mostli', 'paperwork', 'wait', 'email', 'department', 'printer', 'jam', 'late', 'meet', 'cafeteria', 'run', 'good', 'snack', 'surviv', 'vend', 'machin', 'chip', 'sleep', 'becom', 'luxuri', 'longer', 'afford']\n",
      "Document 3: ['write', 'dissert', 'feel', 'like', 'climb', 'endless', 'mountain', 'everi', 'time', 'finish', 'chapter', 'supervisor', 'suggest', 'new', 'revis', 'impostor', 'syndrom', 'real', 'wonder', 'make', 'mistak', 'accept', 'mayb', 'go', 'clown', 'colleg', 'instead', 'utterli', 'depriv', 'semblanc', 'normal', 'life']\n",
      "Document 4: ['research', 'data', 'get', 'corrupt', 'start', 'lab', 'mous', 'escap', 'spend', 'hour', 'tri', 'find', 'grant', 'propos', 'deadlin', 'tomorrow', 'onlin', 'submiss', 'portal', 'least', 'pet', 'cactu', 'die', 'yet']\n",
      "Document 5: ['group', 'meet', 'turn', 'debat', 'font', 'choic', 'present', 'pretti', 'sure', 'colleagu', 'steal', 'lunch', 'fridg', 'photocopi', 'get', 'never', 'work', 'hurri', 'phd', 'nap', 'ace']\n",
      "Document 6: ['see', 'sun', 'day', 'due', 'endless', 'cod', 'session', 'simul', 'keep', 'crash', 'stack', 'overflow', 'answer', 'roommat', 'think', 'ghost', 'haunt', 'apart', 'instant', 'noodl', 'becom', 'primari', 'food', 'group']\n",
      "Document 7: ['attend', 'confer', 'sound', 'fun', 'realiz', 'involv', 'lot', 'awkward', 'network', 'accident', 'spill', 'coffe', 'famou', 'professor', 'shoe', 'poster', 'fell', 'twice', 'session', 'next', 'time', 'send', 'cardboard', 'cutout']\n",
      "Document 8: ['univers', 'gym', 'membership', 'suppos', 'keep', 'healthi', 'use', 'tri', 'attend', 'yoga', 'class', 'stay', 'late', 'deadlin', 'fell', 'asleep', 'medit', 'mayb', 'instead', 'gym', 'bed', 'essenti', 'keep', 'healthi']\n",
      "Document 9: ['teach', 'assistantship', 'involv', 'grade', 'endless', 'stack', 'exam', 'student', 'keep', 'email', 'extens', 'creativ', 'excus', 'one', 'claim', 'dog', 'sleep', 'laptop', 'use', 'exam', 'depriv', 'excus', 'complet', 'dissert', 'draft', 'might', 'get', 'good', 'one']\n",
      "Document 10: ['group', 'project', 'bad', 'one', 'work', 'team', 'member', 'elus', 'bigfoot', 'project', 'due', 'next', 'week', 'hear', 'perhap', 'write', 'paper', 'sociolog', 'implic', 'group', 'work', 'avoid']\n"
     ]
    }
   ],
   "execution_count": 39
  },
  {
   "cell_type": "code",
   "id": "3ec44873e48435da",
   "metadata": {
    "ExecuteTime": {
     "end_time": "2024-10-14T10:06:39.930661Z",
     "start_time": "2024-10-14T10:06:39.917655Z"
    }
   },
   "source": [
    "def construct_bigrams(doc: list) -> list:\n",
    "    \"\"\"\n",
    "    Construct bigrams from a list of tokens\n",
    "    :param doc: list of tokens\n",
    "    :return: list of bigrams\n",
    "    \"\"\"\n",
    "    bigrams = []\n",
    "    for i in range(len(doc)-1):\n",
    "        bigrams.append((doc[i], doc[i+1]))\n",
    "    return bigrams\n",
    "\n",
    "# Construct bigrams for the query\n",
    "bigram_query = construct_bigrams(preprocessed_query)\n",
    "print(f\"Query Bigrams: {bigram_query}\\n\")\n",
    "\n",
    "# Construct bigrams for each document in the corpus\n",
    "bigram_corpus = [construct_bigrams(doc) for doc in preprocessed_corpus]\n",
    "# Print bigrams for each document\n",
    "for idx, doc in enumerate(bigram_corpus):\n",
    "    print(f\"Document {idx+1} Bigrams: {doc}\")"
   ],
   "outputs": [
    {
     "name": "stdout",
     "output_type": "stream",
     "text": [
      "Query Bigrams: [('sleep', 'depriv')]\n",
      "\n",
      "Document 1 Bigrams: [('sleepless', 'night'), ('night', 'lab'), ('lab', 'becom'), ('becom', 'new'), ('new', 'normal'), ('normal', 'tri'), ('tri', 'fix'), ('fix', 'experi'), ('experi', 'setup'), ('setup', 'apparatu'), ('apparatu', 'seem'), ('seem', 'mind'), ('mind', 'advisor'), ('advisor', 'say'), ('say', 'result'), ('result', 'around'), ('around', 'corner'), ('corner', 'corner'), ('corner', 'keep'), ('keep', 'move'), ('move', 'coffe'), ('coffe', 'true'), ('true', 'companion'), ('companion', 'day')]\n",
      "Document 2 Bigrams: [('think', 'grad'), ('grad', 'school'), ('school', 'would'), ('would', 'intellectu'), ('intellectu', 'stimul'), ('stimul', 'mostli'), ('mostli', 'paperwork'), ('paperwork', 'wait'), ('wait', 'email'), ('email', 'department'), ('department', 'printer'), ('printer', 'jam'), ('jam', 'late'), ('late', 'meet'), ('meet', 'cafeteria'), ('cafeteria', 'run'), ('run', 'good'), ('good', 'snack'), ('snack', 'surviv'), ('surviv', 'vend'), ('vend', 'machin'), ('machin', 'chip'), ('chip', 'sleep'), ('sleep', 'becom'), ('becom', 'luxuri'), ('luxuri', 'longer'), ('longer', 'afford')]\n",
      "Document 3 Bigrams: [('write', 'dissert'), ('dissert', 'feel'), ('feel', 'like'), ('like', 'climb'), ('climb', 'endless'), ('endless', 'mountain'), ('mountain', 'everi'), ('everi', 'time'), ('time', 'finish'), ('finish', 'chapter'), ('chapter', 'supervisor'), ('supervisor', 'suggest'), ('suggest', 'new'), ('new', 'revis'), ('revis', 'impostor'), ('impostor', 'syndrom'), ('syndrom', 'real'), ('real', 'wonder'), ('wonder', 'make'), ('make', 'mistak'), ('mistak', 'accept'), ('accept', 'mayb'), ('mayb', 'go'), ('go', 'clown'), ('clown', 'colleg'), ('colleg', 'instead'), ('instead', 'utterli'), ('utterli', 'depriv'), ('depriv', 'semblanc'), ('semblanc', 'normal'), ('normal', 'life')]\n",
      "Document 4 Bigrams: [('research', 'data'), ('data', 'get'), ('get', 'corrupt'), ('corrupt', 'start'), ('start', 'lab'), ('lab', 'mous'), ('mous', 'escap'), ('escap', 'spend'), ('spend', 'hour'), ('hour', 'tri'), ('tri', 'find'), ('find', 'grant'), ('grant', 'propos'), ('propos', 'deadlin'), ('deadlin', 'tomorrow'), ('tomorrow', 'onlin'), ('onlin', 'submiss'), ('submiss', 'portal'), ('portal', 'least'), ('least', 'pet'), ('pet', 'cactu'), ('cactu', 'die'), ('die', 'yet')]\n",
      "Document 5 Bigrams: [('group', 'meet'), ('meet', 'turn'), ('turn', 'debat'), ('debat', 'font'), ('font', 'choic'), ('choic', 'present'), ('present', 'pretti'), ('pretti', 'sure'), ('sure', 'colleagu'), ('colleagu', 'steal'), ('steal', 'lunch'), ('lunch', 'fridg'), ('fridg', 'photocopi'), ('photocopi', 'get'), ('get', 'never'), ('never', 'work'), ('work', 'hurri'), ('hurri', 'phd'), ('phd', 'nap'), ('nap', 'ace')]\n",
      "Document 6 Bigrams: [('see', 'sun'), ('sun', 'day'), ('day', 'due'), ('due', 'endless'), ('endless', 'cod'), ('cod', 'session'), ('session', 'simul'), ('simul', 'keep'), ('keep', 'crash'), ('crash', 'stack'), ('stack', 'overflow'), ('overflow', 'answer'), ('answer', 'roommat'), ('roommat', 'think'), ('think', 'ghost'), ('ghost', 'haunt'), ('haunt', 'apart'), ('apart', 'instant'), ('instant', 'noodl'), ('noodl', 'becom'), ('becom', 'primari'), ('primari', 'food'), ('food', 'group')]\n",
      "Document 7 Bigrams: [('attend', 'confer'), ('confer', 'sound'), ('sound', 'fun'), ('fun', 'realiz'), ('realiz', 'involv'), ('involv', 'lot'), ('lot', 'awkward'), ('awkward', 'network'), ('network', 'accident'), ('accident', 'spill'), ('spill', 'coffe'), ('coffe', 'famou'), ('famou', 'professor'), ('professor', 'shoe'), ('shoe', 'poster'), ('poster', 'fell'), ('fell', 'twice'), ('twice', 'session'), ('session', 'next'), ('next', 'time'), ('time', 'send'), ('send', 'cardboard'), ('cardboard', 'cutout')]\n",
      "Document 8 Bigrams: [('univers', 'gym'), ('gym', 'membership'), ('membership', 'suppos'), ('suppos', 'keep'), ('keep', 'healthi'), ('healthi', 'use'), ('use', 'tri'), ('tri', 'attend'), ('attend', 'yoga'), ('yoga', 'class'), ('class', 'stay'), ('stay', 'late'), ('late', 'deadlin'), ('deadlin', 'fell'), ('fell', 'asleep'), ('asleep', 'medit'), ('medit', 'mayb'), ('mayb', 'instead'), ('instead', 'gym'), ('gym', 'bed'), ('bed', 'essenti'), ('essenti', 'keep'), ('keep', 'healthi')]\n",
      "Document 9 Bigrams: [('teach', 'assistantship'), ('assistantship', 'involv'), ('involv', 'grade'), ('grade', 'endless'), ('endless', 'stack'), ('stack', 'exam'), ('exam', 'student'), ('student', 'keep'), ('keep', 'email'), ('email', 'extens'), ('extens', 'creativ'), ('creativ', 'excus'), ('excus', 'one'), ('one', 'claim'), ('claim', 'dog'), ('dog', 'sleep'), ('sleep', 'laptop'), ('laptop', 'use'), ('use', 'exam'), ('exam', 'depriv'), ('depriv', 'excus'), ('excus', 'complet'), ('complet', 'dissert'), ('dissert', 'draft'), ('draft', 'might'), ('might', 'get'), ('get', 'good'), ('good', 'one')]\n",
      "Document 10 Bigrams: [('group', 'project'), ('project', 'bad'), ('bad', 'one'), ('one', 'work'), ('work', 'team'), ('team', 'member'), ('member', 'elus'), ('elus', 'bigfoot'), ('bigfoot', 'project'), ('project', 'due'), ('due', 'next'), ('next', 'week'), ('week', 'hear'), ('hear', 'perhap'), ('perhap', 'write'), ('write', 'paper'), ('paper', 'sociolog'), ('sociolog', 'implic'), ('implic', 'group'), ('group', 'work'), ('work', 'avoid')]\n"
     ]
    }
   ],
   "execution_count": 40
  },
  {
   "cell_type": "code",
   "id": "c7b85ca9abd3fd05",
   "metadata": {
    "ExecuteTime": {
     "end_time": "2024-10-14T10:06:40.007660Z",
     "start_time": "2024-10-14T10:06:39.993654Z"
    }
   },
   "source": [
    "from typing import List, Tuple, Dict\n",
    "\n",
    "def bigram_compute_tf(doc: List[str]) -> Dict[Tuple[str, str], float]:\n",
    "    \"\"\"\n",
    "    Compute bigram term frequency (TF) for a document\n",
    "    :param doc: list of tokens\n",
    "    :return: dictionary of bigram TF values\n",
    "    \"\"\"\n",
    "    # Construct bigrams from the document\n",
    "    bigrams = [(doc[i], doc[i+1]) for i in range(len(doc) - 1)]\n",
    "    \n",
    "    # Initialize the TF dictionary for bigrams\n",
    "    tf_dict = {}\n",
    "    \n",
    "    # Count the bigram frequency\n",
    "    for bigram in bigrams:\n",
    "        tf_dict[bigram] = tf_dict.get(bigram, 0) + 1\n",
    "    \n",
    "    # Divide term counts by total number of bigrams in the document\n",
    "    total_bigrams = len(bigrams)\n",
    "    for bigram in tf_dict:\n",
    "        tf_dict[bigram] = tf_dict[bigram] / total_bigrams\n",
    "    \n",
    "    return tf_dict\n",
    "\n",
    "# Compute TF for each document in the corpus using bigrams\n",
    "bigram_tf_corpus = [bigram_compute_tf(doc) for doc in preprocessed_corpus]\n",
    "\n",
    "# Print TF values for each document\n",
    "for idx, tf in enumerate(bigram_tf_corpus):\n",
    "    print(f\"Bigram TF for Document {idx+1}: {tf}\\n\")"
   ],
   "outputs": [
    {
     "name": "stdout",
     "output_type": "stream",
     "text": [
      "Bigram TF for Document 1: {('sleepless', 'night'): 0.041666666666666664, ('night', 'lab'): 0.041666666666666664, ('lab', 'becom'): 0.041666666666666664, ('becom', 'new'): 0.041666666666666664, ('new', 'normal'): 0.041666666666666664, ('normal', 'tri'): 0.041666666666666664, ('tri', 'fix'): 0.041666666666666664, ('fix', 'experi'): 0.041666666666666664, ('experi', 'setup'): 0.041666666666666664, ('setup', 'apparatu'): 0.041666666666666664, ('apparatu', 'seem'): 0.041666666666666664, ('seem', 'mind'): 0.041666666666666664, ('mind', 'advisor'): 0.041666666666666664, ('advisor', 'say'): 0.041666666666666664, ('say', 'result'): 0.041666666666666664, ('result', 'around'): 0.041666666666666664, ('around', 'corner'): 0.041666666666666664, ('corner', 'corner'): 0.041666666666666664, ('corner', 'keep'): 0.041666666666666664, ('keep', 'move'): 0.041666666666666664, ('move', 'coffe'): 0.041666666666666664, ('coffe', 'true'): 0.041666666666666664, ('true', 'companion'): 0.041666666666666664, ('companion', 'day'): 0.041666666666666664}\n",
      "\n",
      "Bigram TF for Document 2: {('think', 'grad'): 0.037037037037037035, ('grad', 'school'): 0.037037037037037035, ('school', 'would'): 0.037037037037037035, ('would', 'intellectu'): 0.037037037037037035, ('intellectu', 'stimul'): 0.037037037037037035, ('stimul', 'mostli'): 0.037037037037037035, ('mostli', 'paperwork'): 0.037037037037037035, ('paperwork', 'wait'): 0.037037037037037035, ('wait', 'email'): 0.037037037037037035, ('email', 'department'): 0.037037037037037035, ('department', 'printer'): 0.037037037037037035, ('printer', 'jam'): 0.037037037037037035, ('jam', 'late'): 0.037037037037037035, ('late', 'meet'): 0.037037037037037035, ('meet', 'cafeteria'): 0.037037037037037035, ('cafeteria', 'run'): 0.037037037037037035, ('run', 'good'): 0.037037037037037035, ('good', 'snack'): 0.037037037037037035, ('snack', 'surviv'): 0.037037037037037035, ('surviv', 'vend'): 0.037037037037037035, ('vend', 'machin'): 0.037037037037037035, ('machin', 'chip'): 0.037037037037037035, ('chip', 'sleep'): 0.037037037037037035, ('sleep', 'becom'): 0.037037037037037035, ('becom', 'luxuri'): 0.037037037037037035, ('luxuri', 'longer'): 0.037037037037037035, ('longer', 'afford'): 0.037037037037037035}\n",
      "\n",
      "Bigram TF for Document 3: {('write', 'dissert'): 0.03225806451612903, ('dissert', 'feel'): 0.03225806451612903, ('feel', 'like'): 0.03225806451612903, ('like', 'climb'): 0.03225806451612903, ('climb', 'endless'): 0.03225806451612903, ('endless', 'mountain'): 0.03225806451612903, ('mountain', 'everi'): 0.03225806451612903, ('everi', 'time'): 0.03225806451612903, ('time', 'finish'): 0.03225806451612903, ('finish', 'chapter'): 0.03225806451612903, ('chapter', 'supervisor'): 0.03225806451612903, ('supervisor', 'suggest'): 0.03225806451612903, ('suggest', 'new'): 0.03225806451612903, ('new', 'revis'): 0.03225806451612903, ('revis', 'impostor'): 0.03225806451612903, ('impostor', 'syndrom'): 0.03225806451612903, ('syndrom', 'real'): 0.03225806451612903, ('real', 'wonder'): 0.03225806451612903, ('wonder', 'make'): 0.03225806451612903, ('make', 'mistak'): 0.03225806451612903, ('mistak', 'accept'): 0.03225806451612903, ('accept', 'mayb'): 0.03225806451612903, ('mayb', 'go'): 0.03225806451612903, ('go', 'clown'): 0.03225806451612903, ('clown', 'colleg'): 0.03225806451612903, ('colleg', 'instead'): 0.03225806451612903, ('instead', 'utterli'): 0.03225806451612903, ('utterli', 'depriv'): 0.03225806451612903, ('depriv', 'semblanc'): 0.03225806451612903, ('semblanc', 'normal'): 0.03225806451612903, ('normal', 'life'): 0.03225806451612903}\n",
      "\n",
      "Bigram TF for Document 4: {('research', 'data'): 0.043478260869565216, ('data', 'get'): 0.043478260869565216, ('get', 'corrupt'): 0.043478260869565216, ('corrupt', 'start'): 0.043478260869565216, ('start', 'lab'): 0.043478260869565216, ('lab', 'mous'): 0.043478260869565216, ('mous', 'escap'): 0.043478260869565216, ('escap', 'spend'): 0.043478260869565216, ('spend', 'hour'): 0.043478260869565216, ('hour', 'tri'): 0.043478260869565216, ('tri', 'find'): 0.043478260869565216, ('find', 'grant'): 0.043478260869565216, ('grant', 'propos'): 0.043478260869565216, ('propos', 'deadlin'): 0.043478260869565216, ('deadlin', 'tomorrow'): 0.043478260869565216, ('tomorrow', 'onlin'): 0.043478260869565216, ('onlin', 'submiss'): 0.043478260869565216, ('submiss', 'portal'): 0.043478260869565216, ('portal', 'least'): 0.043478260869565216, ('least', 'pet'): 0.043478260869565216, ('pet', 'cactu'): 0.043478260869565216, ('cactu', 'die'): 0.043478260869565216, ('die', 'yet'): 0.043478260869565216}\n",
      "\n",
      "Bigram TF for Document 5: {('group', 'meet'): 0.05, ('meet', 'turn'): 0.05, ('turn', 'debat'): 0.05, ('debat', 'font'): 0.05, ('font', 'choic'): 0.05, ('choic', 'present'): 0.05, ('present', 'pretti'): 0.05, ('pretti', 'sure'): 0.05, ('sure', 'colleagu'): 0.05, ('colleagu', 'steal'): 0.05, ('steal', 'lunch'): 0.05, ('lunch', 'fridg'): 0.05, ('fridg', 'photocopi'): 0.05, ('photocopi', 'get'): 0.05, ('get', 'never'): 0.05, ('never', 'work'): 0.05, ('work', 'hurri'): 0.05, ('hurri', 'phd'): 0.05, ('phd', 'nap'): 0.05, ('nap', 'ace'): 0.05}\n",
      "\n",
      "Bigram TF for Document 6: {('see', 'sun'): 0.043478260869565216, ('sun', 'day'): 0.043478260869565216, ('day', 'due'): 0.043478260869565216, ('due', 'endless'): 0.043478260869565216, ('endless', 'cod'): 0.043478260869565216, ('cod', 'session'): 0.043478260869565216, ('session', 'simul'): 0.043478260869565216, ('simul', 'keep'): 0.043478260869565216, ('keep', 'crash'): 0.043478260869565216, ('crash', 'stack'): 0.043478260869565216, ('stack', 'overflow'): 0.043478260869565216, ('overflow', 'answer'): 0.043478260869565216, ('answer', 'roommat'): 0.043478260869565216, ('roommat', 'think'): 0.043478260869565216, ('think', 'ghost'): 0.043478260869565216, ('ghost', 'haunt'): 0.043478260869565216, ('haunt', 'apart'): 0.043478260869565216, ('apart', 'instant'): 0.043478260869565216, ('instant', 'noodl'): 0.043478260869565216, ('noodl', 'becom'): 0.043478260869565216, ('becom', 'primari'): 0.043478260869565216, ('primari', 'food'): 0.043478260869565216, ('food', 'group'): 0.043478260869565216}\n",
      "\n",
      "Bigram TF for Document 7: {('attend', 'confer'): 0.043478260869565216, ('confer', 'sound'): 0.043478260869565216, ('sound', 'fun'): 0.043478260869565216, ('fun', 'realiz'): 0.043478260869565216, ('realiz', 'involv'): 0.043478260869565216, ('involv', 'lot'): 0.043478260869565216, ('lot', 'awkward'): 0.043478260869565216, ('awkward', 'network'): 0.043478260869565216, ('network', 'accident'): 0.043478260869565216, ('accident', 'spill'): 0.043478260869565216, ('spill', 'coffe'): 0.043478260869565216, ('coffe', 'famou'): 0.043478260869565216, ('famou', 'professor'): 0.043478260869565216, ('professor', 'shoe'): 0.043478260869565216, ('shoe', 'poster'): 0.043478260869565216, ('poster', 'fell'): 0.043478260869565216, ('fell', 'twice'): 0.043478260869565216, ('twice', 'session'): 0.043478260869565216, ('session', 'next'): 0.043478260869565216, ('next', 'time'): 0.043478260869565216, ('time', 'send'): 0.043478260869565216, ('send', 'cardboard'): 0.043478260869565216, ('cardboard', 'cutout'): 0.043478260869565216}\n",
      "\n",
      "Bigram TF for Document 8: {('univers', 'gym'): 0.043478260869565216, ('gym', 'membership'): 0.043478260869565216, ('membership', 'suppos'): 0.043478260869565216, ('suppos', 'keep'): 0.043478260869565216, ('keep', 'healthi'): 0.08695652173913043, ('healthi', 'use'): 0.043478260869565216, ('use', 'tri'): 0.043478260869565216, ('tri', 'attend'): 0.043478260869565216, ('attend', 'yoga'): 0.043478260869565216, ('yoga', 'class'): 0.043478260869565216, ('class', 'stay'): 0.043478260869565216, ('stay', 'late'): 0.043478260869565216, ('late', 'deadlin'): 0.043478260869565216, ('deadlin', 'fell'): 0.043478260869565216, ('fell', 'asleep'): 0.043478260869565216, ('asleep', 'medit'): 0.043478260869565216, ('medit', 'mayb'): 0.043478260869565216, ('mayb', 'instead'): 0.043478260869565216, ('instead', 'gym'): 0.043478260869565216, ('gym', 'bed'): 0.043478260869565216, ('bed', 'essenti'): 0.043478260869565216, ('essenti', 'keep'): 0.043478260869565216}\n",
      "\n",
      "Bigram TF for Document 9: {('teach', 'assistantship'): 0.03571428571428571, ('assistantship', 'involv'): 0.03571428571428571, ('involv', 'grade'): 0.03571428571428571, ('grade', 'endless'): 0.03571428571428571, ('endless', 'stack'): 0.03571428571428571, ('stack', 'exam'): 0.03571428571428571, ('exam', 'student'): 0.03571428571428571, ('student', 'keep'): 0.03571428571428571, ('keep', 'email'): 0.03571428571428571, ('email', 'extens'): 0.03571428571428571, ('extens', 'creativ'): 0.03571428571428571, ('creativ', 'excus'): 0.03571428571428571, ('excus', 'one'): 0.03571428571428571, ('one', 'claim'): 0.03571428571428571, ('claim', 'dog'): 0.03571428571428571, ('dog', 'sleep'): 0.03571428571428571, ('sleep', 'laptop'): 0.03571428571428571, ('laptop', 'use'): 0.03571428571428571, ('use', 'exam'): 0.03571428571428571, ('exam', 'depriv'): 0.03571428571428571, ('depriv', 'excus'): 0.03571428571428571, ('excus', 'complet'): 0.03571428571428571, ('complet', 'dissert'): 0.03571428571428571, ('dissert', 'draft'): 0.03571428571428571, ('draft', 'might'): 0.03571428571428571, ('might', 'get'): 0.03571428571428571, ('get', 'good'): 0.03571428571428571, ('good', 'one'): 0.03571428571428571}\n",
      "\n",
      "Bigram TF for Document 10: {('group', 'project'): 0.047619047619047616, ('project', 'bad'): 0.047619047619047616, ('bad', 'one'): 0.047619047619047616, ('one', 'work'): 0.047619047619047616, ('work', 'team'): 0.047619047619047616, ('team', 'member'): 0.047619047619047616, ('member', 'elus'): 0.047619047619047616, ('elus', 'bigfoot'): 0.047619047619047616, ('bigfoot', 'project'): 0.047619047619047616, ('project', 'due'): 0.047619047619047616, ('due', 'next'): 0.047619047619047616, ('next', 'week'): 0.047619047619047616, ('week', 'hear'): 0.047619047619047616, ('hear', 'perhap'): 0.047619047619047616, ('perhap', 'write'): 0.047619047619047616, ('write', 'paper'): 0.047619047619047616, ('paper', 'sociolog'): 0.047619047619047616, ('sociolog', 'implic'): 0.047619047619047616, ('implic', 'group'): 0.047619047619047616, ('group', 'work'): 0.047619047619047616, ('work', 'avoid'): 0.047619047619047616}\n",
      "\n"
     ]
    }
   ],
   "execution_count": 41
  },
  {
   "cell_type": "code",
   "id": "f5775e60d4b92cce",
   "metadata": {
    "ExecuteTime": {
     "end_time": "2024-10-14T10:06:40.086653Z",
     "start_time": "2024-10-14T10:06:40.073654Z"
    }
   },
   "source": [
    "def bigram_compute_idf(corpus: List[List[str]]) -> Dict[Tuple[str, str], float]:\n",
    "    \"\"\"\n",
    "    Compute inverse document frequency (IDF) for bigrams in the corpus\n",
    "    :param corpus: list of documents\n",
    "    :return: dictionary of bigram IDF values\n",
    "    \"\"\"\n",
    "    N = len(corpus)\n",
    "    \n",
    "    # Initialize the IDF dictionary for bigrams\n",
    "    idf_dict = defaultdict(int)\n",
    "    \n",
    "    # Count the number of documents containing each bigram\n",
    "    for doc in corpus:\n",
    "        bigrams = set([(doc[i], doc[i+1]) for i in range(len(doc) - 1)])\n",
    "        for bigram in bigrams:\n",
    "            idf_dict[bigram] += 1\n",
    "    \n",
    "    # Compute IDF (logarithmic scale)\n",
    "    for bigram in idf_dict:\n",
    "        idf_dict[bigram] = math.log(N / (idf_dict[bigram])) + 1\n",
    "    \n",
    "    return idf_dict\n",
    "\n",
    "# Compute IDF for the corpus\n",
    "bigram_idf_dict = bigram_compute_idf(preprocessed_corpus)\n",
    "\n",
    "# Print IDF values for the bigrams\n",
    "print(\"Bigram IDF for Corpus:\")\n",
    "for bigram, idf in bigram_idf_dict.items():\n",
    "    print(f\"{bigram}: {idf}\")"
   ],
   "outputs": [
    {
     "name": "stdout",
     "output_type": "stream",
     "text": [
      "Bigram IDF for Corpus:\n",
      "('true', 'companion'): 3.302585092994046\n",
      "('seem', 'mind'): 3.302585092994046\n",
      "('corner', 'keep'): 3.302585092994046\n",
      "('tri', 'fix'): 3.302585092994046\n",
      "('corner', 'corner'): 3.302585092994046\n",
      "('becom', 'new'): 3.302585092994046\n",
      "('night', 'lab'): 3.302585092994046\n",
      "('lab', 'becom'): 3.302585092994046\n",
      "('companion', 'day'): 3.302585092994046\n",
      "('keep', 'move'): 3.302585092994046\n",
      "('sleepless', 'night'): 3.302585092994046\n",
      "('fix', 'experi'): 3.302585092994046\n",
      "('around', 'corner'): 3.302585092994046\n",
      "('mind', 'advisor'): 3.302585092994046\n",
      "('new', 'normal'): 3.302585092994046\n",
      "('apparatu', 'seem'): 3.302585092994046\n",
      "('result', 'around'): 3.302585092994046\n",
      "('normal', 'tri'): 3.302585092994046\n",
      "('coffe', 'true'): 3.302585092994046\n",
      "('setup', 'apparatu'): 3.302585092994046\n",
      "('say', 'result'): 3.302585092994046\n",
      "('experi', 'setup'): 3.302585092994046\n",
      "('move', 'coffe'): 3.302585092994046\n",
      "('advisor', 'say'): 3.302585092994046\n",
      "('department', 'printer'): 3.302585092994046\n",
      "('chip', 'sleep'): 3.302585092994046\n",
      "('printer', 'jam'): 3.302585092994046\n",
      "('cafeteria', 'run'): 3.302585092994046\n",
      "('mostli', 'paperwork'): 3.302585092994046\n",
      "('paperwork', 'wait'): 3.302585092994046\n",
      "('wait', 'email'): 3.302585092994046\n",
      "('email', 'department'): 3.302585092994046\n",
      "('surviv', 'vend'): 3.302585092994046\n",
      "('jam', 'late'): 3.302585092994046\n",
      "('becom', 'luxuri'): 3.302585092994046\n",
      "('school', 'would'): 3.302585092994046\n",
      "('intellectu', 'stimul'): 3.302585092994046\n",
      "('machin', 'chip'): 3.302585092994046\n",
      "('sleep', 'becom'): 3.302585092994046\n",
      "('stimul', 'mostli'): 3.302585092994046\n",
      "('snack', 'surviv'): 3.302585092994046\n",
      "('meet', 'cafeteria'): 3.302585092994046\n",
      "('longer', 'afford'): 3.302585092994046\n",
      "('late', 'meet'): 3.302585092994046\n",
      "('grad', 'school'): 3.302585092994046\n",
      "('would', 'intellectu'): 3.302585092994046\n",
      "('good', 'snack'): 3.302585092994046\n",
      "('vend', 'machin'): 3.302585092994046\n",
      "('luxuri', 'longer'): 3.302585092994046\n",
      "('run', 'good'): 3.302585092994046\n",
      "('think', 'grad'): 3.302585092994046\n",
      "('dissert', 'feel'): 3.302585092994046\n",
      "('finish', 'chapter'): 3.302585092994046\n",
      "('clown', 'colleg'): 3.302585092994046\n",
      "('syndrom', 'real'): 3.302585092994046\n",
      "('suggest', 'new'): 3.302585092994046\n",
      "('wonder', 'make'): 3.302585092994046\n",
      "('chapter', 'supervisor'): 3.302585092994046\n",
      "('like', 'climb'): 3.302585092994046\n",
      "('endless', 'mountain'): 3.302585092994046\n",
      "('real', 'wonder'): 3.302585092994046\n",
      "('normal', 'life'): 3.302585092994046\n",
      "('impostor', 'syndrom'): 3.302585092994046\n",
      "('utterli', 'depriv'): 3.302585092994046\n",
      "('accept', 'mayb'): 3.302585092994046\n",
      "('semblanc', 'normal'): 3.302585092994046\n",
      "('time', 'finish'): 3.302585092994046\n",
      "('make', 'mistak'): 3.302585092994046\n",
      "('go', 'clown'): 3.302585092994046\n",
      "('feel', 'like'): 3.302585092994046\n",
      "('climb', 'endless'): 3.302585092994046\n",
      "('everi', 'time'): 3.302585092994046\n",
      "('instead', 'utterli'): 3.302585092994046\n",
      "('mayb', 'go'): 3.302585092994046\n",
      "('new', 'revis'): 3.302585092994046\n",
      "('mountain', 'everi'): 3.302585092994046\n",
      "('depriv', 'semblanc'): 3.302585092994046\n",
      "('colleg', 'instead'): 3.302585092994046\n",
      "('supervisor', 'suggest'): 3.302585092994046\n",
      "('revis', 'impostor'): 3.302585092994046\n",
      "('mistak', 'accept'): 3.302585092994046\n",
      "('write', 'dissert'): 3.302585092994046\n",
      "('find', 'grant'): 3.302585092994046\n",
      "('pet', 'cactu'): 3.302585092994046\n",
      "('get', 'corrupt'): 3.302585092994046\n",
      "('hour', 'tri'): 3.302585092994046\n",
      "('cactu', 'die'): 3.302585092994046\n",
      "('propos', 'deadlin'): 3.302585092994046\n",
      "('lab', 'mous'): 3.302585092994046\n",
      "('tomorrow', 'onlin'): 3.302585092994046\n",
      "('escap', 'spend'): 3.302585092994046\n",
      "('onlin', 'submiss'): 3.302585092994046\n",
      "('least', 'pet'): 3.302585092994046\n",
      "('research', 'data'): 3.302585092994046\n",
      "('die', 'yet'): 3.302585092994046\n",
      "('spend', 'hour'): 3.302585092994046\n",
      "('deadlin', 'tomorrow'): 3.302585092994046\n",
      "('data', 'get'): 3.302585092994046\n",
      "('mous', 'escap'): 3.302585092994046\n",
      "('portal', 'least'): 3.302585092994046\n",
      "('start', 'lab'): 3.302585092994046\n",
      "('corrupt', 'start'): 3.302585092994046\n",
      "('tri', 'find'): 3.302585092994046\n",
      "('grant', 'propos'): 3.302585092994046\n",
      "('submiss', 'portal'): 3.302585092994046\n",
      "('never', 'work'): 3.302585092994046\n",
      "('fridg', 'photocopi'): 3.302585092994046\n",
      "('phd', 'nap'): 3.302585092994046\n",
      "('turn', 'debat'): 3.302585092994046\n",
      "('pretti', 'sure'): 3.302585092994046\n",
      "('group', 'meet'): 3.302585092994046\n",
      "('hurri', 'phd'): 3.302585092994046\n",
      "('nap', 'ace'): 3.302585092994046\n",
      "('meet', 'turn'): 3.302585092994046\n",
      "('present', 'pretti'): 3.302585092994046\n",
      "('lunch', 'fridg'): 3.302585092994046\n",
      "('choic', 'present'): 3.302585092994046\n",
      "('colleagu', 'steal'): 3.302585092994046\n",
      "('steal', 'lunch'): 3.302585092994046\n",
      "('font', 'choic'): 3.302585092994046\n",
      "('work', 'hurri'): 3.302585092994046\n",
      "('photocopi', 'get'): 3.302585092994046\n",
      "('debat', 'font'): 3.302585092994046\n",
      "('get', 'never'): 3.302585092994046\n",
      "('sure', 'colleagu'): 3.302585092994046\n",
      "('ghost', 'haunt'): 3.302585092994046\n",
      "('see', 'sun'): 3.302585092994046\n",
      "('becom', 'primari'): 3.302585092994046\n",
      "('haunt', 'apart'): 3.302585092994046\n",
      "('stack', 'overflow'): 3.302585092994046\n",
      "('endless', 'cod'): 3.302585092994046\n",
      "('keep', 'crash'): 3.302585092994046\n",
      "('primari', 'food'): 3.302585092994046\n",
      "('simul', 'keep'): 3.302585092994046\n",
      "('crash', 'stack'): 3.302585092994046\n",
      "('day', 'due'): 3.302585092994046\n",
      "('instant', 'noodl'): 3.302585092994046\n",
      "('think', 'ghost'): 3.302585092994046\n",
      "('apart', 'instant'): 3.302585092994046\n",
      "('due', 'endless'): 3.302585092994046\n",
      "('session', 'simul'): 3.302585092994046\n",
      "('sun', 'day'): 3.302585092994046\n",
      "('roommat', 'think'): 3.302585092994046\n",
      "('answer', 'roommat'): 3.302585092994046\n",
      "('food', 'group'): 3.302585092994046\n",
      "('noodl', 'becom'): 3.302585092994046\n",
      "('overflow', 'answer'): 3.302585092994046\n",
      "('cod', 'session'): 3.302585092994046\n",
      "('involv', 'lot'): 3.302585092994046\n",
      "('cardboard', 'cutout'): 3.302585092994046\n",
      "('network', 'accident'): 3.302585092994046\n",
      "('awkward', 'network'): 3.302585092994046\n",
      "('sound', 'fun'): 3.302585092994046\n",
      "('session', 'next'): 3.302585092994046\n",
      "('fun', 'realiz'): 3.302585092994046\n",
      "('lot', 'awkward'): 3.302585092994046\n",
      "('confer', 'sound'): 3.302585092994046\n",
      "('shoe', 'poster'): 3.302585092994046\n",
      "('twice', 'session'): 3.302585092994046\n",
      "('time', 'send'): 3.302585092994046\n",
      "('famou', 'professor'): 3.302585092994046\n",
      "('realiz', 'involv'): 3.302585092994046\n",
      "('poster', 'fell'): 3.302585092994046\n",
      "('professor', 'shoe'): 3.302585092994046\n",
      "('send', 'cardboard'): 3.302585092994046\n",
      "('attend', 'confer'): 3.302585092994046\n",
      "('coffe', 'famou'): 3.302585092994046\n",
      "('fell', 'twice'): 3.302585092994046\n",
      "('next', 'time'): 3.302585092994046\n",
      "('spill', 'coffe'): 3.302585092994046\n",
      "('accident', 'spill'): 3.302585092994046\n",
      "('medit', 'mayb'): 3.302585092994046\n",
      "('instead', 'gym'): 3.302585092994046\n",
      "('univers', 'gym'): 3.302585092994046\n",
      "('late', 'deadlin'): 3.302585092994046\n",
      "('essenti', 'keep'): 3.302585092994046\n",
      "('tri', 'attend'): 3.302585092994046\n",
      "('gym', 'bed'): 3.302585092994046\n",
      "('asleep', 'medit'): 3.302585092994046\n",
      "('class', 'stay'): 3.302585092994046\n",
      "('bed', 'essenti'): 3.302585092994046\n",
      "('use', 'tri'): 3.302585092994046\n",
      "('membership', 'suppos'): 3.302585092994046\n",
      "('deadlin', 'fell'): 3.302585092994046\n",
      "('attend', 'yoga'): 3.302585092994046\n",
      "('healthi', 'use'): 3.302585092994046\n",
      "('yoga', 'class'): 3.302585092994046\n",
      "('gym', 'membership'): 3.302585092994046\n",
      "('fell', 'asleep'): 3.302585092994046\n",
      "('mayb', 'instead'): 3.302585092994046\n",
      "('suppos', 'keep'): 3.302585092994046\n",
      "('keep', 'healthi'): 3.302585092994046\n",
      "('stay', 'late'): 3.302585092994046\n",
      "('involv', 'grade'): 3.302585092994046\n",
      "('might', 'get'): 3.302585092994046\n",
      "('exam', 'depriv'): 3.302585092994046\n",
      "('claim', 'dog'): 3.302585092994046\n",
      "('teach', 'assistantship'): 3.302585092994046\n",
      "('endless', 'stack'): 3.302585092994046\n",
      "('excus', 'one'): 3.302585092994046\n",
      "('dog', 'sleep'): 3.302585092994046\n",
      "('depriv', 'excus'): 3.302585092994046\n",
      "('creativ', 'excus'): 3.302585092994046\n",
      "('use', 'exam'): 3.302585092994046\n",
      "('stack', 'exam'): 3.302585092994046\n",
      "('dissert', 'draft'): 3.302585092994046\n",
      "('complet', 'dissert'): 3.302585092994046\n",
      "('excus', 'complet'): 3.302585092994046\n",
      "('draft', 'might'): 3.302585092994046\n",
      "('keep', 'email'): 3.302585092994046\n",
      "('extens', 'creativ'): 3.302585092994046\n",
      "('email', 'extens'): 3.302585092994046\n",
      "('student', 'keep'): 3.302585092994046\n",
      "('one', 'claim'): 3.302585092994046\n",
      "('laptop', 'use'): 3.302585092994046\n",
      "('good', 'one'): 3.302585092994046\n",
      "('get', 'good'): 3.302585092994046\n",
      "('grade', 'endless'): 3.302585092994046\n",
      "('assistantship', 'involv'): 3.302585092994046\n",
      "('sleep', 'laptop'): 3.302585092994046\n",
      "('exam', 'student'): 3.302585092994046\n",
      "('elus', 'bigfoot'): 3.302585092994046\n",
      "('hear', 'perhap'): 3.302585092994046\n",
      "('work', 'team'): 3.302585092994046\n",
      "('member', 'elus'): 3.302585092994046\n",
      "('write', 'paper'): 3.302585092994046\n",
      "('bad', 'one'): 3.302585092994046\n",
      "('team', 'member'): 3.302585092994046\n",
      "('implic', 'group'): 3.302585092994046\n",
      "('group', 'work'): 3.302585092994046\n",
      "('week', 'hear'): 3.302585092994046\n",
      "('bigfoot', 'project'): 3.302585092994046\n",
      "('sociolog', 'implic'): 3.302585092994046\n",
      "('paper', 'sociolog'): 3.302585092994046\n",
      "('project', 'bad'): 3.302585092994046\n",
      "('project', 'due'): 3.302585092994046\n",
      "('group', 'project'): 3.302585092994046\n",
      "('perhap', 'write'): 3.302585092994046\n",
      "('due', 'next'): 3.302585092994046\n",
      "('next', 'week'): 3.302585092994046\n",
      "('work', 'avoid'): 3.302585092994046\n",
      "('one', 'work'): 3.302585092994046\n"
     ]
    }
   ],
   "execution_count": 42
  },
  {
   "cell_type": "code",
   "id": "11c51bf199a91a9b",
   "metadata": {
    "ExecuteTime": {
     "end_time": "2024-10-14T10:06:40.179217Z",
     "start_time": "2024-10-14T10:06:40.165747Z"
    }
   },
   "source": [
    "def bigram_compute_tfidf(tf_doc: Dict[Tuple[str, str], float], idf_dict: Dict[Tuple[str, str], float]) -> Dict[Tuple[str, str], float]:\n",
    "    \"\"\"\n",
    "    Compute TF-IDF for a document using bigrams\n",
    "    :param tf_doc: dictionary of bigram TF values\n",
    "    :param idf_dict: dictionary of bigram IDF values\n",
    "    :return: dictionary of bigram TF-IDF values\n",
    "    \"\"\"\n",
    "    # Initialize TF-IDF dictionary for bigrams\n",
    "    tfidf_dict = {}\n",
    "    \n",
    "    # Multiply TF by corresponding IDF for bigrams\n",
    "    for bigram, tf_value in tf_doc.items():\n",
    "        tfidf_dict[bigram] = tf_value * idf_dict.get(bigram, 0)\n",
    "        \n",
    "    return tfidf_dict\n",
    "\n",
    "# Compute TF-IDF for each document in the corpus\n",
    "bigram_tfidf_corpus = [bigram_compute_tfidf(tf, bigram_idf_dict) for tf in bigram_tf_corpus]\n",
    "\n",
    "# Print TF-IDF values for each document\n",
    "for idx, tfidf in enumerate(bigram_tfidf_corpus):\n",
    "    print(f\"Bigram TF-IDF for Document {idx+1}: {tfidf}\\n\")"
   ],
   "outputs": [
    {
     "name": "stdout",
     "output_type": "stream",
     "text": [
      "Bigram TF-IDF for Document 1: {('sleepless', 'night'): 0.13760771220808524, ('night', 'lab'): 0.13760771220808524, ('lab', 'becom'): 0.13760771220808524, ('becom', 'new'): 0.13760771220808524, ('new', 'normal'): 0.13760771220808524, ('normal', 'tri'): 0.13760771220808524, ('tri', 'fix'): 0.13760771220808524, ('fix', 'experi'): 0.13760771220808524, ('experi', 'setup'): 0.13760771220808524, ('setup', 'apparatu'): 0.13760771220808524, ('apparatu', 'seem'): 0.13760771220808524, ('seem', 'mind'): 0.13760771220808524, ('mind', 'advisor'): 0.13760771220808524, ('advisor', 'say'): 0.13760771220808524, ('say', 'result'): 0.13760771220808524, ('result', 'around'): 0.13760771220808524, ('around', 'corner'): 0.13760771220808524, ('corner', 'corner'): 0.13760771220808524, ('corner', 'keep'): 0.13760771220808524, ('keep', 'move'): 0.13760771220808524, ('move', 'coffe'): 0.13760771220808524, ('coffe', 'true'): 0.13760771220808524, ('true', 'companion'): 0.13760771220808524, ('companion', 'day'): 0.13760771220808524}\n",
      "\n",
      "Bigram TF-IDF for Document 2: {('think', 'grad'): 0.12231796640718688, ('grad', 'school'): 0.12231796640718688, ('school', 'would'): 0.12231796640718688, ('would', 'intellectu'): 0.12231796640718688, ('intellectu', 'stimul'): 0.12231796640718688, ('stimul', 'mostli'): 0.12231796640718688, ('mostli', 'paperwork'): 0.12231796640718688, ('paperwork', 'wait'): 0.12231796640718688, ('wait', 'email'): 0.12231796640718688, ('email', 'department'): 0.12231796640718688, ('department', 'printer'): 0.12231796640718688, ('printer', 'jam'): 0.12231796640718688, ('jam', 'late'): 0.12231796640718688, ('late', 'meet'): 0.12231796640718688, ('meet', 'cafeteria'): 0.12231796640718688, ('cafeteria', 'run'): 0.12231796640718688, ('run', 'good'): 0.12231796640718688, ('good', 'snack'): 0.12231796640718688, ('snack', 'surviv'): 0.12231796640718688, ('surviv', 'vend'): 0.12231796640718688, ('vend', 'machin'): 0.12231796640718688, ('machin', 'chip'): 0.12231796640718688, ('chip', 'sleep'): 0.12231796640718688, ('sleep', 'becom'): 0.12231796640718688, ('becom', 'luxuri'): 0.12231796640718688, ('luxuri', 'longer'): 0.12231796640718688, ('longer', 'afford'): 0.12231796640718688}\n",
      "\n",
      "Bigram TF-IDF for Document 3: {('write', 'dissert'): 0.10653500299980793, ('dissert', 'feel'): 0.10653500299980793, ('feel', 'like'): 0.10653500299980793, ('like', 'climb'): 0.10653500299980793, ('climb', 'endless'): 0.10653500299980793, ('endless', 'mountain'): 0.10653500299980793, ('mountain', 'everi'): 0.10653500299980793, ('everi', 'time'): 0.10653500299980793, ('time', 'finish'): 0.10653500299980793, ('finish', 'chapter'): 0.10653500299980793, ('chapter', 'supervisor'): 0.10653500299980793, ('supervisor', 'suggest'): 0.10653500299980793, ('suggest', 'new'): 0.10653500299980793, ('new', 'revis'): 0.10653500299980793, ('revis', 'impostor'): 0.10653500299980793, ('impostor', 'syndrom'): 0.10653500299980793, ('syndrom', 'real'): 0.10653500299980793, ('real', 'wonder'): 0.10653500299980793, ('wonder', 'make'): 0.10653500299980793, ('make', 'mistak'): 0.10653500299980793, ('mistak', 'accept'): 0.10653500299980793, ('accept', 'mayb'): 0.10653500299980793, ('mayb', 'go'): 0.10653500299980793, ('go', 'clown'): 0.10653500299980793, ('clown', 'colleg'): 0.10653500299980793, ('colleg', 'instead'): 0.10653500299980793, ('instead', 'utterli'): 0.10653500299980793, ('utterli', 'depriv'): 0.10653500299980793, ('depriv', 'semblanc'): 0.10653500299980793, ('semblanc', 'normal'): 0.10653500299980793, ('normal', 'life'): 0.10653500299980793}\n",
      "\n",
      "Bigram TF-IDF for Document 4: {('research', 'data'): 0.14359065621713243, ('data', 'get'): 0.14359065621713243, ('get', 'corrupt'): 0.14359065621713243, ('corrupt', 'start'): 0.14359065621713243, ('start', 'lab'): 0.14359065621713243, ('lab', 'mous'): 0.14359065621713243, ('mous', 'escap'): 0.14359065621713243, ('escap', 'spend'): 0.14359065621713243, ('spend', 'hour'): 0.14359065621713243, ('hour', 'tri'): 0.14359065621713243, ('tri', 'find'): 0.14359065621713243, ('find', 'grant'): 0.14359065621713243, ('grant', 'propos'): 0.14359065621713243, ('propos', 'deadlin'): 0.14359065621713243, ('deadlin', 'tomorrow'): 0.14359065621713243, ('tomorrow', 'onlin'): 0.14359065621713243, ('onlin', 'submiss'): 0.14359065621713243, ('submiss', 'portal'): 0.14359065621713243, ('portal', 'least'): 0.14359065621713243, ('least', 'pet'): 0.14359065621713243, ('pet', 'cactu'): 0.14359065621713243, ('cactu', 'die'): 0.14359065621713243, ('die', 'yet'): 0.14359065621713243}\n",
      "\n",
      "Bigram TF-IDF for Document 5: {('group', 'meet'): 0.1651292546497023, ('meet', 'turn'): 0.1651292546497023, ('turn', 'debat'): 0.1651292546497023, ('debat', 'font'): 0.1651292546497023, ('font', 'choic'): 0.1651292546497023, ('choic', 'present'): 0.1651292546497023, ('present', 'pretti'): 0.1651292546497023, ('pretti', 'sure'): 0.1651292546497023, ('sure', 'colleagu'): 0.1651292546497023, ('colleagu', 'steal'): 0.1651292546497023, ('steal', 'lunch'): 0.1651292546497023, ('lunch', 'fridg'): 0.1651292546497023, ('fridg', 'photocopi'): 0.1651292546497023, ('photocopi', 'get'): 0.1651292546497023, ('get', 'never'): 0.1651292546497023, ('never', 'work'): 0.1651292546497023, ('work', 'hurri'): 0.1651292546497023, ('hurri', 'phd'): 0.1651292546497023, ('phd', 'nap'): 0.1651292546497023, ('nap', 'ace'): 0.1651292546497023}\n",
      "\n",
      "Bigram TF-IDF for Document 6: {('see', 'sun'): 0.14359065621713243, ('sun', 'day'): 0.14359065621713243, ('day', 'due'): 0.14359065621713243, ('due', 'endless'): 0.14359065621713243, ('endless', 'cod'): 0.14359065621713243, ('cod', 'session'): 0.14359065621713243, ('session', 'simul'): 0.14359065621713243, ('simul', 'keep'): 0.14359065621713243, ('keep', 'crash'): 0.14359065621713243, ('crash', 'stack'): 0.14359065621713243, ('stack', 'overflow'): 0.14359065621713243, ('overflow', 'answer'): 0.14359065621713243, ('answer', 'roommat'): 0.14359065621713243, ('roommat', 'think'): 0.14359065621713243, ('think', 'ghost'): 0.14359065621713243, ('ghost', 'haunt'): 0.14359065621713243, ('haunt', 'apart'): 0.14359065621713243, ('apart', 'instant'): 0.14359065621713243, ('instant', 'noodl'): 0.14359065621713243, ('noodl', 'becom'): 0.14359065621713243, ('becom', 'primari'): 0.14359065621713243, ('primari', 'food'): 0.14359065621713243, ('food', 'group'): 0.14359065621713243}\n",
      "\n",
      "Bigram TF-IDF for Document 7: {('attend', 'confer'): 0.14359065621713243, ('confer', 'sound'): 0.14359065621713243, ('sound', 'fun'): 0.14359065621713243, ('fun', 'realiz'): 0.14359065621713243, ('realiz', 'involv'): 0.14359065621713243, ('involv', 'lot'): 0.14359065621713243, ('lot', 'awkward'): 0.14359065621713243, ('awkward', 'network'): 0.14359065621713243, ('network', 'accident'): 0.14359065621713243, ('accident', 'spill'): 0.14359065621713243, ('spill', 'coffe'): 0.14359065621713243, ('coffe', 'famou'): 0.14359065621713243, ('famou', 'professor'): 0.14359065621713243, ('professor', 'shoe'): 0.14359065621713243, ('shoe', 'poster'): 0.14359065621713243, ('poster', 'fell'): 0.14359065621713243, ('fell', 'twice'): 0.14359065621713243, ('twice', 'session'): 0.14359065621713243, ('session', 'next'): 0.14359065621713243, ('next', 'time'): 0.14359065621713243, ('time', 'send'): 0.14359065621713243, ('send', 'cardboard'): 0.14359065621713243, ('cardboard', 'cutout'): 0.14359065621713243}\n",
      "\n",
      "Bigram TF-IDF for Document 8: {('univers', 'gym'): 0.14359065621713243, ('gym', 'membership'): 0.14359065621713243, ('membership', 'suppos'): 0.14359065621713243, ('suppos', 'keep'): 0.14359065621713243, ('keep', 'healthi'): 0.28718131243426487, ('healthi', 'use'): 0.14359065621713243, ('use', 'tri'): 0.14359065621713243, ('tri', 'attend'): 0.14359065621713243, ('attend', 'yoga'): 0.14359065621713243, ('yoga', 'class'): 0.14359065621713243, ('class', 'stay'): 0.14359065621713243, ('stay', 'late'): 0.14359065621713243, ('late', 'deadlin'): 0.14359065621713243, ('deadlin', 'fell'): 0.14359065621713243, ('fell', 'asleep'): 0.14359065621713243, ('asleep', 'medit'): 0.14359065621713243, ('medit', 'mayb'): 0.14359065621713243, ('mayb', 'instead'): 0.14359065621713243, ('instead', 'gym'): 0.14359065621713243, ('gym', 'bed'): 0.14359065621713243, ('bed', 'essenti'): 0.14359065621713243, ('essenti', 'keep'): 0.14359065621713243}\n",
      "\n",
      "Bigram TF-IDF for Document 9: {('teach', 'assistantship'): 0.1179494676069302, ('assistantship', 'involv'): 0.1179494676069302, ('involv', 'grade'): 0.1179494676069302, ('grade', 'endless'): 0.1179494676069302, ('endless', 'stack'): 0.1179494676069302, ('stack', 'exam'): 0.1179494676069302, ('exam', 'student'): 0.1179494676069302, ('student', 'keep'): 0.1179494676069302, ('keep', 'email'): 0.1179494676069302, ('email', 'extens'): 0.1179494676069302, ('extens', 'creativ'): 0.1179494676069302, ('creativ', 'excus'): 0.1179494676069302, ('excus', 'one'): 0.1179494676069302, ('one', 'claim'): 0.1179494676069302, ('claim', 'dog'): 0.1179494676069302, ('dog', 'sleep'): 0.1179494676069302, ('sleep', 'laptop'): 0.1179494676069302, ('laptop', 'use'): 0.1179494676069302, ('use', 'exam'): 0.1179494676069302, ('exam', 'depriv'): 0.1179494676069302, ('depriv', 'excus'): 0.1179494676069302, ('excus', 'complet'): 0.1179494676069302, ('complet', 'dissert'): 0.1179494676069302, ('dissert', 'draft'): 0.1179494676069302, ('draft', 'might'): 0.1179494676069302, ('might', 'get'): 0.1179494676069302, ('get', 'good'): 0.1179494676069302, ('good', 'one'): 0.1179494676069302}\n",
      "\n",
      "Bigram TF-IDF for Document 10: {('group', 'project'): 0.15726595680924027, ('project', 'bad'): 0.15726595680924027, ('bad', 'one'): 0.15726595680924027, ('one', 'work'): 0.15726595680924027, ('work', 'team'): 0.15726595680924027, ('team', 'member'): 0.15726595680924027, ('member', 'elus'): 0.15726595680924027, ('elus', 'bigfoot'): 0.15726595680924027, ('bigfoot', 'project'): 0.15726595680924027, ('project', 'due'): 0.15726595680924027, ('due', 'next'): 0.15726595680924027, ('next', 'week'): 0.15726595680924027, ('week', 'hear'): 0.15726595680924027, ('hear', 'perhap'): 0.15726595680924027, ('perhap', 'write'): 0.15726595680924027, ('write', 'paper'): 0.15726595680924027, ('paper', 'sociolog'): 0.15726595680924027, ('sociolog', 'implic'): 0.15726595680924027, ('implic', 'group'): 0.15726595680924027, ('group', 'work'): 0.15726595680924027, ('work', 'avoid'): 0.15726595680924027}\n",
      "\n"
     ]
    }
   ],
   "execution_count": 43
  },
  {
   "cell_type": "code",
   "id": "a8d8a7d842e15cf2",
   "metadata": {
    "ExecuteTime": {
     "end_time": "2024-10-14T10:06:40.335806Z",
     "start_time": "2024-10-14T10:06:40.290807Z"
    }
   },
   "source": [
    "def bigram_cosine_similarity(vec1: Dict[Tuple[str, str], float], vec2: Dict[Tuple[str, str], float]) -> float:\n",
    "    \"\"\"\n",
    "    Compute cosine similarity between two bigram vectors\n",
    "    :param vec1: vector 1\n",
    "    :param vec2: vector 2\n",
    "    :return: the cosine similarity score\n",
    "    \"\"\"\n",
    "    dot_product = sum(vec1.get(bigram, 0) * vec2.get(bigram, 0) for bigram in vec1)\n",
    "    magnitude1 = math.sqrt(sum([value ** 2 for value in vec1.values()]))\n",
    "    magnitude2 = math.sqrt(sum([value ** 2 for value in vec2.values()]))\n",
    "    \n",
    "    if not magnitude1 or not magnitude2:\n",
    "        return 0.0\n",
    "    return dot_product / (magnitude1 * magnitude2)"
   ],
   "outputs": [],
   "execution_count": 44
  },
  {
   "cell_type": "code",
   "id": "fbba35946fe0c69b",
   "metadata": {
    "ExecuteTime": {
     "end_time": "2024-10-14T10:06:40.444800Z",
     "start_time": "2024-10-14T10:06:40.399800Z"
    }
   },
   "source": [
    "# Compute TF for the query using bigrams\n",
    "bigram_tf_query = bigram_compute_tf(preprocessed_query)\n",
    "\n",
    "# Compute TF-IDF for the query using bigrams\n",
    "bigram_tfidf_query = bigram_compute_tfidf(bigram_tf_query, bigram_idf_dict)\n",
    "\n",
    "# Compute the cosine similarity of each document to the query\n",
    "rankings_bigram = []\n",
    "for idx, tfidf_doc in enumerate(bigram_tfidf_corpus):\n",
    "    score = bigram_cosine_similarity(tfidf_doc, bigram_tfidf_query)\n",
    "    rankings_bigram.append((idx + 1, score))\n",
    "\n",
    "# Sort documents by similarity score in descending order\n",
    "rankings_bigram = sorted(rankings_bigram, key=lambda x: x[1], reverse=True)\n",
    "\n",
    "# Print document rankings\n",
    "print(\"Bigram Document Rankings based on Query:\")\n",
    "for rank, (doc_idx, score) in enumerate(rankings_bigram, start=1):\n",
    "    print(f\"Rank {rank}: Document {doc_idx} with score {score}\")\n"
   ],
   "outputs": [
    {
     "name": "stdout",
     "output_type": "stream",
     "text": [
      "Bigram Document Rankings based on Query:\n",
      "Rank 1: Document 1 with score 0.0\n",
      "Rank 2: Document 2 with score 0.0\n",
      "Rank 3: Document 3 with score 0.0\n",
      "Rank 4: Document 4 with score 0.0\n",
      "Rank 5: Document 5 with score 0.0\n",
      "Rank 6: Document 6 with score 0.0\n",
      "Rank 7: Document 7 with score 0.0\n",
      "Rank 8: Document 8 with score 0.0\n",
      "Rank 9: Document 9 with score 0.0\n",
      "Rank 10: Document 10 with score 0.0\n"
     ]
    }
   ],
   "execution_count": 45
  },
  {
   "cell_type": "markdown",
   "id": "232e315b-b61e-41b0-b73f-72ba9f341cd4",
   "metadata": {},
   "source": [
    "## Part 2: Analyze The Results from TF-IDF, Bigram TF-IDF, Word2Vec, and BERT. \n",
    "Do they successfully retrieve the relevant documents? Compare these four methods using **quantitative** (metrics we introduces in W3) and **qualitative** (case study) analysis.\n",
    "You can write your own code to compute the quantitative evaluation metrics, or use packages such as scikit-learn."
   ]
  },
  {
   "cell_type": "code",
   "id": "2246194790782fba",
   "metadata": {
    "ExecuteTime": {
     "end_time": "2024-10-14T10:06:46.213540Z",
     "start_time": "2024-10-14T10:06:40.509798Z"
    }
   },
   "source": [
    "import pandas as pd\n",
    "\n",
    "# Show the table of document rankings for each method\n",
    "df_rankings = pd.DataFrame({\n",
    "    'TF-IDF': [doc_idx for doc_idx, _ in rankings_tfidf],\n",
    "    'Bigram TF-IDF': [doc_idx for doc_idx, _ in rankings_bigram],\n",
    "    'Word2Vec': [doc_idx for doc_idx, _ in rankings_word2vec],\n",
    "    'Word2Vec (Trained)': [doc_idx for doc_idx, _ in rankings_word2vec_trained],\n",
    "    'BERT': [doc_idx for doc_idx, _ in rankings_bert]\n",
    "})\n",
    "df_rankings"
   ],
   "outputs": [
    {
     "data": {
      "text/plain": [
       "   TF-IDF  Bigram TF-IDF  Word2Vec  Word2Vec (Trained)  BERT\n",
       "0       9              1         9                   9     2\n",
       "1       2              2         8                   5     6\n",
       "2       3              3         6                   2     5\n",
       "3       1              4         3                   6     3\n",
       "4       4              5         2                   7     1\n",
       "5       5              6         1                   4    10\n",
       "6       6              7         5                   1     7\n",
       "7       7              8        10                   3     8\n",
       "8       8              9         4                  10     4\n",
       "9      10             10         7                   8     9"
      ],
      "text/html": [
       "<div>\n",
       "<style scoped>\n",
       "    .dataframe tbody tr th:only-of-type {\n",
       "        vertical-align: middle;\n",
       "    }\n",
       "\n",
       "    .dataframe tbody tr th {\n",
       "        vertical-align: top;\n",
       "    }\n",
       "\n",
       "    .dataframe thead th {\n",
       "        text-align: right;\n",
       "    }\n",
       "</style>\n",
       "<table border=\"1\" class=\"dataframe\">\n",
       "  <thead>\n",
       "    <tr style=\"text-align: right;\">\n",
       "      <th></th>\n",
       "      <th>TF-IDF</th>\n",
       "      <th>Bigram TF-IDF</th>\n",
       "      <th>Word2Vec</th>\n",
       "      <th>Word2Vec (Trained)</th>\n",
       "      <th>BERT</th>\n",
       "    </tr>\n",
       "  </thead>\n",
       "  <tbody>\n",
       "    <tr>\n",
       "      <th>0</th>\n",
       "      <td>9</td>\n",
       "      <td>1</td>\n",
       "      <td>9</td>\n",
       "      <td>9</td>\n",
       "      <td>2</td>\n",
       "    </tr>\n",
       "    <tr>\n",
       "      <th>1</th>\n",
       "      <td>2</td>\n",
       "      <td>2</td>\n",
       "      <td>8</td>\n",
       "      <td>5</td>\n",
       "      <td>6</td>\n",
       "    </tr>\n",
       "    <tr>\n",
       "      <th>2</th>\n",
       "      <td>3</td>\n",
       "      <td>3</td>\n",
       "      <td>6</td>\n",
       "      <td>2</td>\n",
       "      <td>5</td>\n",
       "    </tr>\n",
       "    <tr>\n",
       "      <th>3</th>\n",
       "      <td>1</td>\n",
       "      <td>4</td>\n",
       "      <td>3</td>\n",
       "      <td>6</td>\n",
       "      <td>3</td>\n",
       "    </tr>\n",
       "    <tr>\n",
       "      <th>4</th>\n",
       "      <td>4</td>\n",
       "      <td>5</td>\n",
       "      <td>2</td>\n",
       "      <td>7</td>\n",
       "      <td>1</td>\n",
       "    </tr>\n",
       "    <tr>\n",
       "      <th>5</th>\n",
       "      <td>5</td>\n",
       "      <td>6</td>\n",
       "      <td>1</td>\n",
       "      <td>4</td>\n",
       "      <td>10</td>\n",
       "    </tr>\n",
       "    <tr>\n",
       "      <th>6</th>\n",
       "      <td>6</td>\n",
       "      <td>7</td>\n",
       "      <td>5</td>\n",
       "      <td>1</td>\n",
       "      <td>7</td>\n",
       "    </tr>\n",
       "    <tr>\n",
       "      <th>7</th>\n",
       "      <td>7</td>\n",
       "      <td>8</td>\n",
       "      <td>10</td>\n",
       "      <td>3</td>\n",
       "      <td>8</td>\n",
       "    </tr>\n",
       "    <tr>\n",
       "      <th>8</th>\n",
       "      <td>8</td>\n",
       "      <td>9</td>\n",
       "      <td>4</td>\n",
       "      <td>10</td>\n",
       "      <td>4</td>\n",
       "    </tr>\n",
       "    <tr>\n",
       "      <th>9</th>\n",
       "      <td>10</td>\n",
       "      <td>10</td>\n",
       "      <td>7</td>\n",
       "      <td>8</td>\n",
       "      <td>9</td>\n",
       "    </tr>\n",
       "  </tbody>\n",
       "</table>\n",
       "</div>"
      ]
     },
     "execution_count": 46,
     "metadata": {},
     "output_type": "execute_result"
    }
   ],
   "execution_count": 46
  },
  {
   "cell_type": "code",
   "id": "2d6fa89dd983b003",
   "metadata": {
    "ExecuteTime": {
     "end_time": "2024-10-14T10:06:46.305999Z",
     "start_time": "2024-10-14T10:06:46.286507Z"
    }
   },
   "source": [
    "# Extract rankings from the DataFrame\n",
    "ranking_methods = {\n",
    "    'TF-IDF': df_rankings['TF-IDF'].tolist(),\n",
    "    'Bigram TF-IDF': df_rankings['Bigram TF-IDF'].tolist(),\n",
    "    'Word2Vec': df_rankings['Word2Vec'].tolist(),\n",
    "    'Word2Vec (Trained)': df_rankings['Word2Vec (Trained)'].tolist(),\n",
    "    'BERT': df_rankings['BERT'].tolist()\n",
    "}"
   ],
   "outputs": [],
   "execution_count": 47
  },
  {
   "metadata": {
    "ExecuteTime": {
     "end_time": "2024-10-14T10:11:18.123180Z",
     "start_time": "2024-10-14T10:11:18.105189Z"
    }
   },
   "cell_type": "code",
   "source": [
    "import pytrec_eval\n",
    "\n",
    "# Ground truth and ranking methods in pytrec_eval format\n",
    "ground_truth = {'query1': {f'doc{idx+1}': label for idx, label in enumerate(corpus_relevancy_label)}}\n",
    "\n",
    "rankings = {\n",
    "    'query1': {\n",
    "        f'doc{doc_id}': len(ranking_methods) - rank\n",
    "        for rank, doc_id in enumerate(ranking_methods['TF-IDF'])\n",
    "    }\n",
    "}\n",
    "\n",
    "# Initialize evaluator\n",
    "evaluator = pytrec_eval.RelevanceEvaluator(ground_truth, {'map', 'ndcg'})\n",
    "\n",
    "# Evaluate each method using pytrec_eval\n",
    "for method, ranking in ranking_methods.items():\n",
    "    formatted_ranking = {\n",
    "        'query1': {\n",
    "            f'doc{doc_id}': len(ranking) - rank\n",
    "            for rank, doc_id in enumerate(ranking)\n",
    "        }\n",
    "    }\n",
    "    results = evaluator.evaluate(formatted_ranking)\n",
    "    print(f\"{method} - MAP: {results['query1']['map']:.4f}, nDCG: {results['query1']['ndcg']:.4f}\")\n"
   ],
   "id": "985ccad26e134d02",
   "outputs": [
    {
     "name": "stdout",
     "output_type": "stream",
     "text": [
      "TF-IDF - MAP: 0.5254, nDCG: 0.6960\n",
      "Bigram TF-IDF - MAP: 0.7783, nDCG: 0.9122\n",
      "Word2Vec - MAP: 0.6295, nDCG: 0.7486\n",
      "Word2Vec (Trained) - MAP: 0.5976, nDCG: 0.7407\n",
      "BERT - MAP: 0.8850, nDCG: 0.9609\n"
     ]
    }
   ],
   "execution_count": 49
  },
  {
   "cell_type": "code",
   "id": "4690428417987f7a",
   "metadata": {
    "ExecuteTime": {
     "end_time": "2024-10-14T10:22:10.682563Z",
     "start_time": "2024-10-14T10:22:10.308737Z"
    }
   },
   "source": [
    "from matplotlib import pyplot as plt\n",
    "\n",
    "# Prepare ground truth in pytrec_eval format (for a single query \"q1\")\n",
    "qrel = {\n",
    "    'q1': {f'doc{idx+1}': int(label) for idx, label in enumerate(corpus_relevancy_label)}\n",
    "}\n",
    "\n",
    "# Interpolated Precision-Recall curve recall levels\n",
    "recall_levels = [round(i * 0.1, 1) for i in range(11)]\n",
    "\n",
    "# Initialize evaluator with 'iprec_at_recall'\n",
    "evaluator = pytrec_eval.RelevanceEvaluator(qrel, {'iprec_at_recall'})\n",
    "\n",
    "# Prepare the plot\n",
    "plt.figure(figsize=(10, 7))\n",
    "\n",
    "# Loop over ranking methods\n",
    "for method, ranking in ranking_methods.items():\n",
    "    # Format run (system output) for pytrec_eval\n",
    "    run = {\n",
    "        'q1': {f'doc{doc_id}': float(len(ranking) - rank) for rank, doc_id in enumerate(ranking)}\n",
    "    }\n",
    "\n",
    "    # Evaluate using pytrec_eval\n",
    "    results = evaluator.evaluate(run)\n",
    "\n",
    "    # Extract interpolated precision at each recall level\n",
    "    precisions = []\n",
    "    for recall_level in recall_levels:\n",
    "        iprec_key = f'iprec_at_recall_{recall_level:.2f}'\n",
    "        precision = results['q1'].get(iprec_key, 0.0)\n",
    "        precisions.append(precision)\n",
    "\n",
    "    # Plot the curve\n",
    "    plt.plot(recall_levels, precisions, marker='o', label=f'{method}')\n",
    "\n",
    "# Configure the plot\n",
    "plt.xlabel('Recall')\n",
    "plt.ylabel('Precision')\n",
    "plt.title('Interpolated Precision-Recall Curves for Different Retrieval Methods')\n",
    "plt.legend(loc='lower left')\n",
    "plt.grid(True)\n",
    "plt.show()"
   ],
   "outputs": [
    {
     "data": {
      "text/plain": [
       "<Figure size 1000x700 with 1 Axes>"
      ],
      "image/png": "[encoded data removed]"
     },
     "metadata": {},
     "output_type": "display_data"
    }
   ],
   "execution_count": 52
  },
  {
   "cell_type": "code",
   "id": "38ad6ae264a5881a",
   "metadata": {
    "ExecuteTime": {
     "end_time": "2024-10-14T10:25:15.040131Z",
     "start_time": "2024-10-14T10:25:15.030120Z"
    }
   },
   "source": [
    "# Let's take a look at doc id 9 which most method failed to retrieve for hard negative case\n",
    "print(corpus[8])"
   ],
   "outputs": [
    {
     "name": "stdout",
     "output_type": "stream",
     "text": [
      "My teaching assistantship involves grading endless stacks of exams. Students keep emailing me for extensions with creative excuses. One claimed their dog sleeps on the laptop so they cannot use it for the exam. I was deprived of excuses for not completing my dissertation draft, and I might have got some good ones.\n"
     ]
    }
   ],
   "execution_count": 53
  },
  {
   "cell_type": "code",
   "id": "6b57ae3e1f92b7a9",
   "metadata": {
    "ExecuteTime": {
     "end_time": "2024-10-14T10:25:15.686012Z",
     "start_time": "2024-10-14T10:25:15.676011Z"
    }
   },
   "source": [
    "# For hard positive case\n",
    "print(corpus[7])"
   ],
   "outputs": [
    {
     "name": "stdout",
     "output_type": "stream",
     "text": [
      "The university gym membership was supposed to keep me healthy, but I've only used it once. I tried to attend a yoga class after staying up late for a deadline, but I fell asleep during the meditation. Maybe instead of the gym, my bed is more essential for keeping me healthy.\n"
     ]
    }
   ],
   "execution_count": 54
  },
  {
   "cell_type": "markdown",
   "id": "be92c887acc9adf7",
   "metadata": {},
   "source": [
    "**Is they successfully retrieve the relevant documents?**\n",
    "- None of the methods are 100% successfully retrieve the relevant documents. And the Bigram TF-IDF method is fail to score any document in this case.\n",
    "\n",
    "**Compare these four methods using quantitative analysis and qualitative analysis.**\n",
    "### Qualitative Analysis\n",
    "- With the quantitative analysis, I use the AP for evaluation as the case is single query and binary relevance. The higher the AP, the better the method is. In this case the BERT method has the highest AP, followed by Bigram TF-IDF, Word2Vec, Word2Vec (Trained), and TF-IDF.\n",
    "- With nDCG have same ranking as the AP, which is BERT > Bigram TF-IDF > Word2Vec > Word2Vec (Trained) > TF-IDF.\n",
    "\n",
    "### Quantitative Analysis\n",
    "\n",
    "#### TF-IDF\n",
    "That the result show the the TF-IDF method is the worst among the four methods. From the case, the top five only the 1, 2 are relevant to the query. It show some effectiveness in the method, but the result is not good enough.\n",
    "\n",
    "#### Bigram TF-IDF\n",
    "Although the Bigram TF-IDF seems to have pretty high AP it this case, but from the case we can see the score are all resulted in 0.0. Which means the rank it output is identical to without reranking, in this case make it hit the positive of 1, 2, 5 in to 5th by \"luck\". This indicates that the Bigram TF-IDF model failed to capture any distinctive relevance scores for any documents. Perhaps, the documents are too short to have meaningful bigrams in this case.\n",
    "\n",
    "#### Word2Vec\n",
    "The trained model seen from the resulting slightly worse than the pre-trained model. But all of them are better than the TF-IDF. Surprisingly, the id 9 document have a pretty high score, which is not relevant to the query. This indicates that the Word2Vec model may have captured some semantic similarities between the query and the document, but it is not perfect and might be affect by some bias. But this will stil need further investigation.\n",
    "\n",
    "#### BERT\n",
    "The BERT model is the best among the four methods. It success capture the 1, 2, 5, 6 in just top 5th. Also specific to the document id 9, it have a pretty low score, which is not relevant to the query but the other method (Word2Vec, TF-IDF) all failed to do so. This indicates that the Attention mechanism have some special power in this case. From the document 9 we can see the key word \"sleep\" and \"deprivation\", but it not relative to each other. In the document 8, it do not contain the key word but it \"meaning\" is relevant to the query. This indicates that the BERT model may have captured some hidden semantic similarities behind the words, which is not captured by the other methods.\n",
    "\n",
    "#### Conclusion\n",
    "For the experiment, the BERT model is the best among the four methods. This show the attention base model have some ability that other method do not have which can understanding the real meaning relationship between the words."
   ]
  },
  {
   "cell_type": "markdown",
   "id": "7c642674-534b-4ce3-b5d7-3d0f2a22ebe8",
   "metadata": {},
   "source": [
    "## 💻 Assignment Submission 💻 \n",
    "Write your code and display the results in this Jupyter Notebook. Then, export it as an HTML file and submit both the Jupyter Notebook and the HTML file to Cyber University. </br>\n",
    "**Please ensure that the code is executed and the outputs are visible when exporting the HTML file.**"
   ]
  },
  {
   "cell_type": "code",
   "execution_count": null,
   "id": "b92e023c0a9a5f19",
   "metadata": {},
   "outputs": [],
   "source": []
  }
 ],
 "metadata": {
  "kernelspec": {
   "display_name": "Python 3 (ipykernel)",
   "language": "python",
   "name": "python3"
  },
  "language_info": {
   "codemirror_mode": {
    "name": "ipython",
    "version": 3
   },
   "file_extension": ".py",
   "mimetype": "text/x-python",
   "name": "python",
   "nbconvert_exporter": "python",
   "pygments_lexer": "ipython3",
   "version": "3.8.19"
  }
 },
 "nbformat": 4,
 "nbformat_minor": 5
}
